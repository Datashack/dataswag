{
 "cells": [
  {
   "cell_type": "code",
   "execution_count": 2,
   "metadata": {
    "collapsed": true
   },
   "outputs": [],
   "source": [
    "%matplotlib inline\n",
    "\n",
    "import matplotlib\n",
    "import matplotlib.pyplot as plt\n",
    "import pandas as pd\n",
    "import numpy as np\n",
    "import datetime\n",
    "from sklearn.feature_extraction.text import CountVectorizer\n",
    "import re\n"
   ]
  },
  {
   "cell_type": "markdown",
   "metadata": {},
   "source": [
    "# Average number of posts per day (different from total number present in accounts file, we only have one year of data)"
   ]
  },
  {
   "cell_type": "code",
   "execution_count": 3,
   "metadata": {},
   "outputs": [
    {
     "name": "stderr",
     "output_type": "stream",
     "text": [
      "C:\\Users\\moren\\Anaconda3\\lib\\site-packages\\IPython\\core\\interactiveshell.py:2698: DtypeWarning: Columns (0) have mixed types. Specify dtype option on import or set low_memory=False.\n",
      "  interactivity=interactivity, compiler=compiler, result=result)\n",
      "C:\\Users\\moren\\Anaconda3\\lib\\site-packages\\IPython\\core\\interactiveshell.py:2698: DtypeWarning: Columns (0,1) have mixed types. Specify dtype option on import or set low_memory=False.\n",
      "  interactivity=interactivity, compiler=compiler, result=result)\n"
     ]
    }
   ],
   "source": [
    "brands = ['athenaprocopiou', 'daftcollectionofficial', 'dodobaror', 'emporiosirenuse', 'heidikleinswim',\n",
    "              'lisamariefernandez', 'loupcharmant', 'miguelinagambaccini', 'muzungusisters', 'zeusndione']\n",
    "\n",
    "columns = ['username', 'id_post', 'likes_count', 'comment_count', 'taken_at_timestamp']\n",
    "# reading posts data\n",
    "posts_data = pd.DataFrame(columns=columns)\n",
    "for brand in brands:\n",
    "    posts_data = posts_data.append(pd.read_csv(\n",
    "        'EMPORIOSIRENUSE_20173012/' + brand + '/followers data/' + brand + '_followers_posts.csv',\n",
    "        usecols=columns))\n",
    "\n",
    "# posts data cleaning\n",
    "posts_data.drop_duplicates(subset='id_post', inplace=True)\n",
    "posts_data[['likes_count', 'comment_count']] = posts_data[['likes_count', 'comment_count']].apply(pd.to_numeric)"
   ]
  },
  {
   "cell_type": "code",
   "execution_count": 8,
   "metadata": {},
   "outputs": [
    {
     "name": "stdout",
     "output_type": "stream",
     "text": [
      "Max: 42.7424657534\n"
     ]
    },
    {
     "data": {
      "text/html": [
       "<div>\n",
       "<style>\n",
       "    .dataframe thead tr:only-child th {\n",
       "        text-align: right;\n",
       "    }\n",
       "\n",
       "    .dataframe thead th {\n",
       "        text-align: left;\n",
       "    }\n",
       "\n",
       "    .dataframe tbody tr th {\n",
       "        vertical-align: top;\n",
       "    }\n",
       "</style>\n",
       "<table border=\"1\" class=\"dataframe\">\n",
       "  <thead>\n",
       "    <tr style=\"text-align: right;\">\n",
       "      <th></th>\n",
       "      <th>username</th>\n",
       "      <th>posts_count</th>\n",
       "      <th>avg_posts_per_day</th>\n",
       "    </tr>\n",
       "  </thead>\n",
       "  <tbody>\n",
       "    <tr>\n",
       "      <th>0</th>\n",
       "      <td>0</td>\n",
       "      <td>239</td>\n",
       "      <td>0.654795</td>\n",
       "    </tr>\n",
       "    <tr>\n",
       "      <th>1</th>\n",
       "      <td>00006_6</td>\n",
       "      <td>19</td>\n",
       "      <td>0.052055</td>\n",
       "    </tr>\n",
       "    <tr>\n",
       "      <th>2</th>\n",
       "      <td>0000gazei</td>\n",
       "      <td>2</td>\n",
       "      <td>0.005479</td>\n",
       "    </tr>\n",
       "    <tr>\n",
       "      <th>3</th>\n",
       "      <td>0000pag</td>\n",
       "      <td>8</td>\n",
       "      <td>0.021918</td>\n",
       "    </tr>\n",
       "    <tr>\n",
       "      <th>4</th>\n",
       "      <td>001111_18</td>\n",
       "      <td>15</td>\n",
       "      <td>0.041096</td>\n",
       "    </tr>\n",
       "  </tbody>\n",
       "</table>\n",
       "</div>"
      ],
      "text/plain": [
       "    username  posts_count  avg_posts_per_day\n",
       "0          0          239           0.654795\n",
       "1    00006_6           19           0.052055\n",
       "2  0000gazei            2           0.005479\n",
       "3    0000pag            8           0.021918\n",
       "4  001111_18           15           0.041096"
      ]
     },
     "execution_count": 8,
     "metadata": {},
     "output_type": "execute_result"
    }
   ],
   "source": [
    "# aggregating posts data to get user features\n",
    "posts_count = posts_data.groupby(['username']).count()['id_post'].to_frame().reset_index()\n",
    "posts_count = posts_count.rename(index=str, columns={\"id_post\": \"posts_count\"})\n",
    "posts_count['avg_posts_per_day'] = posts_count['posts_count']/365\n",
    "print('Max: ' + str(max(posts_count['avg_posts_per_day'])))\n",
    "posts_count.head()"
   ]
  },
  {
   "cell_type": "code",
   "execution_count": 9,
   "metadata": {},
   "outputs": [
    {
     "data": {
      "text/plain": [
       "[<matplotlib.lines.Line2D at 0x22207678198>]"
      ]
     },
     "execution_count": 9,
     "metadata": {},
     "output_type": "execute_result"
    },
    {
     "data": {
      "image/png": "[encoded data removed]",
      "text/plain": [
       "<matplotlib.figure.Figure at 0x2223a8eeb70>"
      ]
     },
     "metadata": {},
     "output_type": "display_data"
    }
   ],
   "source": [
    "plt.figure()\n",
    "plt.xlabel('user')\n",
    "plt.ylabel('avg number of posts per day')\n",
    "ys = np.sort(posts_count['avg_posts_per_day'].as_matrix())\n",
    "plt.plot(ys)"
   ]
  },
  {
   "cell_type": "markdown",
   "metadata": {},
   "source": [
    "This is plot represents the number of posts of each user in the last year, divided by 365. They are in increasing order."
   ]
  },
  {
   "cell_type": "code",
   "execution_count": 13,
   "metadata": {},
   "outputs": [
    {
     "data": {
      "image/png": "[encoded data removed]",
      "text/plain": [
       "<matplotlib.figure.Figure at 0x2220a094b00>"
      ]
     },
     "metadata": {},
     "output_type": "display_data"
    }
   ],
   "source": [
    "num_bins = 10\n",
    "n, bins, patches = plt.hist(ys[np.where(ys<2)], num_bins, facecolor='blue', alpha=0.5)\n",
    "plt.show()"
   ]
  },
  {
   "cell_type": "markdown",
   "metadata": {},
   "source": [
    "In this histogram you can see the number of users posting between 0 and 2 posts per day. More than 2 is pretty much irrelevant."
   ]
  },
  {
   "cell_type": "code",
   "execution_count": 120,
   "metadata": {
    "scrolled": true
   },
   "outputs": [
    {
     "data": {
      "text/plain": [
       "array([ 13.97260274,  13.97260274,  13.97260274,  15.61643836,\n",
       "        15.64109589,  16.27671233,  16.91780822,  18.94520548,\n",
       "        23.72328767,  23.83561644,  24.10136986,  25.24931507,\n",
       "        27.24383562,  29.39726027,  42.74246575])"
      ]
     },
     "execution_count": 120,
     "metadata": {},
     "output_type": "execute_result"
    }
   ],
   "source": [
    "ys[-15:]"
   ]
  },
  {
   "cell_type": "code",
   "execution_count": 15,
   "metadata": {},
   "outputs": [
    {
     "data": {
      "text/plain": [
       "914       __trends__hunters__\n",
       "21169        chaneldiorgucci1\n",
       "21609             checkthetag\n",
       "24930       cowboyleathershop\n",
       "36295      fashion_dessert777\n",
       "40572              gigitropea\n",
       "59761        laqueen_official\n",
       "61062         lediamantnoir_d\n",
       "75606                 mimi9er\n",
       "79401       mustafayilmaz4399\n",
       "82251     niallhoran_blessed1\n",
       "115850              vox_shoes\n",
       "Name: username, dtype: object"
      ]
     },
     "execution_count": 15,
     "metadata": {},
     "output_type": "execute_result"
    }
   ],
   "source": [
    "posts_count.iloc[np.where(posts_count['avg_posts_per_day'].as_matrix() > 15)]['username']"
   ]
  },
  {
   "cell_type": "markdown",
   "metadata": {},
   "source": [
    "# Total number of posts per hour"
   ]
  },
  {
   "cell_type": "code",
   "execution_count": 16,
   "metadata": {
    "collapsed": true
   },
   "outputs": [],
   "source": [
    "def gen_hour_from_timestamp(timestamp):\n",
    "    return datetime.datetime.fromtimestamp(int(timestamp)).hour"
   ]
  },
  {
   "cell_type": "code",
   "execution_count": 17,
   "metadata": {},
   "outputs": [
    {
     "data": {
      "text/plain": [
       "0    10\n",
       "1     0\n",
       "2    13\n",
       "3    13\n",
       "4    21\n",
       "Name: taken_at_timestamp, dtype: int64"
      ]
     },
     "execution_count": 17,
     "metadata": {},
     "output_type": "execute_result"
    }
   ],
   "source": [
    "posts_data['taken_at_timestamp'].head().apply(gen_hour_from_timestamp)"
   ]
  },
  {
   "cell_type": "code",
   "execution_count": 18,
   "metadata": {
    "collapsed": true
   },
   "outputs": [],
   "source": [
    "posting_hour = posts_data['taken_at_timestamp'].dropna()\n",
    "posting_hour = posting_hour.apply(gen_hour_from_timestamp)\n",
    "posting_hour = posting_hour.as_matrix()"
   ]
  },
  {
   "cell_type": "code",
   "execution_count": 19,
   "metadata": {},
   "outputs": [
    {
     "data": {
      "text/plain": [
       "[<matplotlib.lines.Line2D at 0x2226dead630>]"
      ]
     },
     "execution_count": 19,
     "metadata": {},
     "output_type": "execute_result"
    },
    {
     "data": {
      "image/png": "[encoded data removed]",
      "text/plain": [
       "<matplotlib.figure.Figure at 0x22263e6c828>"
      ]
     },
     "metadata": {},
     "output_type": "display_data"
    }
   ],
   "source": [
    "plt.figure()\n",
    "unique, counts = np.unique(posting_hour, return_counts=True)\n",
    "plt.plot(unique, counts)"
   ]
  },
  {
   "cell_type": "code",
   "execution_count": 20,
   "metadata": {},
   "outputs": [
    {
     "data": {
      "image/png": "[encoded data removed]",
      "text/plain": [
       "<matplotlib.figure.Figure at 0x2221aeebc18>"
      ]
     },
     "metadata": {},
     "output_type": "display_data"
    }
   ],
   "source": [
    "plt.bar(unique, counts)\n",
    "plt.xticks(unique)\n",
    "plt.show()"
   ]
  },
  {
   "cell_type": "markdown",
   "metadata": {},
   "source": [
    "# Now let's repeat the same analisys for the 700 users in already classified"
   ]
  },
  {
   "cell_type": "code",
   "execution_count": 31,
   "metadata": {
    "collapsed": true
   },
   "outputs": [],
   "source": [
    "def gen_posts_counts(posts_data):\n",
    "    posts_count = posts_data.groupby(['username']).count()['id_post'].to_frame().reset_index()\n",
    "    posts_count = posts_count.rename(index=str, columns={\"id_post\": \"posts_count\"})\n",
    "    posts_count['avg_posts_per_day'] = posts_count['posts_count']/365\n",
    "    print('Max: ' + str(max(posts_count['avg_posts_per_day'])))\n",
    "    return posts_count\n",
    "\n",
    "def gen_posting_hour(posts_data):\n",
    "    posting_hour = posts_data['taken_at_timestamp'].dropna()\n",
    "    posting_hour = posting_hour.apply(gen_hour_from_timestamp)\n",
    "    posting_hour = posting_hour.as_matrix()\n",
    "    return posting_hour"
   ]
  },
  {
   "cell_type": "code",
   "execution_count": 32,
   "metadata": {},
   "outputs": [
    {
     "data": {
      "text/html": [
       "<div>\n",
       "<style>\n",
       "    .dataframe thead tr:only-child th {\n",
       "        text-align: right;\n",
       "    }\n",
       "\n",
       "    .dataframe thead th {\n",
       "        text-align: left;\n",
       "    }\n",
       "\n",
       "    .dataframe tbody tr th {\n",
       "        vertical-align: top;\n",
       "    }\n",
       "</style>\n",
       "<table border=\"1\" class=\"dataframe\">\n",
       "  <thead>\n",
       "    <tr style=\"text-align: right;\">\n",
       "      <th></th>\n",
       "      <th>username</th>\n",
       "      <th>consumer</th>\n",
       "      <th>retailer</th>\n",
       "      <th>others</th>\n",
       "    </tr>\n",
       "  </thead>\n",
       "  <tbody>\n",
       "    <tr>\n",
       "      <th>0</th>\n",
       "      <td>nixhus</td>\n",
       "      <td>1</td>\n",
       "      <td>0</td>\n",
       "      <td>0</td>\n",
       "    </tr>\n",
       "    <tr>\n",
       "      <th>1</th>\n",
       "      <td>steph_davies</td>\n",
       "      <td>1</td>\n",
       "      <td>0</td>\n",
       "      <td>0</td>\n",
       "    </tr>\n",
       "    <tr>\n",
       "      <th>2</th>\n",
       "      <td>gloriavp</td>\n",
       "      <td>1</td>\n",
       "      <td>0</td>\n",
       "      <td>0</td>\n",
       "    </tr>\n",
       "    <tr>\n",
       "      <th>3</th>\n",
       "      <td>theajacinto</td>\n",
       "      <td>1</td>\n",
       "      <td>0</td>\n",
       "      <td>0</td>\n",
       "    </tr>\n",
       "    <tr>\n",
       "      <th>4</th>\n",
       "      <td>artbydevwoo</td>\n",
       "      <td>1</td>\n",
       "      <td>0</td>\n",
       "      <td>0</td>\n",
       "    </tr>\n",
       "  </tbody>\n",
       "</table>\n",
       "</div>"
      ],
      "text/plain": [
       "       username  consumer  retailer  others\n",
       "0        nixhus         1         0       0\n",
       "1  steph_davies         1         0       0\n",
       "2      gloriavp         1         0       0\n",
       "3   theajacinto         1         0       0\n",
       "4   artbydevwoo         1         0       0"
      ]
     },
     "execution_count": 32,
     "metadata": {},
     "output_type": "execute_result"
    }
   ],
   "source": [
    "labels_data = pd.read_csv('followers_classification/data/700 profiles for claissifier - second round.csv',\n",
    "                              delimiter=',',\n",
    "                              usecols=['username', 'consumer', 'retailer', 'others'])\n",
    "labels_data.head()"
   ]
  },
  {
   "cell_type": "code",
   "execution_count": 33,
   "metadata": {},
   "outputs": [
    {
     "name": "stdout",
     "output_type": "stream",
     "text": [
      "(76378, 8)\n"
     ]
    },
    {
     "data": {
      "text/html": [
       "<div>\n",
       "<style>\n",
       "    .dataframe thead tr:only-child th {\n",
       "        text-align: right;\n",
       "    }\n",
       "\n",
       "    .dataframe thead th {\n",
       "        text-align: left;\n",
       "    }\n",
       "\n",
       "    .dataframe tbody tr th {\n",
       "        vertical-align: top;\n",
       "    }\n",
       "</style>\n",
       "<table border=\"1\" class=\"dataframe\">\n",
       "  <thead>\n",
       "    <tr style=\"text-align: right;\">\n",
       "      <th></th>\n",
       "      <th>username</th>\n",
       "      <th>consumer</th>\n",
       "      <th>retailer</th>\n",
       "      <th>others</th>\n",
       "      <th>comment_count</th>\n",
       "      <th>id_post</th>\n",
       "      <th>likes_count</th>\n",
       "      <th>taken_at_timestamp</th>\n",
       "    </tr>\n",
       "  </thead>\n",
       "  <tbody>\n",
       "    <tr>\n",
       "      <th>0</th>\n",
       "      <td>dies_martis</td>\n",
       "      <td>1</td>\n",
       "      <td>0</td>\n",
       "      <td>0</td>\n",
       "      <td>0.0</td>\n",
       "      <td>1635777297363641957</td>\n",
       "      <td>3.0</td>\n",
       "      <td>1.50922e+09</td>\n",
       "    </tr>\n",
       "    <tr>\n",
       "      <th>1</th>\n",
       "      <td>dies_martis</td>\n",
       "      <td>1</td>\n",
       "      <td>0</td>\n",
       "      <td>0</td>\n",
       "      <td>0.0</td>\n",
       "      <td>1618377373349067063</td>\n",
       "      <td>4.0</td>\n",
       "      <td>1.50715e+09</td>\n",
       "    </tr>\n",
       "    <tr>\n",
       "      <th>2</th>\n",
       "      <td>dies_martis</td>\n",
       "      <td>1</td>\n",
       "      <td>0</td>\n",
       "      <td>0</td>\n",
       "      <td>0.0</td>\n",
       "      <td>1618376636703549548</td>\n",
       "      <td>6.0</td>\n",
       "      <td>1.50715e+09</td>\n",
       "    </tr>\n",
       "    <tr>\n",
       "      <th>3</th>\n",
       "      <td>dies_martis</td>\n",
       "      <td>1</td>\n",
       "      <td>0</td>\n",
       "      <td>0</td>\n",
       "      <td>0.0</td>\n",
       "      <td>1617420557622602585</td>\n",
       "      <td>5.0</td>\n",
       "      <td>1.50703e+09</td>\n",
       "    </tr>\n",
       "    <tr>\n",
       "      <th>4</th>\n",
       "      <td>dies_martis</td>\n",
       "      <td>1</td>\n",
       "      <td>0</td>\n",
       "      <td>0</td>\n",
       "      <td>0.0</td>\n",
       "      <td>1604157593562033370</td>\n",
       "      <td>13.0</td>\n",
       "      <td>1.50545e+09</td>\n",
       "    </tr>\n",
       "  </tbody>\n",
       "</table>\n",
       "</div>"
      ],
      "text/plain": [
       "      username  consumer  retailer  others  comment_count  \\\n",
       "0  dies_martis         1         0       0            0.0   \n",
       "1  dies_martis         1         0       0            0.0   \n",
       "2  dies_martis         1         0       0            0.0   \n",
       "3  dies_martis         1         0       0            0.0   \n",
       "4  dies_martis         1         0       0            0.0   \n",
       "\n",
       "               id_post  likes_count taken_at_timestamp  \n",
       "0  1635777297363641957          3.0        1.50922e+09  \n",
       "1  1618377373349067063          4.0        1.50715e+09  \n",
       "2  1618376636703549548          6.0        1.50715e+09  \n",
       "3  1617420557622602585          5.0        1.50703e+09  \n",
       "4  1604157593562033370         13.0        1.50545e+09  "
      ]
     },
     "execution_count": 33,
     "metadata": {},
     "output_type": "execute_result"
    }
   ],
   "source": [
    "labels_posts_data = labels_data.merge(posts_data, on='username')\n",
    "print(labels_posts_data.shape)\n",
    "labels_posts_data.head()"
   ]
  },
  {
   "cell_type": "code",
   "execution_count": 34,
   "metadata": {},
   "outputs": [
    {
     "name": "stdout",
     "output_type": "stream",
     "text": [
      "Max: 9.33698630137\n"
     ]
    },
    {
     "data": {
      "text/html": [
       "<div>\n",
       "<style>\n",
       "    .dataframe thead tr:only-child th {\n",
       "        text-align: right;\n",
       "    }\n",
       "\n",
       "    .dataframe thead th {\n",
       "        text-align: left;\n",
       "    }\n",
       "\n",
       "    .dataframe tbody tr th {\n",
       "        vertical-align: top;\n",
       "    }\n",
       "</style>\n",
       "<table border=\"1\" class=\"dataframe\">\n",
       "  <thead>\n",
       "    <tr style=\"text-align: right;\">\n",
       "      <th></th>\n",
       "      <th>username</th>\n",
       "      <th>posts_count</th>\n",
       "      <th>avg_posts_per_day</th>\n",
       "    </tr>\n",
       "  </thead>\n",
       "  <tbody>\n",
       "    <tr>\n",
       "      <th>0</th>\n",
       "      <td>25park</td>\n",
       "      <td>1924</td>\n",
       "      <td>5.271233</td>\n",
       "    </tr>\n",
       "    <tr>\n",
       "      <th>1</th>\n",
       "      <td>4u2by</td>\n",
       "      <td>29</td>\n",
       "      <td>0.079452</td>\n",
       "    </tr>\n",
       "    <tr>\n",
       "      <th>2</th>\n",
       "      <td>__p___w__</td>\n",
       "      <td>441</td>\n",
       "      <td>1.208219</td>\n",
       "    </tr>\n",
       "    <tr>\n",
       "      <th>3</th>\n",
       "      <td>_flat_earth_</td>\n",
       "      <td>4</td>\n",
       "      <td>0.010959</td>\n",
       "    </tr>\n",
       "    <tr>\n",
       "      <th>4</th>\n",
       "      <td>_louislesouefandco_</td>\n",
       "      <td>200</td>\n",
       "      <td>0.547945</td>\n",
       "    </tr>\n",
       "  </tbody>\n",
       "</table>\n",
       "</div>"
      ],
      "text/plain": [
       "              username  posts_count  avg_posts_per_day\n",
       "0               25park         1924           5.271233\n",
       "1                4u2by           29           0.079452\n",
       "2            __p___w__          441           1.208219\n",
       "3         _flat_earth_            4           0.010959\n",
       "4  _louislesouefandco_          200           0.547945"
      ]
     },
     "execution_count": 34,
     "metadata": {},
     "output_type": "execute_result"
    }
   ],
   "source": [
    "posts_count = gen_posts_counts(labels_posts_data)\n",
    "posts_count.head()"
   ]
  },
  {
   "cell_type": "code",
   "execution_count": 37,
   "metadata": {},
   "outputs": [
    {
     "data": {
      "text/plain": [
       "[<matplotlib.lines.Line2D at 0x2220b2e1780>]"
      ]
     },
     "execution_count": 37,
     "metadata": {},
     "output_type": "execute_result"
    },
    {
     "data": {
      "image/png": "[encoded data removed]",
      "text/plain": [
       "<matplotlib.figure.Figure at 0x2226102b4e0>"
      ]
     },
     "metadata": {},
     "output_type": "display_data"
    }
   ],
   "source": [
    "plt.figure()\n",
    "ys = np.sort(posts_count['avg_posts_per_day'].as_matrix())\n",
    "plt.plot(ys)"
   ]
  },
  {
   "cell_type": "code",
   "execution_count": 39,
   "metadata": {},
   "outputs": [
    {
     "data": {
      "image/png": "[encoded data removed]",
      "text/plain": [
       "<matplotlib.figure.Figure at 0x2220a0585f8>"
      ]
     },
     "metadata": {},
     "output_type": "display_data"
    }
   ],
   "source": [
    "num_bins = 10\n",
    "n, bins, patches = plt.hist(ys[np.where(ys<2)], num_bins, facecolor='blue', alpha=0.5)\n",
    "plt.show()"
   ]
  },
  {
   "cell_type": "markdown",
   "metadata": {},
   "source": [
    "In this histogram you can see the number of classified users posting between 0 and 5 posts per day. More than 5 is pretty much irrelevant."
   ]
  },
  {
   "cell_type": "code",
   "execution_count": 40,
   "metadata": {
    "collapsed": true
   },
   "outputs": [],
   "source": [
    "posting_hour = gen_posting_hour(labels_posts_data)"
   ]
  },
  {
   "cell_type": "code",
   "execution_count": 41,
   "metadata": {},
   "outputs": [
    {
     "data": {
      "text/plain": [
       "[<matplotlib.lines.Line2D at 0x222707dc3c8>]"
      ]
     },
     "execution_count": 41,
     "metadata": {},
     "output_type": "execute_result"
    },
    {
     "data": {
      "image/png": "[encoded data removed]",
      "text/plain": [
       "<matplotlib.figure.Figure at 0x2220aba9f98>"
      ]
     },
     "metadata": {},
     "output_type": "display_data"
    }
   ],
   "source": [
    "plt.figure()\n",
    "posting_hour = np.sort(posting_hour)\n",
    "unique, counts = np.unique(posting_hour, return_counts=True)\n",
    "plt.plot(unique, counts)"
   ]
  },
  {
   "cell_type": "code",
   "execution_count": 42,
   "metadata": {},
   "outputs": [
    {
     "data": {
      "image/png": "[encoded data removed]",
      "text/plain": [
       "<matplotlib.figure.Figure at 0x2222c719898>"
      ]
     },
     "metadata": {},
     "output_type": "display_data"
    }
   ],
   "source": [
    "plt.bar(unique, counts)\n",
    "plt.xticks(unique)\n",
    "plt.show()"
   ]
  },
  {
   "cell_type": "markdown",
   "metadata": {},
   "source": [
    "Pretty similar behaviour, let's see if we can distinguish between the various classes"
   ]
  },
  {
   "cell_type": "markdown",
   "metadata": {},
   "source": [
    "# Let's perform the same analisys on consumers"
   ]
  },
  {
   "cell_type": "code",
   "execution_count": 43,
   "metadata": {},
   "outputs": [
    {
     "name": "stdout",
     "output_type": "stream",
     "text": [
      "(36924, 8)\n"
     ]
    },
    {
     "data": {
      "text/html": [
       "<div>\n",
       "<style>\n",
       "    .dataframe thead tr:only-child th {\n",
       "        text-align: right;\n",
       "    }\n",
       "\n",
       "    .dataframe thead th {\n",
       "        text-align: left;\n",
       "    }\n",
       "\n",
       "    .dataframe tbody tr th {\n",
       "        vertical-align: top;\n",
       "    }\n",
       "</style>\n",
       "<table border=\"1\" class=\"dataframe\">\n",
       "  <thead>\n",
       "    <tr style=\"text-align: right;\">\n",
       "      <th></th>\n",
       "      <th>username</th>\n",
       "      <th>consumer</th>\n",
       "      <th>retailer</th>\n",
       "      <th>others</th>\n",
       "      <th>comment_count</th>\n",
       "      <th>id_post</th>\n",
       "      <th>likes_count</th>\n",
       "      <th>taken_at_timestamp</th>\n",
       "    </tr>\n",
       "  </thead>\n",
       "  <tbody>\n",
       "    <tr>\n",
       "      <th>0</th>\n",
       "      <td>dies_martis</td>\n",
       "      <td>1</td>\n",
       "      <td>0</td>\n",
       "      <td>0</td>\n",
       "      <td>0.0</td>\n",
       "      <td>1635777297363641957</td>\n",
       "      <td>3.0</td>\n",
       "      <td>1.50922e+09</td>\n",
       "    </tr>\n",
       "    <tr>\n",
       "      <th>1</th>\n",
       "      <td>dies_martis</td>\n",
       "      <td>1</td>\n",
       "      <td>0</td>\n",
       "      <td>0</td>\n",
       "      <td>0.0</td>\n",
       "      <td>1618377373349067063</td>\n",
       "      <td>4.0</td>\n",
       "      <td>1.50715e+09</td>\n",
       "    </tr>\n",
       "    <tr>\n",
       "      <th>2</th>\n",
       "      <td>dies_martis</td>\n",
       "      <td>1</td>\n",
       "      <td>0</td>\n",
       "      <td>0</td>\n",
       "      <td>0.0</td>\n",
       "      <td>1618376636703549548</td>\n",
       "      <td>6.0</td>\n",
       "      <td>1.50715e+09</td>\n",
       "    </tr>\n",
       "    <tr>\n",
       "      <th>3</th>\n",
       "      <td>dies_martis</td>\n",
       "      <td>1</td>\n",
       "      <td>0</td>\n",
       "      <td>0</td>\n",
       "      <td>0.0</td>\n",
       "      <td>1617420557622602585</td>\n",
       "      <td>5.0</td>\n",
       "      <td>1.50703e+09</td>\n",
       "    </tr>\n",
       "    <tr>\n",
       "      <th>4</th>\n",
       "      <td>dies_martis</td>\n",
       "      <td>1</td>\n",
       "      <td>0</td>\n",
       "      <td>0</td>\n",
       "      <td>0.0</td>\n",
       "      <td>1604157593562033370</td>\n",
       "      <td>13.0</td>\n",
       "      <td>1.50545e+09</td>\n",
       "    </tr>\n",
       "  </tbody>\n",
       "</table>\n",
       "</div>"
      ],
      "text/plain": [
       "      username  consumer  retailer  others  comment_count  \\\n",
       "0  dies_martis         1         0       0            0.0   \n",
       "1  dies_martis         1         0       0            0.0   \n",
       "2  dies_martis         1         0       0            0.0   \n",
       "3  dies_martis         1         0       0            0.0   \n",
       "4  dies_martis         1         0       0            0.0   \n",
       "\n",
       "               id_post  likes_count taken_at_timestamp  \n",
       "0  1635777297363641957          3.0        1.50922e+09  \n",
       "1  1618377373349067063          4.0        1.50715e+09  \n",
       "2  1618376636703549548          6.0        1.50715e+09  \n",
       "3  1617420557622602585          5.0        1.50703e+09  \n",
       "4  1604157593562033370         13.0        1.50545e+09  "
      ]
     },
     "execution_count": 43,
     "metadata": {},
     "output_type": "execute_result"
    }
   ],
   "source": [
    "consumers_posts_data = labels_data.query('consumer == 1').merge(posts_data, on='username')\n",
    "print(consumers_posts_data.shape)\n",
    "consumers_posts_data.head()"
   ]
  },
  {
   "cell_type": "code",
   "execution_count": 45,
   "metadata": {},
   "outputs": [
    {
     "name": "stdout",
     "output_type": "stream",
     "text": [
      "Max: 5.33698630137\n"
     ]
    },
    {
     "data": {
      "text/html": [
       "<div>\n",
       "<style>\n",
       "    .dataframe thead tr:only-child th {\n",
       "        text-align: right;\n",
       "    }\n",
       "\n",
       "    .dataframe thead th {\n",
       "        text-align: left;\n",
       "    }\n",
       "\n",
       "    .dataframe tbody tr th {\n",
       "        vertical-align: top;\n",
       "    }\n",
       "</style>\n",
       "<table border=\"1\" class=\"dataframe\">\n",
       "  <thead>\n",
       "    <tr style=\"text-align: right;\">\n",
       "      <th></th>\n",
       "      <th>username</th>\n",
       "      <th>posts_count</th>\n",
       "      <th>avg_posts_per_day</th>\n",
       "    </tr>\n",
       "  </thead>\n",
       "  <tbody>\n",
       "    <tr>\n",
       "      <th>0</th>\n",
       "      <td>__p___w__</td>\n",
       "      <td>441</td>\n",
       "      <td>1.208219</td>\n",
       "    </tr>\n",
       "    <tr>\n",
       "      <th>1</th>\n",
       "      <td>_flat_earth_</td>\n",
       "      <td>4</td>\n",
       "      <td>0.010959</td>\n",
       "    </tr>\n",
       "    <tr>\n",
       "      <th>2</th>\n",
       "      <td>abelle1010</td>\n",
       "      <td>2</td>\n",
       "      <td>0.005479</td>\n",
       "    </tr>\n",
       "    <tr>\n",
       "      <th>3</th>\n",
       "      <td>adva35</td>\n",
       "      <td>103</td>\n",
       "      <td>0.282192</td>\n",
       "    </tr>\n",
       "    <tr>\n",
       "      <th>4</th>\n",
       "      <td>agnem__</td>\n",
       "      <td>36</td>\n",
       "      <td>0.098630</td>\n",
       "    </tr>\n",
       "  </tbody>\n",
       "</table>\n",
       "</div>"
      ],
      "text/plain": [
       "       username  posts_count  avg_posts_per_day\n",
       "0     __p___w__          441           1.208219\n",
       "1  _flat_earth_            4           0.010959\n",
       "2    abelle1010            2           0.005479\n",
       "3        adva35          103           0.282192\n",
       "4       agnem__           36           0.098630"
      ]
     },
     "execution_count": 45,
     "metadata": {},
     "output_type": "execute_result"
    }
   ],
   "source": [
    "posts_count = gen_posts_counts(consumers_posts_data)\n",
    "posts_count.head()"
   ]
  },
  {
   "cell_type": "code",
   "execution_count": 46,
   "metadata": {},
   "outputs": [
    {
     "data": {
      "text/plain": [
       "[<matplotlib.lines.Line2D at 0x22275626048>]"
      ]
     },
     "execution_count": 46,
     "metadata": {},
     "output_type": "execute_result"
    },
    {
     "data": {
      "image/png": "[encoded data removed]",
      "text/plain": [
       "<matplotlib.figure.Figure at 0x2221b0587b8>"
      ]
     },
     "metadata": {},
     "output_type": "display_data"
    }
   ],
   "source": [
    "plt.figure()\n",
    "ys = np.sort(posts_count['avg_posts_per_day'].as_matrix())\n",
    "plt.plot(ys)"
   ]
  },
  {
   "cell_type": "code",
   "execution_count": 47,
   "metadata": {},
   "outputs": [
    {
     "data": {
      "image/png": "[encoded data removed]",
      "text/plain": [
       "<matplotlib.figure.Figure at 0x22270a6a908>"
      ]
     },
     "metadata": {},
     "output_type": "display_data"
    }
   ],
   "source": [
    "num_bins = 10\n",
    "n, bins, patches = plt.hist(ys[np.where(ys<2)], num_bins, facecolor='blue', alpha=0.5)\n",
    "plt.show()"
   ]
  },
  {
   "cell_type": "markdown",
   "metadata": {},
   "source": [
    "In this histogram you can see the number of **consumers** posting between 0 and 2 posts per day. More than 2 is pretty much irrelevant."
   ]
  },
  {
   "cell_type": "code",
   "execution_count": 48,
   "metadata": {
    "collapsed": true
   },
   "outputs": [],
   "source": [
    "posting_hour = gen_posting_hour(consumers_posts_data)"
   ]
  },
  {
   "cell_type": "code",
   "execution_count": 49,
   "metadata": {},
   "outputs": [
    {
     "data": {
      "text/plain": [
       "[<matplotlib.lines.Line2D at 0x2221868fa90>]"
      ]
     },
     "execution_count": 49,
     "metadata": {},
     "output_type": "execute_result"
    },
    {
     "data": {
      "image/png": "[encoded data removed]",
      "text/plain": [
       "<matplotlib.figure.Figure at 0x2223fc3e358>"
      ]
     },
     "metadata": {},
     "output_type": "display_data"
    }
   ],
   "source": [
    "plt.figure()\n",
    "posting_hour = np.sort(posting_hour)\n",
    "unique, counts = np.unique(posting_hour, return_counts=True)\n",
    "plt.plot(unique, counts)"
   ]
  },
  {
   "cell_type": "code",
   "execution_count": 50,
   "metadata": {},
   "outputs": [
    {
     "data": {
      "image/png": "[encoded data removed]",
      "text/plain": [
       "<matplotlib.figure.Figure at 0x22214471a90>"
      ]
     },
     "metadata": {},
     "output_type": "display_data"
    }
   ],
   "source": [
    "plt.bar(unique, counts)\n",
    "plt.xticks(unique)\n",
    "plt.show()"
   ]
  },
  {
   "cell_type": "markdown",
   "metadata": {},
   "source": [
    "Again pretty similar behaviour, let's do retailers and others"
   ]
  },
  {
   "cell_type": "markdown",
   "metadata": {},
   "source": [
    "# Retailers and others"
   ]
  },
  {
   "cell_type": "code",
   "execution_count": 51,
   "metadata": {},
   "outputs": [
    {
     "name": "stdout",
     "output_type": "stream",
     "text": [
      "(39454, 8)\n"
     ]
    },
    {
     "data": {
      "text/html": [
       "<div>\n",
       "<style>\n",
       "    .dataframe thead tr:only-child th {\n",
       "        text-align: right;\n",
       "    }\n",
       "\n",
       "    .dataframe thead th {\n",
       "        text-align: left;\n",
       "    }\n",
       "\n",
       "    .dataframe tbody tr th {\n",
       "        vertical-align: top;\n",
       "    }\n",
       "</style>\n",
       "<table border=\"1\" class=\"dataframe\">\n",
       "  <thead>\n",
       "    <tr style=\"text-align: right;\">\n",
       "      <th></th>\n",
       "      <th>username</th>\n",
       "      <th>consumer</th>\n",
       "      <th>retailer</th>\n",
       "      <th>others</th>\n",
       "      <th>comment_count</th>\n",
       "      <th>id_post</th>\n",
       "      <th>likes_count</th>\n",
       "      <th>taken_at_timestamp</th>\n",
       "    </tr>\n",
       "  </thead>\n",
       "  <tbody>\n",
       "    <tr>\n",
       "      <th>0</th>\n",
       "      <td>kenzaeyz</td>\n",
       "      <td>0</td>\n",
       "      <td>0</td>\n",
       "      <td>1</td>\n",
       "      <td>2.0</td>\n",
       "      <td>1641648220171943738</td>\n",
       "      <td>83.0</td>\n",
       "      <td>1509919739</td>\n",
       "    </tr>\n",
       "    <tr>\n",
       "      <th>1</th>\n",
       "      <td>kenzaeyz</td>\n",
       "      <td>0</td>\n",
       "      <td>0</td>\n",
       "      <td>1</td>\n",
       "      <td>0.0</td>\n",
       "      <td>1641634314024130306</td>\n",
       "      <td>73.0</td>\n",
       "      <td>1509918081</td>\n",
       "    </tr>\n",
       "    <tr>\n",
       "      <th>2</th>\n",
       "      <td>kenzaeyz</td>\n",
       "      <td>0</td>\n",
       "      <td>0</td>\n",
       "      <td>1</td>\n",
       "      <td>5.0</td>\n",
       "      <td>1639431058447466228</td>\n",
       "      <td>111.0</td>\n",
       "      <td>1509655501</td>\n",
       "    </tr>\n",
       "    <tr>\n",
       "      <th>3</th>\n",
       "      <td>kenzaeyz</td>\n",
       "      <td>0</td>\n",
       "      <td>0</td>\n",
       "      <td>1</td>\n",
       "      <td>5.0</td>\n",
       "      <td>1638406732034141588</td>\n",
       "      <td>96.0</td>\n",
       "      <td>1509533324</td>\n",
       "    </tr>\n",
       "    <tr>\n",
       "      <th>4</th>\n",
       "      <td>kenzaeyz</td>\n",
       "      <td>0</td>\n",
       "      <td>0</td>\n",
       "      <td>1</td>\n",
       "      <td>9.0</td>\n",
       "      <td>1637877093301824855</td>\n",
       "      <td>176.0</td>\n",
       "      <td>1509470186</td>\n",
       "    </tr>\n",
       "  </tbody>\n",
       "</table>\n",
       "</div>"
      ],
      "text/plain": [
       "   username  consumer  retailer  others  comment_count              id_post  \\\n",
       "0  kenzaeyz         0         0       1            2.0  1641648220171943738   \n",
       "1  kenzaeyz         0         0       1            0.0  1641634314024130306   \n",
       "2  kenzaeyz         0         0       1            5.0  1639431058447466228   \n",
       "3  kenzaeyz         0         0       1            5.0  1638406732034141588   \n",
       "4  kenzaeyz         0         0       1            9.0  1637877093301824855   \n",
       "\n",
       "   likes_count taken_at_timestamp  \n",
       "0         83.0         1509919739  \n",
       "1         73.0         1509918081  \n",
       "2        111.0         1509655501  \n",
       "3         96.0         1509533324  \n",
       "4        176.0         1509470186  "
      ]
     },
     "execution_count": 51,
     "metadata": {},
     "output_type": "execute_result"
    }
   ],
   "source": [
    "others_posts_data = labels_data.query('retailer == 1 or others == 1').merge(posts_data, on='username')\n",
    "print(others_posts_data.shape)\n",
    "others_posts_data.head()"
   ]
  },
  {
   "cell_type": "markdown",
   "metadata": {},
   "source": [
    "#### Interestingly enough, even though we have just around 150 users in \"others\" and \"retailer\", they have more posts than the consumers, maybe the number of posts is a pretty relevant feature"
   ]
  },
  {
   "cell_type": "code",
   "execution_count": 52,
   "metadata": {},
   "outputs": [
    {
     "name": "stdout",
     "output_type": "stream",
     "text": [
      "Max: 6.45205479452\n"
     ]
    },
    {
     "data": {
      "text/html": [
       "<div>\n",
       "<style>\n",
       "    .dataframe thead tr:only-child th {\n",
       "        text-align: right;\n",
       "    }\n",
       "\n",
       "    .dataframe thead th {\n",
       "        text-align: left;\n",
       "    }\n",
       "\n",
       "    .dataframe tbody tr th {\n",
       "        vertical-align: top;\n",
       "    }\n",
       "</style>\n",
       "<table border=\"1\" class=\"dataframe\">\n",
       "  <thead>\n",
       "    <tr style=\"text-align: right;\">\n",
       "      <th></th>\n",
       "      <th>username</th>\n",
       "      <th>posts_count</th>\n",
       "      <th>avg_posts_per_day</th>\n",
       "    </tr>\n",
       "  </thead>\n",
       "  <tbody>\n",
       "    <tr>\n",
       "      <th>0</th>\n",
       "      <td>25park</td>\n",
       "      <td>1924</td>\n",
       "      <td>5.271233</td>\n",
       "    </tr>\n",
       "    <tr>\n",
       "      <th>1</th>\n",
       "      <td>4u2by</td>\n",
       "      <td>29</td>\n",
       "      <td>0.079452</td>\n",
       "    </tr>\n",
       "    <tr>\n",
       "      <th>2</th>\n",
       "      <td>_louislesouefandco_</td>\n",
       "      <td>200</td>\n",
       "      <td>0.547945</td>\n",
       "    </tr>\n",
       "    <tr>\n",
       "      <th>3</th>\n",
       "      <td>_luluyesyes_</td>\n",
       "      <td>539</td>\n",
       "      <td>1.476712</td>\n",
       "    </tr>\n",
       "    <tr>\n",
       "      <th>4</th>\n",
       "      <td>abbeyclancyofficial</td>\n",
       "      <td>100</td>\n",
       "      <td>0.273973</td>\n",
       "    </tr>\n",
       "  </tbody>\n",
       "</table>\n",
       "</div>"
      ],
      "text/plain": [
       "              username  posts_count  avg_posts_per_day\n",
       "0               25park         1924           5.271233\n",
       "1                4u2by           29           0.079452\n",
       "2  _louislesouefandco_          200           0.547945\n",
       "3         _luluyesyes_          539           1.476712\n",
       "4  abbeyclancyofficial          100           0.273973"
      ]
     },
     "execution_count": 52,
     "metadata": {},
     "output_type": "execute_result"
    }
   ],
   "source": [
    "posts_count = gen_posts_counts(others_posts_data)\n",
    "posts_count.head()"
   ]
  },
  {
   "cell_type": "code",
   "execution_count": 53,
   "metadata": {},
   "outputs": [
    {
     "data": {
      "text/plain": [
       "[<matplotlib.lines.Line2D at 0x2220da93470>]"
      ]
     },
     "execution_count": 53,
     "metadata": {},
     "output_type": "execute_result"
    },
    {
     "data": {
      "image/png": "[encoded data removed]",
      "text/plain": [
       "<matplotlib.figure.Figure at 0x222126aa550>"
      ]
     },
     "metadata": {},
     "output_type": "display_data"
    }
   ],
   "source": [
    "plt.figure()\n",
    "ys = np.sort(posts_count['avg_posts_per_day'].as_matrix())\n",
    "plt.plot(ys)"
   ]
  },
  {
   "cell_type": "code",
   "execution_count": 55,
   "metadata": {},
   "outputs": [
    {
     "data": {
      "image/png": "[encoded data removed]",
      "text/plain": [
       "<matplotlib.figure.Figure at 0x2223a8eed30>"
      ]
     },
     "metadata": {},
     "output_type": "display_data"
    }
   ],
   "source": [
    "num_bins = 10\n",
    "n, bins, patches = plt.hist(ys[np.where(ys<5)], num_bins, facecolor='blue', alpha=0.5)\n",
    "plt.show()"
   ]
  },
  {
   "cell_type": "markdown",
   "metadata": {},
   "source": [
    "It looks like retailers and others tend to post more often than consumers! The scale of this histogram is different than before, the others had a maximum of 2 posts per day on the x axis, here 5 was chosen to better represent the distribution."
   ]
  },
  {
   "cell_type": "code",
   "execution_count": 56,
   "metadata": {
    "collapsed": true
   },
   "outputs": [],
   "source": [
    "posting_hour = gen_posting_hour(consumers_posts_data)"
   ]
  },
  {
   "cell_type": "code",
   "execution_count": 57,
   "metadata": {},
   "outputs": [
    {
     "data": {
      "text/plain": [
       "[<matplotlib.lines.Line2D at 0x2223904a160>]"
      ]
     },
     "execution_count": 57,
     "metadata": {},
     "output_type": "execute_result"
    },
    {
     "data": {
      "image/png": "[encoded data removed]",
      "text/plain": [
       "<matplotlib.figure.Figure at 0x22232902ba8>"
      ]
     },
     "metadata": {},
     "output_type": "display_data"
    }
   ],
   "source": [
    "plt.figure()\n",
    "unique, counts = np.unique(posting_hour, return_counts=True)\n",
    "plt.plot(unique, counts)"
   ]
  },
  {
   "cell_type": "code",
   "execution_count": 58,
   "metadata": {},
   "outputs": [
    {
     "data": {
      "image/png": "[encoded data removed]",
      "text/plain": [
       "<matplotlib.figure.Figure at 0x22270a1a828>"
      ]
     },
     "metadata": {},
     "output_type": "display_data"
    }
   ],
   "source": [
    "plt.bar(unique, counts)\n",
    "plt.xticks(unique)\n",
    "plt.show()"
   ]
  },
  {
   "cell_type": "markdown",
   "metadata": {
    "collapsed": true
   },
   "source": [
    "# Just retailers"
   ]
  },
  {
   "cell_type": "code",
   "execution_count": 60,
   "metadata": {},
   "outputs": [
    {
     "name": "stdout",
     "output_type": "stream",
     "text": [
      "(8011, 8)\n"
     ]
    },
    {
     "data": {
      "text/html": [
       "<div>\n",
       "<style>\n",
       "    .dataframe thead tr:only-child th {\n",
       "        text-align: right;\n",
       "    }\n",
       "\n",
       "    .dataframe thead th {\n",
       "        text-align: left;\n",
       "    }\n",
       "\n",
       "    .dataframe tbody tr th {\n",
       "        vertical-align: top;\n",
       "    }\n",
       "</style>\n",
       "<table border=\"1\" class=\"dataframe\">\n",
       "  <thead>\n",
       "    <tr style=\"text-align: right;\">\n",
       "      <th></th>\n",
       "      <th>username</th>\n",
       "      <th>consumer</th>\n",
       "      <th>retailer</th>\n",
       "      <th>others</th>\n",
       "      <th>comment_count</th>\n",
       "      <th>id_post</th>\n",
       "      <th>likes_count</th>\n",
       "      <th>taken_at_timestamp</th>\n",
       "    </tr>\n",
       "  </thead>\n",
       "  <tbody>\n",
       "    <tr>\n",
       "      <th>0</th>\n",
       "      <td>tamarlandau_tml</td>\n",
       "      <td>0</td>\n",
       "      <td>1</td>\n",
       "      <td>0</td>\n",
       "      <td>1.0</td>\n",
       "      <td>1644802635617603488</td>\n",
       "      <td>26.0</td>\n",
       "      <td>1510295775</td>\n",
       "    </tr>\n",
       "    <tr>\n",
       "      <th>1</th>\n",
       "      <td>tamarlandau_tml</td>\n",
       "      <td>0</td>\n",
       "      <td>1</td>\n",
       "      <td>0</td>\n",
       "      <td>1.0</td>\n",
       "      <td>1644030760293638140</td>\n",
       "      <td>35.0</td>\n",
       "      <td>1510203760</td>\n",
       "    </tr>\n",
       "    <tr>\n",
       "      <th>2</th>\n",
       "      <td>tamarlandau_tml</td>\n",
       "      <td>0</td>\n",
       "      <td>1</td>\n",
       "      <td>0</td>\n",
       "      <td>0.0</td>\n",
       "      <td>1643345719183902785</td>\n",
       "      <td>29.0</td>\n",
       "      <td>1510122097</td>\n",
       "    </tr>\n",
       "    <tr>\n",
       "      <th>3</th>\n",
       "      <td>tamarlandau_tml</td>\n",
       "      <td>0</td>\n",
       "      <td>1</td>\n",
       "      <td>0</td>\n",
       "      <td>7.0</td>\n",
       "      <td>1642588797325300378</td>\n",
       "      <td>59.0</td>\n",
       "      <td>1510031865</td>\n",
       "    </tr>\n",
       "    <tr>\n",
       "      <th>4</th>\n",
       "      <td>tamarlandau_tml</td>\n",
       "      <td>0</td>\n",
       "      <td>1</td>\n",
       "      <td>0</td>\n",
       "      <td>2.0</td>\n",
       "      <td>1641852923281312928</td>\n",
       "      <td>33.0</td>\n",
       "      <td>1509944142</td>\n",
       "    </tr>\n",
       "  </tbody>\n",
       "</table>\n",
       "</div>"
      ],
      "text/plain": [
       "          username  consumer  retailer  others  comment_count  \\\n",
       "0  tamarlandau_tml         0         1       0            1.0   \n",
       "1  tamarlandau_tml         0         1       0            1.0   \n",
       "2  tamarlandau_tml         0         1       0            0.0   \n",
       "3  tamarlandau_tml         0         1       0            7.0   \n",
       "4  tamarlandau_tml         0         1       0            2.0   \n",
       "\n",
       "               id_post  likes_count taken_at_timestamp  \n",
       "0  1644802635617603488         26.0         1510295775  \n",
       "1  1644030760293638140         35.0         1510203760  \n",
       "2  1643345719183902785         29.0         1510122097  \n",
       "3  1642588797325300378         59.0         1510031865  \n",
       "4  1641852923281312928         33.0         1509944142  "
      ]
     },
     "execution_count": 60,
     "metadata": {},
     "output_type": "execute_result"
    }
   ],
   "source": [
    "retailers_posts_data = labels_data.query('retailer == 1').merge(posts_data, on='username')\n",
    "print(retailers_posts_data.shape)\n",
    "retailers_posts_data.head()"
   ]
  },
  {
   "cell_type": "code",
   "execution_count": 61,
   "metadata": {},
   "outputs": [
    {
     "name": "stdout",
     "output_type": "stream",
     "text": [
      "Max: 6.45205479452\n"
     ]
    },
    {
     "data": {
      "text/html": [
       "<div>\n",
       "<style>\n",
       "    .dataframe thead tr:only-child th {\n",
       "        text-align: right;\n",
       "    }\n",
       "\n",
       "    .dataframe thead th {\n",
       "        text-align: left;\n",
       "    }\n",
       "\n",
       "    .dataframe tbody tr th {\n",
       "        vertical-align: top;\n",
       "    }\n",
       "</style>\n",
       "<table border=\"1\" class=\"dataframe\">\n",
       "  <thead>\n",
       "    <tr style=\"text-align: right;\">\n",
       "      <th></th>\n",
       "      <th>username</th>\n",
       "      <th>posts_count</th>\n",
       "      <th>avg_posts_per_day</th>\n",
       "    </tr>\n",
       "  </thead>\n",
       "  <tbody>\n",
       "    <tr>\n",
       "      <th>0</th>\n",
       "      <td>aranaz_dxb</td>\n",
       "      <td>260</td>\n",
       "      <td>0.712329</td>\n",
       "    </tr>\n",
       "    <tr>\n",
       "      <th>1</th>\n",
       "      <td>cabanashow</td>\n",
       "      <td>97</td>\n",
       "      <td>0.265753</td>\n",
       "    </tr>\n",
       "    <tr>\n",
       "      <th>2</th>\n",
       "      <td>claretshowroom</td>\n",
       "      <td>572</td>\n",
       "      <td>1.567123</td>\n",
       "    </tr>\n",
       "    <tr>\n",
       "      <th>3</th>\n",
       "      <td>ekaterinipietri</td>\n",
       "      <td>182</td>\n",
       "      <td>0.498630</td>\n",
       "    </tr>\n",
       "    <tr>\n",
       "      <th>4</th>\n",
       "      <td>fashionbank_online</td>\n",
       "      <td>310</td>\n",
       "      <td>0.849315</td>\n",
       "    </tr>\n",
       "  </tbody>\n",
       "</table>\n",
       "</div>"
      ],
      "text/plain": [
       "             username  posts_count  avg_posts_per_day\n",
       "0          aranaz_dxb          260           0.712329\n",
       "1          cabanashow           97           0.265753\n",
       "2      claretshowroom          572           1.567123\n",
       "3     ekaterinipietri          182           0.498630\n",
       "4  fashionbank_online          310           0.849315"
      ]
     },
     "execution_count": 61,
     "metadata": {},
     "output_type": "execute_result"
    }
   ],
   "source": [
    "# aggregating posts data to get user features\n",
    "posts_count = gen_posts_counts(retailers_posts_data)\n",
    "posts_count.head()"
   ]
  },
  {
   "cell_type": "code",
   "execution_count": 62,
   "metadata": {},
   "outputs": [
    {
     "data": {
      "text/plain": [
       "[<matplotlib.lines.Line2D at 0x2220f0478d0>]"
      ]
     },
     "execution_count": 62,
     "metadata": {},
     "output_type": "execute_result"
    },
    {
     "data": {
      "image/png": "[encoded data removed]",
      "text/plain": [
       "<matplotlib.figure.Figure at 0x2220d988cc0>"
      ]
     },
     "metadata": {},
     "output_type": "display_data"
    }
   ],
   "source": [
    "plt.figure()\n",
    "ys = np.sort(posts_count['avg_posts_per_day'].as_matrix())\n",
    "plt.plot(ys)"
   ]
  },
  {
   "cell_type": "code",
   "execution_count": 63,
   "metadata": {
    "collapsed": true
   },
   "outputs": [],
   "source": [
    "posting_hour = gen_posting_hour(retailers_posts_data)"
   ]
  },
  {
   "cell_type": "code",
   "execution_count": 64,
   "metadata": {},
   "outputs": [
    {
     "data": {
      "text/plain": [
       "[<matplotlib.lines.Line2D at 0x2225b3289e8>]"
      ]
     },
     "execution_count": 64,
     "metadata": {},
     "output_type": "execute_result"
    },
    {
     "data": {
      "image/png": "[encoded data removed]",
      "text/plain": [
       "<matplotlib.figure.Figure at 0x22260fa70b8>"
      ]
     },
     "metadata": {},
     "output_type": "display_data"
    }
   ],
   "source": [
    "plt.figure()\n",
    "unique, counts = np.unique(posting_hour, return_counts=True)\n",
    "plt.plot(unique, counts)"
   ]
  },
  {
   "cell_type": "code",
   "execution_count": 65,
   "metadata": {},
   "outputs": [
    {
     "data": {
      "image/png": "[encoded data removed]",
      "text/plain": [
       "<matplotlib.figure.Figure at 0x222371a9278>"
      ]
     },
     "metadata": {},
     "output_type": "display_data"
    }
   ],
   "source": [
    "plt.bar(unique, counts)\n",
    "plt.xticks(unique)\n",
    "plt.show()"
   ]
  },
  {
   "cell_type": "markdown",
   "metadata": {},
   "source": [
    "# Lets look for a common language in the bios of retailers and others"
   ]
  },
  {
   "cell_type": "code",
   "execution_count": 66,
   "metadata": {
    "collapsed": true
   },
   "outputs": [],
   "source": [
    "def clean_bios(bio):\n",
    "    bio = bio.replace('b\\'', '')\n",
    "    bio = bio.replace('\\\\n', '')\n",
    "    bio = bio.replace('\\\\r', '')\n",
    "    bio = bio.replace('\\\\\\\\x', '<')\n",
    "    #this last one removes emojis\n",
    "    bio = re.sub('<\\w\\w', '', bio)\n",
    "    return bio"
   ]
  },
  {
   "cell_type": "code",
   "execution_count": 67,
   "metadata": {
    "collapsed": true
   },
   "outputs": [],
   "source": [
    "names = ['user_id', 'username', 'profile_pic', 'followers_count', 'following_count',\n",
    "        'num_posts', 'bio', 'isPrivate']\n",
    "cols = ['username', 'bio']\n",
    "followers_data = pd.read_csv('followers_classification/data/users.csv', delimiter=',', names=names, usecols=cols)\n",
    "followers_data['bio'] = followers_data['bio'].fillna('bio')\n",
    "followers_data['bio'] = followers_data['bio'].apply(clean_bios)"
   ]
  },
  {
   "cell_type": "code",
   "execution_count": 69,
   "metadata": {},
   "outputs": [
    {
     "data": {
      "text/html": [
       "<div>\n",
       "<style>\n",
       "    .dataframe thead tr:only-child th {\n",
       "        text-align: right;\n",
       "    }\n",
       "\n",
       "    .dataframe thead th {\n",
       "        text-align: left;\n",
       "    }\n",
       "\n",
       "    .dataframe tbody tr th {\n",
       "        vertical-align: top;\n",
       "    }\n",
       "</style>\n",
       "<table border=\"1\" class=\"dataframe\">\n",
       "  <thead>\n",
       "    <tr style=\"text-align: right;\">\n",
       "      <th></th>\n",
       "      <th>username</th>\n",
       "      <th>consumer</th>\n",
       "      <th>retailer</th>\n",
       "      <th>others</th>\n",
       "      <th>bio</th>\n",
       "    </tr>\n",
       "  </thead>\n",
       "  <tbody>\n",
       "    <tr>\n",
       "      <th>0</th>\n",
       "      <td>kenzaeyz</td>\n",
       "      <td>0</td>\n",
       "      <td>0</td>\n",
       "      <td>1</td>\n",
       "      <td>International Communications &amp; Marketing\\P.R. ...</td>\n",
       "    </tr>\n",
       "    <tr>\n",
       "      <th>1</th>\n",
       "      <td>aleorland</td>\n",
       "      <td>0</td>\n",
       "      <td>0</td>\n",
       "      <td>1</td>\n",
       "      <td>alejandra.amoros@gmail.com'</td>\n",
       "    </tr>\n",
       "    <tr>\n",
       "      <th>2</th>\n",
       "      <td>thegreedysprout</td>\n",
       "      <td>0</td>\n",
       "      <td>0</td>\n",
       "      <td>1</td>\n",
       "      <td>plants \\ all animals \\Vegan baking blogger \\J...</td>\n",
       "    </tr>\n",
       "    <tr>\n",
       "      <th>3</th>\n",
       "      <td>thelouloves</td>\n",
       "      <td>0</td>\n",
       "      <td>0</td>\n",
       "      <td>1</td>\n",
       "      <td>Brit  Blogger  32\\ Sydney | AUS\\ asklouloves@...</td>\n",
       "    </tr>\n",
       "    <tr>\n",
       "      <th>4</th>\n",
       "      <td>thewearnecessities</td>\n",
       "      <td>0</td>\n",
       "      <td>0</td>\n",
       "      <td>1</td>\n",
       "      <td>My online scrapbook of all things fashion!! Fo...</td>\n",
       "    </tr>\n",
       "  </tbody>\n",
       "</table>\n",
       "</div>"
      ],
      "text/plain": [
       "             username  consumer  retailer  others  \\\n",
       "0            kenzaeyz         0         0       1   \n",
       "1           aleorland         0         0       1   \n",
       "2     thegreedysprout         0         0       1   \n",
       "3         thelouloves         0         0       1   \n",
       "4  thewearnecessities         0         0       1   \n",
       "\n",
       "                                                 bio  \n",
       "0  International Communications & Marketing\\P.R. ...  \n",
       "1                        alejandra.amoros@gmail.com'  \n",
       "2   plants \\ all animals \\Vegan baking blogger \\J...  \n",
       "3   Brit  Blogger  32\\ Sydney | AUS\\ asklouloves@...  \n",
       "4  My online scrapbook of all things fashion!! Fo...  "
      ]
     },
     "execution_count": 69,
     "metadata": {},
     "output_type": "execute_result"
    }
   ],
   "source": [
    "others_account_data = labels_data.query('retailer == 1 or others == 1').merge(followers_data, on='username')\n",
    "others_account_data.head()"
   ]
  },
  {
   "cell_type": "code",
   "execution_count": 70,
   "metadata": {
    "scrolled": true
   },
   "outputs": [
    {
     "data": {
      "text/plain": [
       "(146, 89)"
      ]
     },
     "execution_count": 70,
     "metadata": {},
     "output_type": "execute_result"
    }
   ],
   "source": [
    "vectorizer = CountVectorizer(min_df=3, stop_words=['and', 'or', 'before', 'a', 'an', 'the', 'bio', 'is', 'all', 'to', 'for', 'by', 'in', 'of', 'we', 'our', 'at'])\n",
    "x = vectorizer.fit_transform(others_account_data['bio'])\n",
    "reverse_voc = {y:x for x,y in vectorizer.vocabulary_.items()}\n",
    "x.shape"
   ]
  },
  {
   "cell_type": "code",
   "execution_count": 71,
   "metadata": {
    "scrolled": true
   },
   "outputs": [
    {
     "data": {
      "text/plain": [
       "['com',\n",
       " 'fashion',\n",
       " 'shop',\n",
       " 'new',\n",
       " 'de',\n",
       " 'gmail',\n",
       " 'info',\n",
       " 'with',\n",
       " 'brand',\n",
       " 'shipping',\n",
       " 'jewelry',\n",
       " 'worldwide',\n",
       " 'online',\n",
       " 'us',\n",
       " 'world',\n",
       " 'from',\n",
       " 'la',\n",
       " 'york',\n",
       " 'inspired',\n",
       " 'luxury',\n",
       " 'handmade',\n",
       " 'design',\n",
       " 'best',\n",
       " 'beautiful',\n",
       " 'on',\n",
       " 'global',\n",
       " 'email',\n",
       " 'beauty',\n",
       " 'london',\n",
       " 'modern',\n",
       " 'accessories',\n",
       " 'official',\n",
       " 'your',\n",
       " 'store',\n",
       " 'www',\n",
       " 'women',\n",
       " 'style',\n",
       " 'out',\n",
       " 'spain',\n",
       " 'jewellery',\n",
       " 'based',\n",
       " 'what',\n",
       " 'boutique',\n",
       " 'city',\n",
       " 'via',\n",
       " 'designers',\n",
       " 'that',\n",
       " 'st',\n",
       " 'http',\n",
       " 'only',\n",
       " 'lover',\n",
       " 'now',\n",
       " 'no',\n",
       " 'lifestyle',\n",
       " 'madrid',\n",
       " 'love',\n",
       " 'pr',\n",
       " 'quality',\n",
       " 'my',\n",
       " 'blog',\n",
       " 'clothing',\n",
       " 'me',\n",
       " 'vogue',\n",
       " 'bohemian',\n",
       " 'sales',\n",
       " 'contact',\n",
       " 'wholesale',\n",
       " 'pieces',\n",
       " 'art',\n",
       " 'agency',\n",
       " 'account',\n",
       " 'magazine',\n",
       " 'things',\n",
       " 'curated',\n",
       " 'unique',\n",
       " 'kids',\n",
       " 'designer',\n",
       " 'dm',\n",
       " 'made',\n",
       " 'swimwear',\n",
       " 'swim',\n",
       " 'handcrafted',\n",
       " 'retail',\n",
       " 'insider',\n",
       " 'sisters',\n",
       " 'it',\n",
       " 'label',\n",
       " 'shoes',\n",
       " '16']"
      ]
     },
     "execution_count": 71,
     "metadata": {},
     "output_type": "execute_result"
    }
   ],
   "source": [
    "counts = np.squeeze(np.asarray(x.sum(axis=0)))\n",
    "sorted_idx = np.flip(np.argsort(counts), axis=0)\n",
    "names = [reverse_voc[idx] for idx in sorted_idx]\n",
    "names"
   ]
  },
  {
   "cell_type": "code",
   "execution_count": 72,
   "metadata": {},
   "outputs": [
    {
     "data": {
      "image/png": "[encoded data removed]",
      "text/plain": [
       "<matplotlib.figure.Figure at 0x22211490208>"
      ]
     },
     "metadata": {},
     "output_type": "display_data"
    }
   ],
   "source": [
    "ind = range(15)\n",
    "plt.bar(ind, counts[sorted_idx[:15]])\n",
    "plt.xticks(rotation=70)\n",
    "plt.xticks(ind, names[:15])\n",
    "plt.show()"
   ]
  },
  {
   "cell_type": "markdown",
   "metadata": {},
   "source": [
    "These are the most used words in the bios of retailers and others. Let's now see how different it is wrt consumers ones"
   ]
  },
  {
   "cell_type": "code",
   "execution_count": 73,
   "metadata": {},
   "outputs": [
    {
     "data": {
      "text/html": [
       "<div>\n",
       "<style>\n",
       "    .dataframe thead tr:only-child th {\n",
       "        text-align: right;\n",
       "    }\n",
       "\n",
       "    .dataframe thead th {\n",
       "        text-align: left;\n",
       "    }\n",
       "\n",
       "    .dataframe tbody tr th {\n",
       "        vertical-align: top;\n",
       "    }\n",
       "</style>\n",
       "<table border=\"1\" class=\"dataframe\">\n",
       "  <thead>\n",
       "    <tr style=\"text-align: right;\">\n",
       "      <th></th>\n",
       "      <th>username</th>\n",
       "      <th>consumer</th>\n",
       "      <th>retailer</th>\n",
       "      <th>others</th>\n",
       "      <th>bio</th>\n",
       "    </tr>\n",
       "  </thead>\n",
       "  <tbody>\n",
       "    <tr>\n",
       "      <th>0</th>\n",
       "      <td>nixhus</td>\n",
       "      <td>1</td>\n",
       "      <td>0</td>\n",
       "      <td>0</td>\n",
       "      <td>bio</td>\n",
       "    </tr>\n",
       "    <tr>\n",
       "      <th>1</th>\n",
       "      <td>steph_davies</td>\n",
       "      <td>1</td>\n",
       "      <td>0</td>\n",
       "      <td>0</td>\n",
       "      <td>Liverpool | 23'</td>\n",
       "    </tr>\n",
       "    <tr>\n",
       "      <th>2</th>\n",
       "      <td>gloriavp</td>\n",
       "      <td>1</td>\n",
       "      <td>0</td>\n",
       "      <td>0</td>\n",
       "      <td>Fashion Designer who loves lifestyle, homedeco...</td>\n",
       "    </tr>\n",
       "    <tr>\n",
       "      <th>3</th>\n",
       "      <td>theajacinto</td>\n",
       "      <td>1</td>\n",
       "      <td>0</td>\n",
       "      <td>0</td>\n",
       "      <td>the official Andy and Alfie fan page'</td>\n",
       "    </tr>\n",
       "    <tr>\n",
       "      <th>4</th>\n",
       "      <td>artbydevwoo</td>\n",
       "      <td>1</td>\n",
       "      <td>0</td>\n",
       "      <td>0</td>\n",
       "      <td>bio</td>\n",
       "    </tr>\n",
       "  </tbody>\n",
       "</table>\n",
       "</div>"
      ],
      "text/plain": [
       "       username  consumer  retailer  others  \\\n",
       "0        nixhus         1         0       0   \n",
       "1  steph_davies         1         0       0   \n",
       "2      gloriavp         1         0       0   \n",
       "3   theajacinto         1         0       0   \n",
       "4   artbydevwoo         1         0       0   \n",
       "\n",
       "                                                 bio  \n",
       "0                                                bio  \n",
       "1                                    Liverpool | 23'  \n",
       "2  Fashion Designer who loves lifestyle, homedeco...  \n",
       "3              the official Andy and Alfie fan page'  \n",
       "4                                                bio  "
      ]
     },
     "execution_count": 73,
     "metadata": {},
     "output_type": "execute_result"
    }
   ],
   "source": [
    "consumers_account_data = labels_data.query('consumer == 1').merge(followers_data, on='username')\n",
    "consumers_account_data.head()"
   ]
  },
  {
   "cell_type": "code",
   "execution_count": 74,
   "metadata": {
    "collapsed": true
   },
   "outputs": [],
   "source": [
    "vectorizer = CountVectorizer(min_df=3, stop_words=['and', 'or', 'before', 'a', 'an', 'the', 'bio', 'is', 'all', 'to', 'for', 'by', 'in', 'of', 'we', 'our', 'at', 'my', 'be'])\n",
    "x = vectorizer.fit_transform(consumers_account_data['bio'])\n",
    "reverse_voc = {y:x for x,y in vectorizer.vocabulary_.items()}"
   ]
  },
  {
   "cell_type": "code",
   "execution_count": 75,
   "metadata": {},
   "outputs": [
    {
     "data": {
      "text/plain": [
       "['fashion',\n",
       " 'com',\n",
       " 'life',\n",
       " 'designer',\n",
       " 'director',\n",
       " 'love',\n",
       " 'london',\n",
       " 'me',\n",
       " 'creative',\n",
       " 'founder',\n",
       " 'gmail',\n",
       " 'with',\n",
       " 'lover',\n",
       " 'stylist',\n",
       " 'travel',\n",
       " 'you',\n",
       " 'de',\n",
       " 'follow',\n",
       " 'family',\n",
       " 'it',\n",
       " 'your',\n",
       " 'food',\n",
       " 'lifestyle',\n",
       " 'interior',\n",
       " 'from',\n",
       " 'design',\n",
       " 'make',\n",
       " 'living',\n",
       " 'time',\n",
       " 'mother',\n",
       " 'are',\n",
       " 'art',\n",
       " 'artist',\n",
       " 'blog',\n",
       " 'music',\n",
       " 'co',\n",
       " 'world',\n",
       " 'good',\n",
       " 'things',\n",
       " 'style',\n",
       " 'friends',\n",
       " 'on',\n",
       " 'twitter',\n",
       " 'everything',\n",
       " 'live',\n",
       " 'have',\n",
       " 'fun',\n",
       " 'mum',\n",
       " 'more',\n",
       " 'mummy',\n",
       " 'model',\n",
       " '16',\n",
       " 'snapchat',\n",
       " 'do',\n",
       " 'consultant',\n",
       " 'writer',\n",
       " 'fitness',\n",
       " 'buyer',\n",
       " 'miami',\n",
       " 'born',\n",
       " 'nyc',\n",
       " 'one',\n",
       " 'may',\n",
       " 'new',\n",
       " 'photos',\n",
       " 'll',\n",
       " 'always',\n",
       " 'la',\n",
       " 'athens',\n",
       " 'pictures',\n",
       " 'manager',\n",
       " 'no',\n",
       " '22',\n",
       " 'adventures',\n",
       " 'now',\n",
       " 'not',\n",
       " 'coffee',\n",
       " 'best',\n",
       " 'ceo',\n",
       " 'bitch',\n",
       " 'brand',\n",
       " 'based',\n",
       " 'beauty',\n",
       " 'blogger',\n",
       " 'visual',\n",
       " 'wife',\n",
       " 'mama',\n",
       " 'vintage',\n",
       " 'info',\n",
       " 'magazine',\n",
       " 'made',\n",
       " 'loving',\n",
       " 'own',\n",
       " 'paris',\n",
       " 'personal',\n",
       " 'real',\n",
       " 'less',\n",
       " 'shop',\n",
       " 'instagram',\n",
       " 'hotmail',\n",
       " 'up',\n",
       " 'marketing',\n",
       " 'sun',\n",
       " 'freelance',\n",
       " 'mind',\n",
       " 'mommy',\n",
       " 'uk',\n",
       " 'only',\n",
       " 'email',\n",
       " 'editor',\n",
       " 'dress',\n",
       " 'unique']"
      ]
     },
     "execution_count": 75,
     "metadata": {},
     "output_type": "execute_result"
    }
   ],
   "source": [
    "counts = np.squeeze(np.asarray(x.sum(axis=0)))\n",
    "sorted_idx = np.flip(np.argsort(np.squeeze(np.asarray(x.sum(axis=0)))), axis=0)\n",
    "names = [reverse_voc[idx] for idx in sorted_idx]\n",
    "names"
   ]
  },
  {
   "cell_type": "code",
   "execution_count": 76,
   "metadata": {},
   "outputs": [
    {
     "data": {
      "image/png": "[encoded data removed]",
      "text/plain": [
       "<matplotlib.figure.Figure at 0x2220f660dd8>"
      ]
     },
     "metadata": {},
     "output_type": "display_data"
    }
   ],
   "source": [
    "ind = range(15)\n",
    "plt.bar(ind, counts[sorted_idx[:15]])\n",
    "plt.xticks(rotation=70)\n",
    "plt.xticks(ind, names[:15])\n",
    "plt.show()"
   ]
  },
  {
   "cell_type": "markdown",
   "metadata": {},
   "source": [
    "It looks fairly different, I'll try to use the numeber of words in these two vocabularies as a feature, let's see what comes out"
   ]
  }
 ],
 "metadata": {
  "kernelspec": {
   "display_name": "Python 3",
   "language": "python",
   "name": "python3"
  },
  "language_info": {
   "codemirror_mode": {
    "name": "ipython",
    "version": 3
   },
   "file_extension": ".py",
   "mimetype": "text/x-python",
   "name": "python",
   "nbconvert_exporter": "python",
   "pygments_lexer": "ipython3",
   "version": "3.6.3"
  }
 },
 "nbformat": 4,
 "nbformat_minor": 2
}
