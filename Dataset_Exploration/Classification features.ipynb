{
 "cells": [
  {
   "cell_type": "code",
   "execution_count": 3,
   "metadata": {},
   "outputs": [],
   "source": [
    "%matplotlib inline\n",
    "\n",
    "import matplotlib\n",
    "import matplotlib.pyplot as plt\n",
    "import pandas as pd\n",
    "import numpy as np\n",
    "import datetime\n",
    "from sklearn.feature_extraction.text import CountVectorizer\n",
    "import re\n",
    "import urllib3\n",
    "import urllib3.request\n",
    "import cv2\n",
    "#import pytesseract\n",
    "from PIL import Image\n",
    "import os\n",
    "import sys\n",
    "from sklearn.metrics import confusion_matrix\n",
    "import itertools"
   ]
  },
  {
   "cell_type": "markdown",
   "metadata": {},
   "source": [
    "# Average number of posts per day (different from total number present in accounts file, we only have one year of data)"
   ]
  },
  {
   "cell_type": "code",
   "execution_count": null,
   "metadata": {},
   "outputs": [
    {
     "name": "stderr",
     "output_type": "stream",
     "text": [
      "C:\\Users\\moren\\Anaconda3\\lib\\site-packages\\IPython\\core\\interactiveshell.py:2698: DtypeWarning: Columns (0) have mixed types. Specify dtype option on import or set low_memory=False.\n",
      "  interactivity=interactivity, compiler=compiler, result=result)\n",
      "C:\\Users\\moren\\Anaconda3\\lib\\site-packages\\IPython\\core\\interactiveshell.py:2698: DtypeWarning: Columns (0,1) have mixed types. Specify dtype option on import or set low_memory=False.\n",
      "  interactivity=interactivity, compiler=compiler, result=result)\n"
     ]
    }
   ],
   "source": [
    "brands = ['athenaprocopiou', 'daftcollectionofficial', 'dodobaror', 'emporiosirenuse', 'heidikleinswim',\n",
    "              'lisamariefernandez', 'loupcharmant', 'miguelinagambaccini', 'muzungusisters', 'zeusndione']\n",
    "\n",
    "columns = ['username', 'id_post', 'likes_count', 'comment_count', 'taken_at_timestamp']\n",
    "# reading posts data\n",
    "posts_data = pd.DataFrame(columns=columns)\n",
    "for brand in brands:\n",
    "    posts_data = posts_data.append(pd.read_csv(\n",
    "        '../EMPORIOSIRENUSE_20173012/' + brand + '/followers data/' + brand + '_followers_posts.csv',\n",
    "        usecols=columns))\n",
    "\n",
    "# posts data cleaning\n",
    "posts_data.drop_duplicates(subset='id_post', inplace=True)\n",
    "posts_data[['likes_count', 'comment_count']] = posts_data[['likes_count', 'comment_count']].apply(pd.to_numeric)"
   ]
  },
  {
   "cell_type": "code",
   "execution_count": null,
   "metadata": {},
   "outputs": [],
   "source": [
    "# aggregating posts data to get user features\n",
    "posts_count = posts_data.groupby(['username']).count()['id_post'].to_frame().reset_index()\n",
    "posts_count = posts_count.rename(index=str, columns={\"id_post\": \"posts_count\"})\n",
    "posts_count['avg_posts_per_day'] = posts_count['posts_count']/365\n",
    "print('Mean: ' + str(np.mean(posts_count['avg_posts_per_day'])))\n",
    "posts_count.head()"
   ]
  },
  {
   "cell_type": "code",
   "execution_count": 9,
   "metadata": {},
   "outputs": [
    {
     "data": {
      "text/plain": [
       "[<matplotlib.lines.Line2D at 0x22207678198>]"
      ]
     },
     "execution_count": 9,
     "metadata": {},
     "output_type": "execute_result"
    },
    {
     "data": {
      "image/png": "[encoded data removed]",
      "text/plain": [
       "<matplotlib.figure.Figure at 0x2223a8eeb70>"
      ]
     },
     "metadata": {},
     "output_type": "display_data"
    }
   ],
   "source": [
    "plt.figure()\n",
    "plt.xlabel('user')\n",
    "plt.ylabel('avg number of posts per day')\n",
    "ys = np.sort(posts_count['avg_posts_per_day'].as_matrix())\n",
    "plt.plot(ys)"
   ]
  },
  {
   "cell_type": "markdown",
   "metadata": {},
   "source": [
    "This is plot represents the number of posts of each user in the last year, divided by 365. They are in increasing order."
   ]
  },
  {
   "cell_type": "code",
   "execution_count": 13,
   "metadata": {},
   "outputs": [
    {
     "data": {
      "image/png": "[encoded data removed]",
      "text/plain": [
       "<matplotlib.figure.Figure at 0x2220a094b00>"
      ]
     },
     "metadata": {},
     "output_type": "display_data"
    }
   ],
   "source": [
    "num_bins = 10\n",
    "n, bins, patches = plt.hist(ys[np.where(ys<2)], num_bins, facecolor='blue', alpha=0.5)\n",
    "plt.show()"
   ]
  },
  {
   "cell_type": "markdown",
   "metadata": {},
   "source": [
    "In this histogram you can see the number of users posting between 0 and 2 posts per day. More than 2 is pretty much irrelevant."
   ]
  },
  {
   "cell_type": "code",
   "execution_count": 120,
   "metadata": {
    "scrolled": true
   },
   "outputs": [
    {
     "data": {
      "text/plain": [
       "array([ 13.97260274,  13.97260274,  13.97260274,  15.61643836,\n",
       "        15.64109589,  16.27671233,  16.91780822,  18.94520548,\n",
       "        23.72328767,  23.83561644,  24.10136986,  25.24931507,\n",
       "        27.24383562,  29.39726027,  42.74246575])"
      ]
     },
     "execution_count": 120,
     "metadata": {},
     "output_type": "execute_result"
    }
   ],
   "source": [
    "ys[-15:]"
   ]
  },
  {
   "cell_type": "code",
   "execution_count": 15,
   "metadata": {},
   "outputs": [
    {
     "data": {
      "text/plain": [
       "914       __trends__hunters__\n",
       "21169        chaneldiorgucci1\n",
       "21609             checkthetag\n",
       "24930       cowboyleathershop\n",
       "36295      fashion_dessert777\n",
       "40572              gigitropea\n",
       "59761        laqueen_official\n",
       "61062         lediamantnoir_d\n",
       "75606                 mimi9er\n",
       "79401       mustafayilmaz4399\n",
       "82251     niallhoran_blessed1\n",
       "115850              vox_shoes\n",
       "Name: username, dtype: object"
      ]
     },
     "execution_count": 15,
     "metadata": {},
     "output_type": "execute_result"
    }
   ],
   "source": [
    "posts_count.iloc[np.where(posts_count['avg_posts_per_day'].as_matrix() > 15)]['username']"
   ]
  },
  {
   "cell_type": "markdown",
   "metadata": {},
   "source": [
    "# Total number of posts per hour"
   ]
  },
  {
   "cell_type": "code",
   "execution_count": null,
   "metadata": {
    "collapsed": true
   },
   "outputs": [],
   "source": [
    "def gen_hour_from_timestamp(timestamp):\n",
    "    return datetime.datetime.fromtimestamp(int(timestamp)).hour"
   ]
  },
  {
   "cell_type": "code",
   "execution_count": null,
   "metadata": {},
   "outputs": [],
   "source": [
    "posts_data['taken_at_timestamp'].head().apply(gen_hour_from_timestamp)"
   ]
  },
  {
   "cell_type": "code",
   "execution_count": null,
   "metadata": {},
   "outputs": [],
   "source": [
    "posting_hour = posts_data['taken_at_timestamp'].dropna()\n",
    "posting_hour = posting_hour.apply(gen_hour_from_timestamp)\n",
    "posting_hour = posting_hour.as_matrix()"
   ]
  },
  {
   "cell_type": "code",
   "execution_count": 19,
   "metadata": {},
   "outputs": [
    {
     "data": {
      "text/plain": [
       "[<matplotlib.lines.Line2D at 0x2226dead630>]"
      ]
     },
     "execution_count": 19,
     "metadata": {},
     "output_type": "execute_result"
    },
    {
     "data": {
      "image/png": "[encoded data removed]",
      "text/plain": [
       "<matplotlib.figure.Figure at 0x22263e6c828>"
      ]
     },
     "metadata": {},
     "output_type": "display_data"
    }
   ],
   "source": [
    "plt.figure()\n",
    "unique, counts = np.unique(posting_hour, return_counts=True)\n",
    "plt.plot(unique, counts)"
   ]
  },
  {
   "cell_type": "code",
   "execution_count": 20,
   "metadata": {},
   "outputs": [
    {
     "data": {
      "image/png": "[encoded data removed]",
      "text/plain": [
       "<matplotlib.figure.Figure at 0x2221aeebc18>"
      ]
     },
     "metadata": {},
     "output_type": "display_data"
    }
   ],
   "source": [
    "plt.bar(unique, counts)\n",
    "plt.xticks(unique)\n",
    "plt.show()"
   ]
  },
  {
   "cell_type": "markdown",
   "metadata": {},
   "source": [
    "# Now let's repeat the same analisys for the 700 users in already classified"
   ]
  },
  {
   "cell_type": "code",
   "execution_count": null,
   "metadata": {
    "collapsed": true
   },
   "outputs": [],
   "source": [
    "def gen_posts_counts(posts_data):\n",
    "    posts_count = posts_data.groupby(['username']).count()['id_post'].to_frame().reset_index()\n",
    "    posts_count = posts_count.rename(index=str, columns={\"id_post\": \"posts_count\"})\n",
    "    posts_count['avg_posts_per_day'] = posts_count['posts_count']/365\n",
    "    print('Mean: ' + str(np.mean(posts_count['avg_posts_per_day'])))\n",
    "    return posts_count\n",
    "\n",
    "def gen_posting_hour(posts_data):\n",
    "    posting_hour = posts_data['taken_at_timestamp'].dropna()\n",
    "    posting_hour = posting_hour.apply(gen_hour_from_timestamp)\n",
    "    posting_hour = posting_hour.as_matrix()\n",
    "    return posting_hour"
   ]
  },
  {
   "cell_type": "code",
   "execution_count": null,
   "metadata": {},
   "outputs": [],
   "source": [
    "labels_data = pd.read_csv('../followers_classification/data/700 profiles for claissifier - second round.csv',\n",
    "                              delimiter=',',\n",
    "                              usecols=['username', 'consumer', 'retailer', 'others'])\n",
    "labels_data.head()"
   ]
  },
  {
   "cell_type": "code",
   "execution_count": null,
   "metadata": {},
   "outputs": [],
   "source": [
    "labels_posts_data = labels_data.merge(posts_data, on='username')\n",
    "print(labels_posts_data.shape)\n",
    "labels_posts_data.head()"
   ]
  },
  {
   "cell_type": "code",
   "execution_count": null,
   "metadata": {},
   "outputs": [],
   "source": [
    "posts_count = gen_posts_counts(labels_posts_data)\n",
    "posts_count.head()"
   ]
  },
  {
   "cell_type": "code",
   "execution_count": 37,
   "metadata": {},
   "outputs": [
    {
     "data": {
      "text/plain": [
       "[<matplotlib.lines.Line2D at 0x2220b2e1780>]"
      ]
     },
     "execution_count": 37,
     "metadata": {},
     "output_type": "execute_result"
    },
    {
     "data": {
      "image/png": "[encoded data removed]",
      "text/plain": [
       "<matplotlib.figure.Figure at 0x2226102b4e0>"
      ]
     },
     "metadata": {},
     "output_type": "display_data"
    }
   ],
   "source": [
    "plt.figure()\n",
    "ys = np.sort(posts_count['avg_posts_per_day'].as_matrix())\n",
    "plt.plot(ys)"
   ]
  },
  {
   "cell_type": "code",
   "execution_count": 39,
   "metadata": {},
   "outputs": [
    {
     "data": {
      "image/png": "[encoded data removed]",
      "text/plain": [
       "<matplotlib.figure.Figure at 0x2220a0585f8>"
      ]
     },
     "metadata": {},
     "output_type": "display_data"
    }
   ],
   "source": [
    "num_bins = 10\n",
    "n, bins, patches = plt.hist(ys[np.where(ys<2)], num_bins, facecolor='blue', alpha=0.5)\n",
    "plt.show()"
   ]
  },
  {
   "cell_type": "markdown",
   "metadata": {},
   "source": [
    "In this histogram you can see the number of classified users posting between 0 and 5 posts per day. More than 5 is pretty much irrelevant."
   ]
  },
  {
   "cell_type": "code",
   "execution_count": 40,
   "metadata": {
    "collapsed": true
   },
   "outputs": [],
   "source": [
    "posting_hour = gen_posting_hour(labels_posts_data)"
   ]
  },
  {
   "cell_type": "code",
   "execution_count": 41,
   "metadata": {},
   "outputs": [
    {
     "data": {
      "text/plain": [
       "[<matplotlib.lines.Line2D at 0x222707dc3c8>]"
      ]
     },
     "execution_count": 41,
     "metadata": {},
     "output_type": "execute_result"
    },
    {
     "data": {
      "image/png": "[encoded data removed]",
      "text/plain": [
       "<matplotlib.figure.Figure at 0x2220aba9f98>"
      ]
     },
     "metadata": {},
     "output_type": "display_data"
    }
   ],
   "source": [
    "plt.figure()\n",
    "posting_hour = np.sort(posting_hour)\n",
    "unique, counts = np.unique(posting_hour, return_counts=True)\n",
    "plt.plot(unique, counts)"
   ]
  },
  {
   "cell_type": "code",
   "execution_count": 42,
   "metadata": {},
   "outputs": [
    {
     "data": {
      "image/png": "[encoded data removed]",
      "text/plain": [
       "<matplotlib.figure.Figure at 0x2222c719898>"
      ]
     },
     "metadata": {},
     "output_type": "display_data"
    }
   ],
   "source": [
    "plt.bar(unique, counts)\n",
    "plt.xticks(unique)\n",
    "plt.show()"
   ]
  },
  {
   "cell_type": "markdown",
   "metadata": {},
   "source": [
    "Pretty similar behaviour, let's see if we can distinguish between the various classes"
   ]
  },
  {
   "cell_type": "markdown",
   "metadata": {},
   "source": [
    "# Let's perform the same analisys on consumers"
   ]
  },
  {
   "cell_type": "code",
   "execution_count": null,
   "metadata": {},
   "outputs": [],
   "source": [
    "consumers_posts_data = labels_data.query('consumer == 1').merge(posts_data, on='username')\n",
    "print(consumers_posts_data.shape)\n",
    "consumers_posts_data.head()"
   ]
  },
  {
   "cell_type": "code",
   "execution_count": null,
   "metadata": {},
   "outputs": [],
   "source": [
    "posts_count = gen_posts_counts(consumers_posts_data)\n",
    "posts_count.head()"
   ]
  },
  {
   "cell_type": "code",
   "execution_count": 11,
   "metadata": {},
   "outputs": [
    {
     "data": {
      "text/plain": [
       "[<matplotlib.lines.Line2D at 0x7fc3c5229128>]"
      ]
     },
     "execution_count": 11,
     "metadata": {},
     "output_type": "execute_result"
    },
    {
     "data": {
      "image/png": "[encoded data removed]",
      "text/plain": [
       "<Figure size 432x288 with 1 Axes>"
      ]
     },
     "metadata": {},
     "output_type": "display_data"
    }
   ],
   "source": [
    "plt.figure()\n",
    "ys = np.sort(posts_count['avg_posts_per_day'].as_matrix())\n",
    "plt.plot(ys)"
   ]
  },
  {
   "cell_type": "code",
   "execution_count": 12,
   "metadata": {},
   "outputs": [
    {
     "data": {
      "image/png": "[encoded data removed]",
      "text/plain": [
       "<Figure size 432x288 with 1 Axes>"
      ]
     },
     "metadata": {},
     "output_type": "display_data"
    }
   ],
   "source": [
    "num_bins = 10\n",
    "n, bins, patches = plt.hist(ys[np.where(ys<2)], num_bins, facecolor='blue', alpha=0.5)\n",
    "plt.show()"
   ]
  },
  {
   "cell_type": "markdown",
   "metadata": {},
   "source": [
    "In this histogram you can see the number of **consumers** posting between 0 and 2 posts per day. More than 2 is pretty much irrelevant."
   ]
  },
  {
   "cell_type": "code",
   "execution_count": 48,
   "metadata": {
    "collapsed": true
   },
   "outputs": [],
   "source": [
    "posting_hour = gen_posting_hour(consumers_posts_data)"
   ]
  },
  {
   "cell_type": "code",
   "execution_count": 49,
   "metadata": {},
   "outputs": [
    {
     "data": {
      "text/plain": [
       "[<matplotlib.lines.Line2D at 0x2221868fa90>]"
      ]
     },
     "execution_count": 49,
     "metadata": {},
     "output_type": "execute_result"
    },
    {
     "data": {
      "image/png": "[encoded data removed]",
      "text/plain": [
       "<matplotlib.figure.Figure at 0x2223fc3e358>"
      ]
     },
     "metadata": {},
     "output_type": "display_data"
    }
   ],
   "source": [
    "plt.figure()\n",
    "posting_hour = np.sort(posting_hour)\n",
    "unique, counts = np.unique(posting_hour, return_counts=True)\n",
    "plt.plot(unique, counts)"
   ]
  },
  {
   "cell_type": "code",
   "execution_count": 50,
   "metadata": {},
   "outputs": [
    {
     "data": {
      "image/png": "[encoded data removed]",
      "text/plain": [
       "<matplotlib.figure.Figure at 0x22214471a90>"
      ]
     },
     "metadata": {},
     "output_type": "display_data"
    }
   ],
   "source": [
    "plt.bar(unique, counts)\n",
    "plt.xticks(unique)\n",
    "plt.show()"
   ]
  },
  {
   "cell_type": "markdown",
   "metadata": {},
   "source": [
    "Again pretty similar behaviour, let's do retailers and others"
   ]
  },
  {
   "cell_type": "markdown",
   "metadata": {},
   "source": [
    "# Retailers and others"
   ]
  },
  {
   "cell_type": "code",
   "execution_count": 13,
   "metadata": {},
   "outputs": [
    {
     "name": "stdout",
     "output_type": "stream",
     "text": [
      "(39454, 8)\n"
     ]
    },
    {
     "data": {
      "text/html": [
       "<div>\n",
       "<style scoped>\n",
       "    .dataframe tbody tr th:only-of-type {\n",
       "        vertical-align: middle;\n",
       "    }\n",
       "\n",
       "    .dataframe tbody tr th {\n",
       "        vertical-align: top;\n",
       "    }\n",
       "\n",
       "    .dataframe thead th {\n",
       "        text-align: right;\n",
       "    }\n",
       "</style>\n",
       "<table border=\"1\" class=\"dataframe\">\n",
       "  <thead>\n",
       "    <tr style=\"text-align: right;\">\n",
       "      <th></th>\n",
       "      <th>username</th>\n",
       "      <th>consumer</th>\n",
       "      <th>retailer</th>\n",
       "      <th>others</th>\n",
       "      <th>comment_count</th>\n",
       "      <th>id_post</th>\n",
       "      <th>likes_count</th>\n",
       "      <th>taken_at_timestamp</th>\n",
       "    </tr>\n",
       "  </thead>\n",
       "  <tbody>\n",
       "    <tr>\n",
       "      <th>0</th>\n",
       "      <td>kenzaeyz</td>\n",
       "      <td>0</td>\n",
       "      <td>0</td>\n",
       "      <td>1</td>\n",
       "      <td>2.0</td>\n",
       "      <td>1641648220171943738</td>\n",
       "      <td>83.0</td>\n",
       "      <td>1509919739</td>\n",
       "    </tr>\n",
       "    <tr>\n",
       "      <th>1</th>\n",
       "      <td>kenzaeyz</td>\n",
       "      <td>0</td>\n",
       "      <td>0</td>\n",
       "      <td>1</td>\n",
       "      <td>0.0</td>\n",
       "      <td>1641634314024130306</td>\n",
       "      <td>73.0</td>\n",
       "      <td>1509918081</td>\n",
       "    </tr>\n",
       "    <tr>\n",
       "      <th>2</th>\n",
       "      <td>kenzaeyz</td>\n",
       "      <td>0</td>\n",
       "      <td>0</td>\n",
       "      <td>1</td>\n",
       "      <td>5.0</td>\n",
       "      <td>1639431058447466228</td>\n",
       "      <td>111.0</td>\n",
       "      <td>1509655501</td>\n",
       "    </tr>\n",
       "    <tr>\n",
       "      <th>3</th>\n",
       "      <td>kenzaeyz</td>\n",
       "      <td>0</td>\n",
       "      <td>0</td>\n",
       "      <td>1</td>\n",
       "      <td>5.0</td>\n",
       "      <td>1638406732034141588</td>\n",
       "      <td>96.0</td>\n",
       "      <td>1509533324</td>\n",
       "    </tr>\n",
       "    <tr>\n",
       "      <th>4</th>\n",
       "      <td>kenzaeyz</td>\n",
       "      <td>0</td>\n",
       "      <td>0</td>\n",
       "      <td>1</td>\n",
       "      <td>9.0</td>\n",
       "      <td>1637877093301824855</td>\n",
       "      <td>176.0</td>\n",
       "      <td>1509470186</td>\n",
       "    </tr>\n",
       "  </tbody>\n",
       "</table>\n",
       "</div>"
      ],
      "text/plain": [
       "   username  consumer  retailer  others  comment_count              id_post  \\\n",
       "0  kenzaeyz         0         0       1            2.0  1641648220171943738   \n",
       "1  kenzaeyz         0         0       1            0.0  1641634314024130306   \n",
       "2  kenzaeyz         0         0       1            5.0  1639431058447466228   \n",
       "3  kenzaeyz         0         0       1            5.0  1638406732034141588   \n",
       "4  kenzaeyz         0         0       1            9.0  1637877093301824855   \n",
       "\n",
       "   likes_count taken_at_timestamp  \n",
       "0         83.0         1509919739  \n",
       "1         73.0         1509918081  \n",
       "2        111.0         1509655501  \n",
       "3         96.0         1509533324  \n",
       "4        176.0         1509470186  "
      ]
     },
     "execution_count": 13,
     "metadata": {},
     "output_type": "execute_result"
    }
   ],
   "source": [
    "others_posts_data = labels_data.query('retailer == 1 or others == 1').merge(posts_data, on='username')\n",
    "print(others_posts_data.shape)\n",
    "others_posts_data.head()"
   ]
  },
  {
   "cell_type": "markdown",
   "metadata": {},
   "source": [
    "#### Interestingly enough, even though we have just around 150 users in \"others\" and \"retailer\", they have more posts than the consumers, maybe the number of posts is a pretty relevant feature"
   ]
  },
  {
   "cell_type": "code",
   "execution_count": 14,
   "metadata": {},
   "outputs": [
    {
     "name": "stdout",
     "output_type": "stream",
     "text": [
      "Mean: 0.9238730827771925\n"
     ]
    },
    {
     "data": {
      "text/html": [
       "<div>\n",
       "<style scoped>\n",
       "    .dataframe tbody tr th:only-of-type {\n",
       "        vertical-align: middle;\n",
       "    }\n",
       "\n",
       "    .dataframe tbody tr th {\n",
       "        vertical-align: top;\n",
       "    }\n",
       "\n",
       "    .dataframe thead th {\n",
       "        text-align: right;\n",
       "    }\n",
       "</style>\n",
       "<table border=\"1\" class=\"dataframe\">\n",
       "  <thead>\n",
       "    <tr style=\"text-align: right;\">\n",
       "      <th></th>\n",
       "      <th>username</th>\n",
       "      <th>posts_count</th>\n",
       "      <th>avg_posts_per_day</th>\n",
       "    </tr>\n",
       "  </thead>\n",
       "  <tbody>\n",
       "    <tr>\n",
       "      <th>0</th>\n",
       "      <td>25park</td>\n",
       "      <td>1924</td>\n",
       "      <td>5.271233</td>\n",
       "    </tr>\n",
       "    <tr>\n",
       "      <th>1</th>\n",
       "      <td>4u2by</td>\n",
       "      <td>29</td>\n",
       "      <td>0.079452</td>\n",
       "    </tr>\n",
       "    <tr>\n",
       "      <th>2</th>\n",
       "      <td>_louislesouefandco_</td>\n",
       "      <td>200</td>\n",
       "      <td>0.547945</td>\n",
       "    </tr>\n",
       "    <tr>\n",
       "      <th>3</th>\n",
       "      <td>_luluyesyes_</td>\n",
       "      <td>539</td>\n",
       "      <td>1.476712</td>\n",
       "    </tr>\n",
       "    <tr>\n",
       "      <th>4</th>\n",
       "      <td>abbeyclancyofficial</td>\n",
       "      <td>100</td>\n",
       "      <td>0.273973</td>\n",
       "    </tr>\n",
       "  </tbody>\n",
       "</table>\n",
       "</div>"
      ],
      "text/plain": [
       "              username  posts_count  avg_posts_per_day\n",
       "0               25park         1924           5.271233\n",
       "1                4u2by           29           0.079452\n",
       "2  _louislesouefandco_          200           0.547945\n",
       "3         _luluyesyes_          539           1.476712\n",
       "4  abbeyclancyofficial          100           0.273973"
      ]
     },
     "execution_count": 14,
     "metadata": {},
     "output_type": "execute_result"
    }
   ],
   "source": [
    "posts_count = gen_posts_counts(others_posts_data)\n",
    "posts_count.head()"
   ]
  },
  {
   "cell_type": "code",
   "execution_count": 15,
   "metadata": {},
   "outputs": [
    {
     "data": {
      "text/plain": [
       "[<matplotlib.lines.Line2D at 0x7fc3e2876978>]"
      ]
     },
     "execution_count": 15,
     "metadata": {},
     "output_type": "execute_result"
    },
    {
     "data": {
      "image/png": "[encoded data removed]",
      "text/plain": [
       "<Figure size 432x288 with 1 Axes>"
      ]
     },
     "metadata": {},
     "output_type": "display_data"
    }
   ],
   "source": [
    "plt.figure()\n",
    "ys = np.sort(posts_count['avg_posts_per_day'].as_matrix())\n",
    "plt.plot(ys)"
   ]
  },
  {
   "cell_type": "code",
   "execution_count": 55,
   "metadata": {},
   "outputs": [
    {
     "data": {
      "image/png": "[encoded data removed]",
      "text/plain": [
       "<matplotlib.figure.Figure at 0x2223a8eed30>"
      ]
     },
     "metadata": {},
     "output_type": "display_data"
    }
   ],
   "source": [
    "num_bins = 10\n",
    "n, bins, patches = plt.hist(ys[np.where(ys<5)], num_bins, facecolor='blue', alpha=0.5)\n",
    "plt.show()"
   ]
  },
  {
   "cell_type": "markdown",
   "metadata": {},
   "source": [
    "It looks like retailers and others tend to post more often than consumers! The scale of this histogram is different than before, the others had a maximum of 2 posts per day on the x axis, here 5 was chosen to better represent the distribution."
   ]
  },
  {
   "cell_type": "code",
   "execution_count": 56,
   "metadata": {
    "collapsed": true
   },
   "outputs": [],
   "source": [
    "posting_hour = gen_posting_hour(consumers_posts_data)"
   ]
  },
  {
   "cell_type": "code",
   "execution_count": 57,
   "metadata": {},
   "outputs": [
    {
     "data": {
      "text/plain": [
       "[<matplotlib.lines.Line2D at 0x2223904a160>]"
      ]
     },
     "execution_count": 57,
     "metadata": {},
     "output_type": "execute_result"
    },
    {
     "data": {
      "image/png": "[encoded data removed]",
      "text/plain": [
       "<matplotlib.figure.Figure at 0x22232902ba8>"
      ]
     },
     "metadata": {},
     "output_type": "display_data"
    }
   ],
   "source": [
    "plt.figure()\n",
    "unique, counts = np.unique(posting_hour, return_counts=True)\n",
    "plt.plot(unique, counts)"
   ]
  },
  {
   "cell_type": "code",
   "execution_count": 58,
   "metadata": {},
   "outputs": [
    {
     "data": {
      "image/png": "[encoded data removed]",
      "text/plain": [
       "<matplotlib.figure.Figure at 0x22270a1a828>"
      ]
     },
     "metadata": {},
     "output_type": "display_data"
    }
   ],
   "source": [
    "plt.bar(unique, counts)\n",
    "plt.xticks(unique)\n",
    "plt.show()"
   ]
  },
  {
   "cell_type": "markdown",
   "metadata": {
    "collapsed": true
   },
   "source": [
    "# Just retailers"
   ]
  },
  {
   "cell_type": "code",
   "execution_count": 16,
   "metadata": {},
   "outputs": [
    {
     "name": "stdout",
     "output_type": "stream",
     "text": [
      "(8011, 8)\n"
     ]
    },
    {
     "data": {
      "text/html": [
       "<div>\n",
       "<style scoped>\n",
       "    .dataframe tbody tr th:only-of-type {\n",
       "        vertical-align: middle;\n",
       "    }\n",
       "\n",
       "    .dataframe tbody tr th {\n",
       "        vertical-align: top;\n",
       "    }\n",
       "\n",
       "    .dataframe thead th {\n",
       "        text-align: right;\n",
       "    }\n",
       "</style>\n",
       "<table border=\"1\" class=\"dataframe\">\n",
       "  <thead>\n",
       "    <tr style=\"text-align: right;\">\n",
       "      <th></th>\n",
       "      <th>username</th>\n",
       "      <th>consumer</th>\n",
       "      <th>retailer</th>\n",
       "      <th>others</th>\n",
       "      <th>comment_count</th>\n",
       "      <th>id_post</th>\n",
       "      <th>likes_count</th>\n",
       "      <th>taken_at_timestamp</th>\n",
       "    </tr>\n",
       "  </thead>\n",
       "  <tbody>\n",
       "    <tr>\n",
       "      <th>0</th>\n",
       "      <td>tamarlandau_tml</td>\n",
       "      <td>0</td>\n",
       "      <td>1</td>\n",
       "      <td>0</td>\n",
       "      <td>1.0</td>\n",
       "      <td>1644802635617603488</td>\n",
       "      <td>26.0</td>\n",
       "      <td>1510295775</td>\n",
       "    </tr>\n",
       "    <tr>\n",
       "      <th>1</th>\n",
       "      <td>tamarlandau_tml</td>\n",
       "      <td>0</td>\n",
       "      <td>1</td>\n",
       "      <td>0</td>\n",
       "      <td>1.0</td>\n",
       "      <td>1644030760293638140</td>\n",
       "      <td>35.0</td>\n",
       "      <td>1510203760</td>\n",
       "    </tr>\n",
       "    <tr>\n",
       "      <th>2</th>\n",
       "      <td>tamarlandau_tml</td>\n",
       "      <td>0</td>\n",
       "      <td>1</td>\n",
       "      <td>0</td>\n",
       "      <td>0.0</td>\n",
       "      <td>1643345719183902785</td>\n",
       "      <td>29.0</td>\n",
       "      <td>1510122097</td>\n",
       "    </tr>\n",
       "    <tr>\n",
       "      <th>3</th>\n",
       "      <td>tamarlandau_tml</td>\n",
       "      <td>0</td>\n",
       "      <td>1</td>\n",
       "      <td>0</td>\n",
       "      <td>7.0</td>\n",
       "      <td>1642588797325300378</td>\n",
       "      <td>59.0</td>\n",
       "      <td>1510031865</td>\n",
       "    </tr>\n",
       "    <tr>\n",
       "      <th>4</th>\n",
       "      <td>tamarlandau_tml</td>\n",
       "      <td>0</td>\n",
       "      <td>1</td>\n",
       "      <td>0</td>\n",
       "      <td>2.0</td>\n",
       "      <td>1641852923281312928</td>\n",
       "      <td>33.0</td>\n",
       "      <td>1509944142</td>\n",
       "    </tr>\n",
       "  </tbody>\n",
       "</table>\n",
       "</div>"
      ],
      "text/plain": [
       "          username  consumer  retailer  others  comment_count  \\\n",
       "0  tamarlandau_tml         0         1       0            1.0   \n",
       "1  tamarlandau_tml         0         1       0            1.0   \n",
       "2  tamarlandau_tml         0         1       0            0.0   \n",
       "3  tamarlandau_tml         0         1       0            7.0   \n",
       "4  tamarlandau_tml         0         1       0            2.0   \n",
       "\n",
       "               id_post  likes_count taken_at_timestamp  \n",
       "0  1644802635617603488         26.0         1510295775  \n",
       "1  1644030760293638140         35.0         1510203760  \n",
       "2  1643345719183902785         29.0         1510122097  \n",
       "3  1642588797325300378         59.0         1510031865  \n",
       "4  1641852923281312928         33.0         1509944142  "
      ]
     },
     "execution_count": 16,
     "metadata": {},
     "output_type": "execute_result"
    }
   ],
   "source": [
    "retailers_posts_data = labels_data.query('retailer == 1').merge(posts_data, on='username')\n",
    "print(retailers_posts_data.shape)\n",
    "retailers_posts_data.head()"
   ]
  },
  {
   "cell_type": "code",
   "execution_count": 17,
   "metadata": {},
   "outputs": [
    {
     "name": "stdout",
     "output_type": "stream",
     "text": [
      "Mean: 1.0973972602739726\n"
     ]
    },
    {
     "data": {
      "text/html": [
       "<div>\n",
       "<style scoped>\n",
       "    .dataframe tbody tr th:only-of-type {\n",
       "        vertical-align: middle;\n",
       "    }\n",
       "\n",
       "    .dataframe tbody tr th {\n",
       "        vertical-align: top;\n",
       "    }\n",
       "\n",
       "    .dataframe thead th {\n",
       "        text-align: right;\n",
       "    }\n",
       "</style>\n",
       "<table border=\"1\" class=\"dataframe\">\n",
       "  <thead>\n",
       "    <tr style=\"text-align: right;\">\n",
       "      <th></th>\n",
       "      <th>username</th>\n",
       "      <th>posts_count</th>\n",
       "      <th>avg_posts_per_day</th>\n",
       "    </tr>\n",
       "  </thead>\n",
       "  <tbody>\n",
       "    <tr>\n",
       "      <th>0</th>\n",
       "      <td>aranaz_dxb</td>\n",
       "      <td>260</td>\n",
       "      <td>0.712329</td>\n",
       "    </tr>\n",
       "    <tr>\n",
       "      <th>1</th>\n",
       "      <td>cabanashow</td>\n",
       "      <td>97</td>\n",
       "      <td>0.265753</td>\n",
       "    </tr>\n",
       "    <tr>\n",
       "      <th>2</th>\n",
       "      <td>claretshowroom</td>\n",
       "      <td>572</td>\n",
       "      <td>1.567123</td>\n",
       "    </tr>\n",
       "    <tr>\n",
       "      <th>3</th>\n",
       "      <td>ekaterinipietri</td>\n",
       "      <td>182</td>\n",
       "      <td>0.498630</td>\n",
       "    </tr>\n",
       "    <tr>\n",
       "      <th>4</th>\n",
       "      <td>fashionbank_online</td>\n",
       "      <td>310</td>\n",
       "      <td>0.849315</td>\n",
       "    </tr>\n",
       "  </tbody>\n",
       "</table>\n",
       "</div>"
      ],
      "text/plain": [
       "             username  posts_count  avg_posts_per_day\n",
       "0          aranaz_dxb          260           0.712329\n",
       "1          cabanashow           97           0.265753\n",
       "2      claretshowroom          572           1.567123\n",
       "3     ekaterinipietri          182           0.498630\n",
       "4  fashionbank_online          310           0.849315"
      ]
     },
     "execution_count": 17,
     "metadata": {},
     "output_type": "execute_result"
    }
   ],
   "source": [
    "# aggregating posts data to get user features\n",
    "posts_count = gen_posts_counts(retailers_posts_data)\n",
    "posts_count.head()"
   ]
  },
  {
   "cell_type": "code",
   "execution_count": 62,
   "metadata": {},
   "outputs": [
    {
     "data": {
      "text/plain": [
       "[<matplotlib.lines.Line2D at 0x2220f0478d0>]"
      ]
     },
     "execution_count": 62,
     "metadata": {},
     "output_type": "execute_result"
    },
    {
     "data": {
      "image/png": "[encoded data removed]",
      "text/plain": [
       "<matplotlib.figure.Figure at 0x2220d988cc0>"
      ]
     },
     "metadata": {},
     "output_type": "display_data"
    }
   ],
   "source": [
    "plt.figure()\n",
    "ys = np.sort(posts_count['avg_posts_per_day'].as_matrix())\n",
    "plt.plot(ys)"
   ]
  },
  {
   "cell_type": "code",
   "execution_count": 63,
   "metadata": {
    "collapsed": true
   },
   "outputs": [],
   "source": [
    "posting_hour = gen_posting_hour(retailers_posts_data)"
   ]
  },
  {
   "cell_type": "code",
   "execution_count": 64,
   "metadata": {},
   "outputs": [
    {
     "data": {
      "text/plain": [
       "[<matplotlib.lines.Line2D at 0x2225b3289e8>]"
      ]
     },
     "execution_count": 64,
     "metadata": {},
     "output_type": "execute_result"
    },
    {
     "data": {
      "image/png": "[encoded data removed]",
      "text/plain": [
       "<matplotlib.figure.Figure at 0x22260fa70b8>"
      ]
     },
     "metadata": {},
     "output_type": "display_data"
    }
   ],
   "source": [
    "plt.figure()\n",
    "unique, counts = np.unique(posting_hour, return_counts=True)\n",
    "plt.plot(unique, counts)"
   ]
  },
  {
   "cell_type": "code",
   "execution_count": 65,
   "metadata": {},
   "outputs": [
    {
     "data": {
      "image/png": "[encoded data removed]",
      "text/plain": [
       "<matplotlib.figure.Figure at 0x222371a9278>"
      ]
     },
     "metadata": {},
     "output_type": "display_data"
    }
   ],
   "source": [
    "plt.bar(unique, counts)\n",
    "plt.xticks(unique)\n",
    "plt.show()"
   ]
  },
  {
   "cell_type": "markdown",
   "metadata": {},
   "source": [
    "# Lets look for a common language in the bios of retailers and others"
   ]
  },
  {
   "cell_type": "code",
   "execution_count": 8,
   "metadata": {
    "collapsed": true
   },
   "outputs": [],
   "source": [
    "def clean_bios(bio):\n",
    "    bio = bio.replace('\\\\x', '<')\n",
    "    bio = bio.replace('\\\\n', '')\n",
    "    bio = bio.replace('\\\\r', '')\n",
    "    bio = bio.replace('\\\\', '')\n",
    "    bio = bio.replace('b\\'', '')\n",
    "    #this last one removes emojis\n",
    "    bio = re.sub('<\\w\\w', '', bio)\n",
    "    return bio"
   ]
  },
  {
   "cell_type": "code",
   "execution_count": 9,
   "metadata": {},
   "outputs": [
    {
     "data": {
      "text/html": [
       "<div>\n",
       "<style scoped>\n",
       "    .dataframe tbody tr th:only-of-type {\n",
       "        vertical-align: middle;\n",
       "    }\n",
       "\n",
       "    .dataframe tbody tr th {\n",
       "        vertical-align: top;\n",
       "    }\n",
       "\n",
       "    .dataframe thead th {\n",
       "        text-align: right;\n",
       "    }\n",
       "</style>\n",
       "<table border=\"1\" class=\"dataframe\">\n",
       "  <thead>\n",
       "    <tr style=\"text-align: right;\">\n",
       "      <th></th>\n",
       "      <th>id_user</th>\n",
       "      <th>username</th>\n",
       "      <th>profile_pic_url</th>\n",
       "      <th>followers_count</th>\n",
       "      <th>following_count</th>\n",
       "      <th>num_posts</th>\n",
       "      <th>biography</th>\n",
       "      <th>isPrivate</th>\n",
       "      <th>ff_ratio</th>\n",
       "    </tr>\n",
       "  </thead>\n",
       "  <tbody>\n",
       "    <tr>\n",
       "      <th>0</th>\n",
       "      <td>9659</td>\n",
       "      <td>k8therine</td>\n",
       "      <td>https://scontent-mxp1-1.cdninstagram.com/t51.2...</td>\n",
       "      <td>255</td>\n",
       "      <td>729</td>\n",
       "      <td>37</td>\n",
       "      <td>n c h a n t   enchnte'</td>\n",
       "      <td>True</td>\n",
       "      <td>0.349794</td>\n",
       "    </tr>\n",
       "    <tr>\n",
       "      <th>1</th>\n",
       "      <td>75438</td>\n",
       "      <td>ivvyhu</td>\n",
       "      <td>https://scontent-mxp1-1.cdninstagram.com/t51.2...</td>\n",
       "      <td>977</td>\n",
       "      <td>920</td>\n",
       "      <td>1186</td>\n",
       "      <td>'</td>\n",
       "      <td>True</td>\n",
       "      <td>1.061957</td>\n",
       "    </tr>\n",
       "    <tr>\n",
       "      <th>2</th>\n",
       "      <td>96713</td>\n",
       "      <td>theplimmer</td>\n",
       "      <td>https://scontent-mxp1-1.cdninstagram.com/t51.2...</td>\n",
       "      <td>480</td>\n",
       "      <td>913</td>\n",
       "      <td>1152</td>\n",
       "      <td>I like to see people laugh'</td>\n",
       "      <td>False</td>\n",
       "      <td>0.525739</td>\n",
       "    </tr>\n",
       "    <tr>\n",
       "      <th>3</th>\n",
       "      <td>99784</td>\n",
       "      <td>jaceq</td>\n",
       "      <td>https://scontent-mxp1-1.cdninstagram.com/t51.2...</td>\n",
       "      <td>38</td>\n",
       "      <td>695</td>\n",
       "      <td>5</td>\n",
       "      <td>BIO_PLACEHOLDER</td>\n",
       "      <td>True</td>\n",
       "      <td>0.054676</td>\n",
       "    </tr>\n",
       "    <tr>\n",
       "      <th>5</th>\n",
       "      <td>123581</td>\n",
       "      <td>abigailhofbauer</td>\n",
       "      <td>https://scontent-mxp1-1.cdninstagram.com/t51.2...</td>\n",
       "      <td>1438</td>\n",
       "      <td>1475</td>\n",
       "      <td>967</td>\n",
       "      <td>BIO_PLACEHOLDER</td>\n",
       "      <td>False</td>\n",
       "      <td>0.974915</td>\n",
       "    </tr>\n",
       "  </tbody>\n",
       "</table>\n",
       "</div>"
      ],
      "text/plain": [
       "   id_user         username  \\\n",
       "0     9659        k8therine   \n",
       "1    75438           ivvyhu   \n",
       "2    96713       theplimmer   \n",
       "3    99784            jaceq   \n",
       "5   123581  abigailhofbauer   \n",
       "\n",
       "                                     profile_pic_url  followers_count  \\\n",
       "0  https://scontent-mxp1-1.cdninstagram.com/t51.2...              255   \n",
       "1  https://scontent-mxp1-1.cdninstagram.com/t51.2...              977   \n",
       "2  https://scontent-mxp1-1.cdninstagram.com/t51.2...              480   \n",
       "3  https://scontent-mxp1-1.cdninstagram.com/t51.2...               38   \n",
       "5  https://scontent-mxp1-1.cdninstagram.com/t51.2...             1438   \n",
       "\n",
       "   following_count  num_posts                    biography  isPrivate  \\\n",
       "0              729         37       n c h a n t   enchnte'       True   \n",
       "1              920       1186                            '       True   \n",
       "2              913       1152  I like to see people laugh'      False   \n",
       "3              695          5              BIO_PLACEHOLDER       True   \n",
       "5             1475        967              BIO_PLACEHOLDER      False   \n",
       "\n",
       "   ff_ratio  \n",
       "0  0.349794  \n",
       "1  1.061957  \n",
       "2  0.525739  \n",
       "3  0.054676  \n",
       "5  0.974915  "
      ]
     },
     "execution_count": 9,
     "metadata": {},
     "output_type": "execute_result"
    }
   ],
   "source": [
    "brands = ['athenaprocopiou', 'daftcollectionofficial', 'dodobaror', 'emporiosirenuse', 'heidikleinswim',\n",
    "              'lisamariefernandez', 'loupcharmant', 'miguelinagambaccini', 'muzungusisters', 'zeusndione']\n",
    "# reading posts data\n",
    "followers_data = pd.DataFrame()\n",
    "for brand in brands:\n",
    "    followers_data = followers_data.append(pd.read_csv(\n",
    "        '../EMPORIOSIRENUSE_20173012/' + brand + '/followers data/' + brand + '_followers_accounts.csv'))\n",
    "followers_data['biography'] = followers_data['biography'].fillna('BIO_PLACEHOLDER')\n",
    "followers_data['biography'] = followers_data['biography'].apply(clean_bios)\n",
    "followers_data[['followers_count', 'following_count']] = followers_data[['followers_count', 'following_count']].apply(pd.to_numeric)\n",
    "followers_data.drop_duplicates(subset='username', inplace=True, keep='last')\n",
    "followers_data['ff_ratio'] = followers_data['followers_count']\n",
    "#followers_data['ff_ratio'] = followers_data['ff_ratio'].div((followers_data.following_count + 100), axis=0)\n",
    "followers_data['ff_ratio'] = followers_data['ff_ratio'].div((followers_data.following_count), axis=0)\n",
    "followers_data.head()\n"
   ]
  },
  {
   "cell_type": "code",
   "execution_count": 10,
   "metadata": {},
   "outputs": [
    {
     "data": {
      "text/html": [
       "<div>\n",
       "<style scoped>\n",
       "    .dataframe tbody tr th:only-of-type {\n",
       "        vertical-align: middle;\n",
       "    }\n",
       "\n",
       "    .dataframe tbody tr th {\n",
       "        vertical-align: top;\n",
       "    }\n",
       "\n",
       "    .dataframe thead th {\n",
       "        text-align: right;\n",
       "    }\n",
       "</style>\n",
       "<table border=\"1\" class=\"dataframe\">\n",
       "  <thead>\n",
       "    <tr style=\"text-align: right;\">\n",
       "      <th></th>\n",
       "      <th>username</th>\n",
       "      <th>consumer</th>\n",
       "      <th>retailer</th>\n",
       "      <th>others</th>\n",
       "      <th>id_user</th>\n",
       "      <th>profile_pic_url</th>\n",
       "      <th>followers_count</th>\n",
       "      <th>following_count</th>\n",
       "      <th>num_posts</th>\n",
       "      <th>biography</th>\n",
       "      <th>isPrivate</th>\n",
       "      <th>ff_ratio</th>\n",
       "    </tr>\n",
       "  </thead>\n",
       "  <tbody>\n",
       "    <tr>\n",
       "      <th>0</th>\n",
       "      <td>kenzaeyz</td>\n",
       "      <td>0</td>\n",
       "      <td>0</td>\n",
       "      <td>1</td>\n",
       "      <td>2241410686</td>\n",
       "      <td>https://scontent-mxp1-1.cdninstagram.com/t51.2...</td>\n",
       "      <td>1838</td>\n",
       "      <td>3069</td>\n",
       "      <td>735</td>\n",
       "      <td>International Communications &amp; MarketingP.R. A...</td>\n",
       "      <td>False</td>\n",
       "      <td>0.598892</td>\n",
       "    </tr>\n",
       "    <tr>\n",
       "      <th>1</th>\n",
       "      <td>aleorland</td>\n",
       "      <td>0</td>\n",
       "      <td>0</td>\n",
       "      <td>1</td>\n",
       "      <td>204891155</td>\n",
       "      <td>https://instagram.fprg2-1.fna.fbcdn.net/t51.28...</td>\n",
       "      <td>36735</td>\n",
       "      <td>890</td>\n",
       "      <td>1645</td>\n",
       "      <td>alejandra.amoros@gmail.com'</td>\n",
       "      <td>False</td>\n",
       "      <td>41.275281</td>\n",
       "    </tr>\n",
       "    <tr>\n",
       "      <th>2</th>\n",
       "      <td>thegreedysprout</td>\n",
       "      <td>0</td>\n",
       "      <td>0</td>\n",
       "      <td>1</td>\n",
       "      <td>928853515</td>\n",
       "      <td>https://scontent-sin6-1.cdninstagram.com/t51.2...</td>\n",
       "      <td>572</td>\n",
       "      <td>830</td>\n",
       "      <td>679</td>\n",
       "      <td>plants  all animals Vegan baking blogger Juni...</td>\n",
       "      <td>False</td>\n",
       "      <td>0.689157</td>\n",
       "    </tr>\n",
       "    <tr>\n",
       "      <th>3</th>\n",
       "      <td>thelouloves</td>\n",
       "      <td>0</td>\n",
       "      <td>0</td>\n",
       "      <td>1</td>\n",
       "      <td>2023642053</td>\n",
       "      <td>https://scontent-mxp1-1.cdninstagram.com/t51.2...</td>\n",
       "      <td>240</td>\n",
       "      <td>459</td>\n",
       "      <td>291</td>\n",
       "      <td>Brit  Blogger  32 Sydney | AUS asklouloves@gm...</td>\n",
       "      <td>False</td>\n",
       "      <td>0.522876</td>\n",
       "    </tr>\n",
       "    <tr>\n",
       "      <th>4</th>\n",
       "      <td>thewearnecessities</td>\n",
       "      <td>0</td>\n",
       "      <td>0</td>\n",
       "      <td>1</td>\n",
       "      <td>2241307019</td>\n",
       "      <td>https://scontent-mxp1-1.cdninstagram.com/t51.2...</td>\n",
       "      <td>27121</td>\n",
       "      <td>2277</td>\n",
       "      <td>7441</td>\n",
       "      <td>My online scrapbook of all things fashion!! Fo...</td>\n",
       "      <td>False</td>\n",
       "      <td>11.910848</td>\n",
       "    </tr>\n",
       "  </tbody>\n",
       "</table>\n",
       "</div>"
      ],
      "text/plain": [
       "             username  consumer  retailer  others     id_user  \\\n",
       "0            kenzaeyz         0         0       1  2241410686   \n",
       "1           aleorland         0         0       1   204891155   \n",
       "2     thegreedysprout         0         0       1   928853515   \n",
       "3         thelouloves         0         0       1  2023642053   \n",
       "4  thewearnecessities         0         0       1  2241307019   \n",
       "\n",
       "                                     profile_pic_url  followers_count  \\\n",
       "0  https://scontent-mxp1-1.cdninstagram.com/t51.2...             1838   \n",
       "1  https://instagram.fprg2-1.fna.fbcdn.net/t51.28...            36735   \n",
       "2  https://scontent-sin6-1.cdninstagram.com/t51.2...              572   \n",
       "3  https://scontent-mxp1-1.cdninstagram.com/t51.2...              240   \n",
       "4  https://scontent-mxp1-1.cdninstagram.com/t51.2...            27121   \n",
       "\n",
       "   following_count  num_posts  \\\n",
       "0             3069        735   \n",
       "1              890       1645   \n",
       "2              830        679   \n",
       "3              459        291   \n",
       "4             2277       7441   \n",
       "\n",
       "                                           biography  isPrivate   ff_ratio  \n",
       "0  International Communications & MarketingP.R. A...      False   0.598892  \n",
       "1                        alejandra.amoros@gmail.com'      False  41.275281  \n",
       "2   plants  all animals Vegan baking blogger Juni...      False   0.689157  \n",
       "3   Brit  Blogger  32 Sydney | AUS asklouloves@gm...      False   0.522876  \n",
       "4  My online scrapbook of all things fashion!! Fo...      False  11.910848  "
      ]
     },
     "execution_count": 10,
     "metadata": {},
     "output_type": "execute_result"
    }
   ],
   "source": [
    "others_account_data = labels_data.query('retailer == 1 or others == 1').merge(followers_data, on='username')\n",
    "others_account_data.head()"
   ]
  },
  {
   "cell_type": "code",
   "execution_count": 11,
   "metadata": {
    "scrolled": true
   },
   "outputs": [
    {
     "data": {
      "text/plain": [
       "(146, 91)"
      ]
     },
     "execution_count": 11,
     "metadata": {},
     "output_type": "execute_result"
    }
   ],
   "source": [
    "vectorizer = CountVectorizer(min_df=3, stop_words=['and', 'or', 'before', 'a', 'an', 'the', 'bio', 'is', 'all', 'to', 'for', 'by', 'in', 'of', 'we', 'our', 'at'])\n",
    "x = vectorizer.fit_transform(others_account_data['biography'])\n",
    "reverse_voc = {y:x for x,y in vectorizer.vocabulary_.items()}\n",
    "x.shape"
   ]
  },
  {
   "cell_type": "code",
   "execution_count": 12,
   "metadata": {
    "scrolled": true
   },
   "outputs": [
    {
     "data": {
      "text/plain": [
       "['com',\n",
       " 'fashion',\n",
       " 'shop',\n",
       " 'with',\n",
       " 'de',\n",
       " 'gmail',\n",
       " 'new',\n",
       " 'info',\n",
       " 'shipping',\n",
       " 'online',\n",
       " 'jewelry',\n",
       " 'bio_placeholder',\n",
       " 'from',\n",
       " 'luxury',\n",
       " 'us',\n",
       " 'world',\n",
       " 'brand',\n",
       " 'handmade',\n",
       " 'inspired',\n",
       " 'beautiful',\n",
       " 'design',\n",
       " 'on',\n",
       " 'la',\n",
       " 'worldwide',\n",
       " 'york',\n",
       " 'modern',\n",
       " 'official',\n",
       " 'london',\n",
       " 'love',\n",
       " 'out',\n",
       " 'your',\n",
       " 'global',\n",
       " 'spain',\n",
       " 'store',\n",
       " 'best',\n",
       " 'beauty',\n",
       " 'women',\n",
       " 'www',\n",
       " 'email',\n",
       " 'http',\n",
       " 'lover',\n",
       " 'designers',\n",
       " 'city',\n",
       " 'boutique',\n",
       " 'jewellery',\n",
       " 'accessories',\n",
       " 'lifestyle',\n",
       " 'made',\n",
       " 'style',\n",
       " 'what',\n",
       " 'madrid',\n",
       " 'that',\n",
       " 'quality',\n",
       " 'pr',\n",
       " 'only',\n",
       " 'now',\n",
       " 'via',\n",
       " 'my',\n",
       " 'vogue',\n",
       " 'based',\n",
       " 'curated',\n",
       " 'art',\n",
       " 'up',\n",
       " 'agency',\n",
       " 'blog',\n",
       " 'bohemian',\n",
       " 'unique',\n",
       " 'things',\n",
       " 'account',\n",
       " 'wholesale',\n",
       " 'clothing',\n",
       " 'sydney',\n",
       " 'you',\n",
       " 'swimwear',\n",
       " 'swim',\n",
       " 'magazine',\n",
       " 'label',\n",
       " 'make',\n",
       " 'kids',\n",
       " 'me',\n",
       " 'it',\n",
       " 'insider',\n",
       " 'pieces',\n",
       " 'handcrafted',\n",
       " 'retail',\n",
       " 'sales',\n",
       " 'shoes',\n",
       " 'sisters',\n",
       " 'dm',\n",
       " 'designer',\n",
       " '16']"
      ]
     },
     "execution_count": 12,
     "metadata": {},
     "output_type": "execute_result"
    }
   ],
   "source": [
    "counts = np.squeeze(np.asarray(x.sum(axis=0)))\n",
    "sorted_idx = np.flip(np.argsort(counts), axis=0)\n",
    "names = [reverse_voc[idx] for idx in sorted_idx]\n",
    "names"
   ]
  },
  {
   "cell_type": "code",
   "execution_count": 13,
   "metadata": {},
   "outputs": [
    {
     "data": {
      "image/png": "[encoded data removed]",
      "text/plain": [
       "<Figure size 432x288 with 1 Axes>"
      ]
     },
     "metadata": {},
     "output_type": "display_data"
    }
   ],
   "source": [
    "ind = range(15)\n",
    "plt.bar(ind, counts[sorted_idx[:15]])\n",
    "plt.xticks(rotation=70)\n",
    "plt.xticks(ind, names[:15])\n",
    "plt.show()"
   ]
  },
  {
   "cell_type": "markdown",
   "metadata": {},
   "source": [
    "These are the most used words in the bios of retailers and others. Let's now see how different it is wrt consumers ones"
   ]
  },
  {
   "cell_type": "code",
   "execution_count": 14,
   "metadata": {},
   "outputs": [
    {
     "data": {
      "text/html": [
       "<div>\n",
       "<style scoped>\n",
       "    .dataframe tbody tr th:only-of-type {\n",
       "        vertical-align: middle;\n",
       "    }\n",
       "\n",
       "    .dataframe tbody tr th {\n",
       "        vertical-align: top;\n",
       "    }\n",
       "\n",
       "    .dataframe thead th {\n",
       "        text-align: right;\n",
       "    }\n",
       "</style>\n",
       "<table border=\"1\" class=\"dataframe\">\n",
       "  <thead>\n",
       "    <tr style=\"text-align: right;\">\n",
       "      <th></th>\n",
       "      <th>username</th>\n",
       "      <th>consumer</th>\n",
       "      <th>retailer</th>\n",
       "      <th>others</th>\n",
       "      <th>id_user</th>\n",
       "      <th>profile_pic_url</th>\n",
       "      <th>followers_count</th>\n",
       "      <th>following_count</th>\n",
       "      <th>num_posts</th>\n",
       "      <th>biography</th>\n",
       "      <th>isPrivate</th>\n",
       "      <th>ff_ratio</th>\n",
       "    </tr>\n",
       "  </thead>\n",
       "  <tbody>\n",
       "    <tr>\n",
       "      <th>0</th>\n",
       "      <td>nixhus</td>\n",
       "      <td>1</td>\n",
       "      <td>0</td>\n",
       "      <td>0</td>\n",
       "      <td>255110106</td>\n",
       "      <td>https://scontent-mxp1-1.cdninstagram.com/t51.2...</td>\n",
       "      <td>150</td>\n",
       "      <td>339</td>\n",
       "      <td>691</td>\n",
       "      <td>BIO_PLACEHOLDER</td>\n",
       "      <td>True</td>\n",
       "      <td>0.442478</td>\n",
       "    </tr>\n",
       "    <tr>\n",
       "      <th>1</th>\n",
       "      <td>steph_davies</td>\n",
       "      <td>1</td>\n",
       "      <td>0</td>\n",
       "      <td>0</td>\n",
       "      <td>36203661</td>\n",
       "      <td>https://scontent-sin6-1.cdninstagram.com/t51.2...</td>\n",
       "      <td>432</td>\n",
       "      <td>1312</td>\n",
       "      <td>537</td>\n",
       "      <td>Liverpool | 23'</td>\n",
       "      <td>True</td>\n",
       "      <td>0.329268</td>\n",
       "    </tr>\n",
       "    <tr>\n",
       "      <th>2</th>\n",
       "      <td>gloriavp</td>\n",
       "      <td>1</td>\n",
       "      <td>0</td>\n",
       "      <td>0</td>\n",
       "      <td>2319070</td>\n",
       "      <td>https://scontent-hkg3-1.cdninstagram.com/t51.2...</td>\n",
       "      <td>1857</td>\n",
       "      <td>2678</td>\n",
       "      <td>1242</td>\n",
       "      <td>Fashion Designer who loves lifestyle, homedeco...</td>\n",
       "      <td>False</td>\n",
       "      <td>0.693428</td>\n",
       "    </tr>\n",
       "    <tr>\n",
       "      <th>3</th>\n",
       "      <td>theajacinto</td>\n",
       "      <td>1</td>\n",
       "      <td>0</td>\n",
       "      <td>0</td>\n",
       "      <td>8956425</td>\n",
       "      <td>https://scontent-sin6-1.cdninstagram.com/t51.2...</td>\n",
       "      <td>764</td>\n",
       "      <td>1667</td>\n",
       "      <td>366</td>\n",
       "      <td>the official Andy and Alfie fan page'</td>\n",
       "      <td>True</td>\n",
       "      <td>0.458308</td>\n",
       "    </tr>\n",
       "    <tr>\n",
       "      <th>4</th>\n",
       "      <td>artbydevwoo</td>\n",
       "      <td>1</td>\n",
       "      <td>0</td>\n",
       "      <td>0</td>\n",
       "      <td>14255411</td>\n",
       "      <td>https://instagram.fprg2-1.fna.fbcdn.net/t51.28...</td>\n",
       "      <td>888</td>\n",
       "      <td>2552</td>\n",
       "      <td>91</td>\n",
       "      <td>BIO_PLACEHOLDER</td>\n",
       "      <td>True</td>\n",
       "      <td>0.347962</td>\n",
       "    </tr>\n",
       "  </tbody>\n",
       "</table>\n",
       "</div>"
      ],
      "text/plain": [
       "       username  consumer  retailer  others    id_user  \\\n",
       "0        nixhus         1         0       0  255110106   \n",
       "1  steph_davies         1         0       0   36203661   \n",
       "2      gloriavp         1         0       0    2319070   \n",
       "3   theajacinto         1         0       0    8956425   \n",
       "4   artbydevwoo         1         0       0   14255411   \n",
       "\n",
       "                                     profile_pic_url  followers_count  \\\n",
       "0  https://scontent-mxp1-1.cdninstagram.com/t51.2...              150   \n",
       "1  https://scontent-sin6-1.cdninstagram.com/t51.2...              432   \n",
       "2  https://scontent-hkg3-1.cdninstagram.com/t51.2...             1857   \n",
       "3  https://scontent-sin6-1.cdninstagram.com/t51.2...              764   \n",
       "4  https://instagram.fprg2-1.fna.fbcdn.net/t51.28...              888   \n",
       "\n",
       "   following_count  num_posts  \\\n",
       "0              339        691   \n",
       "1             1312        537   \n",
       "2             2678       1242   \n",
       "3             1667        366   \n",
       "4             2552         91   \n",
       "\n",
       "                                           biography  isPrivate  ff_ratio  \n",
       "0                                    BIO_PLACEHOLDER       True  0.442478  \n",
       "1                                    Liverpool | 23'       True  0.329268  \n",
       "2  Fashion Designer who loves lifestyle, homedeco...      False  0.693428  \n",
       "3              the official Andy and Alfie fan page'       True  0.458308  \n",
       "4                                    BIO_PLACEHOLDER       True  0.347962  "
      ]
     },
     "execution_count": 14,
     "metadata": {},
     "output_type": "execute_result"
    }
   ],
   "source": [
    "consumers_account_data = labels_data.query('consumer == 1').merge(followers_data, on='username')\n",
    "consumers_account_data.head()"
   ]
  },
  {
   "cell_type": "code",
   "execution_count": 15,
   "metadata": {
    "collapsed": true
   },
   "outputs": [],
   "source": [
    "vectorizer = CountVectorizer(min_df=3, stop_words=['and', 'or', 'before', 'a', 'an', 'the', 'bio', 'is', 'all', 'to', 'for', 'by', 'in', 'of', 'we', 'our', 'at', 'my', 'be', 'bio_placeholder'])\n",
    "x = vectorizer.fit_transform(consumers_account_data['biography'])\n",
    "reverse_voc = {y:x for x,y in vectorizer.vocabulary_.items()}"
   ]
  },
  {
   "cell_type": "code",
   "execution_count": 16,
   "metadata": {},
   "outputs": [
    {
     "data": {
      "text/plain": [
       "['fashion',\n",
       " 'com',\n",
       " 'life',\n",
       " 'love',\n",
       " 'me',\n",
       " 'director',\n",
       " 'designer',\n",
       " 'london',\n",
       " 'founder',\n",
       " 'gmail',\n",
       " 'with',\n",
       " 'creative',\n",
       " 'lover',\n",
       " 'travel',\n",
       " 'stylist',\n",
       " 'you',\n",
       " 'de',\n",
       " 'follow',\n",
       " 'make',\n",
       " 'your',\n",
       " 'time',\n",
       " 'family',\n",
       " 'interior',\n",
       " 'it',\n",
       " 'from',\n",
       " 'lifestyle',\n",
       " 'mother',\n",
       " 'design',\n",
       " 'are',\n",
       " 'food',\n",
       " 'living',\n",
       " 'good',\n",
       " 'music',\n",
       " 'art',\n",
       " 'artist',\n",
       " 'world',\n",
       " 'co',\n",
       " 'on',\n",
       " 'have',\n",
       " 'fun',\n",
       " 'pictures',\n",
       " 'style',\n",
       " 'things',\n",
       " 'twitter',\n",
       " 'everything',\n",
       " 'one',\n",
       " 'friends',\n",
       " 'may',\n",
       " 'blog',\n",
       " 'model',\n",
       " 'more',\n",
       " 'mum',\n",
       " 'mummy',\n",
       " 'buyer',\n",
       " 'based',\n",
       " 'consultant',\n",
       " 'do',\n",
       " 'fitness',\n",
       " 'writer',\n",
       " 'always',\n",
       " 'snapchat',\n",
       " 'born',\n",
       " '16',\n",
       " 'll',\n",
       " 'new',\n",
       " 'manager',\n",
       " 'photos',\n",
       " 'magazine',\n",
       " 'nyc',\n",
       " 'live',\n",
       " 'la',\n",
       " 'no',\n",
       " 'miami',\n",
       " 'blogger',\n",
       " 'coffee',\n",
       " 'ceo',\n",
       " 'made',\n",
       " 'loving',\n",
       " 'brand',\n",
       " 'marketing',\n",
       " 'shop',\n",
       " 'bitch',\n",
       " 'best',\n",
       " 'day',\n",
       " 'beauty',\n",
       " 'mind',\n",
       " 'mommy',\n",
       " 'adventures',\n",
       " '22',\n",
       " 'wife',\n",
       " 'vintage',\n",
       " 'visual',\n",
       " 'instagram',\n",
       " 'info',\n",
       " 'hotmail',\n",
       " 'sharing',\n",
       " 'less',\n",
       " 'real',\n",
       " 'not',\n",
       " 'freelance',\n",
       " 'sun',\n",
       " 'paris',\n",
       " 'two',\n",
       " 'uk',\n",
       " 'own',\n",
       " 'every',\n",
       " 'email',\n",
       " 'editor',\n",
       " 'dress',\n",
       " 'only',\n",
       " 'unique',\n",
       " 'up',\n",
       " 'now']"
      ]
     },
     "execution_count": 16,
     "metadata": {},
     "output_type": "execute_result"
    }
   ],
   "source": [
    "counts = np.squeeze(np.asarray(x.sum(axis=0)))\n",
    "sorted_idx = np.flip(np.argsort(np.squeeze(np.asarray(x.sum(axis=0)))), axis=0)\n",
    "names = [reverse_voc[idx] for idx in sorted_idx]\n",
    "names"
   ]
  },
  {
   "cell_type": "code",
   "execution_count": 17,
   "metadata": {},
   "outputs": [
    {
     "data": {
      "image/png": "[encoded data removed]",
      "text/plain": [
       "<Figure size 432x288 with 1 Axes>"
      ]
     },
     "metadata": {},
     "output_type": "display_data"
    }
   ],
   "source": [
    "ind = range(15)\n",
    "plt.bar(ind, counts[sorted_idx[:15]])\n",
    "plt.xticks(rotation=70)\n",
    "plt.xticks(ind, names[:15])\n",
    "plt.show()"
   ]
  },
  {
   "cell_type": "markdown",
   "metadata": {},
   "source": [
    "It looks fairly different, I'll try to use the numeber of words in these two vocabularies as a feature, let's see what comes out"
   ]
  },
  {
   "cell_type": "markdown",
   "metadata": {},
   "source": [
    "# Followers to following ratio"
   ]
  },
  {
   "cell_type": "markdown",
   "metadata": {},
   "source": [
    "### Consumers"
   ]
  },
  {
   "cell_type": "code",
   "execution_count": 18,
   "metadata": {},
   "outputs": [
    {
     "name": "stdout",
     "output_type": "stream",
     "text": [
      "avg value:4.03492038631112\n"
     ]
    },
    {
     "data": {
      "image/png": "[encoded data removed]",
      "text/plain": [
       "<Figure size 432x288 with 1 Axes>"
      ]
     },
     "metadata": {},
     "output_type": "display_data"
    }
   ],
   "source": [
    "plt.figure()\n",
    "ys = np.sort(consumers_account_data['ff_ratio'].as_matrix())\n",
    "plt.plot(ys)\n",
    "print('avg value:' + str(np.mean(ys)))"
   ]
  },
  {
   "cell_type": "code",
   "execution_count": 19,
   "metadata": {},
   "outputs": [
    {
     "name": "stdout",
     "output_type": "stream",
     "text": [
      "avg value:24.23064823069782\n"
     ]
    },
    {
     "data": {
      "image/png": "[encoded data removed]",
      "text/plain": [
       "<Figure size 432x288 with 1 Axes>"
      ]
     },
     "metadata": {},
     "output_type": "display_data"
    }
   ],
   "source": [
    "plt.figure()\n",
    "ys = np.sort(others_account_data['ff_ratio'].as_matrix())\n",
    "plt.plot(ys)\n",
    "print('avg value:' + str(np.mean(ys)))"
   ]
  },
  {
   "cell_type": "markdown",
   "metadata": {},
   "source": [
    "# Profile pics"
   ]
  },
  {
   "cell_type": "code",
   "execution_count": 130,
   "metadata": {
    "collapsed": true
   },
   "outputs": [],
   "source": [
    "def download_pic(username, url, path):\n",
    "    try:\n",
    "        urllib.request.urlretrieve(url, '../followers_classification/data/profile_pics/' + path + '/' + username + '.jpg')\n",
    "        print(username + ': ' + url)\n",
    "    except (urllib.error.HTTPError, urllib.error.URLError)  as err:\n",
    "        print(username + ' not found at ' + url)"
   ]
  },
  {
   "cell_type": "code",
   "execution_count": null,
   "metadata": {},
   "outputs": [
    {
     "name": "stdout",
     "output_type": "stream",
     "text": [
      "nixhus: https://scontent-mxp1-1.cdninstagram.com/t51.2885-19/10809579_1546172805639557_1849636847_a.jpg\n",
      "steph_davies not found at https://scontent-sin6-1.cdninstagram.com/t51.2885-19/s150x150/22794528_1303136496480298_4915779667308314624_n.jpg\n",
      "gloriavp: https://scontent-hkg3-1.cdninstagram.com/t51.2885-19/s150x150/16906865_1893687914211421_1161988949367848960_a.jpg\n",
      "theajacinto: https://scontent-sin6-1.cdninstagram.com/t51.2885-19/s150x150/11333373_1613570272265702_175963099_a.jpg\n",
      "artbydevwoo: https://instagram.fprg2-1.fna.fbcdn.net/t51.2885-19/11377878_1610239649253313_1689300543_a.jpg\n",
      "ndeosrnenney: https://scontent-iad3-1.cdninstagram.com/t51.2885-19/10895473_1510159419208895_541429301_a.jpg\n",
      "dies_martis: https://scontent-mxp1-1.cdninstagram.com/t51.2885-19/s150x150/12327970_1682833782003161_869984426_a.jpg\n",
      "itssara_sh not found at https://scontent-sjc2-1.cdninstagram.com/t51.2885-19/s150x150/13534404_1794208610865782_933390386_a.jpg\n",
      "kaitjordmitch: https://scontent-mxp1-1.cdninstagram.com/t51.2885-19/s150x150/15802337_1716537331991812_8637302940199026688_a.jpg\n",
      "contextowen: https://scontent-mxp1-1.cdninstagram.com/t51.2885-19/10848409_691833620913906_1703360130_a.jpg\n",
      "yardenadiv not found at https://instagram.fprg2-1.fna.fbcdn.net/t51.2885-19/s150x150/23416552_1850096945282652_4981992343432331264_n.jpg\n",
      "brian_and_the_veg: https://scontent-hkg3-1.cdninstagram.com/t51.2885-19/s150x150/14488296_191253641308930_997063424972161024_a.jpg\n",
      "osuhaurray not found at https://scontent-sjc2-1.cdninstagram.com/t51.2885-19/10864758_1511845832430775_813853690_a.jpg\n",
      "gus1247tavo: https://scontent-sea1-1.cdninstagram.com/t51.2885-19/11356759_1605168719743465_1374767871_a.jpg\n",
      "mmettiuller: https://instagram.fprg2-1.fna.fbcdn.net/t51.2885-19/10832259_624418214350415_1214328858_a.jpg\n",
      "theiconic not found at https://scontent-iad3-1.cdninstagram.com/t51.2885-19/s150x150/22351828_1865028726847782_2105342764626477056_n.jpg\n",
      "marinafucic not found at https://scontent-mxp1-1.cdninstagram.com/t51.2885-19/s150x150/22793795_126981407932485_597607985857953792_n.jpg\n",
      "vaobertsd: https://instagram.fprg2-1.fna.fbcdn.net/t51.2885-19/10864970_1513880418878236_311949590_a.jpg\n",
      "thekat4: https://instagram.fsaw1-9.fna.fbcdn.net/t51.2885-19/11906329_960233084022564_1448528159_a.jpg\n",
      "laura2pomme: https://scontent-sea1-1.cdninstagram.com/t51.2885-19/s150x150/13704264_434235520097182_257424785_a.jpg\n",
      "edg_and_art: https://scontent-mxp1-1.cdninstagram.com/t51.2885-19/s150x150/14145517_1079732635413270_1297047371_a.jpg\n",
      "mmaeunluonz: https://scontent-iad3-1.cdninstagram.com/t51.2885-19/10882025_1575977142617172_1609183951_a.jpg\n",
      "jenniferkstack: https://scontent-hkg3-1.cdninstagram.com/t51.2885-19/11313755_516514605190761_72057682_a.jpg\n",
      "michelledauber: https://instagram.fprg2-1.fna.fbcdn.net/t51.2885-19/s150x150/15803363_387725034906745_3342207472298360832_n.jpg\n",
      "robadhamshi not found at https://instagram.fprg2-1.fna.fbcdn.net/t51.2885-19/s150x150/20686429_1395108390603647_1048166547882770432_a.jpg\n",
      "sivan_amelard not found at https://instagram.fprg2-1.fna.fbcdn.net/t51.2885-19/s150x150/23101166_889553267875212_421158733494616064_n.jpg\n",
      "natasharooney7: https://scontent-sin6-1.cdninstagram.com/t51.2885-19/s150x150/13694588_581680798668571_561050839_a.jpg\n",
      "nastia_luv not found at https://scontent-iad3-1.cdninstagram.com/t51.2885-19/s150x150/21688877_1969534123327347_8177441019449573376_n.jpg\n",
      "sharonroitman: https://scontent-sin6-1.cdninstagram.com/t51.2885-19/11376532_1795753893984270_1110963592_a.jpg\n",
      "zmengmengmengmeng: https://scontent-sin6-1.cdninstagram.com/t51.2885-19/s150x150/12530710_1672391713018524_1557256758_a.jpg\n",
      "etharshfield: https://scontent-iad3-1.cdninstagram.com/t51.2885-19/11325111_101570536863677_671104980_a.jpg\n",
      "linorcohena: https://instagram.fprg2-1.fna.fbcdn.net/t51.2885-19/11820692_1480651912245054_457239131_a.jpg\n",
      "federicasu: https://scontent-hkg3-1.cdninstagram.com/t51.2885-19/s150x150/22221027_539798839702916_1845538522149158912_n.jpg\n",
      "tcols85: https://scontent-mxp1-1.cdninstagram.com/t51.2885-19/s150x150/13734481_1258962687478036_1089405240_a.jpg\n",
      "twinchristina not found at https://scontent-mxp1-1.cdninstagram.com/t51.2885-19/s150x150/21577239_1894598590557055_8156227467305025536_a.jpg\n",
      "froufroubonbon not found at https://scontent-sin6-1.cdninstagram.com/t51.2885-19/s150x150/16123271_179836229161162_4812715067978022912_a.jpg\n",
      "lhallali: https://instagram.fprg2-1.fna.fbcdn.net/t51.2885-19/10731605_431721923691521_1514542115_a.jpg\n",
      "ygng_interior_design: https://instagram.fprg2-1.fna.fbcdn.net/t51.2885-19/s150x150/20686424_1599420286768829_5491824318885134336_a.jpg\n",
      "andreagirola: https://scontent-hkg3-1.cdninstagram.com/t51.2885-19/s150x150/11246082_955609914503749_2061428456_a.jpg\n",
      "karendriscoll not found at https://scontent-mxp1-1.cdninstagram.com/t51.2885-19/s150x150/14052623_1840856452811488_6016797896597307392_a.jpg\n",
      "michelle0107h not found at https://scontent-sjc2-1.cdninstagram.com/t51.2885-19/s150x150/15624495_1169662459813379_3135738666278715392_a.jpg\n",
      "alsuwailems not found at https://scontent-sjc2-1.cdninstagram.com/t51.2885-19/s150x150/20905600_148699995713101_2768333729121173504_a.jpg\n",
      "croweaters: https://scontent-iad3-1.cdninstagram.com/t51.2885-19/10784958_549972838469650_1254384979_a.jpg\n",
      "elizabetta_r: https://scontent-mxp1-1.cdninstagram.com/t51.2885-19/s150x150/13269365_585115918323400_1354025660_a.jpg\n",
      "carmitgur: https://instagram.fprg2-1.fna.fbcdn.net/t51.2885-19/10963935_730609443713658_2058868999_a.jpg\n",
      "jlbmom4: https://scontent-iad3-1.cdninstagram.com/t51.2885-19/11375816_1017107548313390_1693138199_a.jpg\n",
      "christ.sosan: https://scontent-mxp1-1.cdninstagram.com/t51.2885-19/s150x150/21224936_1675316945813328_2237103436325715968_a.jpg\n",
      "___brookeb___: https://scontent-sin6-1.cdninstagram.com/t51.2885-19/10513716_894225933926373_1670691400_a.jpg\n",
      "laurenmccreery: https://scontent-iad3-1.cdninstagram.com/t51.2885-19/10362082_1530099967210777_1671533942_a.jpg\n",
      "andallowodin: https://scontent-iad3-1.cdninstagram.com/t51.2885-19/10832235_1551681891715144_454457904_a.jpg\n",
      "musedellove: https://scontent-iad3-1.cdninstagram.com/t51.2885-19/928947_1635628103316180_573469485_a.jpg\n",
      "p_mhb: https://scontent-sin6-1.cdninstagram.com/t51.2885-19/s150x150/14624294_140566746422392_4651818703942320128_a.jpg\n",
      "lunasea6632: https://scontent-mxp1-1.cdninstagram.com/t51.2885-19/s150x150/18160282_247653368974674_7122299032361238528_a.jpg\n",
      "ofe_b88: https://scontent-arn2-1.cdninstagram.com/t51.2885-19/11906329_960233084022564_1448528159_a.jpg\n",
      "bbeyodgres: https://scontent-iad3-1.cdninstagram.com/t51.2885-19/10544299_402420796594592_1268555869_a.jpg\n",
      "miroucheka: https://scontent-sin6-1.cdninstagram.com/t51.2885-19/s150x150/22710526_1911138072235913_442700305176461312_n.jpg\n",
      "meireehrensperger: https://scontent-mxp1-1.cdninstagram.com/t51.2885-19/s150x150/22071319_315490595527856_2864091480979406848_n.jpg\n",
      "adenylnatchelor: https://scontent-iad3-1.cdninstagram.com/t51.2885-19/927739_1434400546849817_712171991_a.jpg\n",
      "mschreder37: https://scontent-sin6-1.cdninstagram.com/t51.2885-19/11258018_589778847828994_1776155266_a.jpg\n",
      "despoina_b: https://scontent-mxp1-1.cdninstagram.com/t51.2885-19/s150x150/21820119_677203742485568_8841317795179266048_n.jpg\n",
      "puddinggems: https://scontent-hkg3-1.cdninstagram.com/t51.2885-19/11055530_1427979680848161_1347369267_a.jpg\n",
      "xo.edi7238 not found at https://scontent-mxp1-1.cdninstagram.com/t51.2885-19/s150x150/22580695_2270479906541599_6019595608229150720_n.jpg\n",
      "la_luna14: https://scontent-hkg3-1.cdninstagram.com/t51.2885-19/11899728_1632747117010732_1905468850_a.jpg\n",
      "jeskfir: https://instagram.fprg2-1.fna.fbcdn.net/t51.2885-19/11875491_403224806551713_704995355_a.jpg\n",
      "suzy258 not found at https://scontent-iad3-1.cdninstagram.com/t51.2885-19/s150x150/22427191_124568668207509_5387388035849519104_n.jpg\n",
      "atrinaeathx: https://instagram.fprg2-1.fna.fbcdn.net/t51.2885-19/10865195_1569864283230332_805421661_a.jpg\n",
      "amiewoakes: https://scontent-sin6-1.cdninstagram.com/t51.2885-19/s150x150/17595954_1301069176645432_7137511840883408896_a.jpg\n",
      "eaquiroga: https://scontent-hkg3-1.cdninstagram.com/t51.2885-19/s150x150/13658473_319570861709410_1908956285_a.jpg\n",
      "bukie_makeup: https://instagram.fprg2-1.fna.fbcdn.net/t51.2885-19/11821901_713146048816882_899523612_a.jpg\n"
     ]
    },
    {
     "name": "stdout",
     "output_type": "stream",
     "text": [
      "bepivalerio: https://scontent-sea1-1.cdninstagram.com/t51.2885-19/11008225_1567070186867261_2110460855_a.jpg\n",
      "giusi_zarra: https://scontent-mxp1-1.cdninstagram.com/t51.2885-19/s150x150/18580495_1379743192102467_8045089403200077824_a.jpg\n",
      "rachelingram14: https://scontent-hkg3-1.cdninstagram.com/t51.2885-19/s150x150/21434215_822381324595421_7382515454260019200_a.jpg\n",
      "oremasylson: https://instagram.fprg2-1.fna.fbcdn.net/t51.2885-19/10832171_315821531940834_1078383916_a.jpg\n",
      "ronyizhar: https://instagram.fprg2-1.fna.fbcdn.net/t51.2885-19/s150x150/11426662_433374790203604_1005162613_a.jpg\n",
      "get_itwhileucan: https://scontent-iad3-1.cdninstagram.com/t51.2885-19/s150x150/18513280_1673556436286997_2076354810575060992_a.jpg\n",
      "batelbider2420: https://instagram.fprg2-1.fna.fbcdn.net/t51.2885-19/s150x150/13584022_1763638503907793_629588656_a.jpg\n",
      "artworld_problems: https://scontent-mxp1-1.cdninstagram.com/t51.2885-19/s150x150/12237402_1636661509950436_48261048_a.jpg\n",
      "ritacolomba not found at https://scontent-hkg3-1.cdninstagram.com/t51.2885-19/s150x150/21576382_488066944903873_6435693457204838400_a.jpg\n",
      "irenedemetriou: https://scontent-mxp1-1.cdninstagram.com/t51.2885-19/s150x150/17333858_1276941149061881_1560735431115407360_a.jpg\n",
      "don_irene: https://scontent-iad3-1.cdninstagram.com/t51.2885-19/10375498_443128882490923_1949801876_a.jpg\n",
      "mjazzaf: https://scontent-sin6-1.cdninstagram.com/t51.2885-19/s150x150/13584114_502285003313976_889750579_a.jpg\n",
      "nicolettadandrea: https://scontent-sit4-1.cdninstagram.com/t51.2885-19/10903579_1521079324839265_1590740469_a.jpg\n",
      "incereodegs: https://instagram.fprg2-1.fna.fbcdn.net/t51.2885-19/10864870_1506902339598724_1073549984_a.jpg\n",
      "annie_lnd: https://scontent-mxp1-1.cdninstagram.com/t51.2885-19/s150x150/17663762_1513044562062642_4003824446690295808_a.jpg\n",
      "jamiliaolmedo: https://scontent-mxp1-1.cdninstagram.com/t51.2885-19/11881821_1611302285785715_1107448485_a.jpg\n",
      "mimi_lanerv: https://scontent-mxp1-1.cdninstagram.com/t51.2885-19/10472008_291245834389676_1099813999_a.jpg\n",
      "reilcougalld: https://instagram.fprg2-1.fna.fbcdn.net/t51.2885-19/10848353_910860398947923_1720287751_a.jpg\n",
      "yriciekcy: https://instagram.fprg2-1.fna.fbcdn.net/t51.2885-19/10895159_413094168854192_1027618058_a.jpg\n",
      "brooklynlove: https://scontent-mxp1-1.cdninstagram.com/t51.2885-19/10903480_1529619830630371_1131734295_a.jpg\n",
      "fot11: https://scontent-mxp1-1.cdninstagram.com/t51.2885-19/s150x150/17494594_1808336926159815_6770572624209641472_a.jpg\n",
      "fliflo_m not found at https://scontent-iad3-1.cdninstagram.com/t51.2885-19/s150x150/17495252_788341144650983_5763953309320740864_a.jpg\n",
      "la_marmot: https://instagram.fprg2-1.fna.fbcdn.net/t51.2885-19/11363916_1486360941679364_1230538914_a.jpg\n",
      "libbystroyd: https://scontent-iad3-1.cdninstagram.com/t51.2885-19/s150x150/13277778_1740977716114418_1249472903_a.jpg\n",
      "ciavtoay: https://scontent-iad3-1.cdninstagram.com/t51.2885-19/10865255_376117769215330_1532612548_a.jpg\n",
      "breerenee: https://scontent-hkg3-1.cdninstagram.com/t51.2885-19/s150x150/17586922_1864018853851909_8594708473919307776_a.jpg\n",
      "gukchu not found at https://scontent-sin6-1.cdninstagram.com/t51.2885-19/s150x150/22070028_718396388354093_7776654814783471616_n.jpg\n",
      "yewonj1013 not found at https://scontent-iad3-1.cdninstagram.com/t51.2885-19/s150x150/20969106_113221172733194_3248565459984842752_a.jpg\n",
      "mairi_konstantinidi: https://scontent-mxp1-1.cdninstagram.com/t51.2885-19/11377609_826000417476133_370399281_a.jpg\n",
      "mamalicious2013: https://scontent-sin6-1.cdninstagram.com/t51.2885-19/s150x150/17267842_181462352359546_7892855399789887488_a.jpg\n",
      "manishaslva not found at https://scontent-iad3-1.cdninstagram.com/t51.2885-19/s150x150/23099426_955201981287465_2868547724297371648_n.jpg\n",
      "domishly: https://scontent-iad3-1.cdninstagram.com/t51.2885-19/13584012_541083822750229_422242658_a.jpg\n",
      "popiki: https://scontent-mxp1-1.cdninstagram.com/t51.2885-19/11906384_1657009844575549_1475873674_a.jpg\n",
      "ljh875627: https://scontent-sea1-1.cdninstagram.com/t51.2885-19/s150x150/10632414_1659897047584775_305929549_a.jpg\n",
      "merkbadboy not found at https://scontent-mxp1-1.cdninstagram.com/t51.2885-19/s150x150/23098608_182457865652617_4211736593649631232_n.jpg\n",
      "danny__ti: https://scontent-mxp1-1.cdninstagram.com/t51.2885-19/11376346_1628837070717684_494904803_a.jpg\n",
      "inkiebissell: https://scontent-sea1-1.cdninstagram.com/t51.2885-19/11821702_887700044643902_158492871_a.jpg\n",
      "dtziapoura: https://scontent-hkg3-1.cdninstagram.com/t51.2885-19/s150x150/22639092_132831614043631_9064206475919884288_n.jpg\n",
      "jaynaramello: https://scontent-sin6-1.cdninstagram.com/t51.2885-19/s150x150/19227480_114858839048245_6769004729218367488_a.jpg\n",
      "agleiyhentworth: https://scontent-iad3-1.cdninstagram.com/t51.2885-19/10860022_1536660316575849_1549400331_a.jpg\n",
      "aidengsilh: https://instagram.fprg2-1.fna.fbcdn.net/t51.2885-19/10891069_1577924515778605_1878311481_a.jpg\n",
      "cmastoras: https://scontent-mxp1-1.cdninstagram.com/t51.2885-19/11849225_1058661514159164_784870086_a.jpg\n",
      "cristopher_ale: https://scontent-sit4-1.cdninstagram.com/t51.2885-19/s150x150/20633747_1513858572009574_8806917074233327616_a.jpg\n",
      "roddenkara: https://scontent-iad3-1.cdninstagram.com/t51.2885-19/s150x150/18298989_971517809650148_4035644545126367232_a.jpg\n",
      "ainelavans: https://instagram.fprg2-1.fna.fbcdn.net/t51.2885-19/10838573_1529211984005648_888606503_a.jpg\n",
      "partiijhon: https://scontent-sin6-1.cdninstagram.com/t51.2885-19/s150x150/14063117_1215443291833642_204304775_a.jpg\n",
      "paulariccobono: https://scontent-mxp1-1.cdninstagram.com/t51.2885-19/s150x150/19761196_1968702340073451_2549654593072005120_n.jpg\n",
      "anlkey: https://scontent-iad3-1.cdninstagram.com/t51.2885-19/10864690_356754544504985_1014732313_a.jpg\n",
      "partypuff23 not found at https://scontent-sjc2-1.cdninstagram.com/t51.2885-19/s150x150/16110351_930380527096038_6214889570769567744_n.jpg\n",
      "charo_g_h: https://scontent-sin6-1.cdninstagram.com/t51.2885-19/s150x150/14269145_821409127995106_931011742_n.jpg\n",
      "recipelyse: https://scontent-iad3-1.cdninstagram.com/t51.2885-19/10832019_1545879275654928_965776630_a.jpg\n",
      "orynruz: https://scontent-iad3-1.cdninstagram.com/t51.2885-19/10853168_359625324219644_1398110330_a.jpg\n",
      "irminakim: https://scontent-mad1-1.cdninstagram.com/t51.2885-19/11906329_960233084022564_1448528159_a.jpg\n",
      "eva.p.c: https://scontent-sin6-1.cdninstagram.com/t51.2885-19/11419182_144912982512396_1738963674_a.jpg\n",
      "gozlan_abu_eltayeef: https://instagram.fprg2-1.fna.fbcdn.net/t51.2885-19/s150x150/23100935_165967433991455_6251346563143041024_n.jpg\n",
      "alejandraanglada not found at https://scontent-mxp1-1.cdninstagram.com/t51.2885-19/s150x150/22581954_312701519199152_7799181905366089728_n.jpg\n",
      "olanorrisu: https://scontent-mxp1-1.cdninstagram.com/t51.2885-19/925652_932733530074215_1684232569_a.jpg\n",
      "fufu_143: https://instagram.fprg2-1.fna.fbcdn.net/t51.2885-19/s150x150/12081127_1043287119038266_1587273283_a.jpg\n",
      "mikiiip not found at https://scontent-sin6-1.cdninstagram.com/t51.2885-19/s150x150/22277837_1517567341656717_2189709017675202560_n.jpg\n",
      "creative_ideas_designs not found at https://scontent-mxp1-1.cdninstagram.com/t51.2885-19/s150x150/13531947_505403779659735_925563837_a.jpg\n",
      "z.bern: https://scontent-sit4-1.cdninstagram.com/t51.2885-19/s150x150/22580358_1934910246758950_731368995625631744_n.jpg\n",
      "xizzzcake: https://scontent-hkg3-1.cdninstagram.com/t51.2885-19/11356906_1474164982880593_178127104_a.jpg\n",
      "annius7: https://scontent-hkg3-1.cdninstagram.com/t51.2885-19/11243535_382444431880077_375685516_a.jpg\n",
      "opougamoskaivaptisi: https://scontent-mxp1-1.cdninstagram.com/t51.2885-19/s150x150/16583993_378295022545243_794671586593472512_a.jpg\n",
      "obbyooghtun: https://scontent-iad3-1.cdninstagram.com/t51.2885-19/10593248_766774336711261_1485992782_a.jpg\n",
      "alotnrtega: https://instagram.fprg2-1.fna.fbcdn.net/t51.2885-19/10852785_748295435247023_360106476_a.jpg\n",
      "drikhalifeh: https://scontent-hkg3-1.cdninstagram.com/t51.2885-19/11910548_391166024423877_1817767715_a.jpg\n",
      "ouypaleerath not found at https://scontent-sjc2-1.cdninstagram.com/t51.2885-19/s150x150/23098994_1951557541763161_7057171969350828032_n.jpg\n",
      "gowdeyangilvwq: https://scontent-mxp1-1.cdninstagram.com/t51.2885-19/10903328_768677079868053_469327957_a.jpg\n",
      "slaouahneu: https://scontent-iad3-1.cdninstagram.com/t51.2885-19/10838538_791716350893439_1244846097_a.jpg\n"
     ]
    },
    {
     "name": "stdout",
     "output_type": "stream",
     "text": [
      "mmmsarap: https://scontent-iad3-1.cdninstagram.com/t51.2885-19/s150x150/14624827_1216846211687051_4052399895447863296_a.jpg\n",
      "nancykladixifita: https://scontent-mxp1-1.cdninstagram.com/t51.2885-19/s150x150/12317835_197644723911438_2060069793_a.jpg\n",
      "salmamerchantr: https://scontent-sin6-1.cdninstagram.com/t51.2885-19/11378160_734880639973654_221066189_a.jpg\n",
      "kate_hallett: https://instagram.fprg2-1.fna.fbcdn.net/t51.2885-19/s150x150/18160987_820450434775978_3290799642932936704_a.jpg\n",
      "miniblondie not found at https://scontent-sin6-1.cdninstagram.com/t51.2885-19/s150x150/22429567_533280367016727_3463302520430919680_n.jpg\n",
      "sandyluxury: https://scontent-mxp1-1.cdninstagram.com/t51.2885-19/s150x150/12822269_228825267467055_1229650788_a.jpg\n",
      "shniz1988: https://instagram.fprg2-1.fna.fbcdn.net/t51.2885-19/891384_895748567120447_372242471_a.jpg\n",
      "rockychristina: https://scontent-mxp1-1.cdninstagram.com/t51.2885-19/10890817_1596212293933315_2011664566_a.jpg\n",
      "maferdzv12: https://scontent-iad3-1.cdninstagram.com/t51.2885-19/s150x150/13734444_290405181328860_372335960_a.jpg\n",
      "tammymichelledean4261: https://scontent-iad3-1.cdninstagram.com/t51.2885-19/s150x150/18299282_124779564744915_5459007693547110400_a.jpg\n",
      "aggelikigiazitzi not found at https://scontent-mxp1-1.cdninstagram.com/t51.2885-19/s150x150/21227289_339404879864451_7081050699026399232_a.jpg\n",
      "ridgereviner not found at https://scontent-sjc2-1.cdninstagram.com/t51.2885-19/10859973_627365927369848_1058139493_a.jpg\n",
      "carlaroccha: https://scontent-sin6-1.cdninstagram.com/t51.2885-19/s150x150/20590110_250364562148745_2114726185836478464_a.jpg\n",
      "aliceattonita1: https://scontent-mxp1-1.cdninstagram.com/t51.2885-19/11363680_1480372828946066_420744011_a.jpg\n",
      "noy_elharar not found at https://instagram.fprg2-1.fna.fbcdn.net/t51.2885-19/s150x150/22500445_697639413757880_3046832173236617216_n.jpg\n",
      "sabinschepaulinsche: https://scontent-mxp1-1.cdninstagram.com/t51.2885-19/s150x150/18947774_252558998559612_6692677035745083392_a.jpg\n",
      "zalaaa7: https://scontent-arn2-1.cdninstagram.com/t51.2885-19/11906329_960233084022564_1448528159_a.jpg\n",
      "alyshiahaddon not found at https://scontent-sin6-1.cdninstagram.com/t51.2885-19/s150x150/20836989_109099149803470_4623949868044386304_a.jpg\n",
      "suzzz907: https://scontent-mxp1-1.cdninstagram.com/t51.2885-19/s150x150/11925632_907166539378316_1898656230_a.jpg\n",
      "myriam_brigui: https://scontent-hkg3-1.cdninstagram.com/t51.2885-19/s150x150/10844035_1136312766385080_643842002_a.jpg\n",
      "onnylyodr: https://instagram.fprg2-1.fna.fbcdn.net/t51.2885-19/10894969_995821423768095_2041445210_a.jpg\n",
      "marisolbattaglino not found at https://scontent-sit4-1.cdninstagram.com/t51.2885-19/s150x150/21147244_484588985244440_5862343798822010880_a.jpg\n",
      "rielgavidson: https://scontent-mxp1-1.cdninstagram.com/t51.2885-19/10865228_845988725445665_454085035_a.jpg\n",
      "adenanohey7: https://scontent-mxp1-1.cdninstagram.com/t51.2885-19/10899190_413662902124395_220318960_a.jpg\n",
      "nurlu1982: https://scontent-iad3-1.cdninstagram.com/t51.2885-19/s150x150/14073209_529993577194728_1759886217_n.jpg\n",
      "rbandrea not found at https://scontent-sin6-1.cdninstagram.com/t51.2885-19/s150x150/20986902_111231969608699_4942581440056393728_a.jpg\n",
      "meloditalvi: https://scontent-iad3-1.cdninstagram.com/t51.2885-19/11363967_735072583304779_469290607_a.jpg\n",
      "tal_mana: https://instagram.fprg2-1.fna.fbcdn.net/t51.2885-19/s150x150/15276544_912431452224676_7136279885349126144_a.jpg\n",
      "elisaparchis: https://scontent-hkg3-1.cdninstagram.com/t51.2885-19/11208556_1670058279881228_166672890_a.jpg\n",
      "irwb: https://scontent-mxp1-1.cdninstagram.com/t51.2885-19/11875523_1605736426353932_375201226_a.jpg\n",
      "alex.balakina not found at https://scontent-iad3-1.cdninstagram.com/t51.2885-19/s150x150/17663444_1840523089535616_3451329281186070528_a.jpg\n",
      "theedamkeenan: https://scontent-hkg3-1.cdninstagram.com/t51.2885-19/s150x150/21878824_273608883130804_1551409231754690560_n.jpg\n",
      "abelle1010: https://scontent-mxp1-1.cdninstagram.com/t51.2885-19/s150x150/15803237_1746464915681388_3504335521285406720_n.jpg\n",
      "uasnahnc: https://scontent-mxp1-1.cdninstagram.com/t51.2885-19/891480_1527541037521522_694051459_a.jpg\n",
      "umbertobullock: https://scontent-iad3-1.cdninstagram.com/t51.2885-19/10864729_1578444422388069_1438176460_a.jpg\n",
      "namaste_rd: https://scontent-mxp1-1.cdninstagram.com/t51.2885-19/11875355_1529952963963239_1191104364_a.jpg\n",
      "vickybayter1: https://scontent-hkg3-1.cdninstagram.com/t51.2885-19/s150x150/1737393_791622584317725_912921854_a.jpg\n",
      "post43: https://scontent-mxp1-1.cdninstagram.com/t51.2885-19/11374327_758267494295695_846456940_a.jpg\n",
      "daliatiber1: https://instagram.fprg2-1.fna.fbcdn.net/t51.2885-19/11351756_923916764314038_939524684_a.jpg\n",
      "remus306: https://scontent-iad3-1.cdninstagram.com/t51.2885-19/s150x150/21227444_524622657879824_2564428292727767040_a.jpg\n",
      "apparentarrett: https://instagram.fprg2-1.fna.fbcdn.net/t51.2885-19/10838706_753809408001705_393051177_a.jpg\n",
      "shelly_simantov: https://instagram.fprg2-1.fna.fbcdn.net/t51.2885-19/s150x150/22069408_163334134245808_9050291640874303488_n.jpg\n",
      "amitshaham91: https://instagram.fprg2-1.fna.fbcdn.net/t51.2885-19/11925712_1465844000408987_8501933_a.jpg\n",
      "megob516 not found at https://scontent-sin6-1.cdninstagram.com/t51.2885-19/s150x150/22429947_907766999404839_6066963703025106944_n.jpg\n",
      "catarinaarcher_: https://scontent-mxp1-1.cdninstagram.com/t51.2885-19/10808411_749398275139564_988917272_a.jpg\n",
      "kira_butcher not found at https://scontent-sin6-1.cdninstagram.com/t51.2885-19/s150x150/19764662_1611002455585196_2910001515982749696_a.jpg\n",
      "winnerobla: https://scontent-iad3-1.cdninstagram.com/t51.2885-19/s150x150/15802939_175354736277875_5628944340970635264_n.jpg\n",
      "myriambelleprincesse not found at https://scontent-mxp1-1.cdninstagram.com/t51.2885-19/s150x150/18579596_1855886611345382_4204218356477198336_a.jpg\n",
      "cloandthingsofficial: https://instagram.fprg2-1.fna.fbcdn.net/t51.2885-19/s150x150/17438121_273365496423520_7531876631355326464_a.jpg\n",
      "carlosmenco87 not found at https://scontent-sin6-1.cdninstagram.com/t51.2885-19/s150x150/21433387_1273212882789225_5835902700247580672_a.jpg\n",
      "guerreirohelen not found at https://scontent-sin6-1.cdninstagram.com/t51.2885-19/s150x150/22794246_303570013493215_8288081030556942336_n.jpg\n",
      "hiroko_tsurumi: https://scontent-mxp1-1.cdninstagram.com/t51.2885-19/s150x150/18644758_607065192832081_8535336701445275648_a.jpg\n",
      "artpanou not found at https://scontent-mxp1-1.cdninstagram.com/t51.2885-19/s150x150/21294623_1397521010297567_7632397540599529472_a.jpg\n",
      "ft__00: https://scontent-iad3-1.cdninstagram.com/t51.2885-19/10431972_1451537828430587_1997336862_a.jpg\n",
      "hayleymillerx: https://scontent-sit4-1.cdninstagram.com/t51.2885-19/11849076_523674174457328_2103253071_a.jpg\n",
      "amanda_rudken not found at https://scontent-sin6-1.cdninstagram.com/t51.2885-19/s150x150/13388754_479757262214378_1007361546_a.jpg\n",
      "marisabelger: https://scontent-mxp1-1.cdninstagram.com/t51.2885-19/12976119_1896496583909950_56401230_a.jpg\n",
      "jenna_nicole01 not found at https://scontent-mxp1-1.cdninstagram.com/t51.2885-19/s150x150/19121847_723754801159682_4376785280527499264_a.jpg\n",
      "lydia.vousvou: https://scontent-mxp1-1.cdninstagram.com/t51.2885-19/s150x150/20902527_1712125102430240_27643019402412032_a.jpg\n",
      "uincyrquhartf: https://scontent-iad3-1.cdninstagram.com/t51.2885-19/10268825_1522446621370505_955934635_a.jpg\n",
      "katepap2: https://scontent-mxp1-1.cdninstagram.com/t51.2885-19/s150x150/12237350_1702801206617903_1698537324_a.jpg\n",
      "samarjaafaridesigns: https://scontent-hkg3-1.cdninstagram.com/t51.2885-19/10958353_677935042316866_1855318742_a.jpg\n",
      "isabellaafp: https://instagram.fprg2-1.fna.fbcdn.net/t51.2885-19/s150x150/17663755_198123624022942_1013953108985774080_a.jpg\n",
      "lessandroaerrll: https://scontent-iad3-1.cdninstagram.com/t51.2885-19/10899109_928574587201158_3632239_a.jpg\n",
      "my_bikini_musthaves: https://scontent-sea1-1.cdninstagram.com/t51.2885-19/s150x150/12950257_654513201354538_443107841_a.jpg\n",
      "aulnhite: https://instagram.fprg2-1.fna.fbcdn.net/t51.2885-19/924070_726142500814648_1968428371_a.jpg\n",
      "levi_sagit not found at https://instagram.fprg2-1.fna.fbcdn.net/t51.2885-19/s150x150/20902425_1070143079788804_1889991317698641920_a.jpg\n",
      "di_mi_tra._: https://scontent-mxp1-1.cdninstagram.com/t51.2885-19/s150x150/22278107_1980520898881548_2351045439765086208_n.jpg\n"
     ]
    },
    {
     "name": "stdout",
     "output_type": "stream",
     "text": [
      "sunsulimanov not found at https://instagram.fprg2-1.fna.fbcdn.net/t51.2885-19/s150x150/22860313_224642424739228_4197430890810310656_n.jpg\n",
      "lulagogopro: https://scontent-mxp1-1.cdninstagram.com/t51.2885-19/s150x150/14719291_1705560629685786_5001851280071589888_a.jpg\n",
      "lannahowmanx: https://scontent-iad3-1.cdninstagram.com/t51.2885-19/10608137_515686398561406_1364348082_a.jpg\n",
      "assiraooper: https://instagram.fprg2-1.fna.fbcdn.net/t51.2885-19/10387949_335524976656150_1064046371_a.jpg\n",
      "aidenustinu: https://scontent-iad3-1.cdninstagram.com/t51.2885-19/10838351_1533783760194648_317569620_a.jpg\n",
      "eyesoulate: https://instagram.fprg2-1.fna.fbcdn.net/t51.2885-19/11015507_1555638831354797_839039485_a.jpg\n",
      "misosaid: https://scontent-mxp1-1.cdninstagram.com/t51.2885-19/s150x150/16583571_198006634010719_8402994705922523136_a.jpg\n",
      "earthloveschaos not found at https://scontent-mxp1-1.cdninstagram.com/t51.2885-19/s150x150/13739625_1048566715199230_1568577456_a.jpg\n",
      "nadinetteab: https://scontent-sin6-1.cdninstagram.com/t51.2885-19/s150x150/18380535_313696062384204_2460767272763916288_a.jpg\n",
      "nbprboss: https://instagram.fprg2-1.fna.fbcdn.net/t51.2885-19/11809702_1622651347989680_1661811088_a.jpg\n",
      "psycho.candycobain: https://scontent-iad3-1.cdninstagram.com/t51.2885-19/s150x150/12751272_924138034370328_17712059_a.jpg\n",
      "saini_ravinder: https://scontent-iad3-1.cdninstagram.com/t51.2885-19/1168857_1564773623753405_1072536483_a.jpg\n",
      "hilaluliazulay: https://instagram.fprg2-1.fna.fbcdn.net/t51.2885-19/s150x150/17587394_1663055143999210_8926200771448406016_a.jpg\n",
      "esra_b: https://scontent-iad3-1.cdninstagram.com/t51.2885-19/s150x150/19534335_486749278332892_7583392620882165760_a.jpg\n",
      "aviersrwohth: https://scontent-mxp1-1.cdninstagram.com/t51.2885-19/1538507_399888123520550_179375226_a.jpg\n",
      "clueranson: https://instagram.fprg2-1.fna.fbcdn.net/t51.2885-19/10756021_1555943741289902_699026595_a.jpg\n",
      "eatwelltravel: https://scontent-iad3-1.cdninstagram.com/t51.2885-19/10808557_722556731167438_331104571_a.jpg\n",
      "cici20031114: https://scontent-sin6-1.cdninstagram.com/t51.2885-19/s150x150/18011521_797785733721485_4685165263820161024_a.jpg\n",
      "rivkareznik: https://scontent-mxp1-1.cdninstagram.com/t51.2885-19/10932089_429207300570417_968016866_a.jpg\n",
      "luluxiao_taipei: https://scontent-iad3-1.cdninstagram.com/t51.2885-19/s150x150/21435434_464660103933455_6301087932312715264_a.jpg\n",
      "alexcharitatou not found at https://scontent-mxp1-1.cdninstagram.com/t51.2885-19/11821699_1607591666167397_1812337134_a.jpg\n",
      "eckettgpotn: https://instagram.fprg2-1.fna.fbcdn.net/t51.2885-19/10632514_985820564765735_1720844543_a.jpg\n",
      "mornahari: https://instagram.fprg2-1.fna.fbcdn.net/t51.2885-19/s150x150/12547621_531568027005452_771826124_a.jpg\n",
      "zeynepbeyli: https://scontent-sea1-1.cdninstagram.com/t51.2885-19/s150x150/14128696_148191668963171_1049108335_n.jpg\n",
      "olives_olivia not found at https://scontent-hkg3-1.cdninstagram.com/t51.2885-19/s150x150/13277612_1131347623593785_46602376_a.jpg\n",
      "barbiebeauch: https://scontent-mxp1-1.cdninstagram.com/t51.2885-19/s150x150/14350793_1590713114565756_1100327122_a.jpg\n",
      "olia3082: https://scontent-mxp1-1.cdninstagram.com/t51.2885-19/s150x150/12729611_1716522515230227_512381163_a.jpg\n",
      "assignmentcherson: https://scontent-iad3-1.cdninstagram.com/t51.2885-19/10576109_1668537303372123_1916932064_a.jpg\n",
      "anasofiavd not found at https://scontent-hkg3-1.cdninstagram.com/t51.2885-19/s150x150/18380564_134279030449421_7916794555360346112_a.jpg\n",
      "love_life_kp: https://scontent-mxp1-1.cdninstagram.com/t51.2885-19/s150x150/18645531_1543102612431844_2130885948748070912_a.jpg\n",
      "iraaludley: https://scontent-mxp1-1.cdninstagram.com/t51.2885-19/10832149_536967693107035_277295783_a.jpg\n",
      "mariamolinalara not found at https://scontent-sit4-1.cdninstagram.com/t51.2885-19/s150x150/21820099_1348305311944987_5527184505460228096_n.jpg\n",
      "red_811 not found at https://scontent-sin6-1.cdninstagram.com/t51.2885-19/s150x150/23160995_495195124191984_7809652387093676032_n.jpg\n",
      "hanamenkes: https://instagram.fewr1-2.fna.fbcdn.net/t51.2885-19/11906329_960233084022564_1448528159_a.jpg\n",
      "rishdarrett: https://scontent-mxp1-1.cdninstagram.com/t51.2885-19/10706986_454209304721720_396790089_a.jpg\n",
      "bogerukira not found at https://scontent-hkg3-1.cdninstagram.com/t51.2885-19/s150x150/14659296_1121067491264566_8462936923067908096_a.jpg\n",
      "hania58: https://scontent-amt2-1.cdninstagram.com/t51.2885-19/11906329_960233084022564_1448528159_a.jpg\n",
      "asenatugcu not found at https://scontent-hkg3-1.cdninstagram.com/t51.2885-19/s150x150/20633557_156701491550271_1221554871543529472_a.jpg\n",
      "_g_romanova: https://scontent-iad3-1.cdninstagram.com/t51.2885-19/10852820_1403289729962844_1104846841_a.jpg\n",
      "helloworldimana: https://scontent-mxp1-1.cdninstagram.com/t51.2885-19/s150x150/15802401_204891139915382_903064410682032128_a.jpg\n",
      "carolinaeve not found at https://scontent-mxp1-1.cdninstagram.com/t51.2885-19/s150x150/21435874_655847961281324_2973503801455017984_n.jpg\n",
      "saraahdarmon not found at https://instagram.fprg2-1.fna.fbcdn.net/t51.2885-19/s150x150/14374056_647302062112991_6457195566727168_a.jpg\n",
      "keeekeeelicious not found at https://scontent-sin6-1.cdninstagram.com/t51.2885-19/s150x150/22580393_128114421242732_6755841058183053312_n.jpg\n",
      "iikhlowe: https://scontent-mxp1-1.cdninstagram.com/t51.2885-19/10864822_776620452430750_558869528_a.jpg\n",
      "travelandtruffles: https://scontent-hkg3-1.cdninstagram.com/t51.2885-19/s150x150/20969261_268415500328877_7456516074322788352_a.jpg\n",
      "rucucu7: https://scontent-hkg3-1.cdninstagram.com/t51.2885-19/s150x150/22858129_1479689702067295_4045855052483526656_n.jpg\n",
      "aleyempseyk: https://scontent-mxp1-1.cdninstagram.com/t51.2885-19/927468_406628346160499_2087725988_a.jpg\n",
      "monahinduja not found at https://scontent-hkg3-1.cdninstagram.com/t51.2885-19/s150x150/23101916_1618598264858707_171181101312638976_n.jpg\n",
      "l_imor3: https://scontent-frx5-1.cdninstagram.com/t51.2885-19/11906329_960233084022564_1448528159_a.jpg\n",
      "janesbeckett: https://scontent-sin6-1.cdninstagram.com/t51.2885-19/10483616_700363473351471_1449287277_a.jpg\n",
      "eli.melero: https://scontent-hkg3-1.cdninstagram.com/t51.2885-19/s150x150/19120794_482218248794293_8848291671016734720_a.jpg\n",
      "joannecharlwood: https://scontent-sit4-1.cdninstagram.com/t51.2885-19/11906329_960233084022564_1448528159_a.jpg\n",
      "calibuddy: https://scontent-sin6-1.cdninstagram.com/t51.2885-19/s150x150/22158563_279988245848832_4654228257904787456_n.jpg\n",
      "breathimora: https://scontent-mxp1-1.cdninstagram.com/t51.2885-19/10666050_691832804243345_175593944_a.jpg\n",
      "sameh.nor: https://scontent-mxp1-1.cdninstagram.com/t51.2885-19/s150x150/13732214_582318385282816_2045339548_a.jpg\n",
      "lorenaartfash: https://scontent-mxp1-1.cdninstagram.com/t51.2885-19/s150x150/13561683_296940497316068_138342756_a.jpg\n",
      "ana_malababa not found at https://scontent-hkg3-1.cdninstagram.com/t51.2885-19/10632194_990527017639924_1717676847_a.jpg\n",
      "tina_kron not found at https://scontent-mxp1-1.cdninstagram.com/t51.2885-19/s150x150/18512635_1470485919661489_6144245033856925696_a.jpg\n",
      "ojouini: https://scontent-sit4-1.cdninstagram.com/t51.2885-19/s150x150/21107811_1050334108403004_7359898259558498304_a.jpg\n",
      "nlyctl: https://instagram.fprg2-1.fna.fbcdn.net/t51.2885-19/s150x150/22709425_1480019758718530_8281160639947210752_n.jpg\n",
      "c_fo_mtl: https://scontent-iad3-1.cdninstagram.com/t51.2885-19/11325273_112297382453477_869430152_a.jpg\n",
      "brilmarsons: https://scontent-mxp1-1.cdninstagram.com/t51.2885-19/10518000_784263854944646_156112723_a.jpg\n",
      "maivone not found at https://scontent-hkg3-1.cdninstagram.com/t51.2885-19/s150x150/19227099_1571878239520425_5837947551357075456_a.jpg\n",
      "shiranmallka: https://instagram.fprg2-1.fna.fbcdn.net/t51.2885-19/11324393_469504079875223_1326660998_a.jpg\n",
      "galronamar not found at https://instagram.fprg2-1.fna.fbcdn.net/t51.2885-19/s150x150/22427367_159696007951351_5292312926093312000_n.jpg\n",
      "irinavodianova: https://scontent-iad3-1.cdninstagram.com/t51.2885-19/s150x150/16906991_489378474783728_7589520705989902336_a.jpg\n",
      "adva35: https://instagram.fprg2-1.fna.fbcdn.net/t51.2885-19/s150x150/18879187_436705970031862_1588521640432500736_a.jpg\n",
      "monafulmer1: https://scontent-sin6-1.cdninstagram.com/t51.2885-19/s150x150/15535154_1177577859028347_1021798777284984832_a.jpg\n",
      "rysatlonzalez: https://instagram.fprg2-1.fna.fbcdn.net/t51.2885-19/10882082_638885119553912_2058772503_a.jpg\n"
     ]
    },
    {
     "name": "stdout",
     "output_type": "stream",
     "text": [
      "kelly_n_1991 not found at https://instagram.fprg2-1.fna.fbcdn.net/t51.2885-19/11252824_1588238641456676_2124432028_a.jpg\n",
      "anithoula: https://scontent-mxp1-1.cdninstagram.com/t51.2885-19/s150x150/14288178_368837770171211_7489653696926580736_a.jpg\n",
      "nawara_76: https://instagram.fprg2-1.fna.fbcdn.net/t51.2885-19/10570227_1513556788859522_646664248_a.jpg\n",
      "lillianmano: https://scontent-sit4-1.cdninstagram.com/t51.2885-19/11379279_1113442602017548_530027215_a.jpg\n",
      "steph_ssmith: https://scontent-mxp1-1.cdninstagram.com/t51.2885-19/s150x150/16583447_1202190309849570_1872195043398254592_a.jpg\n",
      "federichella69: https://scontent-mxp1-1.cdninstagram.com/t51.2885-19/s150x150/12930901_1079707158748782_733590170_a.jpg\n",
      "lorrddwade: https://scontent-hkg3-1.cdninstagram.com/t51.2885-19/s150x150/11375322_852685411467083_1949285604_a.jpg\n",
      "alexandrakoumentakou not found at https://scontent-mxp1-1.cdninstagram.com/t51.2885-19/s150x150/23100958_412827565786637_1168756851458703360_n.jpg\n",
      "shiftelina: https://scontent-mxp1-1.cdninstagram.com/t51.2885-19/10844284_871134006250604_1620335520_a.jpg\n",
      "oritmano7901: https://instagram.fphl2-4.fna.fbcdn.net/t51.2885-19/11906329_960233084022564_1448528159_a.jpg\n",
      "viki_vika: https://instagram.fprg2-1.fna.fbcdn.net/t51.2885-19/s150x150/19955824_155652208327344_9121487475494092800_a.jpg\n",
      "le_twiins: https://scontent-sit4-1.cdninstagram.com/t51.2885-19/s150x150/22499981_185098478704370_5174803750451150848_n.jpg\n",
      "beautybylisa_point_cook not found at https://instagram.fprg2-1.fna.fbcdn.net/t51.2885-19/s150x150/20837475_258191911337135_2140450170901364736_a.jpg\n",
      "cami_islandgal not found at https://scontent-iad3-1.cdninstagram.com/t51.2885-19/s150x150/21294933_170133043549310_2108822018848718848_a.jpg\n",
      "patriciaapergi: https://scontent-mxp1-1.cdninstagram.com/t51.2885-19/s150x150/15034526_188593681600103_729950234783776768_a.jpg\n",
      "deniseliesegang: https://scontent-hkg3-1.cdninstagram.com/t51.2885-19/10958476_707854236013506_14729390_a.jpg\n",
      "lilach_miara_vaitzmn: https://instagram.fprg2-1.fna.fbcdn.net/t51.2885-19/s150x150/20902234_715626025299616_2628038742656417792_a.jpg\n",
      "nuscin: https://instagram.fprg2-1.fna.fbcdn.net/t51.2885-19/s150x150/13098885_570211639823517_617346603_a.jpg\n",
      "apparently_someone: https://scontent-sin6-1.cdninstagram.com/t51.2885-19/s150x150/20181440_109998712989952_6517444161069645824_a.jpg\n",
      "imnoegenny: https://instagram.fprg2-1.fna.fbcdn.net/t51.2885-19/925673_407593802732943_966548053_a.jpg\n",
      "vikizhou not found at https://scontent-hkg3-1.cdninstagram.com/t51.2885-19/s150x150/12918458_893166677471964_779521908_a.jpg\n",
      "slaxyman: https://scontent.cdninstagram.com/t51.2885-19/11906329_960233084022564_1448528159_a.jpg\n",
      "knownnowhere: https://scontent-mxp1-1.cdninstagram.com/t51.2885-19/s150x150/12445912_189680998082670_1696298404_a.jpg\n",
      "maisiedunton: https://scontent-iad3-1.cdninstagram.com/t51.2885-19/s150x150/20066609_332867673809154_6244967716369727488_a.jpg\n",
      "anastasiacarnicero: https://scontent-hkg3-1.cdninstagram.com/t51.2885-19/s150x150/22158771_351244435303022_1360502183170146304_n.jpg\n",
      "tracy_ca: https://instagram.fprg2-1.fna.fbcdn.net/t51.2885-19/925569_711494558912552_1643308655_a.jpg\n",
      "elinwintermeyer: https://scontent-sin6-1.cdninstagram.com/t51.2885-19/11376407_472476462912474_1898154296_a.jpg\n",
      "fleurwalder: https://instagram.fprg2-1.fna.fbcdn.net/t51.2885-19/926857_925780414104810_593078757_a.jpg\n",
      "k_lalelei not found at https://scontent-sea1-1.cdninstagram.com/t51.2885-19/s150x150/22638863_122358345114083_7560505122413871104_n.jpg\n",
      "tiffany.kuw: https://instagram.fprg2-1.fna.fbcdn.net/t51.2885-19/s150x150/13413480_952254414891350_1936458416_a.jpg\n",
      "mxarles: https://scontent-sin6-1.cdninstagram.com/t51.2885-19/s150x150/15802714_155690678256222_2117246747523678208_n.jpg\n",
      "kaylahudek: https://scontent-sin6-1.cdninstagram.com/t51.2885-19/s150x150/16585583_1844878332397273_834161371338768384_a.jpg\n",
      "beno_lee: https://scontent-frx5-1.cdninstagram.com/t51.2885-19/11906329_960233084022564_1448528159_a.jpg\n",
      "aryaii_korosh2015: https://scontent-sea1-1.cdninstagram.com/t51.2885-19/11232819_1109724855708256_196777743_a.jpg\n",
      "galmoran: https://instagram.fprg2-1.fna.fbcdn.net/t51.2885-19/s150x150/18013913_1878754892388690_5838068029484695552_a.jpg\n",
      "mymeia: https://scontent-mxp1-1.cdninstagram.com/t51.2885-19/11311357_420861378115291_758607303_a.jpg\n",
      "catermau not found at https://scontent-sin6-1.cdninstagram.com/t51.2885-19/s150x150/15624383_1804463879795767_4979155410159140864_a.jpg\n",
      "akhzly: https://scontent-hkg3-1.cdninstagram.com/t51.2885-19/s150x150/17596414_418475671838766_5772023351006461952_a.jpg\n",
      "rubymooney not found at https://scontent-sin6-1.cdninstagram.com/t51.2885-19/s150x150/22708866_175031573076934_2576238559438569472_n.jpg\n",
      "oisesaorsyth: https://scontent-iad3-1.cdninstagram.com/t51.2885-19/10848424_384278521749965_1133503439_a.jpg\n",
      "thaleia.k not found at https://scontent-mxp1-1.cdninstagram.com/t51.2885-19/s150x150/13774771_320912898252670_1462785788_a.jpg\n",
      "yosoyjosepheliseo not found at https://scontent-sit4-1.cdninstagram.com/t51.2885-19/s150x150/21985304_2025281651035139_5018239964740059136_n.jpg\n",
      "jas_ws: https://scontent-hkg3-1.cdninstagram.com/t51.2885-19/s150x150/12237102_1117474864950408_372220699_a.jpg\n",
      "leaolala: https://scontent-sin6-1.cdninstagram.com/t51.2885-19/11326513_612661358836967_1604110296_a.jpg\n",
      "ifat3996: https://instagram.fprg2-1.fna.fbcdn.net/t51.2885-19/s150x150/13744049_205950659803362_1550153132_a.jpg\n",
      "yasiaoungu: https://scontent-iad3-1.cdninstagram.com/t51.2885-19/10843920_643459459097107_224165771_a.jpg\n",
      "doron_lebel: https://instagram.fprg2-1.fna.fbcdn.net/t51.2885-19/s150x150/21373069_1138857302925574_2583498346953965568_a.jpg\n",
      "sandra_olanescu not found at https://scontent-mxp1-1.cdninstagram.com/t51.2885-19/s150x150/14716462_318330125206264_3698733364669317120_a.jpg\n",
      "dirdaieri: https://scontent-hkg3-1.cdninstagram.com/t51.2885-19/11950558_1651046185107886_401228512_a.jpg\n",
      "joshua_bickert_: https://scontent-mxp1-1.cdninstagram.com/t51.2885-19/11906329_960233084022564_1448528159_a.jpg\n",
      "_theresearcher_: https://scontent-mxp1-1.cdninstagram.com/t51.2885-19/10843702_760456107335628_967445837_a.jpg\n",
      "ryanughest: https://instagram.fprg2-1.fna.fbcdn.net/t51.2885-19/10890892_1517190235235733_1527695100_a.jpg\n",
      "revivohani: https://instagram.fprg2-1.fna.fbcdn.net/t51.2885-19/s150x150/14564856_1155817671180084_264277815988322304_a.jpg\n",
      "tamarabykerk: https://scontent-sea1-1.cdninstagram.com/t51.2885-19/11906329_960233084022564_1448528159_a.jpg\n",
      "arkerilned: https://scontent-iad3-1.cdninstagram.com/t51.2885-19/10632514_1543321149259953_680846614_a.jpg\n",
      "inst_ada: https://scontent-mxp1-1.cdninstagram.com/t51.2885-19/11821137_452580454904127_361737160_a.jpg\n",
      "sauceuna: https://scontent-mxp1-1.cdninstagram.com/t51.2885-19/10632215_474759262664121_647846001_a.jpg\n",
      "lindapileggi: https://instagram.fprg2-1.fna.fbcdn.net/t51.2885-19/11856598_107190406297620_1866776795_a.jpg\n",
      "gerardphoto00: https://scontent-sin6-1.cdninstagram.com/t51.2885-19/s150x150/17818785_722329407937887_6341269606224625664_a.jpg\n",
      "ayeletzikri: https://instagram.fprg2-1.fna.fbcdn.net/t51.2885-19/s150x150/14099452_677055625774913_235166080_a.jpg\n",
      "jeanillepeabody: https://scontent-mxp1-1.cdninstagram.com/t51.2885-19/11371130_940282619363046_1022192867_a.jpg\n",
      "nikitenkoa not found at https://instagram.fprg2-1.fna.fbcdn.net/t51.2885-19/s150x150/17494971_1874914236056957_8927605281588772864_a.jpg\n",
      "by_zobo: https://instagram.fprg2-1.fna.fbcdn.net/t51.2885-19/11875447_1629905607249135_759932466_a.jpg\n",
      "kokhe: https://instagram.fprg2-1.fna.fbcdn.net/t51.2885-19/11349305_1503989636407408_1647922053_a.jpg\n",
      "jmakphoto: https://scontent-sit4-1.cdninstagram.com/t51.2885-19/11820642_138853966457241_816615894_a.jpg\n",
      "orlandinalanda not found at https://scontent-mxp1-1.cdninstagram.com/t51.2885-19/928346_655736674523092_291030616_a.jpg\n",
      "joedon44: https://scontent-mxp1-1.cdninstagram.com/t51.2885-19/11327019_936191526452237_472390600_a.jpg\n",
      "annalisaconsolato: https://instagram.fprg2-1.fna.fbcdn.net/t51.2885-19/s150x150/12479309_896675133780500_1909431898_a.jpg\n",
      "mansour.amirian: https://scontent-iad3-1.cdninstagram.com/t51.2885-19/s150x150/11371157_1640680596210346_1646133596_a.jpg\n",
      "deemurf_: https://scontent-waw1-1.cdninstagram.com/t51.2885-19/11906329_960233084022564_1448528159_a.jpg\n"
     ]
    },
    {
     "name": "stdout",
     "output_type": "stream",
     "text": [
      "seguarisco: https://scontent-iad3-1.cdninstagram.com/t51.2885-19/s150x150/17439077_200106853810771_8868291903490097152_a.jpg\n",
      "jessicabeusan: https://scontent-mxp1-1.cdninstagram.com/t51.2885-19/s150x150/16122883_213049985767701_4467615948982976512_n.jpg\n",
      "pastrittany: https://scontent-mxp1-1.cdninstagram.com/t51.2885-19/928937_1393694244261948_566698987_a.jpg\n",
      "tkats0073: https://scontent-sit4-1.cdninstagram.com/t51.2885-19/s150x150/12530794_337087963128428_561354198_a.jpg\n",
      "despina_sp: https://scontent-mxp1-1.cdninstagram.com/t51.2885-19/11809824_481008868733860_32960043_a.jpg\n",
      "carolebunny2013: https://scontent-mxp1-1.cdninstagram.com/t51.2885-19/11809707_707703916008004_586549660_a.jpg\n",
      "aethnardv: https://scontent-iad3-1.cdninstagram.com/t51.2885-19/10848287_1560281657559937_924973334_a.jpg\n",
      "rainnawnes: https://instagram.fprg2-1.fna.fbcdn.net/t51.2885-19/10899531_1607963676098124_476558720_a.jpg\n",
      "lakedonnell: https://instagram.fprg2-1.fna.fbcdn.net/t51.2885-19/924076_819341268124520_25335037_a.jpg\n",
      "lucaluongoshoes: https://scontent-mxp1-1.cdninstagram.com/t51.2885-19/s150x150/13671263_1771062519837776_292877435_a.jpg\n",
      "villysfashionpie: https://scontent-mxp1-1.cdninstagram.com/t51.2885-19/11950554_500409573460132_765678489_a.jpg\n",
      "adyineadows: https://instagram.fprg2-1.fna.fbcdn.net/t51.2885-19/10891027_1432333916991580_428236044_a.jpg\n",
      "anastasia_huot: https://scontent-mxp1-1.cdninstagram.com/t51.2885-19/11254327_559451277530824_86156387_a.jpg\n",
      "lexandertaffordn: https://instagram.fprg2-1.fna.fbcdn.net/t51.2885-19/10832071_976120769082426_305622354_a.jpg\n",
      "sarahudgensbyrk: https://scontent-mxp1-1.cdninstagram.com/t51.2885-19/s150x150/11330674_855032591255412_1406339921_a.jpg\n",
      "natashatrianta: https://scontent-iad3-1.cdninstagram.com/t51.2885-19/s150x150/21910586_126323981425949_6811721954253340672_n.jpg\n",
      "romyunterhalter: https://scontent-mxp1-1.cdninstagram.com/t51.2885-19/s150x150/12383678_571211706391447_1912474959_a.jpg\n",
      "sophiacardenas: https://scontent-hkg3-1.cdninstagram.com/t51.2885-19/s150x150/22070900_355182161603535_7662069661466361856_n.jpg\n",
      "eirhnh18 not found at https://scontent-hkg3-1.cdninstagram.com/t51.2885-19/s150x150/19933007_1119327514878324_7728507930747600896_a.jpg\n",
      "lenkalattupally: https://scontent-sin6-1.cdninstagram.com/t51.2885-19/s150x150/13671106_526850597500256_172100575_a.jpg\n",
      "tamntam: https://scontent-sin6-1.cdninstagram.com/t51.2885-19/s150x150/20838160_111300916226119_4051758278873448448_a.jpg\n",
      "helenwilliams85: https://scontent-mxp1-1.cdninstagram.com/t51.2885-19/s150x150/10249132_1472237863074650_560845959_a.jpg\n",
      "tomajankauskaite: https://scontent-sin6-1.cdninstagram.com/t51.2885-19/s150x150/21576421_364918933941238_8108965857633239040_a.jpg\n",
      "aremnnderson: https://scontent-iad3-1.cdninstagram.com/t51.2885-19/10864725_335334813319535_1949794996_a.jpg\n",
      "shakedavr: https://instagram.fprg2-1.fna.fbcdn.net/t51.2885-19/s150x150/19050893_135491963692041_2756615692538085376_a.jpg\n",
      "lyna_evelyna: https://scontent-hkg3-1.cdninstagram.com/t51.2885-19/s150x150/13658622_1613710052260518_1930738929_a.jpg\n",
      "natyanaya: https://scontent-hkg3-1.cdninstagram.com/t51.2885-19/s150x150/12338774_519109968249752_572931067_a.jpg\n",
      "honeyandjet: https://scontent-hkg3-1.cdninstagram.com/t51.2885-19/s150x150/12224220_702471289887658_1997976389_a.jpg\n",
      "nintiendo: https://scontent-mxp1-1.cdninstagram.com/t51.2885-19/s150x150/21689422_357526634685008_4781018449851711488_n.jpg\n",
      "mrsmandolin: https://scontent-mxp1-1.cdninstagram.com/t51.2885-19/s150x150/21372437_273114906514389_3291366303738101760_n.jpg\n",
      "rjg71: https://scontent-sin6-1.cdninstagram.com/t51.2885-19/11820702_430325200486985_240828163_a.jpg\n",
      "theirenefiles: https://scontent-mxp1-1.cdninstagram.com/t51.2885-19/s150x150/17267934_167767563735901_5115031841643954176_a.jpg\n",
      "sam_bottega: https://scontent-mxp1-1.cdninstagram.com/t51.2885-19/s150x150/12107598_513401578836048_1756777015_a.jpg\n",
      "justine_byrne not found at https://scontent-mxp1-1.cdninstagram.com/t51.2885-19/s150x150/23164826_390994957986056_2557031203697852416_n.jpg\n",
      "camiodice: https://scontent-mxp1-1.cdninstagram.com/t51.2885-19/11176339_376681669187396_1224785491_a.jpg\n",
      "hania_flannery: https://scontent-mxp1-1.cdninstagram.com/t51.2885-19/11849403_1661527457400257_2140987328_a.jpg\n",
      "ioanna_tsiv not found at https://scontent-mxp1-1.cdninstagram.com/t51.2885-19/s150x150/22857547_1771508406476092_2230507745243561984_n.jpg\n",
      "veronica__romao: https://scontent-mxp1-1.cdninstagram.com/t51.2885-19/s150x150/19932700_243459252826349_8359183896314642432_a.jpg\n",
      "royana_shukurova not found at https://scontent-mxp1-1.cdninstagram.com/t51.2885-19/s150x150/22802539_374957842935305_6920237545687089152_n.jpg\n",
      "merrymully: https://scontent-mxp1-1.cdninstagram.com/t51.2885-19/s150x150/19764744_1733655083598721_1444018612514848768_a.jpg\n",
      "lulusmiz: https://scontent-mxp1-1.cdninstagram.com/t51.2885-19/11427413_391985161010374_1741665860_a.jpg\n",
      "lucyhosken: https://scontent-mxp1-1.cdninstagram.com/t51.2885-19/10598182_1524858604398897_1238448588_a.jpg\n",
      "lauracardona1982: https://scontent-mxp1-1.cdninstagram.com/t51.2885-19/11311405_1619072761667172_164207562_a.jpg\n",
      "tantawpolis: https://scontent-hkg3-1.cdninstagram.com/t51.2885-19/s150x150/22277442_1805538066153519_380862864992239616_n.jpg\n",
      "clairealittlecollection: https://scontent-mxp1-1.cdninstagram.com/t51.2885-19/s150x150/21690614_502333683433119_4371705837454884864_n.jpg\n",
      "paulinatriantafyllou: https://scontent-mxp1-1.cdninstagram.com/t51.2885-19/10784813_544775692332883_1915321677_a.jpg\n",
      "penrosehanson: https://scontent-mxp1-1.cdninstagram.com/t51.2885-19/s150x150/16906252_1846559935588985_3536124541338124288_a.jpg\n",
      "rooftopbrooklyn: https://scontent-hkg3-1.cdninstagram.com/t51.2885-19/s150x150/10296663_605300632944941_1111326261_a.jpg\n",
      "amalkhourshid: https://scontent-mxp1-1.cdninstagram.com/t51.2885-19/s150x150/12826297_1686236438316527_2043496060_a.jpg\n",
      "fromthefactory: https://scontent-mxp1-1.cdninstagram.com/t51.2885-19/s150x150/14240893_1579566519015432_309044396_a.jpg\n",
      "oliviahardy5: https://scontent-sin6-1.cdninstagram.com/t51.2885-19/s150x150/14561814_1684332005213595_759388541925982208_a.jpg\n",
      "leonora_paris: https://scontent-mxp1-1.cdninstagram.com/t51.2885-19/s150x150/20969308_822748437892889_7639774241419689984_a.jpg\n",
      "mccary_nyc not found at https://scontent-mxp1-1.cdninstagram.com/t51.2885-19/s150x150/17662145_199761010521182_4209598520274976768_a.jpg\n",
      "whiskyalfa: https://scontent-arn2-1.cdninstagram.com/t51.2885-19/11906329_960233084022564_1448528159_a.jpg\n",
      "bffarrow: https://scontent-mxp1-1.cdninstagram.com/t51.2885-19/10471956_1478520302406009_983586122_a.jpg\n",
      "goodgirlgonepink: https://scontent-mxp1-1.cdninstagram.com/t51.2885-19/s150x150/12534480_1045869362144078_275483505_a.jpg\n",
      "ral_dxb not found at https://scontent-mxp1-1.cdninstagram.com/t51.2885-19/s150x150/21577081_1614949315229556_6568101878691790848_a.jpg\n",
      "parislikelike: https://scontent-mxp1-1.cdninstagram.com/t51.2885-19/11939704_746184385513350_1333632299_a.jpg\n",
      "ani.pap: https://scontent-mxp1-1.cdninstagram.com/t51.2885-19/s150x150/21909939_774552459413316_9038292120724570112_n.jpg\n",
      "soniaseth123: https://scontent-mxp1-1.cdninstagram.com/t51.2885-19/11355743_1588622554754365_1497016740_a.jpg\n",
      "toyamatthews: https://scontent-mxp1-1.cdninstagram.com/t51.2885-19/11272471_1471273179831002_1737454747_a.jpg\n",
      "tok_poshyachinda not found at https://scontent-mxp1-1.cdninstagram.com/t51.2885-19/s150x150/22860299_1477418679008475_2007702739055804416_n.jpg\n",
      "skevitp: https://scontent-mxp1-1.cdninstagram.com/t51.2885-19/s150x150/23161025_300001873835275_2072906222419312640_n.jpg\n",
      "gayatriuppal: https://scontent-mxp1-1.cdninstagram.com/t51.2885-19/s150x150/12501486_215881045416174_215904700_a.jpg\n",
      "ohlalamisscherie1: https://scontent-mxp1-1.cdninstagram.com/t51.2885-19/11371252_1326953917328069_1986043766_a.jpg\n",
      "valentinapulazza: https://scontent-mxp1-1.cdninstagram.com/t51.2885-19/s150x150/22639419_125292141516373_5008799506364366848_n.jpg\n",
      "abdeherrera: https://scontent-sin6-1.cdninstagram.com/t51.2885-19/s150x150/14482200_656042411242467_7721974061424705536_a.jpg\n",
      "mgluckypig: https://scontent-mxp1-1.cdninstagram.com/t51.2885-19/10864728_1601145256813595_1265027227_a.jpg\n",
      "charlottekuwait: https://scontent-mxp1-1.cdninstagram.com/t51.2885-19/s150x150/15877214_103533943488785_4231809746077745152_n.jpg\n"
     ]
    },
    {
     "name": "stdout",
     "output_type": "stream",
     "text": [
      "catwalkschoolgates: https://scontent-mxp1-1.cdninstagram.com/t51.2885-19/s150x150/17662595_1757769281202571_6119233751370170368_a.jpg\n",
      "soukchic: https://scontent-mxp1-1.cdninstagram.com/t51.2885-19/s150x150/12822409_237067293299558_1177841032_a.jpg\n",
      "su.rodriguez not found at https://scontent-mxp1-1.cdninstagram.com/t51.2885-19/1597762_276184702583194_1155367954_a.jpg\n",
      "liv.edit: https://scontent-mxp1-1.cdninstagram.com/t51.2885-19/s150x150/15803256_100558587118782_2388290202155089920_a.jpg\n",
      "bikinisandbibs: https://scontent-mxp1-1.cdninstagram.com/t51.2885-19/s150x150/14128768_333541156988488_1472861003_a.jpg\n",
      "luana.luamadeira: https://scontent-mxp1-1.cdninstagram.com/t51.2885-19/10693432_794029127335484_1619138528_a.jpg\n",
      "chrisirhc2002: https://instagram.fupg1-1.fna.fbcdn.net/t51.2885-19/11906329_960233084022564_1448528159_a.jpg\n",
      "lara.marakhovska: https://scontent-mxp1-1.cdninstagram.com/t51.2885-19/s150x150/12940273_1097101793687376_1062787797_a.jpg\n",
      "bilbuky: https://scontent-mxp1-1.cdninstagram.com/t51.2885-19/s150x150/22499816_1549952031734871_9064748161490223104_n.jpg\n",
      "thewearnecessities: https://scontent-mxp1-1.cdninstagram.com/t51.2885-19/s150x150/12071264_528711160620950_488351187_a.jpg\n",
      "allaboutoax: https://scontent-mxp1-1.cdninstagram.com/t51.2885-19/s150x150/12224143_772359679540686_644183859_a.jpg\n",
      "the_a_trend: https://scontent-mxp1-1.cdninstagram.com/t51.2885-19/s150x150/14723196_226418507776273_4830425790824841216_n.jpg\n",
      "swimswimcorse13: https://scontent-mxp1-1.cdninstagram.com/t51.2885-19/s150x150/13706969_289345838102612_204756519_a.jpg\n",
      "lamozheng: https://scontent-mxp1-1.cdninstagram.com/t51.2885-19/s150x150/14448406_1776467602613006_725558828292112384_a.jpg\n",
      "x930321x: https://scontent-frx5-1.cdninstagram.com/t51.2885-19/11906329_960233084022564_1448528159_a.jpg\n",
      "highheelprncess: https://scontent-iad3-1.cdninstagram.com/t51.2885-19/11123718_445065608983812_2137161843_a.jpg\n",
      "janekasemsarn not found at https://scontent-sin6-1.cdninstagram.com/t51.2885-19/s150x150/11917957_519477768215742_1582935449_a.jpg\n",
      "majanie_ not found at https://scontent-iad3-1.cdninstagram.com/t51.2885-19/s150x150/22352199_1472845686140920_4216718747123056640_n.jpg\n",
      "dingdongitsclaudiaodoherty: https://scontent-hkg3-1.cdninstagram.com/t51.2885-19/10958367_1409879365974093_452336412_a.jpg\n",
      "offwithyourclothes: https://scontent-iad3-1.cdninstagram.com/t51.2885-19/10472045_263290777208588_1894245405_a.jpg\n",
      "dimasaidi not found at https://scontent-hkg3-1.cdninstagram.com/t51.2885-19/s150x150/19985328_330815830665575_3248704737184317440_a.jpg\n",
      "mattiecronan: https://scontent-mxp1-1.cdninstagram.com/t51.2885-19/s150x150/12106266_1164880283526921_735890114_a.jpg\n",
      "v_baggio not found at https://scontent-sin6-1.cdninstagram.com/t51.2885-19/s150x150/21826917_1465848520174021_5581739600960815104_n.jpg\n",
      "ritafarhinoirot: https://scontent-mxp1-1.cdninstagram.com/t51.2885-19/s150x150/21296315_268279433664157_8163559242767269888_n.jpg\n",
      "alexandra__sage: https://scontent-hkg3-1.cdninstagram.com/t51.2885-19/s150x150/20225980_211653049359801_5566267058586386432_a.jpg\n",
      "tutibarrera: https://scontent-hkg3-1.cdninstagram.com/t51.2885-19/s150x150/1170116_1251854381509669_623654903_a.jpg\n",
      "alicemapy: https://scontent-hkg3-1.cdninstagram.com/t51.2885-19/s150x150/16229173_1183313035071604_441125095855882240_a.jpg\n",
      "hiladabush not found at https://scontent-hkg3-1.cdninstagram.com/t51.2885-19/s150x150/22280743_278302939346433_9166307559466860544_n.jpg\n",
      "hr_herapark: https://scontent-sit4-1.cdninstagram.com/t51.2885-19/11875403_425479650987218_1380021608_a.jpg\n",
      "eliannegpz not found at https://scontent-mxp1-1.cdninstagram.com/t51.2885-19/s150x150/23969475_1489776611069727_8531451529863888896_n.jpg\n",
      "clarerichardson1: https://scontent-mxp1-1.cdninstagram.com/t51.2885-19/11351598_762360277209581_1135522241_a.jpg\n",
      "realniasanchez not found at https://scontent-sit4-1.cdninstagram.com/t51.2885-19/s150x150/21224774_472278653147402_4501923387534213120_a.jpg\n",
      "vikkiyau: https://scontent-iad3-1.cdninstagram.com/t51.2885-19/928737_970398569654590_1351219127_a.jpg\n",
      "nadaelsadat not found at https://scontent-hkg3-1.cdninstagram.com/t51.2885-19/s150x150/23161334_1970345096573009_2402184266738827264_n.jpg\n",
      "ok.e.design not found at https://scontent-mxp1-1.cdninstagram.com/t51.2885-19/s150x150/21819955_1962852317304461_8475349619071516672_n.jpg\n",
      "dvb1919 not found at https://scontent-mxp1-1.cdninstagram.com/t51.2885-19/s150x150/17126972_1434491310191325_6325275886748696576_a.jpg\n",
      "keiramaguire not found at https://scontent-sea1-1.cdninstagram.com/t51.2885-19/s150x150/23161251_161170731288032_9078747757715390464_n.jpg\n",
      "_nazelmas_ not found at https://scontent-sea1-1.cdninstagram.com/t51.2885-19/s150x150/23164760_307126106437958_7974634673777147904_n.jpg\n",
      "kimymass: https://scontent-sit4-1.cdninstagram.com/t51.2885-19/s150x150/17818641_703487359826421_5561354139985772544_a.jpg\n",
      "pistasdemiarmario: https://scontent-sea1-1.cdninstagram.com/t51.2885-19/s150x150/19623071_1493091590746943_5499585281839333376_a.jpg\n",
      "nataliamunarriz: https://scontent-iad3-1.cdninstagram.com/t51.2885-19/s150x150/13707322_638231856331967_1352883334_a.jpg\n",
      "keegansingh: https://scontent-hkg3-1.cdninstagram.com/t51.2885-19/11820654_1603429596578644_1188805863_a.jpg\n",
      "danshang_higo: https://scontent-sit4-1.cdninstagram.com/t51.2885-19/s150x150/20482558_116240109031263_4009715118890811392_a.jpg\n",
      "pennydavidiborsuk not found at https://scontent-mxp1-1.cdninstagram.com/t51.2885-19/s150x150/20987428_2009712325925333_7032821179819753472_a.jpg\n",
      "natalieconstantinidou: https://scontent-mxp1-1.cdninstagram.com/t51.2885-19/s150x150/22802772_128152317946295_7965813854628216832_n.jpg\n",
      "miamistylemom: https://scontent-hkg3-1.cdninstagram.com/t51.2885-19/s150x150/15259030_256158578135730_2242839356559589376_a.jpg\n",
      "vipsally not found at https://scontent-mxp1-1.cdninstagram.com/t51.2885-19/s150x150/22710749_696067043923424_8819095466886037504_n.jpg\n",
      "skinnynsatisfied: https://scontent-mxp1-1.cdninstagram.com/t51.2885-19/s150x150/12534665_1662776383995941_694698994_a.jpg\n",
      "downtownchicmoms: https://scontent-iad3-1.cdninstagram.com/t51.2885-19/s150x150/13651891_1578919499071751_261176059_a.jpg\n",
      "chanel.makeupartist: https://scontent-sea1-1.cdninstagram.com/t51.2885-19/s150x150/15876098_1716555322006784_5898425127585972224_n.jpg\n",
      "celialeeroach: https://scontent-hkg3-1.cdninstagram.com/t51.2885-19/11324971_681043468697332_1053455170_a.jpg\n",
      "diviathani: https://scontent-hkg3-1.cdninstagram.com/t51.2885-19/s150x150/16110734_1425860587721088_1373496383385894912_n.jpg\n",
      "theartsartorialist: https://scontent-hkg3-1.cdninstagram.com/t51.2885-19/s150x150/13129520_223525681372612_202277540_a.jpg\n",
      "brolgun: https://scontent-iad3-1.cdninstagram.com/t51.2885-19/s150x150/13108974_1732959843611386_1618110906_a.jpg\n",
      "filipa_de_abreu: https://scontent-mxp1-1.cdninstagram.com/t51.2885-19/s150x150/21226935_209599109573490_2374181878832824320_a.jpg\n",
      "merbezaury: https://scontent-hkg3-1.cdninstagram.com/t51.2885-19/11374056_894236587317293_307428328_a.jpg\n",
      "northsouthgirl not found at https://scontent-iad3-1.cdninstagram.com/t51.2885-19/s150x150/22857837_122043948490920_3793379690660495360_n.jpg\n",
      "jessieschuster: https://scontent-mxp1-1.cdninstagram.com/t51.2885-19/s150x150/23421849_1946959678664237_4720246492269379584_n.jpg\n",
      "roseroos not found at https://scontent-iad3-1.cdninstagram.com/t51.2885-19/s150x150/22637386_144561922952718_1923465605608898560_n.jpg\n",
      "ipeki: https://scontent-hkg3-1.cdninstagram.com/t51.2885-19/s150x150/11426433_911634872233451_1311906820_a.jpg\n",
      "julianapinheiromota: https://scontent-hkg3-1.cdninstagram.com/t51.2885-19/10954374_784332034974774_189578525_a.jpg\n",
      "maruluzar not found at https://scontent-mxp1-1.cdninstagram.com/t51.2885-19/s150x150/19534073_127820047810334_8123925228725207040_a.jpg\n",
      "saragalindoo: https://scontent-mxp1-1.cdninstagram.com/t51.2885-19/s150x150/11910154_1663740157204993_878804239_a.jpg\n",
      "glamourizenow: https://scontent-mxp1-1.cdninstagram.com/t51.2885-19/s150x150/16123788_410427072632041_2790820352521928704_n.jpg\n",
      "mercedesmartin__: https://scontent-sit4-1.cdninstagram.com/t51.2885-19/s150x150/22069695_117985782228324_7694566981755731968_n.jpg\n",
      "jennamclarke: https://scontent-hkg3-1.cdninstagram.com/t51.2885-19/s150x150/19761844_1914390358849438_1543389952287440896_a.jpg\n"
     ]
    },
    {
     "name": "stdout",
     "output_type": "stream",
     "text": [
      "maayanmoyal: https://scontent-mxp1-1.cdninstagram.com/t51.2885-19/s150x150/13118054_1302027723160267_966746137_a.jpg\n",
      "ratonsico: https://scontent-hkg3-1.cdninstagram.com/t51.2885-19/10727724_1491561417776550_1550577557_a.jpg\n",
      "mmmargherita not found at https://scontent-hkg3-1.cdninstagram.com/t51.2885-19/s150x150/17933741_275466326238842_7589463999536693248_a.jpg\n",
      "gamze_saracoglu: https://scontent-sea1-1.cdninstagram.com/t51.2885-19/11032883_866731316723257_1038226117_a.jpg\n",
      "alibrustofski not found at https://scontent-hkg3-1.cdninstagram.com/t51.2885-19/s150x150/22500501_1661626607201776_129623435843207168_n.jpg\n",
      "pipmoroney: https://scontent-sea1-1.cdninstagram.com/t51.2885-19/s150x150/18096126_611502779049545_4846776533752217600_a.jpg\n",
      "jeunelait not found at https://scontent-hkg3-1.cdninstagram.com/t51.2885-19/s150x150/23347364_501385693593469_5842882670643642368_n.jpg\n",
      "sherrybabyx: https://scontent-sea1-1.cdninstagram.com/t51.2885-19/11429666_931229330257196_442621261_a.jpg\n",
      "stylemistress1: https://scontent-iad3-1.cdninstagram.com/t51.2885-19/11261270_497834803708581_2104316653_a.jpg\n",
      "camilahirane: https://scontent-hkg3-1.cdninstagram.com/t51.2885-19/s150x150/18160321_161296874399401_1389810013500866560_a.jpg\n",
      "agnem__: https://scontent-iad3-1.cdninstagram.com/t51.2885-19/s150x150/11881604_982233275161154_425427884_a.jpg\n",
      "sonyagorelova: https://scontent-iad3-1.cdninstagram.com/t51.2885-19/s150x150/22220875_350754618698693_2865152020073938944_n.jpg\n",
      "katechan9: https://scontent-mxp1-1.cdninstagram.com/t51.2885-19/s150x150/21480410_1440760182683264_7128418226886672384_n.jpg\n",
      "claire_fivestory: https://scontent-hkg3-1.cdninstagram.com/t51.2885-19/11252778_1018292894850658_789650697_a.jpg\n",
      "byjuliedawn: https://scontent-iad3-1.cdninstagram.com/t51.2885-19/s150x150/17076429_983698408431075_9121425791173787648_a.jpg\n",
      "sarahlclark: https://scontent-hkg3-1.cdninstagram.com/t51.2885-19/10979510_904560689577907_1848921229_a.jpg\n",
      "hollyannascarsella: https://scontent-mxp1-1.cdninstagram.com/t51.2885-19/s150x150/11326699_138452896509607_902267304_a.jpg\n",
      "kisseswalter: https://scontent-mxp1-1.cdninstagram.com/t51.2885-19/10914270_1534907686757965_1668730144_a.jpg\n",
      "suyoung112: https://scontent-mxp1-1.cdninstagram.com/t51.2885-19/s150x150/12976102_956214277825319_865031406_a.jpg\n",
      "angelinanaw: https://scontent-hkg3-1.cdninstagram.com/t51.2885-19/s150x150/19761174_617816008418586_9081485649042735104_a.jpg\n",
      "senorita_luxury: https://scontent-iad3-1.cdninstagram.com/t51.2885-19/s150x150/13298241_249095048800088_88310417_a.jpg\n",
      "gaross: https://scontent-hkg3-1.cdninstagram.com/t51.2885-19/11821228_1478229192498950_1783877503_a.jpg\n",
      "nmirzabaeva: https://scontent-sea1-1.cdninstagram.com/t51.2885-19/914496_431730623663113_492433759_a.jpg\n",
      "j_sumosan: https://scontent-sea1-1.cdninstagram.com/t51.2885-19/11427416_764584433667596_564216966_a.jpg\n",
      "antonellinalng: https://scontent-sit4-1.cdninstagram.com/t51.2885-19/s150x150/12556092_1660472590880761_1983278689_a.jpg\n",
      "susannerw: https://scontent-hkg3-1.cdninstagram.com/t51.2885-19/10724657_1482447178700832_1208100328_a.jpg\n",
      "garimpopessoal: https://scontent-mxp1-1.cdninstagram.com/t51.2885-19/11356558_130849137256633_1633012028_a.jpg\n",
      "paolapalaciovuelveatuesencia: https://scontent-mxp1-1.cdninstagram.com/t51.2885-19/s150x150/19437159_443903865989306_5663106175835570176_a.jpg\n",
      "lisajane2289: https://scontent-sea1-1.cdninstagram.com/t51.2885-19/11417384_734544890005591_1720706912_a.jpg\n",
      "fancykourt: https://scontent-iad3-1.cdninstagram.com/t51.2885-19/s150x150/16230401_234034507005713_2681616539823636480_a.jpg\n",
      "nongphyo920: https://scontent-hkg3-1.cdninstagram.com/t51.2885-19/s150x150/13743515_983147248450001_237259323_a.jpg\n",
      "amilakovic not found at https://scontent-hkg3-1.cdninstagram.com/t51.2885-19/s150x150/17596021_1453617568043704_6882682355945832448_a.jpg\n",
      "alexandralhoward: https://scontent-hkg3-1.cdninstagram.com/t51.2885-19/11875507_1034170493283992_1235537049_a.jpg\n",
      "sweetskathuria: https://scontent-iad3-1.cdninstagram.com/t51.2885-19/11240423_441539346009182_406744634_a.jpg\n",
      "marriadurrani: https://scontent-mxp1-1.cdninstagram.com/t51.2885-19/s150x150/13725584_645743885602574_1400531262_a.jpg\n",
      "veroniksmarin: https://scontent-mxp1-1.cdninstagram.com/t51.2885-19/10899385_607886299339411_1585947998_a.jpg\n",
      "hannahspencer: https://scontent-hkg3-1.cdninstagram.com/t51.2885-19/s150x150/14624721_210228039413674_7252308856347295744_a.jpg\n",
      "punamgudka: https://scontent-iad3-1.cdninstagram.com/t51.2885-19/s150x150/14294858_1214533211947721_1870373787_a.jpg\n",
      "s0a1y0o: https://scontent-yyz1-1.cdninstagram.com/t51.2885-19/11906329_960233084022564_1448528159_a.jpg\n",
      "antonina3000: https://scontent-hkg3-1.cdninstagram.com/t51.2885-19/s150x150/13725520_561445244038682_1905516821_a.jpg\n",
      "cinzia_in_dubai not found at https://scontent-sin6-1.cdninstagram.com/t51.2885-19/s150x150/22793870_128540541104896_6124644246226993152_n.jpg\n",
      "cre8ive_native: https://scontent-sea1-1.cdninstagram.com/t51.2885-19/11419184_1711696952382558_2037761521_a.jpg\n",
      "amandapalivos: https://scontent-sit4-1.cdninstagram.com/t51.2885-19/s150x150/12446290_237141419971494_2022194145_a.jpg\n",
      "jules_mariee03 not found at https://scontent-sit4-1.cdninstagram.com/t51.2885-19/s150x150/22582587_291486714684487_4198135901102014464_n.jpg\n",
      "sara_lu0: https://scontent-sin6-1.cdninstagram.com/t51.2885-19/11850413_881435618602751_55772843_a.jpg\n",
      "mrswhinney: https://scontent-hkg3-1.cdninstagram.com/t51.2885-19/s150x150/16122510_260894377656414_4593034040612749312_n.jpg\n",
      "katrinaisrael not found at https://scontent-mxp1-1.cdninstagram.com/t51.2885-19/s150x150/16789528_108872502972098_6951906804871725056_a.jpg\n",
      "michmafia: https://scontent-mxp1-1.cdninstagram.com/t51.2885-19/s150x150/12383352_766850770116183_1687807858_a.jpg\n",
      "lizbistrom: https://scontent-hkg3-1.cdninstagram.com/t51.2885-19/12543398_981099935259204_794710116_a.jpg\n",
      "majolenka: https://scontent-mxp1-1.cdninstagram.com/t51.2885-19/s150x150/20635555_1894024060846877_6936887123848986624_a.jpg\n",
      "allegrasidylls: https://scontent-mxp1-1.cdninstagram.com/t51.2885-19/10890873_885287294835971_576011715_a.jpg\n",
      "francesco.stab: https://scontent-sea1-1.cdninstagram.com/t51.2885-19/s150x150/11355955_898308733562005_1962967925_a.jpg\n",
      "inna_kaufman: https://scontent-hkg3-1.cdninstagram.com/t51.2885-19/11875312_528032284015054_901545688_a.jpg\n",
      "daddimonster: https://scontent-mxp1-1.cdninstagram.com/t51.2885-19/s150x150/12301338_535714259921084_544448844_a.jpg\n",
      "_flat_earth_: https://scontent-hkg3-1.cdninstagram.com/t51.2885-19/11326102_415294095333237_2140880826_a.jpg\n",
      "__p___w__ not found at https://scontent-iad3-1.cdninstagram.com/t51.2885-19/s150x150/22580617_151591662114600_3099959724687228928_n.jpg\n",
      "angel_18x: https://scontent-iad3-1.cdninstagram.com/t51.2885-19/s150x150/15875906_1727978984186966_7905928635993817088_a.jpg\n",
      "amysolarz: https://scontent-hkg3-1.cdninstagram.com/t51.2885-19/s150x150/18011848_455179281493970_8996395513616007168_a.jpg\n",
      "dela_3556: https://instagram.fcgh12-1.fna.fbcdn.net/t51.2885-19/11906329_960233084022564_1448528159_a.jpg\n",
      "kenzaeyz: https://scontent-mxp1-1.cdninstagram.com/t51.2885-19/s150x150/16110896_274488376301233_3476431741533552640_a.jpg\n",
      "aleorland not found at https://instagram.fprg2-1.fna.fbcdn.net/t51.2885-19/s150x150/21224967_126980034533989_357549078134915072_a.jpg\n",
      "thegreedysprout: https://scontent-sin6-1.cdninstagram.com/t51.2885-19/s150x150/21041891_333328570406017_4465409791786745856_a.jpg\n",
      "thelouloves: https://scontent-mxp1-1.cdninstagram.com/t51.2885-19/s150x150/12237598_922260011188827_1807279586_a.jpg\n",
      "thewearnecessities: https://scontent-mxp1-1.cdninstagram.com/t51.2885-19/s150x150/12071264_528711160620950_488351187_a.jpg\n",
      "notoriousmag: https://scontent-sin6-1.cdninstagram.com/t51.2885-19/s150x150/19985580_1872095186388755_1454715804091154432_a.jpg\n",
      "volver.stbarth not found at https://scontent-mxp1-1.cdninstagram.com/t51.2885-19/s150x150/12960065_1707554996161496_28281137_a.jpg\n",
      "vermillion_k: https://scontent-mxp1-1.cdninstagram.com/t51.2885-19/s150x150/13714125_160548484368214_1241800797_a.jpg\n",
      "plusout_morestyleforlife: https://scontent-mxp1-1.cdninstagram.com/t51.2885-19/s150x150/10953568_1070705226301961_353155294_a.jpg\n",
      "twowearit: https://instagram.fprg2-1.fna.fbcdn.net/t51.2885-19/s150x150/14596889_344857035873709_7010088274404311040_a.jpg\n"
     ]
    },
    {
     "name": "stdout",
     "output_type": "stream",
     "text": [
      "esmebenjamin: https://scontent-iad3-1.cdninstagram.com/t51.2885-19/s150x150/15801893_986918284785342_6519049490995871744_a.jpg\n",
      "lk_lilitkhachatryan: https://scontent-mxp1-1.cdninstagram.com/t51.2885-19/s150x150/13707296_302781866732335_1150840672_a.jpg\n",
      "dianaplatona: https://scontent-sin6-1.cdninstagram.com/t51.2885-19/s150x150/21042044_130583597559714_6583701345939750912_a.jpg\n",
      "elverddesigns: https://instagram.fprg2-1.fna.fbcdn.net/t51.2885-19/s150x150/19623199_1184503011696203_1233777725697687552_a.jpg\n",
      "consciouschatter not found at https://scontent-hkg3-1.cdninstagram.com/t51.2885-19/s150x150/22580848_363224127442929_6987944544012599296_n.jpg\n",
      "aetrex_israel_ltd: https://scontent-mxp1-1.cdninstagram.com/t51.2885-19/s150x150/11925569_400171830181891_652567129_a.jpg\n",
      "_luluyesyes_ not found at https://scontent-hkg3-1.cdninstagram.com/t51.2885-19/s150x150/19761306_1065346710267363_6574611640363253760_a.jpg\n",
      "healthandbeauty323: https://scontent-mxp1-1.cdninstagram.com/t51.2885-19/s150x150/16583705_1300954686624749_2008643805045063680_a.jpg\n",
      "facingpagesbooks: https://scontent-mxp1-1.cdninstagram.com/t51.2885-19/s150x150/14287947_340936889582550_1151891585_a.jpg\n",
      "elmercaditoec not found at https://scontent-hkg3-1.cdninstagram.com/t51.2885-19/s150x150/21909428_117206722306369_2413241810366234624_n.jpg\n",
      "modelsplusltd: https://scontent-iad3-1.cdninstagram.com/t51.2885-19/s150x150/15624237_298782750518238_5072101878288875520_a.jpg\n",
      "mooeyewear: https://scontent-iad3-1.cdninstagram.com/t51.2885-19/11809927_868764719872095_1925504481_a.jpg\n",
      "fabulousmusesnow: https://scontent-sin6-1.cdninstagram.com/t51.2885-19/s150x150/13129643_370718986430361_73933210_a.jpg\n",
      "birchroseco: https://scontent-mxp1-1.cdninstagram.com/t51.2885-19/s150x150/20766375_124531274841834_6801299198202347520_a.jpg\n",
      "agendawhite: https://scontent-hkg3-1.cdninstagram.com/t51.2885-19/11899735_1456332204673123_439693089_a.jpg\n",
      "epicmade_studio: https://scontent-mxp1-1.cdninstagram.com/t51.2885-19/s150x150/22352533_1586200604777505_8611628381617782784_n.jpg\n",
      "25park: https://scontent-mxp1-1.cdninstagram.com/t51.2885-19/11326695_1625007551077549_13736353_a.jpg\n",
      "kwanpenturkey: https://scontent-mxp1-1.cdninstagram.com/t51.2885-19/s150x150/15043984_1438474929526059_7479682775730094080_a.jpg\n",
      "antoniakarra: https://scontent-mxp1-1.cdninstagram.com/t51.2885-19/11375333_876791322414610_775385152_a.jpg\n",
      "tati_laguna: https://scontent-sin6-1.cdninstagram.com/t51.2885-19/s150x150/14718486_314292972285918_4933721128683175936_a.jpg\n",
      "berenford.world not found at https://scontent-mxp1-1.cdninstagram.com/t51.2885-19/11191221_853955651347325_317164769_a.jpg\n",
      "mitoswimwear: https://scontent-mxp1-1.cdninstagram.com/t51.2885-19/s150x150/18444999_444020189282718_878911898316177408_a.jpg\n",
      "worldofdominiquerose: https://scontent-mxp1-1.cdninstagram.com/t51.2885-19/s150x150/19120440_447228752301436_1713014437192925184_n.jpg\n",
      "braiform.global not found at https://scontent-mxp1-1.cdninstagram.com/t51.2885-19/s150x150/13642915_1723137211280535_1830605248_a.jpg\n",
      "bymdesign.se: https://scontent-mxp1-1.cdninstagram.com/t51.2885-19/s150x150/14135022_1824689821084425_749581631_a.jpg\n",
      "arossgirl: https://scontent-hkg3-1.cdninstagram.com/t51.2885-19/s150x150/11351561_668983169910662_464243113_a.jpg\n",
      "mojobeach: https://scontent-mxp1-1.cdninstagram.com/t51.2885-19/s150x150/22580054_289224758236159_5250042472146403328_n.jpg\n",
      "sundaytimesfood: https://scontent-mxp1-1.cdninstagram.com/t51.2885-19/s150x150/15625345_111841269320531_7662383477546811392_a.jpg\n",
      "aureliagil not found at https://scontent-iad3-1.cdninstagram.com/t51.2885-19/11372181_711921458914273_954421440_a.jpg\n",
      "sikuly.official: https://scontent-hkg3-1.cdninstagram.com/t51.2885-19/10665607_1040153666006772_298065171_a.jpg\n",
      "amaratidesign: https://scontent-mxp1-1.cdninstagram.com/t51.2885-19/s150x150/13408703_1240828222608884_1171528298_a.jpg\n",
      "zeyyjewelry: https://scontent-mxp1-1.cdninstagram.com/t51.2885-19/11849847_1646448208963573_1446053496_a.jpg\n",
      "buscolook: https://scontent-hkg3-1.cdninstagram.com/t51.2885-19/917091_1436360236618009_2065470871_a.jpg\n",
      "miho_ishii not found at https://scontent-iad3-1.cdninstagram.com/t51.2885-19/s150x150/16228678_247683569022245_4096026429483909120_a.jpg\n",
      "firmdale_hotels: https://scontent-mxp1-1.cdninstagram.com/t51.2885-19/11899686_104552823231914_506856262_a.jpg\n",
      "screenshot.fashions not found at https://scontent-sit4-1.cdninstagram.com/t51.2885-19/s150x150/16789234_1712510195746350_5834332812391481344_a.jpg\n",
      "lezzetin_ustasi: https://scontent-hkg3-1.cdninstagram.com/t51.2885-19/s150x150/17883166_1172107292917905_8192103870294392832_a.jpg\n",
      "nomahproject: https://scontent-sit4-1.cdninstagram.com/t51.2885-19/s150x150/14723500_1152037804874434_403230513503928320_a.jpg\n",
      "cuginiboutique: https://scontent-hkg3-1.cdninstagram.com/t51.2885-19/11939228_492455510931996_1312889325_a.jpg\n",
      "lynnmorgandesign: https://scontent-hkg3-1.cdninstagram.com/t51.2885-19/s150x150/21569270_353290475110279_7639605840046981120_n.jpg\n",
      "avinasjewelry: https://scontent-hkg3-1.cdninstagram.com/t51.2885-19/10983712_321282244737820_825931182_a.jpg\n",
      "debonnairevb: https://scontent-mxp1-1.cdninstagram.com/t51.2885-19/s150x150/21436220_117613342217968_2608123121038786560_a.jpg\n",
      "winonaaustralia: https://scontent-iad3-1.cdninstagram.com/t51.2885-19/914774_792600610783633_598041869_a.jpg\n",
      "selec.to: https://scontent-mxp1-1.cdninstagram.com/t51.2885-19/914753_310229319150413_704478042_a.jpg\n",
      "lolitamiacr: https://scontent-iad3-1.cdninstagram.com/t51.2885-19/s150x150/14128875_168648970240683_1192529369_a.jpg\n",
      "coralswimwearph: https://scontent-iad3-1.cdninstagram.com/t51.2885-19/s150x150/21433804_486226535063803_130478795760074752_a.jpg\n",
      "samudra11: https://scontent-mxp1-1.cdninstagram.com/t51.2885-19/11376178_450892658420979_1493385420_a.jpg\n",
      "happydays_only_for_free_kids: https://scontent-hkg3-1.cdninstagram.com/t51.2885-19/s150x150/15802652_1303147946430655_72441332185956352_n.jpg\n",
      "frauvonl: https://scontent-hkg3-1.cdninstagram.com/t51.2885-19/11283363_715119238610232_1526222951_a.jpg\n",
      "rose_melony: https://scontent-mxp1-1.cdninstagram.com/t51.2885-19/s150x150/19228161_1928334460755374_4104405966512979968_a.jpg\n",
      "withlovefromparadise: https://scontent-hkg3-1.cdninstagram.com/t51.2885-19/s150x150/11899585_681478575321395_797443667_a.jpg\n",
      "param_patil: https://scontent-hkg3-1.cdninstagram.com/t51.2885-19/s150x150/11849117_921949787876509_1268814209_a.jpg\n",
      "networkusa: https://scontent-sea1-1.cdninstagram.com/t51.2885-19/10747904_382805988542988_1171917694_a.jpg\n",
      "tzniutstyle24: https://scontent-mxp1-1.cdninstagram.com/t51.2885-19/s150x150/13397453_279418175745071_1626659857_a.jpg\n",
      "babyzen_ukraine: https://scontent-hkg3-1.cdninstagram.com/t51.2885-19/s150x150/15624946_733047343524319_8473681689996951552_a.jpg\n",
      "molecotporcelain: https://scontent-mxp1-1.cdninstagram.com/t51.2885-19/s150x150/12145135_1563070387265526_1627340156_a.jpg\n",
      "simplepleasuresprovidence: https://scontent-sin6-1.cdninstagram.com/t51.2885-19/11356739_438947082980494_602942206_a.jpg\n",
      "jenniferbehr: https://scontent-hkg3-1.cdninstagram.com/t51.2885-19/s150x150/12071110_1671575983057551_2101538010_a.jpg\n",
      "satyajewelry: https://scontent-mxp1-1.cdninstagram.com/t51.2885-19/s150x150/14566540_1824505337762383_4045489323133370368_a.jpg\n",
      "thetrippyhippiecollective: https://scontent-mxp1-1.cdninstagram.com/t51.2885-19/s150x150/19428783_102968407004571_7474626117458984960_a.jpg\n",
      "zini_official: https://scontent-hkg3-1.cdninstagram.com/t51.2885-19/11269413_1586475238292397_1116958689_a.jpg\n",
      "themumclub: https://scontent-sin6-1.cdninstagram.com/t51.2885-19/s150x150/13642850_1274120842622083_121849765_a.jpg\n",
      "maral.kalinian not found at https://scontent-iad3-1.cdninstagram.com/t51.2885-19/10706650_1485310585055603_305378866_a.jpg\n",
      "serenawhitehaven: https://scontent-mxp1-1.cdninstagram.com/t51.2885-19/s150x150/13113927_512957298886648_1725763137_a.jpg\n",
      "leblonbikinistore: https://scontent-sea1-1.cdninstagram.com/t51.2885-19/s150x150/14624253_178222369248866_9693577978314752_n.jpg\n",
      "theenchantedhome: https://scontent-mxp1-1.cdninstagram.com/t51.2885-19/s150x150/23417350_147434389212884_4617655155385434112_n.jpg\n",
      "whitemontreal: https://scontent-iad3-1.cdninstagram.com/t51.2885-19/11821093_1461604647477597_1164490352_a.jpg\n"
     ]
    },
    {
     "name": "stdout",
     "output_type": "stream",
     "text": [
      "septem_ediciones: https://scontent-hkg3-1.cdninstagram.com/t51.2885-19/s150x150/15624045_755028341340426_8646925629742120960_a.jpg\n",
      "noirgarments: https://scontent-sea1-1.cdninstagram.com/t51.2885-19/11925784_395178200667738_966546424_a.jpg\n",
      "hart_studio not found at https://scontent-hkg3-1.cdninstagram.com/t51.2885-19/s150x150/18723190_1763960190286748_8809604254881808384_a.jpg\n",
      "anja_paris: https://scontent-iad3-1.cdninstagram.com/t51.2885-19/s150x150/17077404_1690863681211261_6954189962241638400_a.jpg\n",
      "mamaandtata: https://scontent-sit4-1.cdninstagram.com/t51.2885-19/s150x150/12519457_1602022530119024_522353566_a.jpg\n",
      "carolynunwin: https://scontent-hkg3-1.cdninstagram.com/t51.2885-19/10683966_712193472190817_1380784984_a.jpg\n",
      "loveassali: https://scontent-hkg3-1.cdninstagram.com/t51.2885-19/s150x150/16789213_151827798665791_7933808707526197248_a.jpg\n",
      "redcarterofficial: https://scontent-mxp1-1.cdninstagram.com/t51.2885-19/s150x150/22427150_212823769255801_8580265237637234688_n.jpg\n",
      "roarkenyc: https://scontent-hkg3-1.cdninstagram.com/t51.2885-19/s150x150/12063066_1056205924391177_1162630405_a.jpg\n",
      "theartistgroup not found at https://scontent-iad3-1.cdninstagram.com/t51.2885-19/10375840_1469823379921701_1167418827_a.jpg\n",
      "cremedelacremealaedgar: https://scontent-iad3-1.cdninstagram.com/t51.2885-19/11820447_702713063192128_1038247785_a.jpg\n",
      "natkelley not found at https://scontent-hkg3-1.cdninstagram.com/t51.2885-19/s150x150/13725525_150128975419850_935747723_a.jpg\n",
      "babybloomkids: https://scontent-mxp1-1.cdninstagram.com/t51.2885-19/s150x150/15803167_1832637533684856_5849175497811951616_a.jpg\n",
      "anniesloanspain: https://scontent-hkg3-1.cdninstagram.com/t51.2885-19/11348366_1682101668688294_1683583112_a.jpg\n",
      "lalesso not found at https://scontent-hkg3-1.cdninstagram.com/t51.2885-19/s150x150/14583472_1838728129743768_5713452581343199232_n.jpg\n",
      "bastetseker: https://scontent-mxp1-1.cdninstagram.com/t51.2885-19/11375305_1615157885434425_2012940037_a.jpg\n",
      "senzabela: https://scontent-sit4-1.cdninstagram.com/t51.2885-19/s150x150/14359937_570228413161306_8630442541692485632_a.jpg\n",
      "experiencezazaii: https://scontent-hkg3-1.cdninstagram.com/t51.2885-19/11257325_659217870882281_1784624017_a.jpg\n",
      "abbeyclancyofficial: https://scontent-iad3-1.cdninstagram.com/t51.2885-19/11376290_745969262216080_1457776816_a.jpg\n",
      "lesjulestahiti not found at https://scontent-iad3-1.cdninstagram.com/t51.2885-19/s150x150/18722998_1823257398002311_93127616965378048_a.jpg\n",
      "pingiaocubo: https://scontent-sit4-1.cdninstagram.com/t51.2885-19/s150x150/14027321_1338398202838745_1624561607_a.jpg\n",
      "wearekindred: https://scontent-sit4-1.cdninstagram.com/t51.2885-19/s150x150/19120359_226380221213538_2666081660293873664_a.jpg\n",
      "folkfortune: https://scontent-sin6-1.cdninstagram.com/t51.2885-19/s150x150/14727617_1828913260727392_2694563160391680000_a.jpg\n",
      "_louislesouefandco_: https://scontent-iad3-1.cdninstagram.com/t51.2885-19/s150x150/18251922_1379984372048272_3948998351638233088_a.jpg\n",
      "mezzi_official: https://scontent-iad3-1.cdninstagram.com/t51.2885-19/s150x150/15877359_117754495398951_3465016964001300480_n.jpg\n",
      "mydesignhouse: https://scontent-mxp1-1.cdninstagram.com/t51.2885-19/s150x150/17075859_1328205437224990_6182960341509472256_a.jpg\n",
      "zuzannagbrandstore: https://scontent-hkg3-1.cdninstagram.com/t51.2885-19/s150x150/22711013_351975178596283_7291666635272749056_n.jpg\n",
      "extractlemon: https://scontent-mxp1-1.cdninstagram.com/t51.2885-19/10584613_1087210981295056_1290216995_a.jpg\n",
      "philosofee_: https://scontent-sit4-1.cdninstagram.com/t51.2885-19/s150x150/19436214_258622667875556_7333606943673548800_a.jpg\n",
      "lovesunsetnails: https://scontent-hkg3-1.cdninstagram.com/t51.2885-19/s150x150/14031757_998696303581432_1307585277_a.jpg\n",
      "conmusica_gye: https://scontent-hkg3-1.cdninstagram.com/t51.2885-19/11143015_1430447600600969_652456650_a.jpg\n",
      "coolhatstocados: https://scontent-mxp1-1.cdninstagram.com/t51.2885-19/s150x150/14591890_201426536953157_1381354631644315648_n.jpg\n",
      "4u2by: https://scontent-sit4-1.cdninstagram.com/t51.2885-19/s150x150/17438618_451523188518100_6284015570455101440_n.jpg\n",
      "patrizia_daliana_gioielli not found at https://scontent-hkg3-1.cdninstagram.com/t51.2885-19/s150x150/12558918_1711814772375775_1403207941_a.jpg\n",
      "saei.jamshid: https://scontent-hkg3-1.cdninstagram.com/t51.2885-19/s150x150/13743470_1189361037804248_651268167_a.jpg\n",
      "vintageonlythebest: https://scontent-hkg3-1.cdninstagram.com/t51.2885-19/11265365_425138137678899_1593502661_a.jpg\n",
      "oliviadar not found at https://scontent-mxp1-1.cdninstagram.com/t51.2885-19/s150x150/17934663_1489380681104098_8952443249260232704_a.jpg\n",
      "munnudesign: https://scontent-sin6-1.cdninstagram.com/t51.2885-19/s150x150/14676666_1776314889308932_9198103679100518400_a.jpg\n",
      "tamarlandau_tml: https://scontent-sea1-1.cdninstagram.com/t51.2885-19/s150x150/12407482_968340279917988_761907627_a.jpg\n",
      "stripeandstare: https://scontent-mxp1-1.cdninstagram.com/t51.2885-19/s150x150/22637440_1967546593488538_4943845642205134848_n.jpg\n",
      "lovestory_official: https://scontent-sea1-1.cdninstagram.com/t51.2885-19/11849894_1628755000732221_688145100_a.jpg\n",
      "fromthesehands: https://scontent-hkg3-1.cdninstagram.com/t51.2885-19/10693411_714734005285122_788796343_a.jpg\n",
      "lodgewaycountrywear not found at https://scontent-sjc2-1.cdninstagram.com/t51.2885-19/10453663_393020127545441_490338560_a.jpg\n",
      "ekaterinipietri: https://scontent-mxp1-1.cdninstagram.com/t51.2885-19/s150x150/19228324_1729641307053634_8432942963121717248_a.jpg\n"
     ]
    }
   ],
   "source": [
    "consumers_account_data.apply(lambda row: download_pic(row['username'], row['profile_pic_url'], 'consumers'), axis=1)\n",
    "others_account_data.apply(lambda row: download_pic(row['username'], row['profile_pic_url'], 'others'), axis=1)"
   ]
  },
  {
   "cell_type": "markdown",
   "metadata": {},
   "source": [
    "Let's try to detect some faces in the profile pics"
   ]
  },
  {
   "cell_type": "code",
   "execution_count": 2,
   "metadata": {
    "collapsed": true,
    "scrolled": false
   },
   "outputs": [],
   "source": [
    "def get_faces_in_pics(folder_path, cascades_dict):\n",
    "    users_faces = pd.DataFrame(columns=['username', 'def', 'alt', 'alt2', 'tree'])\n",
    "    cascades = {name:cv2.CascadeClassifier(cascade_path) for (name, cascade_path) in cascades_dict.items()}\n",
    "    #looks for faces in consumers profile pics\n",
    "    for root, dirs, files in os.walk(folder_path):\n",
    "        print(str(len(files)) + ' files were found at ' + folder_path)\n",
    "        for filename in files:\n",
    "            img = cv2.imread(folder_path + filename, 0)\n",
    "            faces = {}\n",
    "            for k, cascade in cascades.items():\n",
    "                faces[k] = cascade.detectMultiScale(img, scaleFactor=1.01, minNeighbors=5)\n",
    "                for (x, y, w, h) in faces[k]:     \n",
    "                    cv2.rectangle(img, (x, y), (x+w, y+h), (0, 255, 0), 2)\n",
    "                cv2.imwrite(folder_path + 'squared/' + filename[:-4] + '_' + k + '.jpg', img)\n",
    "            row = {k: len(matches) for k, matches in faces.items()}\n",
    "            row['username'] = filename[:-4]\n",
    "            users_faces = users_faces.append(row, ignore_index=True)\n",
    "        break\n",
    "    return users_faces"
   ]
  },
  {
   "cell_type": "code",
   "execution_count": 3,
   "metadata": {},
   "outputs": [
    {
     "name": "stdout",
     "output_type": "stream",
     "text": [
      "433 files were found at /home/moreno/Documents/DataShack/dataswag/followers_classification/data/profile_pics/consumers/\n",
      "103 files were found at /home/moreno/Documents/DataShack/dataswag/followers_classification/data/profile_pics/others/\n"
     ]
    }
   ],
   "source": [
    "#cascade_path = \n",
    "#get_faces_in_pics('/home/moreno/Documents/DataShack/dataswag/followers_classification/data/profile_pics/consumers/')\n",
    "#get_faces_in_pics('/home/moreno/Documents/DataShack/dataswag/followers_classification/data/profile_pics/others/')\n",
    "frontal_def_face_path = '/home/moreno/anaconda3/envs/datashack/share/OpenCV/haarcascades/haarcascade_frontalface_default.xml'\n",
    "frontal_alt_face_path = '/home/moreno/anaconda3/envs/datashack/share/OpenCV/haarcascades/haarcascade_frontalface_alt.xml'\n",
    "frontal_alt2_face_path = '/home/moreno/anaconda3/envs/datashack/share/OpenCV/haarcascades/haarcascade_frontalface_alt2.xml'\n",
    "frontal_tree_face_path = '/home/moreno/anaconda3/envs/datashack/share/OpenCV/haarcascades/haarcascade_frontalface_alt_tree.xml'\n",
    "\n",
    "profile_face_path = '/home/moreno/anaconda3/envs/datashack/share/OpenCV/haarcascades/haarcascade_profileface.xml'\n",
    "upper_body_path = '/home/moreno/anaconda3/envs/datashack/share/OpenCV/haarcascades/haarcascade_upperbody.xml'\n",
    "consumers_path = '/home/moreno/Documents/DataShack/dataswag/followers_classification/data/profile_pics/consumers/'\n",
    "others_path = '/home/moreno/Documents/DataShack/dataswag/followers_classification/data/profile_pics/others/'\n",
    "cascades =  {'def': frontal_def_face_path, 'alt': frontal_alt_face_path, 'alt2': frontal_alt2_face_path, \n",
    "             'tree': frontal_tree_face_path}\n",
    "consumer_faces = get_faces_in_pics(consumers_path, cascades)\n",
    "others_faces = get_faces_in_pics(others_path, cascades)"
   ]
  },
  {
   "cell_type": "markdown",
   "metadata": {},
   "source": [
    "Let's look for text-"
   ]
  },
  {
   "cell_type": "code",
   "execution_count": 140,
   "metadata": {
    "collapsed": true
   },
   "outputs": [],
   "source": [
    "def get_text_in_pics(folder_path):\n",
    "    users_text = pd.DataFrame(columns=['username', 'text'])\n",
    "    for root, dirs, files in os.walk(folder_path):\n",
    "            print(str(len(files)) + ' files were found at ' + folder_path)\n",
    "            for filename in files:\n",
    "                img = cv2.imread(folder_path + filename, 0)\n",
    "                try:\n",
    "                    text = pytesseract.image_to_string(img)\n",
    "                except TypeError:\n",
    "                    print(img)\n",
    "                matches = len(text)\n",
    "                users_text = users_text.append({'username': filename[:-4], 'text': (matches > 0)}, ignore_index=True)\n",
    "            break\n",
    "    return users_text"
   ]
  },
  {
   "cell_type": "code",
   "execution_count": 141,
   "metadata": {},
   "outputs": [
    {
     "name": "stdout",
     "output_type": "stream",
     "text": [
      "103 files were found at /home/moreno/Documents/DataShack/dataswag/followers_classification/data/profile_pics/others/\n",
      "None\n"
     ]
    }
   ],
   "source": [
    "consumer_text = get_text_in_pics(consumers_path)\n",
    "others_text = get_text_in_pics(others_path)"
   ]
  },
  {
   "cell_type": "code",
   "execution_count": 143,
   "metadata": {},
   "outputs": [
    {
     "name": "stdout",
     "output_type": "stream",
     "text": [
      "32\n",
      "33\n"
     ]
    }
   ],
   "source": [
    "print(len(consumer_text.loc[consumer_text['text'] == True]))\n",
    "print(len(others_text.loc[others_text['text'] == True]))"
   ]
  },
  {
   "cell_type": "code",
   "execution_count": 4,
   "metadata": {},
   "outputs": [
    {
     "name": "stdout",
     "output_type": "stream",
     "text": [
      "103 files were found at /home/moreno/Documents/DataShack/dataswag/followers_classification/data/profile_pics/others/\n"
     ]
    }
   ],
   "source": [
    "files_in_folder = pd.DataFrame(columns=['filename', 'face'])\n",
    "for root, dirs, files in os.walk(others_path):\n",
    "        print(str(len(files)) + ' files were found at ' + others_path)\n",
    "        for filename in files:\n",
    "            files_in_folder = files_in_folder.append({'filename': filename, 'face': 0}, ignore_index=True)\n",
    "        break\n",
    "files_in_folder.to_csv('others_files.csv')"
   ]
  },
  {
   "cell_type": "code",
   "execution_count": 14,
   "metadata": {},
   "outputs": [
    {
     "data": {
      "text/html": [
       "<div>\n",
       "<style scoped>\n",
       "    .dataframe tbody tr th:only-of-type {\n",
       "        vertical-align: middle;\n",
       "    }\n",
       "\n",
       "    .dataframe tbody tr th {\n",
       "        vertical-align: top;\n",
       "    }\n",
       "\n",
       "    .dataframe thead th {\n",
       "        text-align: right;\n",
       "    }\n",
       "</style>\n",
       "<table border=\"1\" class=\"dataframe\">\n",
       "  <thead>\n",
       "    <tr style=\"text-align: right;\">\n",
       "      <th></th>\n",
       "      <th>face</th>\n",
       "      <th>username</th>\n",
       "      <th>def</th>\n",
       "      <th>alt</th>\n",
       "      <th>alt2</th>\n",
       "      <th>tree</th>\n",
       "    </tr>\n",
       "  </thead>\n",
       "  <tbody>\n",
       "    <tr>\n",
       "      <th>0</th>\n",
       "      <td>0</td>\n",
       "      <td>25park</td>\n",
       "      <td>0</td>\n",
       "      <td>0</td>\n",
       "      <td>0</td>\n",
       "      <td>0</td>\n",
       "    </tr>\n",
       "    <tr>\n",
       "      <th>1</th>\n",
       "      <td>0</td>\n",
       "      <td>4u2by</td>\n",
       "      <td>0</td>\n",
       "      <td>0</td>\n",
       "      <td>0</td>\n",
       "      <td>0</td>\n",
       "    </tr>\n",
       "    <tr>\n",
       "      <th>2</th>\n",
       "      <td>0</td>\n",
       "      <td>abbeyclancyofficial</td>\n",
       "      <td>0</td>\n",
       "      <td>0</td>\n",
       "      <td>0</td>\n",
       "      <td>0</td>\n",
       "    </tr>\n",
       "    <tr>\n",
       "      <th>3</th>\n",
       "      <td>0</td>\n",
       "      <td>aetrex_israel_ltd</td>\n",
       "      <td>0</td>\n",
       "      <td>0</td>\n",
       "      <td>0</td>\n",
       "      <td>0</td>\n",
       "    </tr>\n",
       "    <tr>\n",
       "      <th>4</th>\n",
       "      <td>0</td>\n",
       "      <td>agendawhite</td>\n",
       "      <td>0</td>\n",
       "      <td>0</td>\n",
       "      <td>0</td>\n",
       "      <td>0</td>\n",
       "    </tr>\n",
       "  </tbody>\n",
       "</table>\n",
       "</div>"
      ],
      "text/plain": [
       "   face             username  def  alt  alt2  tree\n",
       "0     0               25park    0    0     0     0\n",
       "1     0                4u2by    0    0     0     0\n",
       "2     0  abbeyclancyofficial    0    0     0     0\n",
       "3     0    aetrex_israel_ltd    0    0     0     0\n",
       "4     0          agendawhite    0    0     0     0"
      ]
     },
     "execution_count": 14,
     "metadata": {},
     "output_type": "execute_result"
    }
   ],
   "source": [
    "others_tp = pd.read_csv('others_files.csv')\n",
    "others_tp['username'] = others_tp['filename'].apply(lambda x: x[:-4])\n",
    "others_tp.drop(columns = ['filename', 'Unnamed: 0'], inplace=True)\n",
    "total = others_tp.merge(others_faces, on='username')\n",
    "total['alt'] = total['alt'].apply(lambda x: int(x > 0))\n",
    "total['alt2'] = total['alt2'].apply(lambda x: int(x > 0))\n",
    "total['def'] = total['def'].apply(lambda x: int(x > 0))\n",
    "total['tree'] = total['tree'].apply(lambda x: int(x > 0))\n",
    "total.head()"
   ]
  },
  {
   "cell_type": "code",
   "execution_count": 212,
   "metadata": {
    "collapsed": true
   },
   "outputs": [],
   "source": [
    "def plot_cm(cm):\n",
    "    classes = ['no-face', 'face']\n",
    "    plt.figure()\n",
    "    plt.imshow(def_cm, interpolation='nearest', cmap=plt.cm.Blues)\n",
    "    plt.colorbar()\n",
    "    tick_marks = np.arange(len(classes))\n",
    "    plt.xticks(tick_marks, classes, rotation=45)\n",
    "    plt.yticks(tick_marks, classes)\n",
    "\n",
    "    fmt = 'd'\n",
    "    thresh = cm.max() / 2.\n",
    "    for i, j in itertools.product(range(cm.shape[0]), range(cm.shape[1])):\n",
    "        plt.text(j, i, format(cm[i, j], fmt),\n",
    "                 horizontalalignment=\"center\",\n",
    "                 color=\"white\" if def_cm[i, j] > thresh else \"black\")\n",
    "\n",
    "    plt.tight_layout()\n",
    "    plt.ylabel('True label')\n",
    "    plt.xlabel('Predicted label')\n",
    "    plt.show()"
   ]
  },
  {
   "cell_type": "code",
   "execution_count": 213,
   "metadata": {},
   "outputs": [
    {
     "data": {
      "image/png": "[encoded data removed]",
      "text/plain": [
       "<Figure size 432x288 with 2 Axes>"
      ]
     },
     "metadata": {},
     "output_type": "display_data"
    }
   ],
   "source": [
    "plot_cm(confusion_matrix(total['face'].as_matrix(), total['def'].as_matrix()))"
   ]
  },
  {
   "cell_type": "code",
   "execution_count": 214,
   "metadata": {},
   "outputs": [
    {
     "data": {
      "image/png": "[encoded data removed]",
      "text/plain": [
       "<Figure size 432x288 with 2 Axes>"
      ]
     },
     "metadata": {},
     "output_type": "display_data"
    }
   ],
   "source": [
    "plot_cm(confusion_matrix(total['face'].as_matrix(), total['alt'].as_matrix()))"
   ]
  },
  {
   "cell_type": "code",
   "execution_count": 215,
   "metadata": {},
   "outputs": [
    {
     "data": {
      "image/png": "[encoded data removed]",
      "text/plain": [
       "<Figure size 432x288 with 2 Axes>"
      ]
     },
     "metadata": {},
     "output_type": "display_data"
    }
   ],
   "source": [
    "plot_cm(confusion_matrix(total['face'].as_matrix(), total['alt2'].as_matrix()))"
   ]
  },
  {
   "cell_type": "code",
   "execution_count": 216,
   "metadata": {},
   "outputs": [
    {
     "data": {
      "image/png": "[encoded data removed]",
      "text/plain": [
       "<Figure size 432x288 with 2 Axes>"
      ]
     },
     "metadata": {},
     "output_type": "display_data"
    }
   ],
   "source": [
    "plot_cm(confusion_matrix(total['face'].as_matrix(), total['tree'].as_matrix()))"
   ]
  },
  {
   "cell_type": "code",
   "execution_count": 217,
   "metadata": {
    "scrolled": true
   },
   "outputs": [
    {
     "name": "stdout",
     "output_type": "stream",
     "text": [
      "              username  face  def  alt  alt2  tree\n",
      "10           arossgirl     1    1    1     1     1\n",
      "41        jenniferbehr     1    1    1     1     1\n",
      "48          loveassali     1    1    1     1     1\n",
      "49  lovestory_official     1    1    1     1     1\n",
      "73           samudra11     1    1    1     1     1\n",
      "87         thelouloves     1    1    1     1     1\n",
      "95        wearekindred     1    1    1     1     1\n",
      "96       whitemontreal     1    1    1     1     1\n"
     ]
    }
   ],
   "source": [
    "print(total.loc[total['tree'] == 1])"
   ]
  },
  {
   "cell_type": "code",
   "execution_count": 226,
   "metadata": {},
   "outputs": [
    {
     "name": "stdout",
     "output_type": "stream",
     "text": [
      "433 files were found at /home/moreno/Documents/DataShack/dataswag/followers_classification/data/profile_pics/consumers/\n"
     ]
    }
   ],
   "source": [
    "files_in_folder = pd.DataFrame(columns=['filename', 'face'])\n",
    "for root, dirs, files in os.walk(consumers_path):\n",
    "        print(str(len(files)) + ' files were found at ' + consumers_path)\n",
    "        for filename in files:\n",
    "            files_in_folder = files_in_folder.append({'username': filename[:-4], 'face': 1}, ignore_index=True)\n",
    "        break\n",
    "files_in_folder.to_csv('consumers_files.csv')"
   ]
  },
  {
   "cell_type": "code",
   "execution_count": 13,
   "metadata": {},
   "outputs": [
    {
     "data": {
      "text/html": [
       "<div>\n",
       "<style scoped>\n",
       "    .dataframe tbody tr th:only-of-type {\n",
       "        vertical-align: middle;\n",
       "    }\n",
       "\n",
       "    .dataframe tbody tr th {\n",
       "        vertical-align: top;\n",
       "    }\n",
       "\n",
       "    .dataframe thead th {\n",
       "        text-align: right;\n",
       "    }\n",
       "</style>\n",
       "<table border=\"1\" class=\"dataframe\">\n",
       "  <thead>\n",
       "    <tr style=\"text-align: right;\">\n",
       "      <th></th>\n",
       "      <th>username</th>\n",
       "      <th>face</th>\n",
       "      <th>def</th>\n",
       "      <th>alt</th>\n",
       "      <th>alt2</th>\n",
       "      <th>tree</th>\n",
       "    </tr>\n",
       "  </thead>\n",
       "  <tbody>\n",
       "    <tr>\n",
       "      <th>0</th>\n",
       "      <td>___brookeb___</td>\n",
       "      <td>1</td>\n",
       "      <td>1</td>\n",
       "      <td>1</td>\n",
       "      <td>1</td>\n",
       "      <td>1</td>\n",
       "    </tr>\n",
       "    <tr>\n",
       "      <th>1</th>\n",
       "      <td>_flat_earth_</td>\n",
       "      <td>0</td>\n",
       "      <td>0</td>\n",
       "      <td>0</td>\n",
       "      <td>0</td>\n",
       "      <td>0</td>\n",
       "    </tr>\n",
       "    <tr>\n",
       "      <th>2</th>\n",
       "      <td>_g_romanova</td>\n",
       "      <td>1</td>\n",
       "      <td>0</td>\n",
       "      <td>0</td>\n",
       "      <td>0</td>\n",
       "      <td>0</td>\n",
       "    </tr>\n",
       "    <tr>\n",
       "      <th>3</th>\n",
       "      <td>_theresearcher_</td>\n",
       "      <td>1</td>\n",
       "      <td>0</td>\n",
       "      <td>0</td>\n",
       "      <td>0</td>\n",
       "      <td>0</td>\n",
       "    </tr>\n",
       "    <tr>\n",
       "      <th>4</th>\n",
       "      <td>abdeherrera</td>\n",
       "      <td>1</td>\n",
       "      <td>1</td>\n",
       "      <td>1</td>\n",
       "      <td>1</td>\n",
       "      <td>0</td>\n",
       "    </tr>\n",
       "    <tr>\n",
       "      <th>5</th>\n",
       "      <td>abelle1010</td>\n",
       "      <td>1</td>\n",
       "      <td>1</td>\n",
       "      <td>1</td>\n",
       "      <td>1</td>\n",
       "      <td>0</td>\n",
       "    </tr>\n",
       "    <tr>\n",
       "      <th>6</th>\n",
       "      <td>adenanohey7</td>\n",
       "      <td>1</td>\n",
       "      <td>1</td>\n",
       "      <td>0</td>\n",
       "      <td>0</td>\n",
       "      <td>0</td>\n",
       "    </tr>\n",
       "    <tr>\n",
       "      <th>7</th>\n",
       "      <td>adenylnatchelor</td>\n",
       "      <td>1</td>\n",
       "      <td>0</td>\n",
       "      <td>0</td>\n",
       "      <td>1</td>\n",
       "      <td>0</td>\n",
       "    </tr>\n",
       "    <tr>\n",
       "      <th>8</th>\n",
       "      <td>adva35</td>\n",
       "      <td>1</td>\n",
       "      <td>1</td>\n",
       "      <td>1</td>\n",
       "      <td>1</td>\n",
       "      <td>0</td>\n",
       "    </tr>\n",
       "    <tr>\n",
       "      <th>9</th>\n",
       "      <td>adyineadows</td>\n",
       "      <td>1</td>\n",
       "      <td>0</td>\n",
       "      <td>0</td>\n",
       "      <td>0</td>\n",
       "      <td>0</td>\n",
       "    </tr>\n",
       "    <tr>\n",
       "      <th>10</th>\n",
       "      <td>aethnardv</td>\n",
       "      <td>0</td>\n",
       "      <td>1</td>\n",
       "      <td>0</td>\n",
       "      <td>0</td>\n",
       "      <td>0</td>\n",
       "    </tr>\n",
       "    <tr>\n",
       "      <th>11</th>\n",
       "      <td>agleiyhentworth</td>\n",
       "      <td>0</td>\n",
       "      <td>0</td>\n",
       "      <td>0</td>\n",
       "      <td>0</td>\n",
       "      <td>0</td>\n",
       "    </tr>\n",
       "    <tr>\n",
       "      <th>12</th>\n",
       "      <td>agnem__</td>\n",
       "      <td>1</td>\n",
       "      <td>0</td>\n",
       "      <td>0</td>\n",
       "      <td>0</td>\n",
       "      <td>0</td>\n",
       "    </tr>\n",
       "    <tr>\n",
       "      <th>13</th>\n",
       "      <td>aidengsilh</td>\n",
       "      <td>1</td>\n",
       "      <td>1</td>\n",
       "      <td>1</td>\n",
       "      <td>1</td>\n",
       "      <td>0</td>\n",
       "    </tr>\n",
       "    <tr>\n",
       "      <th>14</th>\n",
       "      <td>aidenustinu</td>\n",
       "      <td>0</td>\n",
       "      <td>1</td>\n",
       "      <td>0</td>\n",
       "      <td>1</td>\n",
       "      <td>0</td>\n",
       "    </tr>\n",
       "    <tr>\n",
       "      <th>15</th>\n",
       "      <td>ainelavans</td>\n",
       "      <td>0</td>\n",
       "      <td>0</td>\n",
       "      <td>0</td>\n",
       "      <td>0</td>\n",
       "      <td>0</td>\n",
       "    </tr>\n",
       "    <tr>\n",
       "      <th>16</th>\n",
       "      <td>akhzly</td>\n",
       "      <td>1</td>\n",
       "      <td>1</td>\n",
       "      <td>1</td>\n",
       "      <td>1</td>\n",
       "      <td>1</td>\n",
       "    </tr>\n",
       "    <tr>\n",
       "      <th>17</th>\n",
       "      <td>alexandra__sage</td>\n",
       "      <td>1</td>\n",
       "      <td>0</td>\n",
       "      <td>0</td>\n",
       "      <td>0</td>\n",
       "      <td>0</td>\n",
       "    </tr>\n",
       "    <tr>\n",
       "      <th>18</th>\n",
       "      <td>alexandralhoward</td>\n",
       "      <td>1</td>\n",
       "      <td>1</td>\n",
       "      <td>1</td>\n",
       "      <td>1</td>\n",
       "      <td>0</td>\n",
       "    </tr>\n",
       "    <tr>\n",
       "      <th>19</th>\n",
       "      <td>aleyempseyk</td>\n",
       "      <td>1</td>\n",
       "      <td>1</td>\n",
       "      <td>1</td>\n",
       "      <td>1</td>\n",
       "      <td>1</td>\n",
       "    </tr>\n",
       "    <tr>\n",
       "      <th>20</th>\n",
       "      <td>aliceattonita1</td>\n",
       "      <td>0</td>\n",
       "      <td>1</td>\n",
       "      <td>0</td>\n",
       "      <td>0</td>\n",
       "      <td>0</td>\n",
       "    </tr>\n",
       "    <tr>\n",
       "      <th>21</th>\n",
       "      <td>alicemapy</td>\n",
       "      <td>1</td>\n",
       "      <td>0</td>\n",
       "      <td>0</td>\n",
       "      <td>0</td>\n",
       "      <td>0</td>\n",
       "    </tr>\n",
       "    <tr>\n",
       "      <th>22</th>\n",
       "      <td>allaboutoax</td>\n",
       "      <td>0</td>\n",
       "      <td>1</td>\n",
       "      <td>0</td>\n",
       "      <td>1</td>\n",
       "      <td>0</td>\n",
       "    </tr>\n",
       "    <tr>\n",
       "      <th>23</th>\n",
       "      <td>allegrasidylls</td>\n",
       "      <td>1</td>\n",
       "      <td>1</td>\n",
       "      <td>0</td>\n",
       "      <td>1</td>\n",
       "      <td>0</td>\n",
       "    </tr>\n",
       "    <tr>\n",
       "      <th>24</th>\n",
       "      <td>alotnrtega</td>\n",
       "      <td>0</td>\n",
       "      <td>0</td>\n",
       "      <td>0</td>\n",
       "      <td>1</td>\n",
       "      <td>0</td>\n",
       "    </tr>\n",
       "    <tr>\n",
       "      <th>25</th>\n",
       "      <td>amalkhourshid</td>\n",
       "      <td>1</td>\n",
       "      <td>0</td>\n",
       "      <td>0</td>\n",
       "      <td>0</td>\n",
       "      <td>0</td>\n",
       "    </tr>\n",
       "    <tr>\n",
       "      <th>26</th>\n",
       "      <td>amandapalivos</td>\n",
       "      <td>1</td>\n",
       "      <td>1</td>\n",
       "      <td>1</td>\n",
       "      <td>1</td>\n",
       "      <td>1</td>\n",
       "    </tr>\n",
       "    <tr>\n",
       "      <th>27</th>\n",
       "      <td>amiewoakes</td>\n",
       "      <td>1</td>\n",
       "      <td>1</td>\n",
       "      <td>1</td>\n",
       "      <td>1</td>\n",
       "      <td>1</td>\n",
       "    </tr>\n",
       "    <tr>\n",
       "      <th>28</th>\n",
       "      <td>amitshaham91</td>\n",
       "      <td>1</td>\n",
       "      <td>0</td>\n",
       "      <td>0</td>\n",
       "      <td>0</td>\n",
       "      <td>0</td>\n",
       "    </tr>\n",
       "    <tr>\n",
       "      <th>29</th>\n",
       "      <td>amysolarz</td>\n",
       "      <td>1</td>\n",
       "      <td>1</td>\n",
       "      <td>1</td>\n",
       "      <td>1</td>\n",
       "      <td>0</td>\n",
       "    </tr>\n",
       "    <tr>\n",
       "      <th>...</th>\n",
       "      <td>...</td>\n",
       "      <td>...</td>\n",
       "      <td>...</td>\n",
       "      <td>...</td>\n",
       "      <td>...</td>\n",
       "      <td>...</td>\n",
       "    </tr>\n",
       "    <tr>\n",
       "      <th>403</th>\n",
       "      <td>thewearnecessities</td>\n",
       "      <td>0</td>\n",
       "      <td>1</td>\n",
       "      <td>0</td>\n",
       "      <td>0</td>\n",
       "      <td>0</td>\n",
       "    </tr>\n",
       "    <tr>\n",
       "      <th>404</th>\n",
       "      <td>tiffany.kuw</td>\n",
       "      <td>1</td>\n",
       "      <td>1</td>\n",
       "      <td>1</td>\n",
       "      <td>1</td>\n",
       "      <td>0</td>\n",
       "    </tr>\n",
       "    <tr>\n",
       "      <th>405</th>\n",
       "      <td>tkats0073</td>\n",
       "      <td>0</td>\n",
       "      <td>1</td>\n",
       "      <td>1</td>\n",
       "      <td>1</td>\n",
       "      <td>0</td>\n",
       "    </tr>\n",
       "    <tr>\n",
       "      <th>406</th>\n",
       "      <td>tomajankauskaite</td>\n",
       "      <td>1</td>\n",
       "      <td>1</td>\n",
       "      <td>1</td>\n",
       "      <td>1</td>\n",
       "      <td>0</td>\n",
       "    </tr>\n",
       "    <tr>\n",
       "      <th>407</th>\n",
       "      <td>toyamatthews</td>\n",
       "      <td>0</td>\n",
       "      <td>0</td>\n",
       "      <td>0</td>\n",
       "      <td>0</td>\n",
       "      <td>0</td>\n",
       "    </tr>\n",
       "    <tr>\n",
       "      <th>408</th>\n",
       "      <td>tracy_ca</td>\n",
       "      <td>1</td>\n",
       "      <td>0</td>\n",
       "      <td>0</td>\n",
       "      <td>0</td>\n",
       "      <td>0</td>\n",
       "    </tr>\n",
       "    <tr>\n",
       "      <th>409</th>\n",
       "      <td>travelandtruffles</td>\n",
       "      <td>1</td>\n",
       "      <td>0</td>\n",
       "      <td>0</td>\n",
       "      <td>0</td>\n",
       "      <td>0</td>\n",
       "    </tr>\n",
       "    <tr>\n",
       "      <th>410</th>\n",
       "      <td>tutibarrera</td>\n",
       "      <td>1</td>\n",
       "      <td>1</td>\n",
       "      <td>1</td>\n",
       "      <td>1</td>\n",
       "      <td>1</td>\n",
       "    </tr>\n",
       "    <tr>\n",
       "      <th>411</th>\n",
       "      <td>uasnahnc</td>\n",
       "      <td>1</td>\n",
       "      <td>0</td>\n",
       "      <td>0</td>\n",
       "      <td>0</td>\n",
       "      <td>0</td>\n",
       "    </tr>\n",
       "    <tr>\n",
       "      <th>412</th>\n",
       "      <td>uincyrquhartf</td>\n",
       "      <td>0</td>\n",
       "      <td>0</td>\n",
       "      <td>0</td>\n",
       "      <td>0</td>\n",
       "      <td>0</td>\n",
       "    </tr>\n",
       "    <tr>\n",
       "      <th>413</th>\n",
       "      <td>umbertobullock</td>\n",
       "      <td>1</td>\n",
       "      <td>0</td>\n",
       "      <td>0</td>\n",
       "      <td>1</td>\n",
       "      <td>0</td>\n",
       "    </tr>\n",
       "    <tr>\n",
       "      <th>414</th>\n",
       "      <td>valentinapulazza</td>\n",
       "      <td>1</td>\n",
       "      <td>0</td>\n",
       "      <td>0</td>\n",
       "      <td>0</td>\n",
       "      <td>0</td>\n",
       "    </tr>\n",
       "    <tr>\n",
       "      <th>415</th>\n",
       "      <td>vaobertsd</td>\n",
       "      <td>1</td>\n",
       "      <td>0</td>\n",
       "      <td>0</td>\n",
       "      <td>0</td>\n",
       "      <td>0</td>\n",
       "    </tr>\n",
       "    <tr>\n",
       "      <th>416</th>\n",
       "      <td>veronica__romao</td>\n",
       "      <td>1</td>\n",
       "      <td>1</td>\n",
       "      <td>1</td>\n",
       "      <td>1</td>\n",
       "      <td>0</td>\n",
       "    </tr>\n",
       "    <tr>\n",
       "      <th>417</th>\n",
       "      <td>veroniksmarin</td>\n",
       "      <td>1</td>\n",
       "      <td>0</td>\n",
       "      <td>0</td>\n",
       "      <td>0</td>\n",
       "      <td>0</td>\n",
       "    </tr>\n",
       "    <tr>\n",
       "      <th>418</th>\n",
       "      <td>vickybayter1</td>\n",
       "      <td>1</td>\n",
       "      <td>1</td>\n",
       "      <td>1</td>\n",
       "      <td>1</td>\n",
       "      <td>1</td>\n",
       "    </tr>\n",
       "    <tr>\n",
       "      <th>419</th>\n",
       "      <td>viki_vika</td>\n",
       "      <td>1</td>\n",
       "      <td>1</td>\n",
       "      <td>0</td>\n",
       "      <td>0</td>\n",
       "      <td>0</td>\n",
       "    </tr>\n",
       "    <tr>\n",
       "      <th>420</th>\n",
       "      <td>vikkiyau</td>\n",
       "      <td>1</td>\n",
       "      <td>1</td>\n",
       "      <td>0</td>\n",
       "      <td>0</td>\n",
       "      <td>0</td>\n",
       "    </tr>\n",
       "    <tr>\n",
       "      <th>421</th>\n",
       "      <td>villysfashionpie</td>\n",
       "      <td>1</td>\n",
       "      <td>1</td>\n",
       "      <td>0</td>\n",
       "      <td>0</td>\n",
       "      <td>0</td>\n",
       "    </tr>\n",
       "    <tr>\n",
       "      <th>422</th>\n",
       "      <td>whiskyalfa</td>\n",
       "      <td>1</td>\n",
       "      <td>1</td>\n",
       "      <td>0</td>\n",
       "      <td>0</td>\n",
       "      <td>0</td>\n",
       "    </tr>\n",
       "    <tr>\n",
       "      <th>423</th>\n",
       "      <td>winnerobla</td>\n",
       "      <td>1</td>\n",
       "      <td>0</td>\n",
       "      <td>0</td>\n",
       "      <td>0</td>\n",
       "      <td>0</td>\n",
       "    </tr>\n",
       "    <tr>\n",
       "      <th>424</th>\n",
       "      <td>x930321x</td>\n",
       "      <td>1</td>\n",
       "      <td>1</td>\n",
       "      <td>0</td>\n",
       "      <td>0</td>\n",
       "      <td>0</td>\n",
       "    </tr>\n",
       "    <tr>\n",
       "      <th>425</th>\n",
       "      <td>xizzzcake</td>\n",
       "      <td>1</td>\n",
       "      <td>0</td>\n",
       "      <td>0</td>\n",
       "      <td>0</td>\n",
       "      <td>0</td>\n",
       "    </tr>\n",
       "    <tr>\n",
       "      <th>426</th>\n",
       "      <td>yasiaoungu</td>\n",
       "      <td>1</td>\n",
       "      <td>0</td>\n",
       "      <td>0</td>\n",
       "      <td>0</td>\n",
       "      <td>0</td>\n",
       "    </tr>\n",
       "    <tr>\n",
       "      <th>427</th>\n",
       "      <td>ygng_interior_design</td>\n",
       "      <td>0</td>\n",
       "      <td>0</td>\n",
       "      <td>0</td>\n",
       "      <td>0</td>\n",
       "      <td>0</td>\n",
       "    </tr>\n",
       "    <tr>\n",
       "      <th>428</th>\n",
       "      <td>yriciekcy</td>\n",
       "      <td>0</td>\n",
       "      <td>0</td>\n",
       "      <td>0</td>\n",
       "      <td>0</td>\n",
       "      <td>0</td>\n",
       "    </tr>\n",
       "    <tr>\n",
       "      <th>429</th>\n",
       "      <td>z.bern</td>\n",
       "      <td>1</td>\n",
       "      <td>1</td>\n",
       "      <td>0</td>\n",
       "      <td>0</td>\n",
       "      <td>0</td>\n",
       "    </tr>\n",
       "    <tr>\n",
       "      <th>430</th>\n",
       "      <td>zalaaa7</td>\n",
       "      <td>1</td>\n",
       "      <td>1</td>\n",
       "      <td>0</td>\n",
       "      <td>0</td>\n",
       "      <td>0</td>\n",
       "    </tr>\n",
       "    <tr>\n",
       "      <th>431</th>\n",
       "      <td>zeynepbeyli</td>\n",
       "      <td>1</td>\n",
       "      <td>0</td>\n",
       "      <td>0</td>\n",
       "      <td>0</td>\n",
       "      <td>0</td>\n",
       "    </tr>\n",
       "    <tr>\n",
       "      <th>432</th>\n",
       "      <td>zmengmengmengmeng</td>\n",
       "      <td>1</td>\n",
       "      <td>0</td>\n",
       "      <td>0</td>\n",
       "      <td>0</td>\n",
       "      <td>0</td>\n",
       "    </tr>\n",
       "  </tbody>\n",
       "</table>\n",
       "<p>433 rows × 6 columns</p>\n",
       "</div>"
      ],
      "text/plain": [
       "                 username  face  def  alt  alt2  tree\n",
       "0           ___brookeb___     1    1    1     1     1\n",
       "1            _flat_earth_     0    0    0     0     0\n",
       "2             _g_romanova     1    0    0     0     0\n",
       "3         _theresearcher_     1    0    0     0     0\n",
       "4             abdeherrera     1    1    1     1     0\n",
       "5              abelle1010     1    1    1     1     0\n",
       "6             adenanohey7     1    1    0     0     0\n",
       "7         adenylnatchelor     1    0    0     1     0\n",
       "8                  adva35     1    1    1     1     0\n",
       "9             adyineadows     1    0    0     0     0\n",
       "10              aethnardv     0    1    0     0     0\n",
       "11        agleiyhentworth     0    0    0     0     0\n",
       "12                agnem__     1    0    0     0     0\n",
       "13             aidengsilh     1    1    1     1     0\n",
       "14            aidenustinu     0    1    0     1     0\n",
       "15             ainelavans     0    0    0     0     0\n",
       "16                 akhzly     1    1    1     1     1\n",
       "17        alexandra__sage     1    0    0     0     0\n",
       "18       alexandralhoward     1    1    1     1     0\n",
       "19            aleyempseyk     1    1    1     1     1\n",
       "20         aliceattonita1     0    1    0     0     0\n",
       "21              alicemapy     1    0    0     0     0\n",
       "22            allaboutoax     0    1    0     1     0\n",
       "23         allegrasidylls     1    1    0     1     0\n",
       "24             alotnrtega     0    0    0     1     0\n",
       "25          amalkhourshid     1    0    0     0     0\n",
       "26          amandapalivos     1    1    1     1     1\n",
       "27             amiewoakes     1    1    1     1     1\n",
       "28           amitshaham91     1    0    0     0     0\n",
       "29              amysolarz     1    1    1     1     0\n",
       "..                    ...   ...  ...  ...   ...   ...\n",
       "403    thewearnecessities     0    1    0     0     0\n",
       "404           tiffany.kuw     1    1    1     1     0\n",
       "405             tkats0073     0    1    1     1     0\n",
       "406      tomajankauskaite     1    1    1     1     0\n",
       "407          toyamatthews     0    0    0     0     0\n",
       "408              tracy_ca     1    0    0     0     0\n",
       "409     travelandtruffles     1    0    0     0     0\n",
       "410           tutibarrera     1    1    1     1     1\n",
       "411              uasnahnc     1    0    0     0     0\n",
       "412         uincyrquhartf     0    0    0     0     0\n",
       "413        umbertobullock     1    0    0     1     0\n",
       "414      valentinapulazza     1    0    0     0     0\n",
       "415             vaobertsd     1    0    0     0     0\n",
       "416       veronica__romao     1    1    1     1     0\n",
       "417         veroniksmarin     1    0    0     0     0\n",
       "418          vickybayter1     1    1    1     1     1\n",
       "419             viki_vika     1    1    0     0     0\n",
       "420              vikkiyau     1    1    0     0     0\n",
       "421      villysfashionpie     1    1    0     0     0\n",
       "422            whiskyalfa     1    1    0     0     0\n",
       "423            winnerobla     1    0    0     0     0\n",
       "424              x930321x     1    1    0     0     0\n",
       "425             xizzzcake     1    0    0     0     0\n",
       "426            yasiaoungu     1    0    0     0     0\n",
       "427  ygng_interior_design     0    0    0     0     0\n",
       "428             yriciekcy     0    0    0     0     0\n",
       "429                z.bern     1    1    0     0     0\n",
       "430               zalaaa7     1    1    0     0     0\n",
       "431           zeynepbeyli     1    0    0     0     0\n",
       "432     zmengmengmengmeng     1    0    0     0     0\n",
       "\n",
       "[433 rows x 6 columns]"
      ]
     },
     "execution_count": 13,
     "metadata": {},
     "output_type": "execute_result"
    }
   ],
   "source": [
    "consumers_tp = pd.read_csv('consumers_files.csv')\n",
    "c_total = consumers_tp.merge(consumer_faces, on='username')\n",
    "c_total['alt'] = c_total['alt'].apply(lambda x: int(x > 0))\n",
    "c_total['alt2'] = c_total['alt2'].apply(lambda x: int(x > 0))\n",
    "c_total['def'] = c_total['def'].apply(lambda x: int(x > 0))\n",
    "c_total['tree'] = c_total['tree'].apply(lambda x: int(x > 0))\n",
    "c_total"
   ]
  },
  {
   "cell_type": "code",
   "execution_count": null,
   "metadata": {
    "collapsed": true
   },
   "outputs": [],
   "source": []
  }
 ],
 "metadata": {
  "kernelspec": {
   "display_name": "Python 3",
   "language": "python",
   "name": "python3"
  }
 },
 "nbformat": 4,
 "nbformat_minor": 2
}
