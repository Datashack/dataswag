{
 "cells": [
  {
   "cell_type": "code",
   "execution_count": 2,
   "metadata": {
    "collapsed": true
   },
   "outputs": [],
   "source": [
    "import pandas as pd\n",
    "import numpy as np\n",
    "\n",
    "E = pd.read_csv('emporiosirenuse_posts.csv',sep=\",\")"
   ]
  },
  {
   "cell_type": "code",
   "execution_count": 3,
   "metadata": {
    "collapsed": true
   },
   "outputs": [],
   "source": [
    "D = pd.read_csv('dodobaror_posts.csv',sep=\",\")"
   ]
  },
  {
   "cell_type": "code",
   "execution_count": 6,
   "metadata": {},
   "outputs": [
    {
     "data": {
      "text/html": [
       "<div>\n",
       "<style scoped>\n",
       "    .dataframe tbody tr th:only-of-type {\n",
       "        vertical-align: middle;\n",
       "    }\n",
       "\n",
       "    .dataframe tbody tr th {\n",
       "        vertical-align: top;\n",
       "    }\n",
       "\n",
       "    .dataframe thead th {\n",
       "        text-align: right;\n",
       "    }\n",
       "</style>\n",
       "<table border=\"1\" class=\"dataframe\">\n",
       "  <thead>\n",
       "    <tr style=\"text-align: right;\">\n",
       "      <th></th>\n",
       "      <th>id_post</th>\n",
       "      <th>username</th>\n",
       "      <th>video_count</th>\n",
       "      <th>url_img</th>\n",
       "      <th>link_post</th>\n",
       "      <th>owner</th>\n",
       "      <th>caption</th>\n",
       "      <th>comment_count</th>\n",
       "      <th>taken_at_timestamp</th>\n",
       "      <th>taken_at_time</th>\n",
       "      <th>shortcode</th>\n",
       "      <th>is_video</th>\n",
       "      <th>likes_count</th>\n",
       "    </tr>\n",
       "  </thead>\n",
       "  <tbody>\n",
       "    <tr>\n",
       "      <th>0</th>\n",
       "      <td>1626715614041340120</td>\n",
       "      <td>emporiosirenuse</td>\n",
       "      <td>0</td>\n",
       "      <td>https://scontent-mxp1-1.cdninstagram.com/t51.2...</td>\n",
       "      <td>https://www.instagram.com/p/BaTQTt1g_jY</td>\n",
       "      <td>2252447111</td>\n",
       "      <td>Good morning from Positano 🌊 —————————————————...</td>\n",
       "      <td>4</td>\n",
       "      <td>1508139634</td>\n",
       "      <td>2017-10-16 09:40:34</td>\n",
       "      <td>BaTQTt1g_jY</td>\n",
       "      <td>False</td>\n",
       "      <td>250</td>\n",
       "    </tr>\n",
       "    <tr>\n",
       "      <th>1</th>\n",
       "      <td>1624081541577781641</td>\n",
       "      <td>emporiosirenuse</td>\n",
       "      <td>0</td>\n",
       "      <td>https://scontent-mxp1-1.cdninstagram.com/t51.2...</td>\n",
       "      <td>https://www.instagram.com/p/BaJ5Y6sAzGJ</td>\n",
       "      <td>2252447111</td>\n",
       "      <td>Using the Amalfi Coast's leafy cover on one of...</td>\n",
       "      <td>2</td>\n",
       "      <td>1507825628</td>\n",
       "      <td>2017-10-12 18:27:08</td>\n",
       "      <td>BaJ5Y6sAzGJ</td>\n",
       "      <td>False</td>\n",
       "      <td>77</td>\n",
       "    </tr>\n",
       "    <tr>\n",
       "      <th>2</th>\n",
       "      <td>1622755917101740863</td>\n",
       "      <td>emporiosirenuse</td>\n",
       "      <td>0</td>\n",
       "      <td>https://scontent-mxp1-1.cdninstagram.com/t51.2...</td>\n",
       "      <td>https://www.instagram.com/p/BaFL-isAzM_</td>\n",
       "      <td>2252447111</td>\n",
       "      <td>We are so pleased @francosbar will be open for...</td>\n",
       "      <td>4</td>\n",
       "      <td>1507667601</td>\n",
       "      <td>2017-10-10 22:33:21</td>\n",
       "      <td>BaFL-isAzM_</td>\n",
       "      <td>False</td>\n",
       "      <td>246</td>\n",
       "    </tr>\n",
       "    <tr>\n",
       "      <th>3</th>\n",
       "      <td>1619544083599159430</td>\n",
       "      <td>emporiosirenuse</td>\n",
       "      <td>0</td>\n",
       "      <td>https://scontent-mxp1-1.cdninstagram.com/t51.2...</td>\n",
       "      <td>https://www.instagram.com/p/BZ5xsNpA3CG</td>\n",
       "      <td>2252447111</td>\n",
       "      <td>Beauty in the shade 🌿 Our Diana Garden dress i...</td>\n",
       "      <td>5</td>\n",
       "      <td>1507284721</td>\n",
       "      <td>2017-10-06 12:12:01</td>\n",
       "      <td>BZ5xsNpA3CG</td>\n",
       "      <td>False</td>\n",
       "      <td>172</td>\n",
       "    </tr>\n",
       "    <tr>\n",
       "      <th>4</th>\n",
       "      <td>1618082415471902658</td>\n",
       "      <td>emporiosirenuse</td>\n",
       "      <td>0</td>\n",
       "      <td>https://scontent-mxp1-1.cdninstagram.com/t51.2...</td>\n",
       "      <td>https://www.instagram.com/p/BZ0lWJHgj_C</td>\n",
       "      <td>2252447111</td>\n",
       "      <td>Our sirens swirling &amp; dancing in Allegra Hicks...</td>\n",
       "      <td>3</td>\n",
       "      <td>1507110476</td>\n",
       "      <td>2017-10-04 11:47:56</td>\n",
       "      <td>BZ0lWJHgj_C</td>\n",
       "      <td>False</td>\n",
       "      <td>88</td>\n",
       "    </tr>\n",
       "  </tbody>\n",
       "</table>\n",
       "</div>"
      ],
      "text/plain": [
       "               id_post         username  video_count  \\\n",
       "0  1626715614041340120  emporiosirenuse            0   \n",
       "1  1624081541577781641  emporiosirenuse            0   \n",
       "2  1622755917101740863  emporiosirenuse            0   \n",
       "3  1619544083599159430  emporiosirenuse            0   \n",
       "4  1618082415471902658  emporiosirenuse            0   \n",
       "\n",
       "                                             url_img  \\\n",
       "0  https://scontent-mxp1-1.cdninstagram.com/t51.2...   \n",
       "1  https://scontent-mxp1-1.cdninstagram.com/t51.2...   \n",
       "2  https://scontent-mxp1-1.cdninstagram.com/t51.2...   \n",
       "3  https://scontent-mxp1-1.cdninstagram.com/t51.2...   \n",
       "4  https://scontent-mxp1-1.cdninstagram.com/t51.2...   \n",
       "\n",
       "                                 link_post       owner  \\\n",
       "0  https://www.instagram.com/p/BaTQTt1g_jY  2252447111   \n",
       "1  https://www.instagram.com/p/BaJ5Y6sAzGJ  2252447111   \n",
       "2  https://www.instagram.com/p/BaFL-isAzM_  2252447111   \n",
       "3  https://www.instagram.com/p/BZ5xsNpA3CG  2252447111   \n",
       "4  https://www.instagram.com/p/BZ0lWJHgj_C  2252447111   \n",
       "\n",
       "                                             caption  comment_count  \\\n",
       "0  Good morning from Positano 🌊 —————————————————...              4   \n",
       "1  Using the Amalfi Coast's leafy cover on one of...              2   \n",
       "2  We are so pleased @francosbar will be open for...              4   \n",
       "3  Beauty in the shade 🌿 Our Diana Garden dress i...              5   \n",
       "4  Our sirens swirling & dancing in Allegra Hicks...              3   \n",
       "\n",
       "   taken_at_timestamp        taken_at_time    shortcode  is_video  likes_count  \n",
       "0          1508139634  2017-10-16 09:40:34  BaTQTt1g_jY     False          250  \n",
       "1          1507825628  2017-10-12 18:27:08  BaJ5Y6sAzGJ     False           77  \n",
       "2          1507667601  2017-10-10 22:33:21  BaFL-isAzM_     False          246  \n",
       "3          1507284721  2017-10-06 12:12:01  BZ5xsNpA3CG     False          172  \n",
       "4          1507110476  2017-10-04 11:47:56  BZ0lWJHgj_C     False           88  "
      ]
     },
     "execution_count": 6,
     "metadata": {},
     "output_type": "execute_result"
    }
   ],
   "source": [
    "E.head()\n",
    "\n"
   ]
  },
  {
   "cell_type": "code",
   "execution_count": 8,
   "metadata": {},
   "outputs": [
    {
     "name": "stdout",
     "output_type": "stream",
     "text": [
      "means: 159.8217054263566 1183.3855421686746\n"
     ]
    }
   ],
   "source": [
    "print(\"means:\", E.likes_count.mean(), D.likes_count.mean())\n"
   ]
  },
  {
   "cell_type": "code",
   "execution_count": 9,
   "metadata": {},
   "outputs": [
    {
     "name": "stdout",
     "output_type": "stream",
     "text": [
      "medians: 155.0 1087.0\n"
     ]
    }
   ],
   "source": [
    "print(\"medians:\", E.likes_count.median(), D.likes_count.median())"
   ]
  },
  {
   "cell_type": "code",
   "execution_count": 10,
   "metadata": {},
   "outputs": [
    {
     "name": "stdout",
     "output_type": "stream",
     "text": [
      "comments med: 4.0 18.0\n"
     ]
    }
   ],
   "source": [
    "print(\"comments med:\", E.comment_count.median(), D.comment_count.median())"
   ]
  },
  {
   "cell_type": "code",
   "execution_count": 11,
   "metadata": {},
   "outputs": [
    {
     "name": "stdout",
     "output_type": "stream",
     "text": [
      "means: 4.410852713178294 18.89156626506024\n"
     ]
    }
   ],
   "source": [
    "print(\"means:\", E.comment_count.mean(), D.comment_count.mean())\n"
   ]
  },
  {
   "cell_type": "code",
   "execution_count": null,
   "metadata": {
    "collapsed": true
   },
   "outputs": [],
   "source": []
  }
 ],
 "metadata": {
  "kernelspec": {
   "display_name": "Python 3",
   "language": "python",
   "name": "python3"
  },
  "language_info": {
   "codemirror_mode": {
    "name": "ipython",
    "version": 3
   },
   "file_extension": ".py",
   "mimetype": "text/x-python",
   "name": "python",
   "nbconvert_exporter": "python",
   "pygments_lexer": "ipython3",
   "version": "3.6.4"
  }
 },
 "nbformat": 4,
 "nbformat_minor": 2
}
