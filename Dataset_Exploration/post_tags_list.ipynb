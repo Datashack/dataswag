{
 "cells": [
  {
   "cell_type": "code",
   "execution_count": null,
   "metadata": {
    "collapsed": true
   },
   "outputs": [],
   "source": [
    "import pandas as pd\n",
    "import csv"
   ]
  },
  {
   "cell_type": "code",
   "execution_count": null,
   "metadata": {
    "collapsed": true
   },
   "outputs": [],
   "source": [
    "brands = ['athenaprocopiou', 'daftcollectionofficial', 'dodobaror', 'emporiosirenuse', 'heidikleinswim', 'lisamariefernandez', 'loupcharmant', 'miguelinagambaccini', 'muzungusisters', 'zeusndione']"
   ]
  },
  {
   "cell_type": "markdown",
   "metadata": {},
   "source": [
    "Cycles through the brands, merging the correspondig posts and tags files on the \"id_post\" field. Then it groups the resulting DataFrame by \"id_post\", making a list of the corresponding tags. In the end it writes the DataFrame to a file."
   ]
  },
  {
   "cell_type": "code",
   "execution_count": null,
   "metadata": {
    "scrolled": true
   },
   "outputs": [],
   "source": [
    "for brand in brands:\n",
    "    tags_data = pd.read_csv('EMPORIOSIRENUSE_20173012/' + brand + '/followers data/' + brand + '_followers_tags.csv')\n",
    "    posts_data = pd.read_csv('EMPORIOSIRENUSE_20173012/' + brand + '/followers data/' + brand + '_followers_posts.csv')\n",
    "    posts_tags = posts_data.merge(tags_data, on=\"id_post\")\n",
    "    print(brand + ' tags merged')\n",
    "    post_tags_list = posts_tags.groupby(['id_post'])['tag'].apply(list).to_frame()\n",
    "    post_tags_list.add_suffix('_Tags').reset_index()\n",
    "    print(brand + ' tags listed')\n",
    "    post_tags_list.to_csv('EMPORIOSIRENUSE_20173012/tags_list/' + brand + '_tags_list.csv', header=True)\n",
    "    print(brand + ' tags file created')\n",
    "    #I know the next lines are ugly, but this way it uses less memory (at least the usage peaks are lower)\n",
    "    tags_data = []\n",
    "    posts_data = []\n",
    "    posts_tags = []\n",
    "    post_tags_list = []"
   ]
  },
  {
   "cell_type": "markdown",
   "metadata": {},
   "source": [
    "Appends all of the previously created tags files to create a single file containing all of the posts, with corresponding tag list, of all the followers of the 10 brands. Duplicates are dropped to account for followers of many brands."
   ]
  },
  {
   "cell_type": "code",
   "execution_count": null,
   "metadata": {},
   "outputs": [],
   "source": [
    "allbrands_post_tags_list = pd.DataFrame(columns = ['id_post', 'tag'])\n",
    "for brand in brands:\n",
    "    post_tags_list = pd.read_csv('EMPORIOSIRENUSE_20173012/tags_list/' + brand + '_tags_list.csv')\n",
    "    allbrands_post_tags_list = allbrands_post_tags_list.append(post_tags_list, ignore_index=True)\n",
    "    print(brand + ' added')\n",
    "allbrands_post_tags_list.drop_duplicates()\n",
    "allbrands_post_tags_list.to_csv('EMPORIOSIRENUSE_20173012/allbrands_tags_list.csv', header=True)"
   ]
  },
  {
   "cell_type": "markdown",
   "metadata": {},
   "source": [
    "Same as above, but adding the caption text to the row"
   ]
  },
  {
   "cell_type": "code",
   "execution_count": null,
   "metadata": {
    "collapsed": true
   },
   "outputs": [],
   "source": [
    "for brand in brands:\n",
    "    tags_data = pd.read_csv('EMPORIOSIRENUSE_20173012/' + brand + '/followers data/' + brand + '_followers_tags.csv')\n",
    "    posts_data = pd.read_csv('EMPORIOSIRENUSE_20173012/' + brand + '/followers data/' + brand + '_followers_posts.csv')\n",
    "    posts_tags = posts_data.merge(tags_data, on=\"id_post\")\n",
    "    print(brand + ' tags with caption merged')\n",
    "    post_tags_caption = posts_tags.groupby(['id_post', 'caption'])['tag'].apply(list).to_frame()\n",
    "    post_tags_caption.add_suffix('_Tags').reset_index()\n",
    "    print(brand + ' tags with caption listed')\n",
    "    post_tags_caption.to_csv('EMPORIOSIRENUSE_20173012/tags_caption/' + brand + '_tags_caption.csv',\n",
    "                          header=True,\n",
    "                          quoting=csv.QUOTE_NONNUMERIC)\n",
    "    print(brand + ' tags with caption file created')\n",
    "    #I know the next lines are ugly, but this way it uses less memory\n",
    "    tags_data = []\n",
    "    posts_data = []\n",
    "    posts_tags = []\n",
    "    post_tags_caption = []"
   ]
  },
  {
   "cell_type": "code",
   "execution_count": null,
   "metadata": {
    "collapsed": true
   },
   "outputs": [],
   "source": [
    "allbrands_post_tags_caption = pd.DataFrame(columns = ['id_post', 'caption', 'tag'])\n",
    "for brand in brands:\n",
    "    post_tags_caption = pd.read_csv('EMPORIOSIRENUSE_20173012/tags_caption/' + brand + '_tags_caption.csv')\n",
    "    allbrands_post_tags_caption = allbrands_post_tags_caption.append(post_tags_caption, ignore_index=True)\n",
    "    print(brand + ' added')\n",
    "allbrands_post_tags_caption.drop_duplicates()\n",
    "allbrands_post_tags_caption.to_csv('EMPORIOSIRENUSE_20173012/allbrands_tags_caption.csv', header=True)"
   ]
  }
 ],
 "metadata": {
  "kernelspec": {
   "display_name": "Python 3",
   "language": "python",
   "name": "python3"
  },
  "language_info": {
   "codemirror_mode": {
    "name": "ipython",
    "version": 3
   },
   "file_extension": ".py",
   "mimetype": "text/x-python",
   "name": "python",
   "nbconvert_exporter": "python",
   "pygments_lexer": "ipython3",
   "version": "3.6.3"
  }
 },
 "nbformat": 4,
 "nbformat_minor": 2
}
