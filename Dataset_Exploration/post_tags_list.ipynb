{
 "cells": [
  {
   "cell_type": "code",
   "execution_count": 2,
   "metadata": {
    "collapsed": true
   },
   "outputs": [],
   "source": [
    "import pandas as pd\n",
    "import csv"
   ]
  },
  {
   "cell_type": "code",
   "execution_count": 3,
   "metadata": {
    "collapsed": true
   },
   "outputs": [],
   "source": [
    "brands = ['athenaprocopiou', 'daftcollectionofficial', 'dodobaror', 'emporiosirenuse', 'heidikleinswim', 'lisamariefernandez', 'loupcharmant', 'miguelinagambaccini', 'muzungusisters', 'zeusndione']"
   ]
  },
  {
   "cell_type": "markdown",
   "metadata": {},
   "source": [
    "Cycles through the brands, merging the correspondig posts and tags files on the \"id_post\" field. Then it groups the resulting DataFrame by \"id_post\", making a list of the corresponding tags. In the end it writes the DataFrame to a file."
   ]
  },
  {
   "cell_type": "code",
   "execution_count": null,
   "metadata": {
    "collapsed": true,
    "scrolled": true
   },
   "outputs": [],
   "source": [
    "for brand in brands:\n",
    "    tags_data = pd.read_csv('EMPORIOSIRENUSE_20173012/' + brand + '/followers data/' + brand + '_followers_tags.csv')\n",
    "    posts_data = pd.read_csv('EMPORIOSIRENUSE_20173012/' + brand + '/followers data/' + brand + '_followers_posts.csv')\n",
    "    posts_tags = posts_data.merge(tags_data, on=\"id_post\")\n",
    "    print(brand + ' tags merged')\n",
    "    post_tags_list = posts_tags.groupby(['id_post'])['tag'].apply(list).to_frame()\n",
    "    post_tags_list.add_suffix('_Tags').reset_index()\n",
    "    print(brand + ' tags listed')\n",
    "    post_tags_list.to_csv('EMPORIOSIRENUSE_20173012/tags_list/' + brand + '_tags_list.csv', header=True)\n",
    "    print(brand + ' tags file created')\n",
    "    #I know the next lines are ugly, but this way it uses less memory (at least the usage peaks are lower)\n",
    "    tags_data = []\n",
    "    posts_data = []\n",
    "    posts_tags = []\n",
    "    post_tags_list = []"
   ]
  },
  {
   "cell_type": "markdown",
   "metadata": {},
   "source": [
    "Appends all of the previously created tags files to create a single file containing all of the posts, with corresponding tag list, of all the followers of the 10 brands. Duplicates are dropped to account for followers of many brands."
   ]
  },
  {
   "cell_type": "code",
   "execution_count": null,
   "metadata": {
    "collapsed": true
   },
   "outputs": [],
   "source": [
    "allbrands_post_tags_list = pd.DataFrame(columns = ['id_post', 'tag'])\n",
    "for brand in brands:\n",
    "    post_tags_list = pd.read_csv('EMPORIOSIRENUSE_20173012/tags_list/' + brand + '_tags_list.csv')\n",
    "    allbrands_post_tags_list = allbrands_post_tags_list.append(post_tags_list, ignore_index=True)\n",
    "    print(brand + ' added')\n",
    "allbrands_post_tags_list.drop_duplicates()\n",
    "allbrands_post_tags_list.to_csv('EMPORIOSIRENUSE_20173012/allbrands_tags_list.csv', header=True)"
   ]
  },
  {
   "cell_type": "markdown",
   "metadata": {},
   "source": [
    "Same as above, but adding the caption text to the row"
   ]
  },
  {
   "cell_type": "code",
   "execution_count": null,
   "metadata": {
    "collapsed": true
   },
   "outputs": [],
   "source": [
    "for brand in brands:\n",
    "    tags_data = pd.read_csv('EMPORIOSIRENUSE_20173012/' + brand + '/followers data/' + brand + '_followers_tags.csv')\n",
    "    posts_data = pd.read_csv('EMPORIOSIRENUSE_20173012/' + brand + '/followers data/' + brand + '_followers_posts.csv')\n",
    "    posts_tags = posts_data.merge(tags_data, on=\"id_post\")\n",
    "    print(brand + ' tags with caption merged')\n",
    "    post_tags_caption = posts_tags.groupby(['id_post', 'caption'])['tag'].apply(list).to_frame()\n",
    "    post_tags_caption.add_suffix('_Tags').reset_index()\n",
    "    print(brand + ' tags with caption listed')\n",
    "    post_tags_caption.to_csv('EMPORIOSIRENUSE_20173012/tags_caption/' + brand + '_tags_caption.csv',\n",
    "                          header=True,\n",
    "                          quoting=csv.QUOTE_NONNUMERIC)\n",
    "    print(brand + ' tags with caption file created')\n",
    "    #I know the next lines are ugly, but this way it uses less memory\n",
    "    tags_data = []\n",
    "    posts_data = []\n",
    "    posts_tags = []\n",
    "    post_tags_caption = []"
   ]
  },
  {
   "cell_type": "code",
   "execution_count": null,
   "metadata": {
    "collapsed": true
   },
   "outputs": [],
   "source": [
    "allbrands_post_tags_caption = pd.DataFrame(columns = ['id_post', 'caption', 'tag'])\n",
    "for brand in brands:\n",
    "    post_tags_caption = pd.read_csv('EMPORIOSIRENUSE_20173012/tags_caption/' + brand + '_tags_caption.csv')\n",
    "    allbrands_post_tags_caption = allbrands_post_tags_caption.append(post_tags_caption, ignore_index=True)\n",
    "    print(brand + ' added')\n",
    "allbrands_post_tags_caption.drop_duplicates() #doesn't work on strings\n",
    "allbrands_post_tags_caption.to_csv('EMPORIOSIRENUSE_20173012/allbrands_tags_caption.csv', header=True)"
   ]
  },
  {
   "cell_type": "markdown",
   "metadata": {},
   "source": [
    "# Post data(just captions) of users with 10K < follower count < 100K"
   ]
  },
  {
   "cell_type": "code",
   "execution_count": 4,
   "metadata": {},
   "outputs": [
    {
     "name": "stdout",
     "output_type": "stream",
     "text": [
      "athenaprocopiou users filtered by follower_count\n",
      "athenaprocopiou posts joined with users\n",
      "athenaprocopiou captions per user listed\n",
      "athenaprocopiou_user_captions_list.csv file created\n",
      "daftcollectionofficial users filtered by follower_count\n",
      "daftcollectionofficial posts joined with users\n",
      "daftcollectionofficial captions per user listed\n",
      "daftcollectionofficial_user_captions_list.csv file created\n",
      "dodobaror users filtered by follower_count\n",
      "dodobaror posts joined with users\n",
      "dodobaror captions per user listed\n",
      "dodobaror_user_captions_list.csv file created\n",
      "emporiosirenuse users filtered by follower_count\n",
      "emporiosirenuse posts joined with users\n",
      "emporiosirenuse captions per user listed\n",
      "emporiosirenuse_user_captions_list.csv file created\n",
      "heidikleinswim users filtered by follower_count\n",
      "heidikleinswim posts joined with users\n",
      "heidikleinswim captions per user listed\n",
      "heidikleinswim_user_captions_list.csv file created\n",
      "lisamariefernandez users filtered by follower_count\n",
      "lisamariefernandez posts joined with users\n",
      "lisamariefernandez captions per user listed\n",
      "lisamariefernandez_user_captions_list.csv file created\n",
      "loupcharmant users filtered by follower_count\n"
     ]
    },
    {
     "name": "stderr",
     "output_type": "stream",
     "text": [
      "C:\\Users\\moren\\Anaconda3\\lib\\site-packages\\IPython\\core\\interactiveshell.py:2698: DtypeWarning: Columns (1,6) have mixed types. Specify dtype option on import or set low_memory=False.\n",
      "  interactivity=interactivity, compiler=compiler, result=result)\n"
     ]
    },
    {
     "name": "stdout",
     "output_type": "stream",
     "text": [
      "loupcharmant posts joined with users\n",
      "loupcharmant captions per user listed\n",
      "loupcharmant_user_captions_list.csv file created\n",
      "miguelinagambaccini users filtered by follower_count\n",
      "miguelinagambaccini posts joined with users\n",
      "miguelinagambaccini captions per user listed\n",
      "miguelinagambaccini_user_captions_list.csv file created\n",
      "muzungusisters users filtered by follower_count\n",
      "muzungusisters posts joined with users\n",
      "muzungusisters captions per user listed\n",
      "muzungusisters_user_captions_list.csv file created\n",
      "zeusndione users filtered by follower_count\n",
      "zeusndione posts joined with users\n",
      "zeusndione captions per user listed\n",
      "zeusndione_user_captions_list.csv file created\n"
     ]
    }
   ],
   "source": [
    "for brand in brands:\n",
    "    user_data = pd.read_csv('../EMPORIOSIRENUSE_20173012/' + brand + '/followers data/' + brand + '_followers_accounts.csv',\n",
    "                        usecols=['username', 'followers_count'])\n",
    "    # user_data = user_data.query(('followers_count > 10000 and followers_count < 100000'))\n",
    "    print(brand + ' users filtered by follower_count')\n",
    "\n",
    "    posts_data = pd.read_csv('../EMPORIOSIRENUSE_20173012/' + brand + '/followers data/' + brand + '_followers_posts.csv',\n",
    "                             usecols=['username', 'caption'])\n",
    "\n",
    "    posts_user = posts_data.merge(user_data, on=\"username\")\n",
    "    print(brand + ' posts joined with users')\n",
    "\n",
    "    user_caption_list = posts_user.groupby(['username', 'followers_count'])['caption'].apply(list).to_frame()\n",
    "    print(brand + ' captions per user listed')\n",
    "\n",
    "    user_caption_list.to_csv('../EMPORIOSIRENUSE_20173012/users_captions_list/' + brand + 'complete_users_captions_list.csv',\n",
    "                                      header=True,\n",
    "                                      quoting=csv.QUOTE_NONNUMERIC)\n",
    "    print(brand + '_user_captions_list.csv file created')\n",
    "\n",
    "    user_data = []\n",
    "    posts_data = []\n",
    "    posts_user = []\n",
    "    user_caption_list = []"
   ]
  },
  {
   "cell_type": "code",
   "execution_count": 7,
   "metadata": {},
   "outputs": [
    {
     "name": "stdout",
     "output_type": "stream",
     "text": [
      "athenaprocopiou added\n",
      "daftcollectionofficial added\n",
      "dodobaror added\n",
      "emporiosirenuse added\n",
      "heidikleinswim added\n",
      "lisamariefernandez added\n",
      "loupcharmant added\n",
      "miguelinagambaccini added\n",
      "muzungusisters added\n",
      "zeusndione added\n"
     ]
    }
   ],
   "source": [
    "allbrands_user_caption_list = pd.DataFrame(columns = ['username', 'followers_count', 'caption'])\n",
    "for brand in brands:\n",
    "    user_caption_list = pd.read_csv('../EMPORIOSIRENUSE_20173012/users_captions_list/' + brand + 'complete_users_captions_list.csv', encoding='latin-1')\n",
    "    #to avoid duplicates (followers of many brands)\n",
    "    count = 0\n",
    "    index = 0\n",
    "    #while(count < 15):\n",
    "    #    if(not (any(user_caption_list.loc[index]['username'] in s for s in allbrands_user_caption_list['username']))):\n",
    "    #        allbrands_user_caption_list = allbrands_user_caption_list.append(user_caption_list.loc[index], ignore_index=True)\n",
    "    #        count += 1\n",
    "    #    index += 1\n",
    "    allbrands_user_caption_list = allbrands_user_caption_list.append(user_caption_list)\n",
    "    print(brand + ' added')\n",
    "allbrands_user_caption_list.to_csv('../EMPORIOSIRENUSE_20173012/users_captions_list/complete_allbrands_users_captions_list.csv', header=True)"
   ]
  },
  {
   "cell_type": "code",
   "execution_count": 8,
   "metadata": {},
   "outputs": [
    {
     "data": {
      "text/html": [
       "<div>\n",
       "<style>\n",
       "    .dataframe thead tr:only-child th {\n",
       "        text-align: right;\n",
       "    }\n",
       "\n",
       "    .dataframe thead th {\n",
       "        text-align: left;\n",
       "    }\n",
       "\n",
       "    .dataframe tbody tr th {\n",
       "        vertical-align: top;\n",
       "    }\n",
       "</style>\n",
       "<table border=\"1\" class=\"dataframe\">\n",
       "  <thead>\n",
       "    <tr style=\"text-align: right;\">\n",
       "      <th></th>\n",
       "      <th>username</th>\n",
       "      <th>followers_count</th>\n",
       "      <th>caption</th>\n",
       "    </tr>\n",
       "  </thead>\n",
       "  <tbody>\n",
       "    <tr>\n",
       "      <th>0</th>\n",
       "      <td>0753lizzy</td>\n",
       "      <td>649</td>\n",
       "      <td>['H A P P Y  F R I D A Y ???', 'Cheeky chops t...</td>\n",
       "    </tr>\n",
       "    <tr>\n",
       "      <th>1</th>\n",
       "      <td>08dresscode</td>\n",
       "      <td>4340</td>\n",
       "      <td>['Gorgeous, edgy , funky ... this fluffy super...</td>\n",
       "    </tr>\n",
       "    <tr>\n",
       "      <th>2</th>\n",
       "      <td>1.sweetlemon</td>\n",
       "      <td>228</td>\n",
       "      <td>['The Meesk doing her thang #ballet #balletlif...</td>\n",
       "    </tr>\n",
       "    <tr>\n",
       "      <th>3</th>\n",
       "      <td>100annidolcevita</td>\n",
       "      <td>40</td>\n",
       "      <td>['#sundaymorning means #fleamarket #antique #m...</td>\n",
       "    </tr>\n",
       "    <tr>\n",
       "      <th>4</th>\n",
       "      <td>111tanya</td>\n",
       "      <td>367</td>\n",
       "      <td>['? ????????', '????????? ?? ????????????', '?...</td>\n",
       "    </tr>\n",
       "  </tbody>\n",
       "</table>\n",
       "</div>"
      ],
      "text/plain": [
       "           username followers_count  \\\n",
       "0         0753lizzy             649   \n",
       "1       08dresscode            4340   \n",
       "2      1.sweetlemon             228   \n",
       "3  100annidolcevita              40   \n",
       "4          111tanya             367   \n",
       "\n",
       "                                             caption  \n",
       "0  ['H A P P Y  F R I D A Y ???', 'Cheeky chops t...  \n",
       "1  ['Gorgeous, edgy , funky ... this fluffy super...  \n",
       "2  ['The Meesk doing her thang #ballet #balletlif...  \n",
       "3  ['#sundaymorning means #fleamarket #antique #m...  \n",
       "4  ['? ????????', '????????? ?? ????????????', '?...  "
      ]
     },
     "execution_count": 8,
     "metadata": {},
     "output_type": "execute_result"
    }
   ],
   "source": [
    " allbrands_user_caption_list.head()"
   ]
  },
  {
   "cell_type": "code",
   "execution_count": null,
   "metadata": {
    "collapsed": true
   },
   "outputs": [],
   "source": []
  }
 ],
 "metadata": {
  "kernelspec": {
   "display_name": "Python 3",
   "language": "python",
   "name": "python3"
  },
  "language_info": {
   "codemirror_mode": {
    "name": "ipython",
    "version": 3
   },
   "file_extension": ".py",
   "mimetype": "text/x-python",
   "name": "python",
   "nbconvert_exporter": "python",
   "pygments_lexer": "ipython3",
   "version": "3.6.3"
  }
 },
 "nbformat": 4,
 "nbformat_minor": 2
}
