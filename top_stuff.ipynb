{
 "cells": [
  {
   "cell_type": "code",
   "execution_count": 1,
   "metadata": {
    "collapsed": true
   },
   "outputs": [],
   "source": [
    "import csv\n",
    "import numpy as np\n",
    "import scipy as sp"
   ]
  },
  {
   "cell_type": "markdown",
   "metadata": {},
   "source": [
    "Put here the path to the 'EMPORIOSIRENUSE_20173012' folder"
   ]
  },
  {
   "cell_type": "code",
   "execution_count": 4,
   "metadata": {
    "collapsed": true
   },
   "outputs": [],
   "source": [
    "path_to_dataset = '../'"
   ]
  },
  {
   "cell_type": "markdown",
   "metadata": {},
   "source": [
    "Import concepts file (as a dictionary with post id as a key and words as values)"
   ]
  },
  {
   "cell_type": "code",
   "execution_count": 7,
   "metadata": {},
   "outputs": [
    {
     "name": "stdout",
     "output_type": "stream",
     "text": [
      "{'1626715614041340120': ['city', 'tourism', 'travel', 'urban', 'architecture', 'street', 'building', 'sky', 'house', 'sight', 'water', 'town', 'tourist', 'landscape', 'outdoors', 'old', 'vacation', 'people', 'cityscape', 'sea', ''], '1624081541577781641': ['blur', 'flower', 'portrait', 'christmas', 'people', 'girl', 'nature', 'outdoors', 'focus', 'tree', 'adult', 'wedding', 'grass', 'park', 'woman', 'summer', 'one', 'winter', 'celebration', 'garden', ''], '1622755917101740863': ['travel', 'tourism', 'architecture', 'town', 'water', 'city', 'seashore', 'sea', 'resort', 'vacation', 'outdoors', 'building', 'tourist', 'people', 'house', 'restaurant', 'landscape', 'hotel', 'beach', 'no person', ''], '1619544083599159430': ['woman', 'adult', 'portrait', 'fashion', 'people', 'model', 'girl', 'competition', 'business', 'wear', 'sunglasses', 'fashionable', 'summer', 'one', 'dress', 'indoors', 'auto racing', 'stock', 'race', 'footwear', ''], '1618082415471902658': ['desktop', 'rock', 'texture', 'fabric', 'pattern', 'stone', 'abstract', 'closeup', 'pile', 'nature', 'batch', 'no person', 'shape', 'gravel', 'smooth', 'design', 'color', 'decoration', 'zen', 'background', ''], '1616666555695761410': ['flower', 'light', 'leaf', 'decoration', 'art', 'desktop', 'color', 'no person', 'flora', 'illustration', 'beautiful', 'summer', 'design', 'nature', 'fall', 'sun', 'graphic', 'floral', 'vector', 'bright', ''], '1614439618558726095': ['people', 'door', 'art', 'old', 'woman', 'illustration', 'design', 'gold', 'one', 'adult', 'antique', 'person', 'wear', 'style', 'vintage', 'fashion', 'architecture', 'gothic', 'symbol', 'travel', ''], '1613020809910026671': ['summer', 'wood', 'relaxation', 'no person', 'water', 'travel', 'outdoors', 'nature', 'leisure', 'vacation', 'beach', 'tropical', 'wooden', 'seashore', 'sky', 'fair weather', 'exotic', 'sea', 'sun', 'island', ''], '1611561907305742977': ['people', 'adult', 'one', 'woman', 'street', 'man', 'wear', 'monochrome', 'portrait', 'girl', 'child', 'two', 'art', 'travel', 'model', 'no person', 'shadow', 'architecture', 'outdoors', 'light', ''], '1609497364056411028': ['town', 'travel', 'city', 'tourism', 'sea', 'architecture', 'house', 'seashore', 'landscape', 'sight', 'outdoors', 'water', 'building', 'sky', 'vacation', 'cityscape', 'resort', 'harbor', 'port', 'urban', ''], '1608068268516572138': ['no person', 'travel', 'outdoors', 'architecture', 'summer', 'traditional', 'vacation', 'people', 'water', 'sky', 'woman', 'house', 'building', 'daylight', 'tourism', 'island', 'flower', 'vertical', 'adult', 'luxury', ''], '1606603730092886185': ['water', 'sea', 'travel', 'ocean', 'watercraft', 'no person', 'boat', 'ship', 'seashore', 'transportation system', 'sky', 'beach', 'vacation', 'harbor', 'summer', 'vehicle', 'yacht', 'recreation', 'leisure', 'sailboat', ''], '1603785863001722674': ['no person', 'outdoors', 'summer', 'people', 'woman', 'flower', 'nature', 'fashion', 'winter', 'christmas', 'tree', 'wear', 'flora', 'one', 'leaf', 'adult', 'fair weather', 'growth', 'child', 'love', ''], '1602129845221903893': ['water', 'travel', 'recreation', 'leisure', 'woman', 'beach', 'vacation', 'people', 'lifestyle', 'bikini', 'two', 'sea', 'adult', 'girl', 'wet', 'seashore', 'ocean', 'summer', 'man', 'enjoyment', ''], '1599278634655492590': ['water sports', 'water', 'fun', 'woman', 'people', 'race', 'outdoors', 'leisure', 'competition', 'recreation', 'enjoyment', 'travel', 'vehicle', 'crew', 'one', 'summer', 'adult', 'adolescent', 'adventure', 'watercraft', ''], '1597835021740278575': ['summer', 'water', 'woman', 'travel', 'relaxation', 'vacation', 'leisure', 'beach', 'sea', 'sky', 'ocean', 'tropical', 'girl', 'enjoyment', 'nature', 'fair weather', 'outdoors', 'seashore', 'sun', 'happiness', ''], '1596391064699262785': ['water', 'landscape', 'seashore', 'travel', 'sea', 'ocean', 'beach', 'rock', 'scenic', 'mountain', 'nature', 'tourism', 'island', 'outdoors', 'sky', 'bay', 'no person', 'recreation', 'vacation', 'seascape', ''], '1594182958636506061': ['portrait', 'girl', 'woman', 'people', 'one', 'dress', 'fashion', 'wear', 'outdoors', 'adult', 'street', 'model', 'child', 'skirt', 'step', 'summer', 'door', 'wall', 'family', 'hair', ''], '1592774472757192735': ['sea', 'city', 'travel', 'architecture', 'seashore', 'summer', 'town', 'sky', 'sight', 'no person', 'water', 'landscape', 'church', 'vacation', 'outdoors', 'tourism', 'beach', 'building', 'nature', 'island', ''], '1592151194485311118': ['dress', 'fashion', 'woman', 'model', 'beautiful', 'portrait', 'people', 'girl', 'summer', 'wear', 'adult', 'one', 'person', 'fashionable', 'outdoors', 'pretty', 'lifestyle', 'style', 'young', 'talent', ''], '1589133746790140078': ['outdoors', 'girl', 'nature', 'tree', 'summer', 'woman', 'people', 'flower', 'beautiful', 'fair weather', 'fun', 'leisure', 'winter', 'joy', 'enjoyment', 'portrait', 'happiness', 'carefree', 'dress', 'lifestyle', ''], '1587819790632809567': ['woman', 'fashion', 'portrait', 'wear', 'girl', 'adult', 'model', 'footwear', 'fashionable', 'one', 'people', 'competition', 'pants', 'sunglasses', 'business', 'city', 'recreation', 'dress', 'festival', 'glamour', ''], '1586216541341459330': ['mountain', 'landscape', 'sky', 'no person', 'travel', 'snow', 'outdoors', 'nature', 'rock', 'fog', 'daylight', 'valley', 'mountain peak', 'scenic', 'hike', 'hill', 'high', 'tree', 'cloud', 'water', ''], '1584173570412738306': ['fashion', 'woman', 'wear', 'model', 'people', 'portrait', 'one', 'adult', 'dress', 'fashionable', 'young', 'girl', 'pretty', 'beautiful', 'summer', 'style', 'sexy', 'trendy', 'elegant', 'retro', ''], '1582533695654597395': ['fireworks', 'flash', 'festival', 'explosion', 'party', 'light', 'celebration', 'christmas', 'new year', 'flame', 'firework', 'midnight', 'dark', 'monochrome', 'silhouette', 'bright', 'evening', 'anniversary', 'sparking', 'abstract', ''], '1581879672990405804': ['mountain', 'travel', 'landscape', 'water', 'tourism', 'seashore', 'sky', 'sea', 'nature', 'outdoors', 'fjord', 'no person', 'vacation', 'scenic', 'rock', 'sight', 'house', 'ocean', 'island', 'bay', ''], '1579096423494990494': ['water', 'summer', 'beach', 'sea', 'woman', 'travel', 'relaxation', 'leisure', 'nature', 'fair weather', 'sky', 'outdoors', 'ocean', 'vacation', 'recreation', 'sun', 'sexy', 'bikini', 'enjoyment', 'sand', ''], '1577653405592212945': ['sea', 'water', 'ocean', 'beach', 'seashore', 'leisure', 'summer', 'outdoors', 'nature', 'travel', 'vacation', 'beautiful', 'relaxation', 'sky', 'wave', 'fair weather', 'one', 'recreation', 'surf', 'sun', ''], '1576048411981914082': ['people', 'monochrome', 'adult', 'water', 'travel', 'architecture', 'street', 'woman', 'man', 'outdoors', 'group', 'one', 'group together', 'luxury', 'reflection', 'old', 'two', 'building', 'city', 'girl', ''], '1573297594782851778': ['summer', 'travel', 'sky', 'outdoors', 'water', 'sea', 'nature', 'vacation', 'leisure', 'seashore', 'child', 'ocean', 'beach', 'fun', 'woman', 'enjoyment', 'fair weather', 'tropical', 'little', 'relaxation', ''], '1571737197765582888': ['no person', 'landscape', 'water', 'seashore', 'travel', 'mountain', 'outdoors', 'sky', 'daylight', 'rainbow', 'scenic', 'beach', 'rock', 'fog', 'sea', 'ocean', 'sunset', 'island', 'light', 'dawn', ''], '1571122145891178023': ['flower', 'decoration', 'old', 'flora', 'table', 'no person', 'traditional', 'color', 'garden', 'design', 'vase', 'wood', 'desktop', 'vintage', 'glass items', 'house', 'fence', 'indoors', 'pot', 'floral', ''], '1568241553284263152': ['people', 'adult', 'military', 'group together', 'man', 'war', 'one', 'vehicle', 'group', 'wear', 'two', 'weapon', 'transportation system', 'many', 'skirmish', 'three', 'gun', 'woman', 'soldier', 'street', ''], '1566727967676137918': ['wear', 'vintage', 'retro', 'old', 'no person', 'art', 'desktop', 'wall', 'color', 'dress', 'style', 'empty', 'ancient', 'hanging', 'paper', 'texture', 'antique', 'man', 'blank', 'architecture', ''], '1566094572046748475': ['water', 'travel', 'sea', 'boat', 'no person', 'ocean', 'vacation', 'seashore', 'transportation system', 'tourism', 'landscape', 'summer', 'mountain', 'island', 'lake', 'outdoors', 'bay', 'scenic', 'nature', 'daylight', ''], '1563890545330441703': ['travel', 'tourism', 'water', 'outdoors', 'city', 'no person', 'resort', 'seashore', 'sea', 'architecture', 'summer', 'hotel', 'vacation', 'beach', 'landscape', 'chair', 'town', 'tourist', 'ocean', 'building', ''], '1562433023339808227': ['fashion', 'woman', 'wear', 'portrait', 'glamour', 'model', 'one', 'jewelry', 'people', 'winter', 'adult', 'sexy', 'footwear', 'gloves', 'retro', 'dress', 'pants', 'sunglasses', 'actress', 'punk', ''], '1561177542004640530': ['woman', 'luxury', 'indoors', 'people', 'wedding', 'shopping', 'restaurant', 'fun', 'wine', 'man', 'party', 'hotel', 'champagne', 'celebration', 'bar', 'enjoyment', 'family', 'shop', 'fashion', 'stock', ''], '1558034332256414323': ['no person', 'travel', 'nature', 'summer', 'water', 'tree', 'relaxation', 'outdoors', 'sea', 'sky', 'vacation', 'leisure', 'beach', 'seashore', 'idyllic', 'island', 'daylight', 'tropical', 'sand', 'fair weather', ''], '1556617113291086088': ['woman', 'summer', 'dress', 'nature', 'girl', 'fashion', 'portrait', 'outdoors', 'one', 'model', 'sky', 'adult', 'beautiful', 'people', 'fair weather', 'young', 'travel', 'water', 'pretty', 'wear', ''], '1555806136542938404': ['architecture', 'town', 'travel', 'city', 'house', 'roof', 'sight', 'building', 'church', 'no person', 'old', 'tourism', 'cityscape', 'urban', 'outdoors', 'water', 'traditional', 'seashore', 'vacation', 'sea', ''], '1553029207771203808': ['leaf', 'no person', 'flora', 'nature', 'flower', 'tree', 'branch', 'garden', 'food', 'decoration', 'color', 'tropical', 'disjunct', 'husk', 'outdoors', 'wood', 'illustration', 'environment', 'desktop', 'daylight', ''], '1552318022323210806': ['no person', 'sunset', 'water', 'dawn', 'sea', 'landscape', 'travel', 'seashore', 'beach', 'ocean', 'evening', 'outdoors', 'dusk', 'sky', 'architecture', 'light', 'military', 'daylight', 'vehicle', 'building', ''], '1551519470244292002': ['no person', 'people', 'water', 'travel', 'boat', 'monochrome', 'light', 'retro', 'one', 'beach', 'ship', 'sea', 'outdoors', 'window', 'reflection', 'architecture', 'watercraft', 'ocean', 'street', 'vehicle', ''], '1550805520162629936': ['indoors', 'furniture', 'room', 'rug', 'house', 'lamp', 'interior design', 'inside', 'no person', 'luxury', 'home', 'decoration', 'table', 'window', 'stock', 'architecture', 'chandelier', 'design', 'family', 'seat', ''], '1547824212494987033': ['town', 'seashore', 'sea', 'harbor', 'water', 'house', 'travel', 'architecture', 'boat', 'city', 'tourism', 'hill', 'bay', 'port', 'sight', 'island', 'landscape', 'no person', 'watercraft', 'church', ''], '1547089446594308512': ['summer', 'leisure', 'sea', 'water', 'beach', 'ocean', 'recreation', 'seashore', 'travel', 'outdoors', 'relaxation', 'vacation', 'woman', 'fair weather', 'fun', 'one', 'surfboarding', 'sun', 'sky', 'enjoyment', ''], '1545589269630963027': ['leisure', 'people', 'one', 'adult', 'woman', 'summer', 'girl', 'beach', 'recreation', 'wear', 'lifestyle', 'fun', 'beautiful', 'water', 'relaxation', 'dress', 'sea', 'enjoyment', 'travel', 'happiness', ''], '1543554968756365107': ['garden', 'flower', 'summer', 'woman', 'people', 'greenhouse', 'flora', 'nature', 'horticulture', 'outdoors', 'beautiful', 'one', 'tree', 'patio', 'house', 'backyard', 'yard', 'portrait', 'adult', 'conservatory', ''], '1542147477849846864': ['people', 'group', 'many', 'group together', 'adult', 'several', 'man', 'temple', 'vehicle', 'no person', 'travel', 'buddha', 'religion', 'war', 'monochrome', 'outdoors', 'military', 'architecture', 'sunset', 'dawn', ''], '1540557647009344927': ['woman', 'girl', 'dress', 'architecture', 'wedding', 'fashion', 'summer', 'travel', 'model', 'nature', 'stone', 'wall', 'portrait', 'sexy', 'one', 'outdoors', 'people', 'beautiful', 'adult', 'walk', ''], '1538479050778094031': ['reflection', 'abstract', 'texture', 'desktop', 'nature', 'wave', 'water', 'pattern', 'wallpaper', 'turquoise', 'lake', 'smooth', 'no person', 'ocean', 'clean', 'blur', 'ripple', 'background', 'bright', 'color', ''], '1537064704643772601': ['woman', 'fashion', 'elegant', 'pretty', 'dress', 'one', 'summer', 'portrait', 'young', 'health', 'wear', 'adult', 'people', 'sexy', 'glamour', 'recreation', 'joy', 'cute', 'model', 'healthcare', ''], '1535587480186991836': ['no person', 'leaf', 'tree', 'flora', 'environment', 'growth', 'garden', 'light', 'one', 'summer', 'nature', 'lush', 'wood', 'food', 'outdoors', 'palm', 'evergreen', 'agriculture', 'rain', 'travel', ''], '1532781951882424737': ['water', 'mountain', 'landscape', 'travel', 'seashore', 'sea', 'nature', 'island', 'no person', 'bay', 'scenic', 'rock', 'tree', 'summer', 'outdoors', 'beach', 'tourism', 'ocean', 'sky', 'daylight', ''], '1531172929324597280': ['room', 'furniture', 'seat', 'sofa', 'indoors', 'rug', 'interior design', 'table', 'lamp', 'chair', 'easy chair', 'house', 'mirror', 'people', 'bedroom', 'home', 'coffee table', 'fashionable', 'art', 'family', ''], '1528345299881622525': ['water', 'sea', 'people', 'woman', 'beach', 'ocean', 'recreation', 'summer', 'travel', 'surfboarding', 'watercraft', 'man', 'leisure', 'surf', 'monochrome', 'sand', 'vacation', 'sun', 'bikini', 'sexy', ''], '1527519023142978537': ['pattern', 'decoration', 'desktop', 'design', 'texture', 'art', 'abstract', 'set', 'collection', 'shape', 'traditional', 'symbol', 'illustration', 'style', 'wallpaper', 'color', 'retro', 'graphic', 'paper', 'culture', ''], '1526211557167975948': ['water', 'travel', 'no person', 'landscape', 'sea', 'seashore', 'nature', 'sky', 'beach', 'ocean', 'mountain', 'rock', 'outdoors', 'summer', 'island', 'scenic', 'bay', 'vacation', 'seascape', 'tourism', ''], '1523227870415313463': ['pottery', 'no person', 'ceramic', 'decoration', 'pattern', 'traditional', 'handmade', 'clay', 'earthenware', 'easter', 'porcelain', 'art', 'flower', 'design', 'celebration', 'cup', 'tableware', 'color', 'food', 'handicraft', ''], '1522509572887529017': ['water', 'sea', 'travel', 'leisure', 'summer', 'ocean', 'vacation', 'recreation', 'relaxation', 'beach', 'tropical', 'fair weather', 'outdoors', 'sky', 'watercraft', 'people', 'sun', 'woman', 'fun', 'sand', ''], '1521108941899364287': ['desktop', 'texture', 'pattern', 'fabric', 'no person', 'rock', 'pile', 'batch', 'abstract', 'stone', 'closeup', 'nature', 'shape', 'color', 'design', 'decoration', 'wall', 'smooth', 'travel', 'old', ''], '1520288762437153778': ['city', 'no person', 'town', 'architecture', 'sea', 'seashore', 'travel', 'water', 'summer', 'sky', 'sight', 'building', 'outdoors', 'house', 'nature', 'landscape', 'cityscape', 'tourism', 'beach', 'church', ''], '1518237617036241564': ['summer', 'nature', 'relaxation', 'leisure', 'beautiful', 'outdoors', 'girl', 'woman', 'young', 'sit', 'lifestyle', 'pretty', 'cute', 'fair weather', 'person', 'portrait', 'outside', 'people', 'park', 'happiness', ''], '1517542944496149196': ['umbrella', 'summer', 'sunshade', 'no person', 'nature', 'beach', 'sun', 'sand', 'desktop', 'rain', 'outdoors', 'travel', 'leisure', 'bed', 'shadiness', 'color', 'closeup', 'fair weather', 'one', 'protection', ''], '1516087547717399706': ['cave', 'people', 'exploration', 'climb', 'rock', 'travel', 'one', 'outdoors', 'adventure', 'adult', 'geology', 'nature', 'stone', 'man', 'recreation', 'woman', 'two', 'mine', 'limestone', 'discovery', ''], '1515370470857628554': ['seashore', 'water', 'travel', 'beach', 'sea', 'no person', 'island', 'bay', 'landscape', 'seascape', 'ocean', 'vacation', 'rock', 'scenic', 'turquoise', 'tourism', 'sky', 'nature', 'summer', 'mountain', ''], '1513177495746395954': ['people', 'restaurant', 'group', 'many', 'group together', 'evening', 'music', 'bar', 'festival', 'adult', 'performance', 'travel', 'man', 'hotel', 'woman', 'city', 'concert', 'recreation', 'nightclub', 'musician', ''], '1512475317021104307': ['people', 'man', 'adult', 'woman', 'group', 'child', 'group together', 'wear', 'portrait', 'water', 'girl', 'travel', 'two', 'boy', 'love', 'four', 'five', 'family', 'recreation', 'veil', ''], '1510998662385563437': ['beach', 'sea', 'ocean', 'water', 'sand', 'girl', 'seashore', 'travel', 'summer', 'sun', 'people', 'vacation', 'leisure', 'woman', 'relaxation', 'child', 'fun', 'one', 'outdoors', 'recreation', ''], '1510104130454550216': ['seashore', 'water', 'no person', 'sea', 'town', 'travel', 'architecture', 'city', 'landscape', 'bay', 'beach', 'island', 'house', 'ocean', 'tourism', 'sight', 'vacation', 'harbor', 'outdoors', 'landmark', ''], '1507334250227398192': ['no person', 'nature', 'travel', 'outdoors', 'ancient', 'water', 'stone', 'summer', 'vertical', 'landscape', 'rock', 'old', 'leaf', 'architecture', 'mountain', 'wood', 'cliff', 'tropical', 'steep', 'tree', ''], '1503809611068934696': ['table', 'furniture', 'chair', 'dining', 'indoors', 'tableware', 'inside', 'room', 'seat', 'window', 'luxury', 'hotel', 'restaurant', 'interior design', 'dining room', 'lamp', 'place setting', 'tablecloth', 'house', 'glass items', ''], '1503066504996233905': ['woman', 'fashion', 'girl', 'sexy', 'pretty', 'glamour', 'beautiful', 'young', 'model', 'portrait', 'sunglasses', 'cute', 'hair', 'people', 'indoors', 'expect', 'elegant', 'one', 'lingerie', 'adult', ''], '1502432255523869209': ['fabric', 'textile', 'pattern', 'wool', 'cotton', 'texture', 'handmade', 'desktop', 'yarn', 'design', 'color', 'scarf', 'wear', 'handicraft', 'fashion', 'warmly', 'garment', 'abstract', 'craft', 'closeup', ''], '1501606088682820429': ['branch', 'no person', 'tree', 'leaf', 'flora', 'flower', 'nature', 'garden', 'growth', 'outdoors', 'food', 'decoration', 'bud', 'closeup', 'husk', 'color', 'fruit', 'season', 'desktop', 'botanical', ''], '1501389274380024643': ['travel', 'sea', 'seashore', 'water', 'tourism', 'landscape', 'summer', 'nature', 'sky', 'sight', 'beach', 'architecture', 'island', 'town', 'vacation', 'boat', 'no person', 'city', 'outdoors', 'mountain', ''], '1497763971531473974': ['travel', 'relaxation', 'water', 'summer', 'no person', 'leisure', 'sea', 'vacation', 'beach', 'seashore', 'idyllic', 'tropical', 'outdoors', 'turquoise', 'sky', 'sand', 'fair weather', 'island', 'recreation', 'resort', ''], '1495771137014178717': ['nature', 'outdoors', 'summer', 'wood', 'woman', 'leisure', 'relaxation', 'park', 'beautiful', 'water', 'rock', 'stone', 'girl', 'young', 'grass', 'yoga', 'outside', 'leaf', 'recreation', 'fun', ''], '1494857463990595161': ['water', 'no person', 'travel', 'landscape', 'nature', 'outdoors', 'summer', 'rock', 'seashore', 'sea', 'recreation', 'turquoise', 'vacation', 'beach', 'daylight', 'sky', 'ocean', 'scenic', 'dug-out pool', 'island', ''], '1492160555677637579': ['architecture', 'lighthouse', 'travel', 'sea', 'building', 'tower', 'water', 'no person', 'outdoors', 'sky', 'tourism', 'city', 'landscape', 'seashore', 'sunset', 'town', 'vacation', 'house', 'sight', 'tourist', ''], '1491324184498878989': ['summer', 'nature', 'outdoors', 'fashion', 'fair weather', 'leisure', 'sky', 'woman', 'travel', 'pretty', 'relaxation', 'vacation', 'lid', 'young', 'fun', 'cute', 'enjoyment', 'sexy', 'sun', 'sand', ''], '1490584091110850504': ['flower', 'bouquet', 'wedding', 'portrait', 'woman', 'bride', 'decoration', 'wreath', 'interior design', 'love', 'nature', 'no person', 'beautiful', 'elegant', 'rose', 'indoors', 'girl', 'fashion', 'people', 'celebration', ''], '1489817211957887411': ['tropical', 'no person', 'palm', 'summer', 'sun', 'leaf', 'growth', 'bright', 'nature', 'fair weather', 'outdoors', 'frond', 'desktop', 'travel', 'tree', 'exotic', 'contemporary', 'flora', 'lush', 'wood', ''], '1486957030647369223': ['no person', 'flower', 'flora', 'leaf', 'desktop', 'nature', 'art', 'summer', 'vintage', 'retro', 'husk', 'texture', 'simplicity', 'design', 'cereal', 'color', 'grass', 'growth', 'closeup', 'grow', ''], '1486376404923839221': ['woman', 'girl', 'nature', 'young', 'fashion', 'beautiful', 'pretty', 'one', 'summer', 'hair', 'sit', 'relaxation', 'outdoors', 'sexy', 'model', 'portrait', 'adult', 'cute', 'lifestyle', 'casual', ''], '1484840567233008278': ['sunset', 'water', 'dawn', 'no person', 'landscape', 'evening', 'lake', 'mountain', 'outdoors', 'dusk', 'backlit', 'sky', 'fog', 'nature', 'moon', 'travel', 'sun', 'reflection', 'light', 'river', ''], '1484717500313685335': ['fashion', 'pattern', 'woman', 'style', 'beautiful', 'pretty', 'dress', 'girl', 'elegant', 'decoration', 'retro', 'art', 'fabric', 'trendy', 'young', 'texture', 'cute', 'textile', 'traditional', 'vintage', ''], '1481267229612860166': ['no person', 'interior design', 'leaf', 'decoration', 'nature', 'summer', 'picture frame', 'love', 'wreath', 'flower', 'vacation', 'ornate', 'christmas', 'retro', 'traditional', 'hanging', 'elegant', 'rose', 'flora', 'celebration', ''], '1481263743072682085': ['woman', 'one', 'nature', 'adult', 'beautiful', 'girl', 'people', 'outdoors', 'sit', 'portrait', 'relaxation', 'fashion', 'water', 'rock', 'summer', 'pretty', 'young', 'dress', 'lifestyle', 'hair', ''], '1478385116773603636': ['travel', 'seashore', 'architecture', 'no person', 'water', 'sea', 'town', 'city', 'house', 'tourism', 'outdoors', 'building', 'landscape', 'sky', 'vacation', 'beach', 'scenic', 'cityscape', 'sight', 'daylight', ''], '1476841401584048527': ['water', 'woman', 'recreation', 'one', 'summer', 'leisure', 'outdoors', 'adult', 'travel', 'people', 'fun', 'enjoyment', 'bikini', 'pretty', 'sexy', 'relaxation', 'fair weather', 'girl', 'sitting', 'sea', ''], '1475464221327107374': ['summer', 'woman', 'nature', 'fashion', 'outdoors', 'dress', 'girl', 'sky', 'portrait', 'model', 'one', 'fair weather', 'pretty', 'water', 'sexy', 'travel', 'adult', 'people', 'glamour', 'relaxation', ''], '1472402606629478940': ['seashore', 'no person', 'sea', 'travel', 'water', 'beach', 'ocean', 'island', 'seascape', 'bay', 'landscape', 'nature', 'sky', 'summer', 'outdoors', 'scenic', 'vacation', 'rock', 'daylight', 'tourism', ''], '1471117627828084072': ['water', 'recreation', 'summer', 'woman', 'leisure', 'boat', 'travel', 'sea', 'watercraft', 'fun', 'relaxation', 'sun', 'fair weather', 'outdoors', 'enjoyment', 'ocean', 'beach', 'sky', 'one', 'sand', ''], '1469646479550450277': ['flower', 'no person', 'tree', 'landscape', 'flora', 'outdoors', 'travel', 'nature', 'daylight', 'mountain', 'architecture', 'growth', 'summer', 'sky', 'cherry', 'environment', 'blooming', 'cropland', 'building', 'petal', ''], '1468022249763212712': ['dress', 'fashion', 'gown', 'people', 'woman', 'model', 'wear', 'portrait', 'one', 'red carpet', 'glamour', 'fashionable', 'adult', 'actress', 'summer', 'veil', 'outdoors', 'girl', 'luxury', 'fame', ''], '1468016938717340247': ['no person', 'jewelry', 'one', 'shining', 'woman', 'christmas', 'fashion', 'wear', 'blur', 'traditional', 'people', 'gift', 'celebration', 'luxury', 'decoration', 'paper', 'travel', 'winter', 'indoors', 'conceptual', ''], '1465961714297114961': ['summer', 'nature', 'outdoors', 'woman', 'fair weather', 'relaxation', 'fashion', 'one', 'leisure', 'freedom', 'enjoyment', 'people', 'fun', 'girl', 'portrait', 'happiness', 'adult', 'lifestyle', 'beach', 'vacation', ''], '1465360752683621388': ['climb', 'woman', 'rock climbing', 'adult', 'nature', 'outdoors', 'one', 'people', 'climber', 'summer', 'courage', 'adventure', 'rock', 'young', 'challenge', 'person', 'effort', 'girl', 'recreation', 'fun', ''], '1463862031554790493': ['no person', 'leaf', 'cactus', 'nature', 'flora', 'growth', 'fern', 'biology', 'disjunct', 'medicine', 'blur', 'houseplant', 'tree', 'sharp', 'cutout', 'summer', 'grow', 'aloe', 'ecology', 'simplicity', ''], '1461561024980248121': ['landscape', 'beach', 'travel', 'no person', 'seashore', 'sea', 'water', 'rock', 'sunset', 'daylight', 'outdoors', 'sky', 'nature', 'ocean', 'sand', 'sun', 'mountain', 'light', 'tourism', 'evening', ''], '1460287927199290528': ['culture', 'art', 'style', 'religion', 'mosaic', 'pattern', 'decoration', 'desktop', 'people', 'traditional', 'design', 'architecture', 'arch', 'wall', 'church', 'face', 'woman', 'travel', 'color', 'byzantine', ''], '1459550924996382777': ['no person', 'water', 'sunset', 'travel', 'sky', 'landscape', 'nature', 'outdoors', 'beach', 'monochrome', 'dawn', 'sea', 'seashore', 'ocean', 'dusk', 'fog', 'evening', 'storm', 'snow', 'dramatic', ''], '1457932916293223539': ['seashore', 'sea', 'travel', 'no person', 'town', 'water', 'architecture', 'beach', 'house', 'outdoors', 'city', 'bay', 'island', 'vacation', 'tourism', 'ocean', 'landscape', 'harbor', 'daylight', 'resort', ''], '1457929887837866729': ['relaxation', 'outdoors', 'nature', 'young', 'summer', 'woman', 'girl', 'leisure', 'people', 'park', 'lifestyle', 'beautiful', 'adult', 'grass', 'one', 'portrait', 'wood', 'person', 'rest', 'sit', ''], '1455408203151048676': ['flower', 'no person', 'decoration', 'flora', 'nature', 'architecture', 'leaf', 'summer', 'design', 'desktop', 'garden', 'color', 'house', 'wood', 'outdoors', 'pot', 'traditional', 'patio', 'wall', 'floral', ''], '1453054886324420167': ['portrait', 'one', 'girl', 'adult', 'woman', 'dress', 'summer', 'outdoors', 'lifestyle', 'wear', 'nature', 'leisure', 'seashore', 'happiness', 'recreation', 'beach', 'people', 'water', 'sea', 'model', ''], '1452126957675240581': ['sea', 'water', 'ocean', 'beach', 'wave', 'seashore', 'foam', 'surf', 'nature', 'shore', 'no person', 'sand', 'tide', 'travel', 'seascape', 'summer', 'landscape', 'desktop', 'vacation', 'wet', ''], '1449391096592508278': ['people', 'woman', 'family', 'indoors', 'adult', 'cooking', 'one', 'food', 'flower', 'house', 'preparation', 'young', 'relaxation', 'table', 'man', 'portrait', 'girl', 'apron', 'lifestyle', 'leisure', ''], '1449303398896706916': ['no person', 'travel', 'summer', 'water', 'outdoors', 'relaxation', 'leisure', 'nature', 'vacation', 'tropical', 'sky', 'chair', 'sea', 'seashore', 'recreation', 'beach', 'island', 'idyllic', 'tree', 'fair weather', ''], '1446421104468955409': ['no person', 'architecture', 'travel', 'water', 'outdoors', 'city', 'sunset', 'sky', 'sea', 'town', 'dusk', 'cityscape', 'seashore', 'dawn', 'evening', 'building', 'sun', 'summer', 'traditional', 'beach', ''], '1445734707768809184': ['water', 'landscape', 'no person', 'travel', 'mountain', 'sea', 'sky', 'beach', 'seashore', 'ocean', 'lake', 'nature', 'sunset', 'island', 'seascape', 'rock', 'dawn', 'bay', 'reflection', 'outdoors', ''], '1444968588640305811': ['architecture', 'old', 'wall', 'building', 'ancient', 'stone', 'no person', 'travel', 'gothic', 'ruin', 'window', 'house', 'summer', 'outdoors', 'expression', 'exterior', 'vertical', 'rock', 'antique', 'nature', ''], '1444459965384448359': ['fashion', 'portrait', 'girl', 'woman', 'model', 'dress', 'pretty', 'one', 'beautiful', 'wall', 'cute', 'hair', 'people', 'glamour', 'sexy', 'street', 'style', 'eye', 'young', 'wear', ''], '1442033611305111255': ['beach', 'water', 'summer', 'sea', 'woman', 'sand', 'girl', 'nature', 'fun', 'ocean', 'leisure', 'travel', 'outdoors', 'fashion', 'seashore', 'vacation', 'relaxation', 'sexy', 'wet', 'enjoyment', ''], '1441505853474862176': ['nature', 'stone', 'rock', 'no person', 'outdoors', 'desktop', 'closeup', 'wall', 'texture', 'dry', 'old', 'ancient', 'flora', 'tree', 'pattern', 'summer', 'earth surface', 'sand', 'rough', 'abstract', ''], '1440011134542322258': ['travel', 'architecture', 'city', 'no person', 'water', 'town', 'seashore', 'outdoors', 'tourism', 'sea', 'building', 'vehicle', 'evening', 'sky', 'dusk', 'cityscape', 'transportation system', 'landscape', 'harbor', 'watercraft', ''], '1436380109144613068': ['woman', 'sit', 'flower', 'adult', 'relaxation', 'people', 'family', 'room', 'leisure', 'lifestyle', 'indoors', 'house', 'love', 'travel', 'beautiful', 'furniture', 'nature', 'man', 'vacation', 'romance', ''], '1435074826623742733': ['water', 'landscape', 'tree', 'no person', 'nature', 'sky', 'beach', 'travel', 'sea', 'sun', 'outdoors', 'summer', 'seashore', 'dawn', 'lake', 'ocean', 'sunset', 'fair weather', 'light', 'branch', ''], '1434249497268996346': ['sea', 'beach', 'water', 'ocean', 'summer', 'sand', 'nature', 'sky', 'travel', 'vacation', 'relaxation', 'seashore', 'woman', 'outdoors', 'leisure', 'girl', 'freedom', 'lifestyle', 'sun', 'beautiful', ''], '1431251474846992730': ['water', 'sunset', 'no person', 'beach', 'dawn', 'sea', 'travel', 'ocean', 'landscape', 'evening', 'dusk', 'seashore', 'sky', 'sun', 'seascape', 'island', 'summer', 'outdoors', 'reflection', 'daylight', ''], '1429791727207768714': ['woman', 'dress', 'fashion', 'one', 'portrait', 'outdoors', 'flower', 'girl', 'people', 'wedding', 'adult', 'wear', 'model', 'nature', 'summer', 'step', 'veil', 'glamour', 'beautiful', 'skirt', ''], '1426929793928169106': ['stock', 'shopping', 'shop', 'wear', 'people', 'boutique', 'fashion', 'dress', 'hanging', 'mannequin', 'market', 'kimono', 'exhibition', 'option', 'commerce', 'mall', 'sale', 'geisha', 'hanger', 'merchandise', ''], '1425622200068622728': ['no person', 'travel', 'water', 'outdoors', 'architecture', 'seashore', 'sky', 'landscape', 'town', 'sea', 'sunset', 'nature', 'scenic', 'beach', 'rock', 'summer', 'tourism', 'house', 'city', 'mountain', ''], '1423969676085526774': ['decoration', 'architecture', 'flower', 'design', 'ornate', 'religion', 'traditional', 'art', 'desktop', 'style', 'old', 'culture', 'travel', 'ancient', 'antique', 'door', 'symbol', 'building', 'luxury', 'vintage', ''], '1421835136168683182': ['water', 'sea', 'seashore', 'travel', 'ocean', 'landscape', 'rock', 'beach', 'nature', 'no person', 'island', 'bay', 'mountain', 'cliff', 'summer', 'seascape', 'sky', 'vacation', 'scenic', 'tourism', ''], '1420287425711764476': ['sky', 'no person', 'sunset', 'sun', 'monochrome', 'travel', 'outdoors', 'round out', 'round', 'glass', 'blur', 'dawn', 'landscape', 'reflection', 'summer', 'water', 'zoom', 'dark', 'light', 'city', ''], '1418094239190972693': ['fireworks', 'explosion', 'firework', 'festival', 'quarter', 'flame', 'no person', 'flash', 'salute', 'celebration', 'anniversary', 'sudden bang', 'independence day', 'party', 'new year', 'boom', 'bright', 'dandelion', 'vacation', 'christmas', '']}\n"
     ]
    }
   ],
   "source": [
    "concepts = {}\n",
    "concepts_file = path_to_dataset + 'EMPORIOSIRENUSE_20173012/emporiosirenuse/emporiosirenuse_concepts.csv'\n",
    "with open(concepts_file, 'r') as file:\n",
    "    filereader = csv.reader(file, delimiter=\";\")\n",
    "    for row in filereader:\n",
    "        concepts[row[0]] = [x.split('\\t')[0] for x in row[2:]]\n",
    "del concepts['id_post']\n",
    "print(concepts)"
   ]
  },
  {
   "cell_type": "code",
   "execution_count": 38,
   "metadata": {},
   "outputs": [],
   "source": [
    "posts = []\n",
    "likes = []\n",
    "posts_file = path_to_dataset + 'EMPORIOSIRENUSE_20173012/emporiosirenuse/emporiosirenuse_posts.csv'\n",
    "with open(posts_file, 'r') as file:\n",
    "    filereader = csv.reader(file, delimiter=\",\")\n",
    "    next(filereader)\n",
    "    for row in filereader:\n",
    "        posts.append(row[0])\n",
    "        likes.append(int(row[12]))\n",
    "posts = np.array(posts)\n",
    "likes = np.array(likes)"
   ]
  },
  {
   "cell_type": "code",
   "execution_count": 43,
   "metadata": {},
   "outputs": [],
   "source": [
    "top30 = np.flip(posts[np.argsort(likes)[-30:]], 0)"
   ]
  },
  {
   "cell_type": "code",
   "execution_count": 59,
   "metadata": {},
   "outputs": [
    {
     "name": "stdout",
     "output_type": "stream",
     "text": [
      "['adult' 'ancient' 'antique' 'architecture' 'art' 'bar' 'bay' 'beach'\n",
      " 'beautiful' 'bedroom' 'bikini' 'boat' 'boutique' 'branch' 'buddha'\n",
      " 'building' 'chair' 'chandelier' 'church' 'city' 'cityscape' 'coffee table'\n",
      " 'commerce' 'concert' 'culture' 'dawn' 'daylight' 'decoration' 'design'\n",
      " 'desktop' 'dining' 'dining room' 'door' 'dress' 'dusk' 'easy chair'\n",
      " 'enjoyment' 'evening' 'exhibition' 'fair weather' 'family' 'fashion'\n",
      " 'fashionable' 'festival' 'fjord' 'flower' 'fun' 'furniture' 'geisha'\n",
      " 'girl' 'glamour' 'glass items' 'group' 'group together' 'hanger' 'hanging'\n",
      " 'happiness' 'harbor' 'hill' 'home' 'hotel' 'house' 'idyllic' 'indoors'\n",
      " 'inside' 'interior design' 'island' 'kimono' 'lake' 'lamp' 'landmark'\n",
      " 'landscape' 'leisure' 'lifestyle' 'light' 'lighthouse' 'luxury' 'mall'\n",
      " 'man' 'mannequin' 'many' 'market' 'merchandise' 'military' 'mirror'\n",
      " 'model' 'monochrome' 'mountain' 'music' 'musician' 'nature' 'nightclub'\n",
      " 'no person' 'ocean' 'old' 'one' 'option' 'ornate' 'outdoors' 'people'\n",
      " 'performance' 'place setting' 'port' 'portrait' 'pretty' 'recreation'\n",
      " 'reflection' 'relaxation' 'religion' 'resort' 'restaurant' 'retro' 'rock'\n",
      " 'roof' 'room' 'rug' 'sale' 'sand' 'scenic' 'sea' 'seascape' 'seashore'\n",
      " 'seat' 'several' 'sexy' 'ship' 'shop' 'shopping' 'sight' 'sky' 'sofa'\n",
      " 'stock' 'street' 'style' 'summer' 'sun' 'sunset' 'symbol' 'table'\n",
      " 'tablecloth' 'tableware' 'temple' 'tourism' 'tourist' 'tower' 'town'\n",
      " 'traditional' 'transportation system' 'travel' 'tree' 'tropical'\n",
      " 'turquoise' 'two' 'urban' 'vacation' 'vehicle' 'vertical' 'vintage' 'war'\n",
      " 'water' 'watercraft' 'wear' 'wet' 'window' 'woman']\n",
      "[ 6  1  1 17  2  1  6 14  1  1  1  4  1  1  1 11  3  1  2 12  5  1  1  1  1\n",
      "  4  5  2  2  1  1  1  1  3  2  1  2  3  1  3  2  2  1  1  1  2  1  3  1  3\n",
      "  1  1  2  2  1  1  1  3  1  2  4 13  1  3  2  3  9  1  2  3  1 15  3  2  3\n",
      "  1  4  1  3  1  2  1  1  2  1  1  2  4  1  1  7  1 20 10  3  3  1  1 20 11\n",
      "  1  1  2  1  1  4  1  3  2  4  3  1  3  1  3  2  1  1  5 21  2 18  3  1  1\n",
      "  1  1  1  9 14  1  2  2  1 12  2  5  1  3  1  1  1 15  4  1 11  4  1 26  1\n",
      "  1  2  1  3 16  3  1  1  1 23  2  2  1  3  5]\n"
     ]
    }
   ],
   "source": [
    "unique, counts = np.unique(np.ravel([concepts[i] for i in top30]), return_counts = True)\n",
    "unique = unique[1:]\n",
    "counts = counts[1:]\n",
    "print(unique)\n",
    "print(counts)"
   ]
  },
  {
   "cell_type": "markdown",
   "metadata": {},
   "source": [
    "Here are the 20 most frequent concepts in the top 30 liked posts"
   ]
  },
  {
   "cell_type": "code",
   "execution_count": 67,
   "metadata": {},
   "outputs": [
    {
     "name": "stdout",
     "output_type": "stream",
     "text": [
      "['travel' 'water' 'sea' 'outdoors' 'no person' 'seashore' 'architecture'\n",
      " 'vacation' 'landscape' 'tourism' 'sky' 'beach' 'house' 'summer' 'city'\n",
      " 'building' 'town' 'people' 'ocean' 'island' 'sight' 'nature' 'bay' 'adult'\n",
      " 'scenic' 'sunset' 'daylight' 'cityscape' 'woman' 'dawn']\n"
     ]
    }
   ],
   "source": [
    "print(np.flip(unique[np.argsort(counts)[-30:]], 0))"
   ]
  },
  {
   "cell_type": "code",
   "execution_count": 66,
   "metadata": {},
   "outputs": [
    {
     "name": "stdout",
     "output_type": "stream",
     "text": [
      "[26 23 21 20 20 18 17 16 15 15 14 14 13 12 12 11 11 11 10  9  9  7  6  6  5\n",
      "  5  5  5  5  4]\n"
     ]
    }
   ],
   "source": [
    "print(np.flip(counts[np.argsort(counts)[-30:]], 0))"
   ]
  },
  {
   "cell_type": "markdown",
   "metadata": {},
   "source": [
    "# miguelina gambaccini - mostly tags - 82358 followers"
   ]
  },
  {
   "cell_type": "markdown",
   "metadata": {},
   "source": [
    "TAGS"
   ]
  },
  {
   "cell_type": "code",
   "execution_count": 160,
   "metadata": {
    "collapsed": true
   },
   "outputs": [],
   "source": [
    "miguelina_file = path_to_dataset + 'EMPORIOSIRENUSE_20173012/miguelinagambaccini/miguelinagambaccini_tags.csv'\n",
    "miguelina = np.genfromtxt(miguelina_file, delimiter=',', dtype=str)"
   ]
  },
  {
   "cell_type": "markdown",
   "metadata": {},
   "source": [
    "remove headers"
   ]
  },
  {
   "cell_type": "code",
   "execution_count": 161,
   "metadata": {
    "collapsed": true
   },
   "outputs": [],
   "source": [
    "miguelina = miguelina[1:]"
   ]
  },
  {
   "cell_type": "code",
   "execution_count": 162,
   "metadata": {
    "collapsed": true
   },
   "outputs": [],
   "source": [
    "unique, counts = np.unique(miguelina[:,0], return_counts=True)"
   ]
  },
  {
   "cell_type": "code",
   "execution_count": 163,
   "metadata": {},
   "outputs": [
    {
     "data": {
      "text/plain": [
       "array([167, 126, 106,  42,  36,  24,  20,  18,  16,  11], dtype=int64)"
      ]
     },
     "execution_count": 163,
     "metadata": {},
     "output_type": "execute_result"
    }
   ],
   "source": [
    "np.flip(counts[np.argsort(counts)[-10:]],  0)"
   ]
  },
  {
   "cell_type": "code",
   "execution_count": 164,
   "metadata": {},
   "outputs": [
    {
     "name": "stdout",
     "output_type": "stream",
     "text": [
      "['miguelinamoment' 'roundtheworldinmiguelina' 'globalbabes' 'miguelina'\n",
      " 'junglelife' 'tulum' 'miguelinatulum' 'SS17' 'globalbabe' 'ss17']\n"
     ]
    }
   ],
   "source": [
    "top_tags = np.flip(unique[np.argsort(counts)[-10:]],  0)\n",
    "print(tags)"
   ]
  },
  {
   "cell_type": "code",
   "execution_count": 165,
   "metadata": {
    "collapsed": true
   },
   "outputs": [],
   "source": [
    "with open('miguelinagambaccini_top_tags.csv', 'w') as file:\n",
    "    for i in range(10):\n",
    "        file.write(str(top_tags[i]) + ', ' + str(top_counts[i]) + '\\n')"
   ]
  },
  {
   "cell_type": "markdown",
   "metadata": {},
   "source": [
    "MENTIONS"
   ]
  },
  {
   "cell_type": "code",
   "execution_count": 18,
   "metadata": {
    "collapsed": true
   },
   "outputs": [],
   "source": [
    "miguelina_file = path_to_dataset + 'EMPORIOSIRENUSE_20173012/miguelinagambaccini/miguelinagambaccini_mentions.csv'\n",
    "miguelina = np.genfromtxt(miguelina_file, delimiter=',', dtype=str)\n",
    "miguelina = miguelina[1:]\n",
    "unique, counts = np.unique(miguelina[:,0], return_counts=True)"
   ]
  },
  {
   "cell_type": "code",
   "execution_count": 167,
   "metadata": {},
   "outputs": [
    {
     "name": "stdout",
     "output_type": "stream",
     "text": [
      "[18 14  8  8  7  6  6  5  5  5]\n"
     ]
    }
   ],
   "source": [
    "top_counts = np.flip(counts[np.argsort(counts)[-10:]],  0)\n",
    "print(top_counts)"
   ]
  },
  {
   "cell_type": "code",
   "execution_count": 168,
   "metadata": {},
   "outputs": [
    {
     "name": "stdout",
     "output_type": "stream",
     "text": [
      "['charlottehayesjones' 'miguelinagambaccini' 'netaporter' 'ritzparis'\n",
      " 'mathildefrachon' 'our' 'natlamblin' 'veuveclicquot' 'emiliebrouss'\n",
      " 'annesserra']\n"
     ]
    }
   ],
   "source": [
    "top_mentions = np.flip(unique[np.argsort(counts)[-10:]],  0)\n",
    "print(mentions)"
   ]
  },
  {
   "cell_type": "code",
   "execution_count": 169,
   "metadata": {
    "collapsed": true
   },
   "outputs": [],
   "source": [
    "with open('miguelinagambaccini_top_mentions.csv', 'w') as file:\n",
    "    for i in range(10):\n",
    "        file.write(str(top_mentions[i]) + ', ' + str(top_counts[i]) + '\\n')"
   ]
  },
  {
   "cell_type": "markdown",
   "metadata": {},
   "source": [
    "# muzungu sisters - mostly mentions - 66950 followers"
   ]
  },
  {
   "cell_type": "markdown",
   "metadata": {},
   "source": [
    "MENTIONS"
   ]
  },
  {
   "cell_type": "code",
   "execution_count": 170,
   "metadata": {
    "collapsed": true
   },
   "outputs": [],
   "source": [
    "muzungu_file = path_to_dataset + 'EMPORIOSIRENUSE_20173012/muzungusisters/muzungusisters_mentions.csv'\n",
    "muzungu = np.genfromtxt(muzungu_file, delimiter=',', dtype=str)\n",
    "muzungu = muzungu[1:]\n",
    "unique, counts = np.unique(muzungu[:,0], return_counts=True)"
   ]
  },
  {
   "cell_type": "code",
   "execution_count": 171,
   "metadata": {},
   "outputs": [
    {
     "name": "stdout",
     "output_type": "stream",
     "text": [
      "[8 4 3 3 3 3 2 2 2 1]\n"
     ]
    }
   ],
   "source": [
    "top_counts = np.flip(counts[np.argsort(counts)[-10:]],  0)\n",
    "print(top_counts)"
   ]
  },
  {
   "cell_type": "code",
   "execution_count": 172,
   "metadata": {},
   "outputs": [
    {
     "name": "stdout",
     "output_type": "stream",
     "text": [
      "['lacoquetakids' 'farmacyuk' 'magneticmidnight' 'rachelljonesartist'\n",
      " 'sabinegetty' 'simonjevans' 'sophia' 'roxysowlaty' 'disfunkshionmag'\n",
      " 'carlaypage']\n"
     ]
    }
   ],
   "source": [
    "top_mentions = np.flip(unique[np.argsort(counts)[-10:]],  0)\n",
    "print(top_mentions)"
   ]
  },
  {
   "cell_type": "code",
   "execution_count": 173,
   "metadata": {
    "collapsed": true
   },
   "outputs": [],
   "source": [
    "with open('muzungusisters_top_mentions.csv', 'w') as file:\n",
    "    for i in range(10):\n",
    "        file.write(str(top_mentions[i]) + ', ' + str(top_counts[i]) + '\\n')"
   ]
  },
  {
   "cell_type": "markdown",
   "metadata": {},
   "source": [
    "TAGS"
   ]
  },
  {
   "cell_type": "code",
   "execution_count": 174,
   "metadata": {
    "collapsed": true
   },
   "outputs": [],
   "source": [
    "muzungu_file = path_to_dataset + 'EMPORIOSIRENUSE_20173012/muzungusisters/muzungusisters_tags.csv'\n",
    "muzungu = np.genfromtxt(muzungu_file, delimiter=',', dtype=str)\n",
    "muzungu = muzungu[1:]\n",
    "unique, counts = np.unique(muzungu[:,0], return_counts=True)"
   ]
  },
  {
   "cell_type": "code",
   "execution_count": 175,
   "metadata": {},
   "outputs": [
    {
     "name": "stdout",
     "output_type": "stream",
     "text": [
      "[45 24 15  3  2  2  2  2  1  1]\n"
     ]
    }
   ],
   "source": [
    "top_counts = np.flip(counts[np.argsort(counts)[-10:]],  0)\n",
    "print(top_counts)"
   ]
  },
  {
   "cell_type": "code",
   "execution_count": 176,
   "metadata": {},
   "outputs": [
    {
     "name": "stdout",
     "output_type": "stream",
     "text": [
      "['muzungusisters' 'MuzunguSisters' 'lacoquetaxmuzungusisters'\n",
      " 'magneticmidnightxmuzungusisters' 'handembroidered' 'handmade'\n",
      " 'MagneticMidnightxMuzunguSisters' 'artisanal' 'yearoftherooster' 'TBT']\n"
     ]
    }
   ],
   "source": [
    "top_tags = np.flip(unique[np.argsort(counts)[-10:]],  0)\n",
    "print(top_tags)"
   ]
  },
  {
   "cell_type": "code",
   "execution_count": 177,
   "metadata": {
    "collapsed": true
   },
   "outputs": [],
   "source": [
    "with open('muzungusisters_top_tags.csv', 'w') as file:\n",
    "    for i in range(10):\n",
    "        file.write(str(top_tags[i]) + ', ' + str(top_counts[i]) + '\\n')"
   ]
  },
  {
   "cell_type": "markdown",
   "metadata": {},
   "source": [
    "# zeus + dione - mostly tags - 27673 followers"
   ]
  },
  {
   "cell_type": "markdown",
   "metadata": {},
   "source": [
    "TAGS"
   ]
  },
  {
   "cell_type": "code",
   "execution_count": 178,
   "metadata": {
    "collapsed": true
   },
   "outputs": [],
   "source": [
    "zeusndione_file = path_to_dataset + 'EMPORIOSIRENUSE_20173012/zeusndione/zeusndione_tags.csv'\n",
    "zeusndione = np.genfromtxt(zeusndione_file, delimiter=',', dtype=str)\n",
    "zeusndione = zeusndione[1:]\n",
    "unique, counts = np.unique(zeusndione[:,0], return_counts=True)"
   ]
  },
  {
   "cell_type": "code",
   "execution_count": 179,
   "metadata": {},
   "outputs": [
    {
     "name": "stdout",
     "output_type": "stream",
     "text": [
      "[201  49  40  32  32  29  26  19  19  15]\n"
     ]
    }
   ],
   "source": [
    "top_counts = np.flip(counts[np.argsort(counts)[-10:]],  0)\n",
    "print(top_counts)"
   ]
  },
  {
   "cell_type": "code",
   "execution_count": 180,
   "metadata": {},
   "outputs": [
    {
     "name": "stdout",
     "output_type": "stream",
     "text": [
      "['zeusndione' 'inspiration' 'handmade' 'art' 'greece' 'madeingreece'\n",
      " 'summer' 'ootd' 'musthave' 'colours']\n"
     ]
    }
   ],
   "source": [
    "top_tags = np.flip(unique[np.argsort(counts)[-10:]],  0)\n",
    "print(top_tags)"
   ]
  },
  {
   "cell_type": "code",
   "execution_count": 181,
   "metadata": {
    "collapsed": true
   },
   "outputs": [],
   "source": [
    "with open('zeusndione_top_tags.csv', 'w') as file:\n",
    "    for i in range(10):\n",
    "        file.write(str(top_tags[i]) + ', ' + str(top_counts[i]) + '\\n')"
   ]
  },
  {
   "cell_type": "markdown",
   "metadata": {},
   "source": [
    "MENTIONS"
   ]
  },
  {
   "cell_type": "code",
   "execution_count": 182,
   "metadata": {
    "collapsed": true
   },
   "outputs": [],
   "source": [
    "zeusndione_file = path_to_dataset + 'EMPORIOSIRENUSE_20173012/zeusndione/zeusndione_mentions.csv'\n",
    "zeusndione = np.genfromtxt(zeusndione_file, delimiter=',', dtype=str)\n",
    "zeusndione = zeusndione[1:]\n",
    "unique, counts = np.unique(zeusndione[:,0], return_counts=True)"
   ]
  },
  {
   "cell_type": "code",
   "execution_count": 183,
   "metadata": {},
   "outputs": [
    {
     "name": "stdout",
     "output_type": "stream",
     "text": [
      "[7 7 6 5 5 5 4 4 4 4]\n"
     ]
    }
   ],
   "source": [
    "top_counts = np.flip(counts[np.argsort(counts)[-10:]],  0)\n",
    "print(top_counts)"
   ]
  },
  {
   "cell_type": "code",
   "execution_count": 184,
   "metadata": {},
   "outputs": [
    {
     "name": "stdout",
     "output_type": "stream",
     "text": [
      "['olympiakrasagaki' 'themodist' 'lydia' 'matchesfashion' 'netaporter'\n",
      " 'marevagr' 'mimik' 'thebenakimuseum' 'theeyetravels' 'farfetch']\n"
     ]
    }
   ],
   "source": [
    "top_mentions = np.flip(unique[np.argsort(counts)[-10:]],  0)\n",
    "print(top_mentions)"
   ]
  },
  {
   "cell_type": "code",
   "execution_count": 185,
   "metadata": {
    "collapsed": true
   },
   "outputs": [],
   "source": [
    "with open('zeusndione_top_mentions.csv', 'w') as file:\n",
    "    for i in range(10):\n",
    "        file.write(str(top_mentions[i]) + ', ' + str(top_counts[i]) + '\\n')"
   ]
  },
  {
   "cell_type": "markdown",
   "metadata": {},
   "source": [
    "# Dodo Bar Or - mostly mentions and picture tags"
   ]
  },
  {
   "cell_type": "markdown",
   "metadata": {},
   "source": [
    "MENTIONS"
   ]
  },
  {
   "cell_type": "code",
   "execution_count": 186,
   "metadata": {
    "collapsed": true
   },
   "outputs": [],
   "source": [
    "dodobaror_file = path_to_dataset + 'EMPORIOSIRENUSE_20173012/dodobaror/dodobaror_mentions.csv'\n",
    "dodobaror = np.genfromtxt(dodobaror_file, delimiter=',', dtype=str)\n",
    "dodobaror = dodobaror[1:]\n",
    "unique, counts = np.unique(dodobaror[:,0], return_counts=True)"
   ]
  },
  {
   "cell_type": "code",
   "execution_count": 187,
   "metadata": {},
   "outputs": [
    {
     "name": "stdout",
     "output_type": "stream",
     "text": [
      "[32 29 29 29 29 28 27 19 17  9]\n"
     ]
    }
   ],
   "source": [
    "top_counts = np.flip(counts[np.argsort(counts)[-10:]],  0)\n",
    "print(top_counts)"
   ]
  },
  {
   "cell_type": "code",
   "execution_count": 188,
   "metadata": {},
   "outputs": [
    {
     "name": "stdout",
     "output_type": "stream",
     "text": [
      "['netaporter' 'shopbop' 'matchesfashion' 'modaoperandi' 'mytheresa'\n",
      " 'revolve' 'fwrd' 'avenue32' 'intermixonline' 'adakokosar']\n"
     ]
    }
   ],
   "source": [
    "top_mentions = np.flip(unique[np.argsort(counts)[-10:]],  0)\n",
    "print(top_mentions)"
   ]
  },
  {
   "cell_type": "code",
   "execution_count": 189,
   "metadata": {
    "collapsed": true
   },
   "outputs": [],
   "source": [
    "with open('dodobaror_top_mentions.csv', 'w') as file:\n",
    "    for i in range(10):\n",
    "        file.write(str(top_mentions[i]) + ', ' + str(top_counts[i]) + '\\n')"
   ]
  },
  {
   "cell_type": "markdown",
   "metadata": {},
   "source": [
    "PIC TAGS"
   ]
  },
  {
   "cell_type": "code",
   "execution_count": 190,
   "metadata": {
    "collapsed": true
   },
   "outputs": [],
   "source": [
    "dodobaror_file = path_to_dataset + 'EMPORIOSIRENUSE_20173012/dodobaror/dodobaror_picture_tags.csv'\n",
    "dodobaror = np.genfromtxt(dodobaror_file, delimiter=',', dtype=str)\n",
    "dodobaror = dodobaror[1:]\n",
    "unique, counts = np.unique(dodobaror[:,2], return_counts=True)"
   ]
  },
  {
   "cell_type": "code",
   "execution_count": 191,
   "metadata": {},
   "outputs": [
    {
     "name": "stdout",
     "output_type": "stream",
     "text": [
      "[74 28 25 25 24 24 24 23 23 10]\n"
     ]
    }
   ],
   "source": [
    "top_counts = np.flip(counts[np.argsort(counts)[-10:]],  0)\n",
    "print(top_counts)"
   ]
  },
  {
   "cell_type": "code",
   "execution_count": 192,
   "metadata": {},
   "outputs": [
    {
     "name": "stdout",
     "output_type": "stream",
     "text": [
      "['dodobaror' 'netaporter' 'matchesfashion' 'avenue32' 'mytheresa.com'\n",
      " 'modaoperandi' 'shopbop' 'revolve' 'fwrd' 'intermixonline']\n"
     ]
    }
   ],
   "source": [
    "top_pic_tags = np.flip(unique[np.argsort(counts)[-10:]],  0)\n",
    "print(top_pic_tags)"
   ]
  },
  {
   "cell_type": "code",
   "execution_count": 193,
   "metadata": {
    "collapsed": true
   },
   "outputs": [],
   "source": [
    "with open('dodobaror_top_pic_tags.csv', 'w') as file:\n",
    "    for i in range(10):\n",
    "        file.write(str(top_pic_tags[i]) + ', ' + str(top_counts[i]) + '\\n')"
   ]
  },
  {
   "cell_type": "markdown",
   "metadata": {},
   "source": [
    "# Lisa Marie Fernandez - mostly tags and mentions - 83421 followers"
   ]
  },
  {
   "cell_type": "markdown",
   "metadata": {},
   "source": [
    "TAGS"
   ]
  },
  {
   "cell_type": "code",
   "execution_count": 194,
   "metadata": {
    "collapsed": true
   },
   "outputs": [],
   "source": [
    "file = path_to_dataset + 'EMPORIOSIRENUSE_20173012/lisamariefernandez/lisamariefernandez_tags.csv'\n",
    "data = np.genfromtxt(file, delimiter=',', dtype=str)[1:]\n",
    "unique, counts = np.unique(data[:,0], return_counts=True)"
   ]
  },
  {
   "cell_type": "code",
   "execution_count": 195,
   "metadata": {},
   "outputs": [
    {
     "name": "stdout",
     "output_type": "stream",
     "text": [
      "[178 115  36  27  27  23  21  13   8   8]\n"
     ]
    }
   ],
   "source": [
    "top_counts = np.flip(counts[np.argsort(counts)[-10:]],  0)\n",
    "print(top_counts)"
   ]
  },
  {
   "cell_type": "code",
   "execution_count": 196,
   "metadata": {},
   "outputs": [
    {
     "name": "stdout",
     "output_type": "stream",
     "text": [
      "['lisamariefernandez' 'LMFgirlsONholiday' 'topanga' 'spring2017collection'\n",
      " 'malibu' 'california' 'californication' 'resort2017collection'\n",
      " 'joseignacio' 'bikini']\n"
     ]
    }
   ],
   "source": [
    "top_tags = np.flip(unique[np.argsort(counts)[-10:]],  0)\n",
    "print(top_tags)"
   ]
  },
  {
   "cell_type": "code",
   "execution_count": 197,
   "metadata": {
    "collapsed": true
   },
   "outputs": [],
   "source": [
    "with open('lisamariefernandez_top_tags.csv', 'w') as file:\n",
    "    for i in range(10):\n",
    "        file.write(str(top_tags[i]) + ', ' + str(top_counts[i]) + '\\n')"
   ]
  },
  {
   "cell_type": "markdown",
   "metadata": {},
   "source": [
    "MENTIONS"
   ]
  },
  {
   "cell_type": "code",
   "execution_count": 198,
   "metadata": {
    "collapsed": true
   },
   "outputs": [],
   "source": [
    "file = path_to_dataset + 'EMPORIOSIRENUSE_20173012/lisamariefernandez/lisamariefernandez_mentions.csv'\n",
    "data = np.genfromtxt(file, delimiter=',', dtype=str)[1:]\n",
    "unique, counts = np.unique(data[:,0], return_counts=True)"
   ]
  },
  {
   "cell_type": "code",
   "execution_count": 199,
   "metadata": {},
   "outputs": [
    {
     "name": "stdout",
     "output_type": "stream",
     "text": [
      "[16  6  6  6  4  4  3  3  3  3]\n"
     ]
    }
   ],
   "source": [
    "top_counts = np.flip(counts[np.argsort(counts)[-10:]],  0)\n",
    "print(top_counts)"
   ]
  },
  {
   "cell_type": "code",
   "execution_count": 200,
   "metadata": {},
   "outputs": [
    {
     "name": "stdout",
     "output_type": "stream",
     "text": [
      "['matchesfashion' 'themostfamousartist' 'netaporter' 'imaanhammam'\n",
      " 'ericapelosini' 'voguemagazine' 'haileybaldwin' 'somethingnavy' 'hoskelsa'\n",
      " 'vitakin']\n"
     ]
    }
   ],
   "source": [
    "top_mentions = np.flip(unique[np.argsort(counts)[-10:]],  0)\n",
    "print(top_mentions)"
   ]
  },
  {
   "cell_type": "code",
   "execution_count": 201,
   "metadata": {
    "collapsed": true
   },
   "outputs": [],
   "source": [
    "with open('lisamariefernandez_top_mentions.csv', 'w') as file:\n",
    "    for i in range(10):\n",
    "        file.write(str(top_mentions[i]) + ', ' + str(top_counts[i]) + '\\n')"
   ]
  },
  {
   "cell_type": "markdown",
   "metadata": {},
   "source": [
    "# Loup charmant - mostly mentions and tags - 20446 followers"
   ]
  },
  {
   "cell_type": "markdown",
   "metadata": {},
   "source": [
    "MENTIONS"
   ]
  },
  {
   "cell_type": "code",
   "execution_count": 9,
   "metadata": {
    "collapsed": true
   },
   "outputs": [],
   "source": [
    "file = path_to_dataset + 'EMPORIOSIRENUSE_20173012/loupcharmant/loupcharmant_mentions.csv'\n",
    "data = np.genfromtxt(file, delimiter=',', dtype=str)[1:]\n",
    "unique, counts = np.unique(data[:,0], return_counts=True)"
   ]
  },
  {
   "cell_type": "code",
   "execution_count": 10,
   "metadata": {},
   "outputs": [
    {
     "name": "stdout",
     "output_type": "stream",
     "text": [
      "[30 18 18  7  7  5  5  5  5  4]\n"
     ]
    }
   ],
   "source": [
    "top_counts = np.flip(counts[np.argsort(counts)[-10:]],  0)\n",
    "print(top_counts)"
   ]
  },
  {
   "cell_type": "code",
   "execution_count": 11,
   "metadata": {},
   "outputs": [
    {
     "name": "stdout",
     "output_type": "stream",
     "text": [
      "['loupcharmant' 'willysomma' 'matchesfashion' 'theperfecthideaway'\n",
      " 'stylesavageuk' 'popupcollectivesh' 'arunaseth' 'clarissabronfman'\n",
      " 'worldarmarium' 'jenniferfisherjewelry']\n"
     ]
    }
   ],
   "source": [
    "top_mentions = np.flip(unique[np.argsort(counts)[-10:]],  0)\n",
    "print(top_mentions)"
   ]
  },
  {
   "cell_type": "code",
   "execution_count": 12,
   "metadata": {
    "collapsed": true
   },
   "outputs": [],
   "source": [
    "with open('loupcharmant_top_mentions.csv', 'w') as file:\n",
    "    for i in range(10):\n",
    "        file.write(str(top_mentions[i]) + ', ' + str(top_counts[i]) + '\\n')"
   ]
  },
  {
   "cell_type": "markdown",
   "metadata": {},
   "source": [
    "TAGS"
   ]
  },
  {
   "cell_type": "code",
   "execution_count": 13,
   "metadata": {
    "collapsed": true
   },
   "outputs": [],
   "source": [
    "file = path_to_dataset + 'EMPORIOSIRENUSE_20173012/loupcharmant/loupcharmant_tags.csv'\n",
    "data = np.genfromtxt(file, delimiter=',', dtype=str)[1:]\n",
    "unique, counts = np.unique(data[:,0], return_counts=True)"
   ]
  },
  {
   "cell_type": "code",
   "execution_count": 14,
   "metadata": {},
   "outputs": [
    {
     "name": "stdout",
     "output_type": "stream",
     "text": [
      "[144  57   7   5   4   4   4   4   3   3]\n"
     ]
    }
   ],
   "source": [
    "top_counts = np.flip(counts[np.argsort(counts)[-10:]],  0)\n",
    "print(top_counts)"
   ]
  },
  {
   "cell_type": "code",
   "execution_count": 15,
   "metadata": {},
   "outputs": [
    {
     "name": "stdout",
     "output_type": "stream",
     "text": [
      "['loupcharmant' 'vibecharmant' 'LoupCharmant' 'marfa' 'wanderlust' 'yellow'\n",
      " 'southampton' 'beachlife' 'indiansummer' 'breezy']\n"
     ]
    }
   ],
   "source": [
    "top_tags = np.flip(unique[np.argsort(counts)[-10:]],  0)\n",
    "print(top_tags)"
   ]
  },
  {
   "cell_type": "code",
   "execution_count": 16,
   "metadata": {
    "collapsed": true
   },
   "outputs": [],
   "source": [
    "with open('loupcharmant_top_tags.csv', 'w') as file:\n",
    "    for i in range(10):\n",
    "        file.write(str(top_tags[i]) + ', ' + str(top_counts[i]) + '\\n')"
   ]
  },
  {
   "cell_type": "markdown",
   "metadata": {},
   "source": [
    "# Athena Procopiou - mostly tags and mentions - 26593 followers"
   ]
  },
  {
   "cell_type": "markdown",
   "metadata": {},
   "source": [
    "TAGS"
   ]
  },
  {
   "cell_type": "code",
   "execution_count": 210,
   "metadata": {
    "collapsed": true
   },
   "outputs": [],
   "source": [
    "file = path_to_dataset + 'EMPORIOSIRENUSE_20173012/athenaprocopiou/athenaprocopiou_tags.csv'\n",
    "data = np.genfromtxt(file, delimiter=',', dtype=str)[1:]\n",
    "unique, counts = np.unique(data[:,0], return_counts=True)"
   ]
  },
  {
   "cell_type": "code",
   "execution_count": 211,
   "metadata": {},
   "outputs": [
    {
     "name": "stdout",
     "output_type": "stream",
     "text": [
      "[127  86  82  74  66  65  53  51  49  43]\n"
     ]
    }
   ],
   "source": [
    "top_counts = np.flip(counts[np.argsort(counts)[-10:]],  0)\n",
    "print(top_counts)"
   ]
  },
  {
   "cell_type": "code",
   "execution_count": 212,
   "metadata": {},
   "outputs": [
    {
     "name": "stdout",
     "output_type": "stream",
     "text": [
      "['athenaprocopiou' 'summer' 'love' 'bohochic' 'dress' 'summerstyle'\n",
      " 'prints' 'boho' 'fashion' 'resortwear']\n"
     ]
    }
   ],
   "source": [
    "top_tags = np.flip(unique[np.argsort(counts)[-10:]],  0)\n",
    "print(top_tags)"
   ]
  },
  {
   "cell_type": "code",
   "execution_count": 213,
   "metadata": {
    "collapsed": true
   },
   "outputs": [],
   "source": [
    "with open('athenaprocopiou_top_tags.csv', 'w') as file:\n",
    "    for i in range(10):\n",
    "        file.write(str(top_tags[i]) + ', ' + str(top_counts[i]) + '\\n')"
   ]
  },
  {
   "cell_type": "markdown",
   "metadata": {},
   "source": [
    "MENTIONS"
   ]
  },
  {
   "cell_type": "code",
   "execution_count": 214,
   "metadata": {
    "collapsed": true
   },
   "outputs": [],
   "source": [
    "file = path_to_dataset + 'EMPORIOSIRENUSE_20173012/athenaprocopiou/athenaprocopiou_mentions.csv'\n",
    "data = np.genfromtxt(file, delimiter=',', dtype=str)[1:]\n",
    "unique, counts = np.unique(data[:,0], return_counts=True)"
   ]
  },
  {
   "cell_type": "code",
   "execution_count": 215,
   "metadata": {},
   "outputs": [
    {
     "name": "stdout",
     "output_type": "stream",
     "text": [
      "[11  8  8  8  8  5  4  3  2  2]\n"
     ]
    }
   ],
   "source": [
    "top_counts = np.flip(counts[np.argsort(counts)[-10:]],  0)\n",
    "print(top_counts)"
   ]
  },
  {
   "cell_type": "code",
   "execution_count": 216,
   "metadata": {},
   "outputs": [
    {
     "name": "stdout",
     "output_type": "stream",
     "text": [
      "['jamesbrooks' 'spirossavvinos' 'sophia' 'stamatis' 'matchesfashion'\n",
      " 'amberfillerup' 'hereccomes' 'sorayabakhtiar' 'carajourdan' 'juliahengel']\n"
     ]
    }
   ],
   "source": [
    "top_mentions = np.flip(unique[np.argsort(counts)[-10:]],  0)\n",
    "print(top_mentions)"
   ]
  },
  {
   "cell_type": "code",
   "execution_count": 217,
   "metadata": {
    "collapsed": true
   },
   "outputs": [],
   "source": [
    "with open('athenaprocopiou_top_mentions.csv', 'w') as file:\n",
    "    for i in range(10):\n",
    "        file.write(str(top_mentions[i]) + ', ' + str(top_counts[i]) + '\\n')"
   ]
  },
  {
   "cell_type": "markdown",
   "metadata": {},
   "source": [
    "# Emporio Le Sirenuse - mostly tags and mentions - 3119 followers"
   ]
  },
  {
   "cell_type": "markdown",
   "metadata": {},
   "source": [
    "TAGS"
   ]
  },
  {
   "cell_type": "code",
   "execution_count": 218,
   "metadata": {
    "collapsed": true
   },
   "outputs": [],
   "source": [
    "file = path_to_dataset + 'EMPORIOSIRENUSE_20173012/emporiosirenuse/emporiosirenuse_tags.csv'\n",
    "data = np.genfromtxt(file, delimiter=',', dtype=str)[1:]\n",
    "unique, counts = np.unique(data[:,0], return_counts=True)"
   ]
  },
  {
   "cell_type": "code",
   "execution_count": 219,
   "metadata": {},
   "outputs": [
    {
     "name": "stdout",
     "output_type": "stream",
     "text": [
      "[96 39 31 25 25 19 16 15 15 15]\n"
     ]
    }
   ],
   "source": [
    "top_counts = np.flip(counts[np.argsort(counts)[-10:]],  0)\n",
    "print(top_counts)"
   ]
  },
  {
   "cell_type": "code",
   "execution_count": 220,
   "metadata": {},
   "outputs": [
    {
     "name": "stdout",
     "output_type": "stream",
     "text": [
      "['LeSirenusePositanoCollection' 'ig' 'Positano' 'AmalfiCoast' 'SS17'\n",
      " 'summertime' 'ilovepositano' 'womenswear' 'luxurytravel' 'beachwear']\n"
     ]
    }
   ],
   "source": [
    "top_tags = np.flip(unique[np.argsort(counts)[-10:]],  0)\n",
    "print(top_tags)"
   ]
  },
  {
   "cell_type": "code",
   "execution_count": 221,
   "metadata": {
    "collapsed": true
   },
   "outputs": [],
   "source": [
    "with open('emporiosirenuse_top_tags.csv', 'w') as file:\n",
    "    for i in range(10):\n",
    "        file.write(str(top_tags[i]) + ', ' + str(top_counts[i]) + '\\n')"
   ]
  },
  {
   "cell_type": "markdown",
   "metadata": {},
   "source": [
    "MENTIONS"
   ]
  },
  {
   "cell_type": "code",
   "execution_count": 222,
   "metadata": {
    "collapsed": true
   },
   "outputs": [],
   "source": [
    "file = path_to_dataset + 'EMPORIOSIRENUSE_20173012/emporiosirenuse/emporiosirenuse_mentions.csv'\n",
    "data = np.genfromtxt(file, delimiter=',', dtype=str)[1:]\n",
    "unique, counts = np.unique(data[:,0], return_counts=True)"
   ]
  },
  {
   "cell_type": "code",
   "execution_count": 223,
   "metadata": {},
   "outputs": [
    {
     "name": "stdout",
     "output_type": "stream",
     "text": [
      "[37 36  5  5  3  3  3  2  2  2]\n"
     ]
    }
   ],
   "source": [
    "top_counts = np.flip(counts[np.argsort(counts)[-10:]],  0)\n",
    "print(top_counts)"
   ]
  },
  {
   "cell_type": "code",
   "execution_count": 224,
   "metadata": {},
   "outputs": [
    {
     "name": "stdout",
     "output_type": "stream",
     "text": [
      "['guidotaroniphotographer' 'robertosalomonephotojournalist'\n",
      " 'nusaindahsurfboards' 'francosbar' 'bitterendproductions' 'mjgiuls'\n",
      " 'louisnicolasdarbon' 'rr' 'sarahamandabray' 'speronella']\n"
     ]
    }
   ],
   "source": [
    "top_mentions = np.flip(unique[np.argsort(counts)[-10:]],  0)\n",
    "print(top_mentions)"
   ]
  },
  {
   "cell_type": "code",
   "execution_count": 225,
   "metadata": {
    "collapsed": true
   },
   "outputs": [],
   "source": [
    "with open('emporiosirenuse_top_mentions.csv', 'w') as file:\n",
    "    for i in range(10):\n",
    "        file.write(str(top_mentions[i]) + ', ' + str(top_counts[i]) + '\\n')"
   ]
  },
  {
   "cell_type": "markdown",
   "metadata": {},
   "source": [
    "# Heidi Klein Swimwear - mostly tags and mentions - 27425 followers"
   ]
  },
  {
   "cell_type": "markdown",
   "metadata": {},
   "source": [
    "TAGS"
   ]
  },
  {
   "cell_type": "code",
   "execution_count": 226,
   "metadata": {
    "collapsed": true
   },
   "outputs": [],
   "source": [
    "file = path_to_dataset + 'EMPORIOSIRENUSE_20173012/heidikleinswim/heidikleinswim_tags.csv'\n",
    "data = np.genfromtxt(file, delimiter=',', dtype=str)[1:]\n",
    "unique, counts = np.unique(data[:,0], return_counts=True)"
   ]
  },
  {
   "cell_type": "code",
   "execution_count": 227,
   "metadata": {},
   "outputs": [
    {
     "name": "stdout",
     "output_type": "stream",
     "text": [
      "[257 215 200 158 147  97  94  87  84  78]\n"
     ]
    }
   ],
   "source": [
    "top_counts = np.flip(counts[np.argsort(counts)[-10:]],  0)\n",
    "print(top_counts)"
   ]
  },
  {
   "cell_type": "code",
   "execution_count": 228,
   "metadata": {},
   "outputs": [
    {
     "name": "stdout",
     "output_type": "stream",
     "text": [
      "['HeidiKlein' 'love' 'style' 'swimwear' 'travel' 'potd' 'summer' 'shopnow'\n",
      " 'destination' 'fblogger']\n"
     ]
    }
   ],
   "source": [
    "top_tags = np.flip(unique[np.argsort(counts)[-10:]],  0)\n",
    "print(top_tags)"
   ]
  },
  {
   "cell_type": "code",
   "execution_count": 229,
   "metadata": {
    "collapsed": true
   },
   "outputs": [],
   "source": [
    "with open('heidikleinswim_top_tags.csv', 'w') as file:\n",
    "    for i in range(10):\n",
    "        file.write(str(top_tags[i]) + ', ' + str(top_counts[i]) + '\\n')"
   ]
  },
  {
   "cell_type": "markdown",
   "metadata": {},
   "source": [
    "MENTIONS"
   ]
  },
  {
   "cell_type": "code",
   "execution_count": 230,
   "metadata": {
    "collapsed": true
   },
   "outputs": [],
   "source": [
    "file = path_to_dataset + 'EMPORIOSIRENUSE_20173012/heidikleinswim/heidikleinswim_mentions.csv'\n",
    "data = np.genfromtxt(file, delimiter=',', dtype=str)[1:]\n",
    "unique, counts = np.unique(data[:,0], return_counts=True)"
   ]
  },
  {
   "cell_type": "code",
   "execution_count": 231,
   "metadata": {},
   "outputs": [
    {
     "name": "stdout",
     "output_type": "stream",
     "text": [
      "[12 10  7  7  6  6  5  5  4  4]\n"
     ]
    }
   ],
   "source": [
    "top_counts = np.flip(counts[np.argsort(counts)[-10:]],  0)\n",
    "print(top_counts)"
   ]
  },
  {
   "cell_type": "code",
   "execution_count": 232,
   "metadata": {},
   "outputs": [
    {
     "name": "stdout",
     "output_type": "stream",
     "text": [
      "['lornaluxe' 'hedvigso' 'bonnierakhit' 'sophieandersonbags' 'kavitacola'\n",
      " 'sincerelyjules' 'gypsylovinlight' 'tessward' 'theglowedit' 'niomismart']\n"
     ]
    }
   ],
   "source": [
    "top_mentions = np.flip(unique[np.argsort(counts)[-10:]],  0)\n",
    "print(top_mentions)"
   ]
  },
  {
   "cell_type": "code",
   "execution_count": 233,
   "metadata": {
    "collapsed": true
   },
   "outputs": [],
   "source": [
    "with open('heidikleinswim_top_mentions.csv', 'w') as file:\n",
    "    for i in range(10):\n",
    "        file.write(str(top_mentions[i]) + ', ' + str(top_counts[i]) + '\\n')"
   ]
  },
  {
   "cell_type": "markdown",
   "metadata": {},
   "source": [
    "# Daft Collection - mostly tags and mentions - 3781 followers"
   ]
  },
  {
   "cell_type": "markdown",
   "metadata": {},
   "source": [
    "TAGS"
   ]
  },
  {
   "cell_type": "code",
   "execution_count": 234,
   "metadata": {
    "collapsed": true
   },
   "outputs": [],
   "source": [
    "file = path_to_dataset + 'EMPORIOSIRENUSE_20173012/daftcollectionofficial/daftcollectionofficial_tags.csv'\n",
    "data = np.genfromtxt(file, delimiter=',', dtype=str)[1:]\n",
    "unique, counts = np.unique(data[:,0], return_counts=True)"
   ]
  },
  {
   "cell_type": "code",
   "execution_count": 235,
   "metadata": {},
   "outputs": [
    {
     "name": "stdout",
     "output_type": "stream",
     "text": [
      "[54 31 20 16 12 11 11 10  8  8]\n"
     ]
    }
   ],
   "source": [
    "top_counts = np.flip(counts[np.argsort(counts)[-10:]],  0)\n",
    "print(top_counts)"
   ]
  },
  {
   "cell_type": "code",
   "execution_count": 236,
   "metadata": {},
   "outputs": [
    {
     "name": "stdout",
     "output_type": "stream",
     "text": [
      "['holiday' 'summer' 'summertime' 'notjustforthebeach' 'chic' 'beachlife'\n",
      " 'weekend' 'beach' 'beachchic' 'resort']\n"
     ]
    }
   ],
   "source": [
    "top_tags = np.flip(unique[np.argsort(counts)[-10:]],  0)\n",
    "print(top_tags)"
   ]
  },
  {
   "cell_type": "code",
   "execution_count": 237,
   "metadata": {
    "collapsed": true
   },
   "outputs": [],
   "source": [
    "with open('daftcollectionofficial_top_tags.csv', 'w') as file:\n",
    "    for i in range(10):\n",
    "        file.write(str(top_tags[i]) + ', ' + str(top_counts[i]) + '\\n')"
   ]
  },
  {
   "cell_type": "markdown",
   "metadata": {},
   "source": [
    "MENTIONS"
   ]
  },
  {
   "cell_type": "code",
   "execution_count": 4,
   "metadata": {
    "collapsed": true
   },
   "outputs": [],
   "source": [
    "file = path_to_dataset + 'EMPORIOSIRENUSE_20173012/daftcollectionofficial/daftcollectionofficial_mentions.csv'\n",
    "data = np.genfromtxt(file, delimiter=',', dtype=str)[1:]\n",
    "unique, counts = np.unique(data[:,0], return_counts=True)"
   ]
  },
  {
   "cell_type": "code",
   "execution_count": 5,
   "metadata": {},
   "outputs": [
    {
     "name": "stdout",
     "output_type": "stream",
     "text": [
      "[17  8  5  5  5  4  3  3  3  3]\n"
     ]
    }
   ],
   "source": [
    "top_counts = np.flip(counts[np.argsort(counts)[-10:]],  0)\n",
    "print(top_counts)"
   ]
  },
  {
   "cell_type": "code",
   "execution_count": 6,
   "metadata": {},
   "outputs": [
    {
     "name": "stdout",
     "output_type": "stream",
     "text": [
      "['matchesfashion' 'edenbeing' 'milaura' 'winwoodfashion'\n",
      " 'adamheathboutique' 'alducadaosta' 'paciugomantova' 'victoireofficiel'\n",
      " 'josephfashion' 'serenellausa']\n"
     ]
    }
   ],
   "source": [
    "top_mentions = np.flip(unique[np.argsort(counts)[-10:]],  0)\n",
    "print(top_mentions)"
   ]
  },
  {
   "cell_type": "code",
   "execution_count": 8,
   "metadata": {
    "collapsed": true
   },
   "outputs": [],
   "source": [
    "with open('daftcollectionofficial_top_mentions.csv', 'w') as file:\n",
    "    for i in range(10):\n",
    "        file.write(str(top_mentions[i]) + ', ' + str(top_counts[i]) + '\\n')"
   ]
  }
 ],
 "metadata": {
  "kernelspec": {
   "display_name": "Python 3",
   "language": "python",
   "name": "python3"
  },
  "language_info": {
   "codemirror_mode": {
    "name": "ipython",
    "version": 3
   },
   "file_extension": ".py",
   "mimetype": "text/x-python",
   "name": "python",
   "nbconvert_exporter": "python",
   "pygments_lexer": "ipython3",
   "version": "3.6.3"
  }
 },
 "nbformat": 4,
 "nbformat_minor": 2
}
