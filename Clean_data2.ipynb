{
 "cells": [
  {
   "cell_type": "code",
   "execution_count": 25,
   "metadata": {},
   "outputs": [],
   "source": [
    "import pandas as pd\n",
    "import numpy as np\n",
    "import datetime as DT\n",
    "import matplotlib.pyplot as plt\n",
    "from statsmodels.tools import add_constant\n",
    "from statsmodels.regression.linear_model import RegressionResults\n",
    "import seaborn as sns\n",
    "import sklearn as sk\n",
    "from sklearn.preprocessing import MinMaxScaler\n",
    "from sklearn.model_selection import KFold\n",
    "from sklearn.linear_model import LinearRegression\n",
    "from sklearn.linear_model import Ridge\n",
    "from sklearn.linear_model import Lasso\n",
    "from sklearn.preprocessing import PolynomialFeatures\n",
    "from sklearn.neighbors import KNeighborsRegressor\n",
    "from sklearn.decomposition import PCA\n",
    "from sklearn import tree\n",
    "import numpy as np\n",
    "import scipy as sp\n",
    "import matplotlib.pyplot as plt\n",
    "import pandas as pd\n",
    "import seaborn as sns\n",
    "from sklearn import ensemble\n",
    "#import pydotplus\n",
    "#import io\n",
    "import collections\n",
    "from sklearn.tree import export_graphviz\n",
    "from IPython.display import Image\n",
    "from IPython.display import display\n",
    "import matplotlib.pyplot as plt\n",
    "%matplotlib inline\n",
    "import matplotlib\n",
    "import matplotlib.pyplot as plt\n",
    "import matplotlib.cm as cmx\n",
    "import matplotlib.colors as colors\n",
    "import matplotlib.patches as patches\n"
   ]
  },
  {
   "cell_type": "code",
   "execution_count": 6,
   "metadata": {},
   "outputs": [],
   "source": [
    "data = pd.read_csv('emporiosirenuse_community_stat.csv',sep=\",\")"
   ]
  },
  {
   "cell_type": "code",
   "execution_count": 7,
   "metadata": {},
   "outputs": [
    {
     "data": {
      "text/html": [
       "<div>\n",
       "<style scoped>\n",
       "    .dataframe tbody tr th:only-of-type {\n",
       "        vertical-align: middle;\n",
       "    }\n",
       "\n",
       "    .dataframe tbody tr th {\n",
       "        vertical-align: top;\n",
       "    }\n",
       "\n",
       "    .dataframe thead th {\n",
       "        text-align: right;\n",
       "    }\n",
       "</style>\n",
       "<table border=\"1\" class=\"dataframe\">\n",
       "  <thead>\n",
       "    <tr style=\"text-align: right;\">\n",
       "      <th></th>\n",
       "      <th>brandname</th>\n",
       "      <th>followers</th>\n",
       "      <th>processedUsers</th>\n",
       "      <th>privateUsers</th>\n",
       "      <th>nopostsUsers</th>\n",
       "      <th>missingUsers</th>\n",
       "      <th>%communityCovered</th>\n",
       "      <th>#communityPosts</th>\n",
       "    </tr>\n",
       "  </thead>\n",
       "  <tbody>\n",
       "    <tr>\n",
       "      <th>0</th>\n",
       "      <td>muzungusisters</td>\n",
       "      <td>66938</td>\n",
       "      <td>22637</td>\n",
       "      <td>34576</td>\n",
       "      <td>3958</td>\n",
       "      <td>8016</td>\n",
       "      <td>88.03</td>\n",
       "      <td>2910277</td>\n",
       "    </tr>\n",
       "    <tr>\n",
       "      <th>1</th>\n",
       "      <td>miguelinagambaccini</td>\n",
       "      <td>83848</td>\n",
       "      <td>5634</td>\n",
       "      <td>32186</td>\n",
       "      <td>12930</td>\n",
       "      <td>43561</td>\n",
       "      <td>47.11</td>\n",
       "      <td>670195</td>\n",
       "    </tr>\n",
       "    <tr>\n",
       "      <th>2</th>\n",
       "      <td>zeusndione</td>\n",
       "      <td>27624</td>\n",
       "      <td>11384</td>\n",
       "      <td>13540</td>\n",
       "      <td>1694</td>\n",
       "      <td>1899</td>\n",
       "      <td>93.14</td>\n",
       "      <td>1170628</td>\n",
       "    </tr>\n",
       "    <tr>\n",
       "      <th>3</th>\n",
       "      <td>dodobaror</td>\n",
       "      <td>89500</td>\n",
       "      <td>31772</td>\n",
       "      <td>40838</td>\n",
       "      <td>6527</td>\n",
       "      <td>13613</td>\n",
       "      <td>84.80</td>\n",
       "      <td>2974526</td>\n",
       "    </tr>\n",
       "    <tr>\n",
       "      <th>4</th>\n",
       "      <td>lisamariefernandez</td>\n",
       "      <td>83411</td>\n",
       "      <td>26993</td>\n",
       "      <td>38743</td>\n",
       "      <td>5193</td>\n",
       "      <td>15327</td>\n",
       "      <td>81.63</td>\n",
       "      <td>3230855</td>\n",
       "    </tr>\n",
       "  </tbody>\n",
       "</table>\n",
       "</div>"
      ],
      "text/plain": [
       "             brandname  followers  processedUsers  privateUsers  nopostsUsers  \\\n",
       "0       muzungusisters      66938           22637         34576          3958   \n",
       "1  miguelinagambaccini      83848            5634         32186         12930   \n",
       "2           zeusndione      27624           11384         13540          1694   \n",
       "3            dodobaror      89500           31772         40838          6527   \n",
       "4   lisamariefernandez      83411           26993         38743          5193   \n",
       "\n",
       "   missingUsers  %communityCovered  #communityPosts  \n",
       "0          8016              88.03          2910277  \n",
       "1         43561              47.11           670195  \n",
       "2          1899              93.14          1170628  \n",
       "3         13613              84.80          2974526  \n",
       "4         15327              81.63          3230855  "
      ]
     },
     "execution_count": 7,
     "metadata": {},
     "output_type": "execute_result"
    }
   ],
   "source": [
    "data.head()"
   ]
  },
  {
   "cell_type": "code",
   "execution_count": null,
   "metadata": {
    "collapsed": true
   },
   "outputs": [],
   "source": []
  },
  {
   "cell_type": "code",
   "execution_count": 8,
   "metadata": {},
   "outputs": [
    {
     "data": {
      "text/html": [
       "<div>\n",
       "<style scoped>\n",
       "    .dataframe tbody tr th:only-of-type {\n",
       "        vertical-align: middle;\n",
       "    }\n",
       "\n",
       "    .dataframe tbody tr th {\n",
       "        vertical-align: top;\n",
       "    }\n",
       "\n",
       "    .dataframe thead th {\n",
       "        text-align: right;\n",
       "    }\n",
       "</style>\n",
       "<table border=\"1\" class=\"dataframe\">\n",
       "  <thead>\n",
       "    <tr style=\"text-align: right;\">\n",
       "      <th></th>\n",
       "      <th>brandname</th>\n",
       "      <th>#posts</th>\n",
       "      <th>%geolocated</th>\n",
       "      <th>#uniquelocations</th>\n",
       "      <th>#like</th>\n",
       "      <th>#tag</th>\n",
       "      <th>#comments</th>\n",
       "      <th>#mentions</th>\n",
       "      <th>#picturetag</th>\n",
       "      <th>#followers</th>\n",
       "    </tr>\n",
       "  </thead>\n",
       "  <tbody>\n",
       "    <tr>\n",
       "      <th>0</th>\n",
       "      <td>miguelinagambaccini</td>\n",
       "      <td>274</td>\n",
       "      <td>60.58</td>\n",
       "      <td>99</td>\n",
       "      <td>139228</td>\n",
       "      <td>1116</td>\n",
       "      <td>921</td>\n",
       "      <td>448</td>\n",
       "      <td>460</td>\n",
       "      <td>82358</td>\n",
       "    </tr>\n",
       "    <tr>\n",
       "      <th>1</th>\n",
       "      <td>muzungusisters</td>\n",
       "      <td>262</td>\n",
       "      <td>35.50</td>\n",
       "      <td>48</td>\n",
       "      <td>194003</td>\n",
       "      <td>194</td>\n",
       "      <td>2588</td>\n",
       "      <td>497</td>\n",
       "      <td>79</td>\n",
       "      <td>66950</td>\n",
       "    </tr>\n",
       "    <tr>\n",
       "      <th>2</th>\n",
       "      <td>zeusndione</td>\n",
       "      <td>206</td>\n",
       "      <td>20.87</td>\n",
       "      <td>31</td>\n",
       "      <td>131323</td>\n",
       "      <td>1257</td>\n",
       "      <td>883</td>\n",
       "      <td>283</td>\n",
       "      <td>162</td>\n",
       "      <td>27673</td>\n",
       "    </tr>\n",
       "    <tr>\n",
       "      <th>3</th>\n",
       "      <td>dodobaror</td>\n",
       "      <td>83</td>\n",
       "      <td>27.71</td>\n",
       "      <td>20</td>\n",
       "      <td>98276</td>\n",
       "      <td>25</td>\n",
       "      <td>1563</td>\n",
       "      <td>556</td>\n",
       "      <td>355</td>\n",
       "      <td>89562</td>\n",
       "    </tr>\n",
       "    <tr>\n",
       "      <th>4</th>\n",
       "      <td>lisamariefernandez</td>\n",
       "      <td>335</td>\n",
       "      <td>75.52</td>\n",
       "      <td>96</td>\n",
       "      <td>213419</td>\n",
       "      <td>700</td>\n",
       "      <td>3096</td>\n",
       "      <td>728</td>\n",
       "      <td>553</td>\n",
       "      <td>83421</td>\n",
       "    </tr>\n",
       "  </tbody>\n",
       "</table>\n",
       "</div>"
      ],
      "text/plain": [
       "             brandname  #posts  %geolocated  #uniquelocations   #like  #tag  \\\n",
       "0  miguelinagambaccini     274        60.58                99  139228  1116   \n",
       "1       muzungusisters     262        35.50                48  194003   194   \n",
       "2           zeusndione     206        20.87                31  131323  1257   \n",
       "3            dodobaror      83        27.71                20   98276    25   \n",
       "4   lisamariefernandez     335        75.52                96  213419   700   \n",
       "\n",
       "   #comments  #mentions  #picturetag  #followers  \n",
       "0        921        448          460       82358  \n",
       "1       2588        497           79       66950  \n",
       "2        883        283          162       27673  \n",
       "3       1563        556          355       89562  \n",
       "4       3096        728          553       83421  "
      ]
     },
     "execution_count": 8,
     "metadata": {},
     "output_type": "execute_result"
    }
   ],
   "source": [
    "\n",
    "data2 = pd.read_csv('emporiosirenuse_domain_stat.csv',sep=\",\")\n",
    "data2.head()"
   ]
  },
  {
   "cell_type": "code",
   "execution_count": 14,
   "metadata": {},
   "outputs": [
    {
     "data": {
      "text/plain": [
       "Index(['brandname', '#posts', '%geolocated', '#uniquelocations', '#like',\n",
       "       '#tag', '#comments', '#mentions', '#picturetag', '#followers'],\n",
       "      dtype='object')"
      ]
     },
     "execution_count": 14,
     "metadata": {},
     "output_type": "execute_result"
    }
   ],
   "source": [
    "data2.columns"
   ]
  },
  {
   "cell_type": "code",
   "execution_count": 35,
   "metadata": {},
   "outputs": [
    {
     "data": {
      "image/png": "[encoded data removed]",
      "text/plain": [
       "<matplotlib.figure.Figure at 0x111428860>"
      ]
     },
     "metadata": {},
     "output_type": "display_data"
    },
    {
     "data": {
      "text/plain": [
       "<matplotlib.figure.Figure at 0x111335b38>"
      ]
     },
     "metadata": {},
     "output_type": "display_data"
    }
   ],
   "source": [
    "\n",
    "plt.bar(data.brandname, data['followers'],  color=\"r\")\n",
    "\n",
    "plt.xlabel(\"Brand\")\n",
    "plt.ylabel(\"Number of followers\")\n",
    "plt.xticks(rotation=90)\n",
    "plt.title('Number of Followers of each Brand')\n",
    "plt.figure(figsize=(20,10))\n",
    "plt.show()"
   ]
  },
  {
   "cell_type": "code",
   "execution_count": 26,
   "metadata": {},
   "outputs": [
    {
     "data": {
      "text/plain": [
       "<matplotlib.axes._subplots.AxesSubplot at 0x109472438>"
      ]
     },
     "execution_count": 26,
     "metadata": {},
     "output_type": "execute_result"
    },
    {
     "data": {
      "image/png": "[encoded data removed]",
      "text/plain": [
       "<matplotlib.figure.Figure at 0x110a0dd68>"
      ]
     },
     "metadata": {},
     "output_type": "display_data"
    }
   ],
   "source": [
    "data.corr()\n",
    "plt.figure(figsize=(12,12))\n",
    "sns.heatmap(data.corr())"
   ]
  },
  {
   "cell_type": "code",
   "execution_count": 27,
   "metadata": {},
   "outputs": [
    {
     "data": {
      "text/plain": [
       "<matplotlib.axes._subplots.AxesSubplot at 0x110ba0d68>"
      ]
     },
     "execution_count": 27,
     "metadata": {},
     "output_type": "execute_result"
    },
    {
     "data": {
      "image/png": "[encoded data removed]",
      "text/plain": [
       "<matplotlib.figure.Figure at 0x1094a1ba8>"
      ]
     },
     "metadata": {},
     "output_type": "display_data"
    }
   ],
   "source": [
    "data2.corr()\n",
    "plt.figure(figsize=(12,12))\n",
    "sns.heatmap(data2.corr())"
   ]
  },
  {
   "cell_type": "code",
   "execution_count": 34,
   "metadata": {},
   "outputs": [
    {
     "data": {
      "image/png": "[encoded data removed]",
      "text/plain": [
       "<matplotlib.figure.Figure at 0x11141bcc0>"
      ]
     },
     "metadata": {},
     "output_type": "display_data"
    },
    {
     "data": {
      "text/plain": [
       "<matplotlib.figure.Figure at 0x111414588>"
      ]
     },
     "metadata": {},
     "output_type": "display_data"
    }
   ],
   "source": [
    "\n",
    "plt.bar(data2.brandname, data2['#posts'],  color=\"g\")\n",
    "\n",
    "plt.xlabel(\"Brand\")\n",
    "plt.xticks(rotation=90)\n",
    "plt.ylabel(\"Number of followers\")\n",
    "plt.title('Number of Followers of each Brand')\n",
    "plt.figure(figsize=(20,10))\n",
    "plt.show()"
   ]
  },
  {
   "cell_type": "code",
   "execution_count": null,
   "metadata": {
    "collapsed": true
   },
   "outputs": [],
   "source": []
  }
 ],
 "metadata": {
  "kernelspec": {
   "display_name": "Python 3",
   "language": "python",
   "name": "python3"
  },
  "language_info": {
   "codemirror_mode": {
    "name": "ipython",
    "version": 3
   },
   "file_extension": ".py",
   "mimetype": "text/x-python",
   "name": "python",
   "nbconvert_exporter": "python",
   "pygments_lexer": "ipython3",
   "version": "3.6.1"
  }
 },
 "nbformat": 4,
 "nbformat_minor": 2
}
