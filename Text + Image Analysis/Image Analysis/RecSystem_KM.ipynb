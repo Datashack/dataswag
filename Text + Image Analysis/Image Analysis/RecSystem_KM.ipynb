{
 "cells": [
  {
   "cell_type": "code",
   "execution_count": null,
   "metadata": {},
   "outputs": [],
   "source": []
  },
  {
   "cell_type": "code",
   "execution_count": 1,
   "metadata": {
    "collapsed": true
   },
   "outputs": [],
   "source": [
    "import cv2 ## issues \n",
    "import skimage\n",
    "from skimage import io\n",
    "import pickle\n",
    "#define File-Path to Users Folder\n",
    "#import scikit-image\n",
    "import skimage\n",
    "import os\n",
    "import pandas as pd\n",
    "import numpy as np\n",
    "from IPython.display import display\n",
    "import matplotlib\n",
    "import matplotlib.pyplot as plt\n",
    "from skimage import data\n",
    "from skimage import io\n",
    "from sklearn.mixture import GaussianMixture\n",
    "import glob\n",
    "from skimage.viewer import ImageViewer\n",
    "from sklearn.cluster import KMeans\n",
    "from sklearn.decomposition import PCA\n",
    "%matplotlib inline\n",
    "\n",
    "#img = io.imread('~/Users/kimia/Desktop/Capstone/imgcluster/Cluster4/11117159_1591691794419786_1496739027_n.jpg')"
   ]
  },
  {
   "cell_type": "markdown",
   "metadata": {},
   "source": [
    "# the user won't be ripping images off the web. \n",
    "# so need to diverge from Karan to make something that pulls from a file"
   ]
  },
  {
   "cell_type": "code",
   "execution_count": 9,
   "metadata": {
    "collapsed": true
   },
   "outputs": [],
   "source": [
    "path  = '/Users/kimia/Desktop/Capstone/imgcluster/Cluster4/'\n",
    "dest_img =  '/Users/kimia/Desktop/Capstone/imgcluster/Cluster4/'"
   ]
  },
  {
   "cell_type": "code",
   "execution_count": 59,
   "metadata": {
    "collapsed": true
   },
   "outputs": [],
   "source": [
    "user_imgs = {}\n",
    "img = io.imread(path+'1.jpg')\n",
    "user_imgs[(1, path)] = img\n",
    "img = io.imread(path+'2.jpg')\n",
    "user_imgs[(2, path)] = img\n",
    "#user_imgs\n"
   ]
  },
  {
   "cell_type": "code",
   "execution_count": 61,
   "metadata": {},
   "outputs": [
    {
     "data": {
      "text/plain": [
       "array([[[112,  32,   0],\n",
       "        [111,  30,   0],\n",
       "        [108,  31,   1],\n",
       "        ...,\n",
       "        [168, 107,  53],\n",
       "        [167, 106,  52],\n",
       "        [166, 105,  51]],\n",
       "\n",
       "       [[110,  29,   0],\n",
       "        [109,  30,   0],\n",
       "        [107,  30,   2],\n",
       "        ...,\n",
       "        [168, 107,  53],\n",
       "        [167, 106,  52],\n",
       "        [166, 105,  51]],\n",
       "\n",
       "       [[104,  27,   0],\n",
       "        [105,  28,   0],\n",
       "        [105,  29,   3],\n",
       "        ...,\n",
       "        [169, 108,  54],\n",
       "        [168, 107,  53],\n",
       "        [166, 105,  51]],\n",
       "\n",
       "       ...,\n",
       "\n",
       "       [[ 86,  20,   6],\n",
       "        [ 87,  21,   7],\n",
       "        [ 86,  23,   8],\n",
       "        ...,\n",
       "        [ 93,  46,  20],\n",
       "        [ 93,  46,  20],\n",
       "        [ 93,  46,  20]],\n",
       "\n",
       "       [[ 87,  21,   7],\n",
       "        [ 88,  22,   8],\n",
       "        [ 88,  25,  10],\n",
       "        ...,\n",
       "        [ 93,  46,  20],\n",
       "        [ 93,  46,  20],\n",
       "        [ 93,  46,  20]],\n",
       "\n",
       "       [[ 88,  22,   8],\n",
       "        [ 89,  23,   9],\n",
       "        [ 89,  26,  11],\n",
       "        ...,\n",
       "        [ 93,  46,  20],\n",
       "        [ 93,  46,  20],\n",
       "        [ 93,  46,  20]]], dtype=uint8)"
      ]
     },
     "execution_count": 61,
     "metadata": {},
     "output_type": "execute_result"
    }
   ],
   "source": [
    "img"
   ]
  },
  {
   "cell_type": "code",
   "execution_count": 11,
   "metadata": {},
   "outputs": [
    {
     "name": "stdout",
     "output_type": "stream",
     "text": [
      "Number of images loaded: 2\n"
     ]
    }
   ],
   "source": [
    "\"\"\"num_pic = [0,1,2]\n",
    "def get_images(path):\n",
    "    #Get all Images of Users in the List\n",
    "    user_imgs = {}\n",
    "    for i in num_pic:\n",
    "        path = path + i\n",
    "        for j in glob.glob(path +'.jpg'):\n",
    "            file_name = j.replace(path,'')[1:]\n",
    "            img = io.imread(j)\n",
    "            user_imgs[(i,file_name)] = img\n",
    "    return user_imgs \n",
    "\n",
    "\n",
    "#Get Images from User List and Path\n",
    "user_imgs = get_images(path)\"\"\"\n",
    "print(\"Number of images loaded:\", len(user_imgs))"
   ]
  },
  {
   "cell_type": "code",
   "execution_count": 55,
   "metadata": {},
   "outputs": [],
   "source": [
    "#Define paths\n",
    "train_path = \"/Users/kmotwani/Dropbox/Harvard/Capstone_EmpSirenuse/Datasets/sample_users_media/\"\n",
    "dest_path = \"/Users/kmotwani/Desktop/Me - Local/Education/Courses/Capstone Project/Clustering_\"\n",
    "\n",
    "#Create Object\n",
    "obj_train = ClusteringTrain.Clustering(train_path, dest_path)"
   ]
  },
  {
   "cell_type": "code",
   "execution_count": 58,
   "metadata": {},
   "outputs": [
    {
     "ename": "AttributeError",
     "evalue": "'Clustering' object has no attribute 'train_imgs'",
     "output_type": "error",
     "traceback": [
      "\u001b[0;31m---------------------------------------------------------------------------\u001b[0m",
      "\u001b[0;31mAttributeError\u001b[0m                            Traceback (most recent call last)",
      "\u001b[0;32m<ipython-input-58-e87f5bcccd14>\u001b[0m in \u001b[0;36m<module>\u001b[0;34m()\u001b[0m\n\u001b[1;32m      6\u001b[0m                 \"G_MED\", \"B_Mean\", \"B_STD\", \"B_MED\", \"Canny\", \"ORB_X\", \"ORB_Y\"]\n\u001b[1;32m      7\u001b[0m \u001b[0;34m\u001b[0m\u001b[0m\n\u001b[0;32m----> 8\u001b[0;31m \u001b[0mtrain_df\u001b[0m \u001b[0;34m=\u001b[0m \u001b[0mobj_train\u001b[0m\u001b[0;34m.\u001b[0m\u001b[0mconvert_to_features\u001b[0m\u001b[0;34m(\u001b[0m\u001b[0mtrain_df_cols\u001b[0m\u001b[0;34m)\u001b[0m\u001b[0;34m\u001b[0m\u001b[0m\n\u001b[0m\u001b[1;32m      9\u001b[0m \u001b[0mdisplay\u001b[0m\u001b[0;34m(\u001b[0m\u001b[0mtrain_df\u001b[0m\u001b[0;34m.\u001b[0m\u001b[0mhead\u001b[0m\u001b[0;34m(\u001b[0m\u001b[0;34m)\u001b[0m\u001b[0;34m)\u001b[0m\u001b[0;34m\u001b[0m\u001b[0m\n",
      "\u001b[0;32m~/Desktop/Capstone/hotel/Image Analysis/ClusteringTrain.py\u001b[0m in \u001b[0;36mconvert_to_features\u001b[0;34m(self, columns)\u001b[0m\n\u001b[1;32m     39\u001b[0m     \u001b[0;32mdef\u001b[0m \u001b[0mconvert_to_features\u001b[0m\u001b[0;34m(\u001b[0m\u001b[0mself\u001b[0m\u001b[0;34m,\u001b[0m \u001b[0mcolumns\u001b[0m\u001b[0;34m)\u001b[0m\u001b[0;34m:\u001b[0m\u001b[0;34m\u001b[0m\u001b[0m\n\u001b[1;32m     40\u001b[0m         \u001b[0mfeatures\u001b[0m \u001b[0;34m=\u001b[0m \u001b[0;34m[\u001b[0m\u001b[0;34m]\u001b[0m\u001b[0;34m\u001b[0m\u001b[0m\n\u001b[0;32m---> 41\u001b[0;31m         \u001b[0;32mfor\u001b[0m \u001b[0mi\u001b[0m \u001b[0;32min\u001b[0m \u001b[0mself\u001b[0m\u001b[0;34m.\u001b[0m\u001b[0mtrain_imgs\u001b[0m\u001b[0;34m.\u001b[0m\u001b[0mitems\u001b[0m\u001b[0;34m(\u001b[0m\u001b[0;34m)\u001b[0m\u001b[0;34m:\u001b[0m\u001b[0;34m\u001b[0m\u001b[0m\n\u001b[0m\u001b[1;32m     42\u001b[0m             \u001b[0mr_mean\u001b[0m\u001b[0;34m,\u001b[0m \u001b[0mr_std\u001b[0m\u001b[0;34m,\u001b[0m \u001b[0mr_med\u001b[0m \u001b[0;34m=\u001b[0m \u001b[0mnp\u001b[0m\u001b[0;34m.\u001b[0m\u001b[0mmean\u001b[0m\u001b[0;34m(\u001b[0m\u001b[0mi\u001b[0m\u001b[0;34m[\u001b[0m\u001b[0;36m1\u001b[0m\u001b[0;34m]\u001b[0m\u001b[0;34m[\u001b[0m\u001b[0;34m:\u001b[0m\u001b[0;34m,\u001b[0m\u001b[0;34m:\u001b[0m\u001b[0;34m,\u001b[0m\u001b[0;36m0\u001b[0m\u001b[0;34m]\u001b[0m\u001b[0;34m.\u001b[0m\u001b[0mravel\u001b[0m\u001b[0;34m(\u001b[0m\u001b[0;34m)\u001b[0m\u001b[0;34m)\u001b[0m\u001b[0;34m,\u001b[0m \u001b[0mnp\u001b[0m\u001b[0;34m.\u001b[0m\u001b[0mstd\u001b[0m\u001b[0;34m(\u001b[0m\u001b[0mi\u001b[0m\u001b[0;34m[\u001b[0m\u001b[0;36m1\u001b[0m\u001b[0;34m]\u001b[0m\u001b[0;34m[\u001b[0m\u001b[0;34m:\u001b[0m\u001b[0;34m,\u001b[0m\u001b[0;34m:\u001b[0m\u001b[0;34m,\u001b[0m\u001b[0;36m0\u001b[0m\u001b[0;34m]\u001b[0m\u001b[0;34m.\u001b[0m\u001b[0mravel\u001b[0m\u001b[0;34m(\u001b[0m\u001b[0;34m)\u001b[0m\u001b[0;34m)\u001b[0m\u001b[0;34m,\u001b[0m \u001b[0mnp\u001b[0m\u001b[0;34m.\u001b[0m\u001b[0mmedian\u001b[0m\u001b[0;34m(\u001b[0m\u001b[0mi\u001b[0m\u001b[0;34m[\u001b[0m\u001b[0;36m1\u001b[0m\u001b[0;34m]\u001b[0m\u001b[0;34m[\u001b[0m\u001b[0;34m:\u001b[0m\u001b[0;34m,\u001b[0m\u001b[0;34m:\u001b[0m\u001b[0;34m,\u001b[0m\u001b[0;36m0\u001b[0m\u001b[0;34m]\u001b[0m\u001b[0;34m.\u001b[0m\u001b[0mravel\u001b[0m\u001b[0;34m(\u001b[0m\u001b[0;34m)\u001b[0m\u001b[0;34m)\u001b[0m\u001b[0;34m\u001b[0m\u001b[0m\n\u001b[1;32m     43\u001b[0m             \u001b[0mg_mean\u001b[0m\u001b[0;34m,\u001b[0m \u001b[0mg_std\u001b[0m\u001b[0;34m,\u001b[0m \u001b[0mg_med\u001b[0m  \u001b[0;34m=\u001b[0m \u001b[0mnp\u001b[0m\u001b[0;34m.\u001b[0m\u001b[0mmean\u001b[0m\u001b[0;34m(\u001b[0m\u001b[0mi\u001b[0m\u001b[0;34m[\u001b[0m\u001b[0;36m1\u001b[0m\u001b[0;34m]\u001b[0m\u001b[0;34m[\u001b[0m\u001b[0;34m:\u001b[0m\u001b[0;34m,\u001b[0m\u001b[0;34m:\u001b[0m\u001b[0;34m,\u001b[0m\u001b[0;36m1\u001b[0m\u001b[0;34m]\u001b[0m\u001b[0;34m.\u001b[0m\u001b[0mravel\u001b[0m\u001b[0;34m(\u001b[0m\u001b[0;34m)\u001b[0m\u001b[0;34m)\u001b[0m\u001b[0;34m,\u001b[0m \u001b[0mnp\u001b[0m\u001b[0;34m.\u001b[0m\u001b[0mstd\u001b[0m\u001b[0;34m(\u001b[0m\u001b[0mi\u001b[0m\u001b[0;34m[\u001b[0m\u001b[0;36m1\u001b[0m\u001b[0;34m]\u001b[0m\u001b[0;34m[\u001b[0m\u001b[0;34m:\u001b[0m\u001b[0;34m,\u001b[0m\u001b[0;34m:\u001b[0m\u001b[0;34m,\u001b[0m\u001b[0;36m1\u001b[0m\u001b[0;34m]\u001b[0m\u001b[0;34m.\u001b[0m\u001b[0mravel\u001b[0m\u001b[0;34m(\u001b[0m\u001b[0;34m)\u001b[0m\u001b[0;34m)\u001b[0m\u001b[0;34m,\u001b[0m \u001b[0mnp\u001b[0m\u001b[0;34m.\u001b[0m\u001b[0mmedian\u001b[0m\u001b[0;34m(\u001b[0m\u001b[0mi\u001b[0m\u001b[0;34m[\u001b[0m\u001b[0;36m1\u001b[0m\u001b[0;34m]\u001b[0m\u001b[0;34m[\u001b[0m\u001b[0;34m:\u001b[0m\u001b[0;34m,\u001b[0m\u001b[0;34m:\u001b[0m\u001b[0;34m,\u001b[0m\u001b[0;36m1\u001b[0m\u001b[0;34m]\u001b[0m\u001b[0;34m.\u001b[0m\u001b[0mravel\u001b[0m\u001b[0;34m(\u001b[0m\u001b[0;34m)\u001b[0m\u001b[0;34m)\u001b[0m\u001b[0;34m\u001b[0m\u001b[0m\n",
      "\u001b[0;31mAttributeError\u001b[0m: 'Clustering' object has no attribute 'train_imgs'"
     ]
    }
   ],
   "source": [
    "import ClusteringTrain\n",
    "\n",
    "\n",
    "#Get train dataframe\n",
    "train_df_cols = [\"User_Handle\",\"URL\",\"R_Mean\", \"R_STD\", \"R_MED\", \"G_Mean\", \"G_STD\", \n",
    "                \"G_MED\", \"B_Mean\", \"B_STD\", \"B_MED\", \"Canny\", \"ORB_X\", \"ORB_Y\"]\n",
    "\n",
    "train_df = obj_train.convert_to_features(train_df_cols)\n",
    "display(train_df.head())"
   ]
  },
  {
   "cell_type": "markdown",
   "metadata": {},
   "source": [
    "user_features = []\n",
    "for i in user_imgs.items():\n",
    "    r_mean, r_std, r_med = np.mean(i[1][:,:,0].ravel()), np.std(i[1][:,:,0].ravel()), np.median(i[1][:,:,0].ravel())\n",
    "    g_mean, g_std, g_med  = np.mean(i[1][:,:,1].ravel()), np.std(i[1][:,:,1].ravel()), np.median(i[1][:,:,1].ravel())\n",
    "    b_mean, b_std, b_med  = np.mean(i[1][:,:,2].ravel()), np.std(i[1][:,:,2].ravel()), np.median(i[1][:,:,2].ravel())\n",
    "    canny = np.mean(np.ravel(cv2.Canny(cv2.cvtColor(i[1], cv2.COLOR_BGR2HSV),100,200,L2gradient = True)))\n",
    "    try:\n",
    "        orb = cv2.ORB_create(100)\n",
    "        kp = orb.detect(i[1],None)\n",
    "        kp, des = orb.compute(i[1], kp)\n",
    "        orb_centers = list(KMeans(1).fit([i.pt for i in kp]).cluster_centers_)\n",
    "        orbx1, orby1 = orb_centers[0][0]*255/np.shape(i[1])[0], orb_centers[0][1]*255/np.shape(i[1])[1]\n",
    "    except ValueError:\n",
    "        continue\n",
    "    user_features.append(np.array([i[0][0],i[0][1], r_mean, r_std, r_med, g_mean, g_std, g_med, b_mean, b_std, b_med, canny, orbx1, orby1]))\n",
    "   # return user_features\n"
   ]
  },
  {
   "cell_type": "code",
   "execution_count": 42,
   "metadata": {},
   "outputs": [],
   "source": [
    "#Helper function to convert image to d-dimension vector\n",
    "def convert(user_imgs):\n",
    "    user_features = []\n",
    "    for i in user_imgs.items():\n",
    "        r_mean, r_std, r_med = np.mean(i[1][:,:,0].ravel()), np.std(i[1][:,:,0].ravel()), np.median(i[1][:,:,0].ravel())\n",
    "        g_mean, g_std, g_med  = np.mean(i[1][:,:,1].ravel()), np.std(i[1][:,:,1].ravel()), np.median(i[1][:,:,1].ravel())\n",
    "        b_mean, b_std, b_med  = np.mean(i[1][:,:,2].ravel()), np.std(i[1][:,:,2].ravel()), np.median(i[1][:,:,2].ravel())\n",
    "        canny = np.mean(np.ravel(cv2.Canny(cv2.cvtColor(i[1], cv2.COLOR_BGR2HSV),100,200,L2gradient = True)))\n",
    "        try:\n",
    "            orb = cv2.ORB_create(100)\n",
    "            kp = orb.detect(i[1],None)\n",
    "            kp, des = orb.compute(i[1], kp)\n",
    "            orb_centers = list(KMeans(1).fit([i.pt for i in kp]).cluster_centers_)\n",
    "            orbx1, orby1 = orb_centers[0][0]*255/np.shape(i[1])[0], orb_centers[0][1]*255/np.shape(i[1])[1]\n",
    "        except ValueError:\n",
    "            continue\n",
    "        user_features.append(np.array([i[0][0],i[0][1], r_mean, r_std, r_med, g_mean, g_std, g_med, b_mean, b_std, b_med, canny, orbx1, orby1]))\n",
    "    return user_features\n",
    "   \n",
    "    \n",
    "    \n",
    "def convert_to_features(user_imgs): #columns):\n",
    "    features = []\n",
    "    for i in user_imgs.items():\n",
    "        r_mean, r_std, r_med = np.mean(i[1][:,:,0].ravel()), np.std(i[1][:,:,0].ravel()), np.median(i[1][:,:,0].ravel())\n",
    "        g_mean, g_std, g_med  = np.mean(i[1][:,:,1].ravel()), np.std(i[1][:,:,1].ravel()), np.median(i[1][:,:,1].ravel())\n",
    "        b_mean, b_std, b_med  = np.mean(i[1][:,:,2].ravel()), np.std(i[1][:,:,2].ravel()), np.median(i[1][:,:,2].ravel())\n",
    "        canny = np.mean(np.ravel(cv2.Canny(cv2.cvtColor(i[1], cv2.COLOR_BGR2HSV),100,200,L2gradient = True)))\n",
    "        try:\n",
    "            orb = cv2.ORB_create(100)\n",
    "            kp = orb.detect(i[1],None)\n",
    "            kp, des = orb.compute(i[1], kp)\n",
    "            orb_centers = list(KMeans(1).fit([i.pt for i in kp]).cluster_centers_)\n",
    "            orbx1, orby1 = orb_centers[0][0]*255/np.shape(i[1])[0], orb_centers[0][1]*255/np.shape(i[1])[1]\n",
    "        except ValueError:\n",
    "            continue\n",
    "        features.append(np.array([i[0][0],i[0][1], r_mean, r_std, r_med, g_mean, g_std, g_med, b_mean, b_std, b_med, canny, orbx1, orby1]))\n",
    "    df = pd.DataFrame(features) #columns = columns)\n",
    "    return df    \n"
   ]
  },
  {
   "cell_type": "code",
   "execution_count": 43,
   "metadata": {},
   "outputs": [
    {
     "name": "stdout",
     "output_type": "stream",
     "text": [
      "Feature Vectors Created.\n"
     ]
    }
   ],
   "source": [
    "#Convert Images\n",
    "user_features = convert(user_imgs)\n",
    "df = convert_to_features(user_imgs)\n",
    "print(\"Feature Vectors Created.\")"
   ]
  },
  {
   "cell_type": "code",
   "execution_count": 44,
   "metadata": {},
   "outputs": [
    {
     "data": {
      "text/html": [
       "<div>\n",
       "<style scoped>\n",
       "    .dataframe tbody tr th:only-of-type {\n",
       "        vertical-align: middle;\n",
       "    }\n",
       "\n",
       "    .dataframe tbody tr th {\n",
       "        vertical-align: top;\n",
       "    }\n",
       "\n",
       "    .dataframe thead th {\n",
       "        text-align: right;\n",
       "    }\n",
       "</style>\n",
       "<table border=\"1\" class=\"dataframe\">\n",
       "  <thead>\n",
       "    <tr style=\"text-align: right;\">\n",
       "      <th></th>\n",
       "      <th>0</th>\n",
       "      <th>1</th>\n",
       "      <th>2</th>\n",
       "      <th>3</th>\n",
       "      <th>4</th>\n",
       "      <th>5</th>\n",
       "      <th>6</th>\n",
       "      <th>7</th>\n",
       "      <th>8</th>\n",
       "      <th>9</th>\n",
       "      <th>10</th>\n",
       "      <th>11</th>\n",
       "      <th>12</th>\n",
       "      <th>13</th>\n",
       "    </tr>\n",
       "  </thead>\n",
       "  <tbody>\n",
       "    <tr>\n",
       "      <th>0</th>\n",
       "      <td>1</td>\n",
       "      <td>/Users/kimia/Desktop/Capstone/imgcluster/Clust...</td>\n",
       "      <td>135.0129197103678</td>\n",
       "      <td>87.63115693479644</td>\n",
       "      <td>153.0</td>\n",
       "      <td>115.81277500106796</td>\n",
       "      <td>85.89295297982054</td>\n",
       "      <td>109.0</td>\n",
       "      <td>58.67071158528771</td>\n",
       "      <td>67.8223132968387</td>\n",
       "      <td>33.0</td>\n",
       "      <td>22.53199891067538</td>\n",
       "      <td>146.9227747599284</td>\n",
       "      <td>130.7175958633423</td>\n",
       "    </tr>\n",
       "    <tr>\n",
       "      <th>1</th>\n",
       "      <td>2</td>\n",
       "      <td>/Users/kimia/Desktop/Capstone/imgcluster/Clust...</td>\n",
       "      <td>182.62494660173437</td>\n",
       "      <td>71.07541423145153</td>\n",
       "      <td>214.0</td>\n",
       "      <td>114.09603945063864</td>\n",
       "      <td>61.1908801925312</td>\n",
       "      <td>116.0</td>\n",
       "      <td>59.164076850783886</td>\n",
       "      <td>49.102368231584244</td>\n",
       "      <td>42.0</td>\n",
       "      <td>15.82652505446623</td>\n",
       "      <td>158.0485753377279</td>\n",
       "      <td>124.39350624084474</td>\n",
       "    </tr>\n",
       "  </tbody>\n",
       "</table>\n",
       "</div>"
      ],
      "text/plain": [
       "  0                                                  1                   2   \\\n",
       "0  1  /Users/kimia/Desktop/Capstone/imgcluster/Clust...   135.0129197103678   \n",
       "1  2  /Users/kimia/Desktop/Capstone/imgcluster/Clust...  182.62494660173437   \n",
       "\n",
       "                  3      4                   5                  6      7   \\\n",
       "0  87.63115693479644  153.0  115.81277500106796  85.89295297982054  109.0   \n",
       "1  71.07541423145153  214.0  114.09603945063864   61.1908801925312  116.0   \n",
       "\n",
       "                   8                   9     10                 11  \\\n",
       "0   58.67071158528771    67.8223132968387  33.0  22.53199891067538   \n",
       "1  59.164076850783886  49.102368231584244  42.0  15.82652505446623   \n",
       "\n",
       "                  12                  13  \n",
       "0  146.9227747599284   130.7175958633423  \n",
       "1  158.0485753377279  124.39350624084474  "
      ]
     },
     "execution_count": 44,
     "metadata": {},
     "output_type": "execute_result"
    }
   ],
   "source": [
    "df"
   ]
  },
  {
   "cell_type": "code",
   "execution_count": 94,
   "metadata": {},
   "outputs": [
    {
     "data": {
      "text/plain": [
       "0.999"
      ]
     },
     "execution_count": 94,
     "metadata": {},
     "output_type": "execute_result"
    }
   ],
   "source": [
    "nums = (.095, .81, .094)\n",
    "np.sum(nums)"
   ]
  },
  {
   "cell_type": "code",
   "execution_count": 100,
   "metadata": {},
   "outputs": [
    {
     "data": {
      "text/plain": [
       "1.099542046"
      ]
     },
     "execution_count": 100,
     "metadata": {},
     "output_type": "execute_result"
    }
   ],
   "source": [
    "np.sum([.30051, .799032046, 9.81445147e-17])"
   ]
  },
  {
   "cell_type": "code",
   "execution_count": 13,
   "metadata": {
    "collapsed": true
   },
   "outputs": [],
   "source": [
    "import ClusteringTrain"
   ]
  },
  {
   "cell_type": "code",
   "execution_count": 14,
   "metadata": {
    "collapsed": true
   },
   "outputs": [],
   "source": [
    "from sklearn.externals import joblib"
   ]
  },
  {
   "cell_type": "code",
   "execution_count": 30,
   "metadata": {},
   "outputs": [],
   "source": [
    "model = joblib.load('model_images.plk')"
   ]
  },
  {
   "cell_type": "code",
   "execution_count": 52,
   "metadata": {},
   "outputs": [],
   "source": [
    "\n",
    "\n",
    "#Helper function to make prediction for target images using image model\n",
    "def predict(self, df, model, k,  extra_cols):\n",
    "    data = df\n",
    "\n",
    "    #Delete reference columns\n",
    "    for i in extra_cols:\n",
    "        del data[i]\n",
    "\n",
    "    #Make Prediction\n",
    "    y_pred = model.predict_proba(data)\n",
    "\n",
    "    #Add prediction to dataframe and return \n",
    "    for i in range(0,k+1):\n",
    "        if i==k:\n",
    "            label = \"Prediction\"\n",
    "            df[label] = model.predict(data)\n",
    "            break\n",
    "        #label = cluster_names[i] + \" (\" + str(i) + \")\"\n",
    "        df[label] = y_pred[:,i]\n",
    "    return df"
   ]
  },
  {
   "cell_type": "code",
   "execution_count": 53,
   "metadata": {},
   "outputs": [
    {
     "ename": "TypeError",
     "evalue": "'GaussianMixture' object doesn't support item deletion",
     "output_type": "error",
     "traceback": [
      "\u001b[0;31m---------------------------------------------------------------------------\u001b[0m",
      "\u001b[0;31mTypeError\u001b[0m                                 Traceback (most recent call last)",
      "\u001b[0;32m<ipython-input-53-c6181eca7eda>\u001b[0m in \u001b[0;36m<module>\u001b[0;34m()\u001b[0m\n\u001b[0;32m----> 1\u001b[0;31m \u001b[0mpredict\u001b[0m\u001b[0;34m(\u001b[0m\u001b[0mdf\u001b[0m\u001b[0;34m,\u001b[0m \u001b[0mmodel\u001b[0m\u001b[0;34m,\u001b[0m \u001b[0;36m3\u001b[0m\u001b[0;34m,\u001b[0m \u001b[0;34m[\u001b[0m\u001b[0;34m'idk'\u001b[0m\u001b[0;34m,\u001b[0m \u001b[0;34m'idk'\u001b[0m\u001b[0;34m,\u001b[0m \u001b[0;34m'idk'\u001b[0m\u001b[0;34m]\u001b[0m\u001b[0;34m,\u001b[0m \u001b[0;34m[\u001b[0m\u001b[0;36m0\u001b[0m\u001b[0;34m,\u001b[0m\u001b[0;36m1\u001b[0m\u001b[0;34m]\u001b[0m\u001b[0;34m)\u001b[0m\u001b[0;34m\u001b[0m\u001b[0m\n\u001b[0m",
      "\u001b[0;32m<ipython-input-52-4d7a788c80c5>\u001b[0m in \u001b[0;36mpredict\u001b[0;34m(self, df, model, k, extra_cols)\u001b[0m\n\u001b[1;32m      7\u001b[0m     \u001b[0;31m#Delete reference columns\u001b[0m\u001b[0;34m\u001b[0m\u001b[0;34m\u001b[0m\u001b[0m\n\u001b[1;32m      8\u001b[0m     \u001b[0;32mfor\u001b[0m \u001b[0mi\u001b[0m \u001b[0;32min\u001b[0m \u001b[0mextra_cols\u001b[0m\u001b[0;34m:\u001b[0m\u001b[0;34m\u001b[0m\u001b[0m\n\u001b[0;32m----> 9\u001b[0;31m         \u001b[0;32mdel\u001b[0m \u001b[0mdata\u001b[0m\u001b[0;34m[\u001b[0m\u001b[0mi\u001b[0m\u001b[0;34m]\u001b[0m\u001b[0;34m\u001b[0m\u001b[0m\n\u001b[0m\u001b[1;32m     10\u001b[0m \u001b[0;34m\u001b[0m\u001b[0m\n\u001b[1;32m     11\u001b[0m     \u001b[0;31m#Make Prediction\u001b[0m\u001b[0;34m\u001b[0m\u001b[0;34m\u001b[0m\u001b[0m\n",
      "\u001b[0;31mTypeError\u001b[0m: 'GaussianMixture' object doesn't support item deletion"
     ]
    }
   ],
   "source": [
    "predict(df, model, 3, ['idk', 'idk', 'idk'], [0,1])"
   ]
  },
  {
   "cell_type": "code",
   "execution_count": null,
   "metadata": {
    "collapsed": true
   },
   "outputs": [],
   "source": []
  }
 ],
 "metadata": {
  "kernelspec": {
   "display_name": "Python 3",
   "language": "python",
   "name": "python3"
  }
 },
 "nbformat": 4,
 "nbformat_minor": 2
}
