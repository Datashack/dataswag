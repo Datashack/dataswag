{
 "cells": [
  {
   "cell_type": "code",
   "execution_count": null,
   "metadata": {},
   "outputs": [],
   "source": [
    "import Clustering\n",
    "\n",
    "#Define paths\n",
    "file_path = \"/Users/kmotwani/Desktop/Me/Education/Courses/Capstone Project/Final_UserList.txt\"\n",
    "train_path = \"/Users/kmotwani/Desktop/Me/Education/Courses/Capstone Project/Final_Train/\"\n",
    "dest_path = \"/Users/kmotwani/Desktop/Me/Education/Courses/Capstone Project/Clustering_\"\n",
    "\n",
    "#Create Object\n",
    "obj = Clustering.Main(file_path, train_path, dest_path)"
   ]
  },
  {
   "cell_type": "code",
   "execution_count": null,
   "metadata": {},
   "outputs": [],
   "source": [
    "#Get User List\n",
    "list_users = obj.get_user_list()"
   ]
  },
  {
   "cell_type": "code",
   "execution_count": null,
   "metadata": {},
   "outputs": [],
   "source": [
    "#Get Training Posts\n",
    "df = obj.get_train_posts(list_users, 150)\n",
    "display(df.head())"
   ]
  },
  {
   "cell_type": "code",
   "execution_count": null,
   "metadata": {},
   "outputs": [],
   "source": [
    "import Text_LSTM\n",
    "\n",
    "#Create Object\n",
    "obj_lstm = Text_LSTM.Main('/Users/kmotwani/Dropbox/Harvard/Capstone_EmpSirenuse/KRM_LSTM_New_weights-40-0.87.hdf5', \n",
    "                     '/Users/kmotwani/Dropbox/Harvard/Capstone_EmpSirenuse/google_w2vec.bin')"
   ]
  },
  {
   "cell_type": "code",
   "execution_count": null,
   "metadata": {},
   "outputs": [],
   "source": [
    "#Get embedding for captions\n",
    "embedding_captions = obj_lstm.embedd_text(df['Caption'])"
   ]
  },
  {
   "cell_type": "code",
   "execution_count": null,
   "metadata": {},
   "outputs": [],
   "source": [
    "#Get Predictions\n",
    "prediction = obj_lstm.predict_text(embedding_captions)"
   ]
  },
  {
   "cell_type": "code",
   "execution_count": null,
   "metadata": {},
   "outputs": [],
   "source": [
    "#Combine Dataframe with Text Features\n",
    "df = obj_lstm.combine_text(df, prediction, \"LSTM_Feature_\")\n",
    "display(df.head())"
   ]
  },
  {
   "cell_type": "code",
   "execution_count": null,
   "metadata": {},
   "outputs": [],
   "source": [
    "import Image_CNN\n",
    "\n",
    "#Import Model and Embedding\n",
    "obj_cnn = Image_CNN.Main('/Users/kmotwani/Dropbox/Harvard/Capstone_EmpSirenuse/Backup/KRM_weights-260-0.69.hdf5')"
   ]
  },
  {
   "cell_type": "code",
   "execution_count": null,
   "metadata": {
    "scrolled": true
   },
   "outputs": [],
   "source": [
    "#Get features for images\n",
    "prediction = obj_cnn.predict_image(df['Image'])"
   ]
  },
  {
   "cell_type": "code",
   "execution_count": null,
   "metadata": {},
   "outputs": [],
   "source": [
    "#Combine Predictions \n",
    "df = obj_cnn.combine_image(df, prediction, \"CNN_Feature_\")\n",
    "display(df.head())"
   ]
  },
  {
   "cell_type": "code",
   "execution_count": null,
   "metadata": {},
   "outputs": [],
   "source": [
    "#Fit Model\n",
    "k_posts = 4\n",
    "df_post, model_images = obj.fit_posts(df, k_posts, ['Caption','File', 'Image','User'], 9001)\n",
    "display(df_post.head())"
   ]
  },
  {
   "cell_type": "code",
   "execution_count": null,
   "metadata": {},
   "outputs": [],
   "source": [
    "#Save Clusters to Local Directory\n",
    "obj.save_clusters(df_post, \"Posts\")"
   ]
  },
  {
   "cell_type": "code",
   "execution_count": null,
   "metadata": {},
   "outputs": [],
   "source": [
    "#Get each user's presence in each cluster \n",
    "presence_df = obj.get_cluster_presence(df_post, k_posts)\n",
    "display(presence_df.head())"
   ]
  },
  {
   "cell_type": "code",
   "execution_count": null,
   "metadata": {},
   "outputs": [],
   "source": [
    "#Fit User Presence Model\n",
    "k_users = 3\n",
    "df_users, model_users = obj.fit_users(presence_df, k_users, [\"User\"], 9001)\n",
    "display(df_users.head())"
   ]
  },
  {
   "cell_type": "code",
   "execution_count": null,
   "metadata": {},
   "outputs": [],
   "source": [
    "#Save Model\n",
    "#obj.save_model(model_images, \"/Users/kmotwani/Desktop/Me/Education/Courses/Capstone Project/model_images.plk\")\n",
    "#obj.save_model(model_users, \"/Users/kmotwani/Desktop/Me/Education/Courses/Capstone Project/model_users.plk\")"
   ]
  },
  {
   "cell_type": "code",
   "execution_count": null,
   "metadata": {},
   "outputs": [],
   "source": [
    "import Predicting\n",
    "\n",
    "#Define target path and create test object\n",
    "target_path = \"/Users/kmotwani/Desktop/Me/Education/Courses/Capstone Project/Target/\"\n",
    "caption_flag = True\n",
    "\n",
    "#Create object\n",
    "obj_pred = Predicting.Main(target_path, caption_flag)"
   ]
  },
  {
   "cell_type": "code",
   "execution_count": null,
   "metadata": {},
   "outputs": [],
   "source": [
    "#Get Target Images\n",
    "df_target = obj_pred.get_target_posts()\n",
    "display(df_target.head())"
   ]
  },
  {
   "cell_type": "code",
   "execution_count": null,
   "metadata": {},
   "outputs": [],
   "source": [
    "if caption_flag:\n",
    "    #Get embedding for captions\n",
    "    embedding_captions = obj_lstm.embedd_text(df_target['Caption'])\n",
    "\n",
    "    #Get Predictions\n",
    "    prediction = obj_lstm.predict_text(embedding_captions)\n",
    "\n",
    "    #Combine Dataframe with Text Features\n",
    "    df_target = obj_lstm.combine_text(df_target, prediction, \"LSTM_Feature_\")\n",
    "    display(df_target.head())"
   ]
  },
  {
   "cell_type": "code",
   "execution_count": null,
   "metadata": {},
   "outputs": [],
   "source": [
    "#Get embedding for captions\n",
    "prediction = obj_cnn.predict_image(df_target['Image'])"
   ]
  },
  {
   "cell_type": "code",
   "execution_count": null,
   "metadata": {},
   "outputs": [],
   "source": [
    "#Combine Prediction\n",
    "df_target = obj_cnn.combine_image(df_target, prediction, \"CNN_Feature_\")\n",
    "display(df_target.head())"
   ]
  },
  {
   "cell_type": "code",
   "execution_count": null,
   "metadata": {},
   "outputs": [],
   "source": [
    "#Load Model\n",
    "model_images = obj_pred.load_model(\"/Users/kmotwani/Desktop/Me/Education/Courses/Capstone Project/model_images.plk\")\n",
    "model_users = obj_pred.load_model(\"/Users/kmotwani/Desktop/Me/Education/Courses/Capstone Project/model_users.plk\")"
   ]
  },
  {
   "cell_type": "code",
   "execution_count": null,
   "metadata": {},
   "outputs": [],
   "source": [
    "#Convert to Features\n",
    "if caption_flag:\n",
    "    extra_cols = ['Caption','File','Image']\n",
    "else:\n",
    "    extra_cols = ['File','Image']\n",
    "df_target_presence = obj_pred.get_cluster_presence(df_target, extra_cols, model_images)\n",
    "display(df_target_presence.head())"
   ]
  },
  {
   "cell_type": "code",
   "execution_count": null,
   "metadata": {},
   "outputs": [],
   "source": [
    "#Get Company Distances\n",
    "extra_cols = ['File','Prediction']\n",
    "company_final_df = obj_pred.get_dist2comp(df_target_presence, extra_cols)\n",
    "display(company_final_df.head())"
   ]
  },
  {
   "cell_type": "code",
   "execution_count": null,
   "metadata": {},
   "outputs": [],
   "source": [
    "#Get Result\n",
    "extra_cols = ['File','Prediction']\n",
    "target_final_df = obj_pred.get_result(df_target_presence, extra_cols, model_users)\n",
    "display(target_final_df.head())"
   ]
  },
  {
   "cell_type": "code",
   "execution_count": null,
   "metadata": {},
   "outputs": [],
   "source": []
  }
 ],
 "metadata": {
  "kernelspec": {
   "display_name": "Python 3",
   "language": "python",
   "name": "python3"
  },
  "language_info": {
   "codemirror_mode": {
    "name": "ipython",
    "version": 3
   },
   "file_extension": ".py",
   "mimetype": "text/x-python",
   "name": "python",
   "nbconvert_exporter": "python",
   "pygments_lexer": "ipython3",
   "version": "3.6.4"
  }
 },
 "nbformat": 4,
 "nbformat_minor": 2
}
