{
 "cells": [
  {
   "cell_type": "code",
   "execution_count": 16,
   "metadata": {
    "collapsed": true
   },
   "outputs": [],
   "source": [
    "import pandas as pd\n",
    "import numpy as np\n",
    "from functools import reduce\n",
    "%matplotlib inline\n",
    "import matplotlib.pyplot as plt\n",
    "import seaborn as sns; sns.set()\n",
    "import numpy as np\n",
    "import re\n",
    "from sklearn.feature_extraction.text import TfidfVectorizer\n",
    "from sklearn.cluster import KMeans\n",
    "from sklearn.metrics import adjusted_rand_score\n",
    "from sklearn.feature_extraction.text import CountVectorizer\n",
    "from sklearn.neighbors import KNeighborsClassifier as KNN\n",
    "from sklearn.feature_extraction import stop_words\n",
    " \n",
    "\n",
    "\n",
    "data = pd.read_csv('complete_allbrands_users_captions_list_all.csv', encoding=\"latin-1\")"
   ]
  },
  {
   "cell_type": "markdown",
   "metadata": {},
   "source": [
    "### Clean and get only the 'users' by Michele"
   ]
  },
  {
   "cell_type": "code",
   "execution_count": 21,
   "metadata": {},
   "outputs": [],
   "source": [
    "\n",
    "\n",
    "M_list = pd.read_csv('700 profiles for claissifier - second round.tsv', sep='\\t')\n",
    "M_list = M_list[M_list.consumer==1 ]\n",
    "M_list['joined'] = 1\n",
    "\n",
    "result = pd.merge(M_list, data, on='username', how='outer')\n",
    "\n",
    "\n",
    "\n",
    "data = result[result.joined_x==1]\n",
    "data = data.dropna(axis=0, how='any')\n",
    "data = (data.drop_duplicates(subset=['username'], keep='first')).reset_index()\n"
   ]
  },
  {
   "cell_type": "code",
   "execution_count": 23,
   "metadata": {},
   "outputs": [
    {
     "data": {
      "text/plain": [
       "(216, 16)"
      ]
     },
     "execution_count": 23,
     "metadata": {},
     "output_type": "execute_result"
    }
   ],
   "source": [
    "data.shape"
   ]
  },
  {
   "cell_type": "code",
   "execution_count": 24,
   "metadata": {},
   "outputs": [
    {
     "name": "stdout",
     "output_type": "stream",
     "text": [
      "109 5115 5115 5115 5115\n"
     ]
    }
   ],
   "source": [
    "### Clean Text\n",
    "\n",
    "dftest = data\n",
    "# Milano\n",
    "\n",
    "userlist=[]\n",
    "emojis = []\n",
    "usernameforeachpost  = []\n",
    "f2post = []\n",
    "f3post = []\n",
    "\n",
    "captionsfromsample = dftest\n",
    "#captionsfromsample.drop(['level_0', 'index', 'Unnamed: 0'], axis =1, inplace = True)\n",
    "\n",
    "listof = []\n",
    "for num, singlepost in enumerate(captionsfromsample.caption): \n",
    "    ## f1 separates by user. This is each user's total supply of posts\n",
    "    f1 = singlepost.split(\"\\', \\'\")\n",
    "\n",
    "    # take only the first quarter of their text\n",
    "    total= (len(f1)/4)\n",
    "    f1 = f1[0:int(total)]\n",
    "\n",
    "    f3 = []\n",
    "\n",
    "    #for i in (range(len(f1))):\n",
    "    #    userlist.append(dftest.username)\"\"\"\n",
    "    \n",
    "    for j,k in enumerate(f1):\n",
    "\n",
    "        userlist.append(dftest.username[num])\n",
    "        \n",
    "        f2 = (f1[j].replace(\"\\n\", \" \")).replace(\"\\\\\", \"\")\n",
    "        \n",
    "        #get emojis\n",
    "        emoji = re.findall(r'[^\\w\\s,]', f2)\n",
    "        emojis.append(emoji)\n",
    "        \n",
    "        f2post.append(f2)\n",
    "        f3post.append(f3)\n",
    "        f3.append(f2)\n",
    "        #usernameforeachpost.append(dftest.username[num])\n",
    "\n",
    "        \n",
    "print(len(f2), len(f2post), len(f3post), len(emojis), len(userlist))\n"
   ]
  },
  {
   "cell_type": "code",
   "execution_count": 25,
   "metadata": {
    "collapsed": true
   },
   "outputs": [],
   "source": [
    "df1991 = pd.DataFrame({'caption': f2post, 'username': userlist, 'emojis': emojis}) \n",
    "df1991.to_csv('CleanDataofAllUSERSfromMichele.csv', sep=',')"
   ]
  },
  {
   "cell_type": "code",
   "execution_count": null,
   "metadata": {
    "collapsed": true
   },
   "outputs": [],
   "source": []
  },
  {
   "cell_type": "markdown",
   "metadata": {},
   "source": [
    "### Le Sirenuse Only"
   ]
  },
  {
   "cell_type": "code",
   "execution_count": 26,
   "metadata": {},
   "outputs": [],
   "source": [
    "data = pd.read_csv('complete_allbrands_users_captions_list_all.csv', encoding=\"latin-1\")\n",
    "LeSir = pd.read_csv('emporiosirenuse_followers_accounts.csv', sep=',')\n",
    "\n",
    "\n",
    "LeSir['joined'] = 1\n",
    "\n",
    "result = pd.merge(LeSir, data, on='username', how='outer')\n",
    "\n",
    "\n",
    "\n",
    "data = result[result.joined==1]\n",
    "data = data.dropna(axis=0, how='any')\n",
    "data = (data.drop_duplicates(subset=['username'], keep='first')).reset_index()\n"
   ]
  },
  {
   "cell_type": "code",
   "execution_count": 27,
   "metadata": {},
   "outputs": [
    {
     "name": "stdout",
     "output_type": "stream",
     "text": [
      "99 34347 34347 34347 34347\n"
     ]
    }
   ],
   "source": [
    "### Clean Text\n",
    "\n",
    "dftest = data\n",
    "# Milano\n",
    "\n",
    "userlist=[]\n",
    "emojis = []\n",
    "usernameforeachpost  = []\n",
    "f2post = []\n",
    "f3post = []\n",
    "\n",
    "captionsfromsample = dftest\n",
    "#captionsfromsample.drop(['level_0', 'index', 'Unnamed: 0'], axis =1, inplace = True)\n",
    "\n",
    "listof = []\n",
    "for num, singlepost in enumerate(captionsfromsample.caption): \n",
    "    ## f1 separates by user. This is each user's total supply of posts\n",
    "    f1 = singlepost.split(\"\\', \\'\")\n",
    "\n",
    "    # take only the first quarter of their text\n",
    "    total= (len(f1)/4)\n",
    "    f1 = f1[0:int(total)]\n",
    "\n",
    "    f3 = []\n",
    "\n",
    "    #for i in (range(len(f1))):\n",
    "    #    userlist.append(dftest.username)\"\"\"\n",
    "    \n",
    "    for j,k in enumerate(f1):\n",
    "\n",
    "        userlist.append(dftest.username[num])\n",
    "        \n",
    "        f2 = (f1[j].replace(\"\\n\", \" \")).replace(\"\\\\\", \"\")\n",
    "        \n",
    "        #get emojis\n",
    "        emoji = re.findall(r'[^\\w\\s,]', f2)\n",
    "        emojis.append(emoji)\n",
    "        \n",
    "        f2post.append(f2)\n",
    "        f3post.append(f3)\n",
    "        f3.append(f2)\n",
    "        #usernameforeachpost.append(dftest.username[num])\n",
    "\n",
    "        \n",
    "print(len(f2), len(f2post), len(f3post), len(emojis), len(userlist))\n"
   ]
  },
  {
   "cell_type": "code",
   "execution_count": 30,
   "metadata": {
    "collapsed": true
   },
   "outputs": [],
   "source": [
    "df1991 = pd.DataFrame({'caption': f2post, 'username': userlist, 'emojis': emojis}) \n",
    "df1991.to_csv('Sirenuse_follower_posts_pure_mar16.csv', sep=',')"
   ]
  },
  {
   "cell_type": "code",
   "execution_count": 29,
   "metadata": {},
   "outputs": [
    {
     "data": {
      "text/plain": [
       "1106"
      ]
     },
     "execution_count": 29,
     "metadata": {},
     "output_type": "execute_result"
    }
   ],
   "source": [
    "len(df1991.username.unique())"
   ]
  },
  {
   "cell_type": "code",
   "execution_count": null,
   "metadata": {
    "collapsed": true
   },
   "outputs": [],
   "source": []
  }
 ],
 "metadata": {
  "kernelspec": {
   "display_name": "Python 3",
   "language": "python",
   "name": "python3"
  },
  "language_info": {
   "codemirror_mode": {
    "name": "ipython",
    "version": 3
   },
   "file_extension": ".py",
   "mimetype": "text/x-python",
   "name": "python",
   "nbconvert_exporter": "python",
   "pygments_lexer": "ipython3",
   "version": "3.6.4"
  }
 },
 "nbformat": 4,
 "nbformat_minor": 2
}
