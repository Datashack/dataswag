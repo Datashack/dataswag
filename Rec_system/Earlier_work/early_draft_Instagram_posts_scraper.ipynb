{
 "cells": [
  {
   "cell_type": "code",
   "execution_count": 16,
   "metadata": {
    "collapsed": true
   },
   "outputs": [],
   "source": [
    "from selenium import webdriver\n",
    "from selenium.webdriver.common.by import By\n",
    "from selenium.webdriver.support.ui import WebDriverWait\n",
    "from selenium.webdriver.support import expected_conditions as EC\n",
    "from selenium.webdriver.common.desired_capabilities import DesiredCapabilities\n",
    "from pandas.io.json import json_normalize\n",
    "import numpy as np\n",
    "import pandas as pd\n",
    "import re\n",
    "import requests\n",
    "import json\n",
    "from bs4 import BeautifulSoup\n",
    "import time"
   ]
  },
  {
   "cell_type": "markdown",
   "metadata": {},
   "source": [
    "# Merge all Usernames into one file"
   ]
  },
  {
   "cell_type": "code",
   "execution_count": 48,
   "metadata": {},
   "outputs": [],
   "source": [
    "#usernames_boho.txt, usernames_hc.txt, usernames_wl.txt\n",
    "boho = pd.read_csv(\"usernames_boho.txt\", names = ['username'])\n",
    "HC = pd.read_csv(\"usernames_hc.txt\", names = ['username'])\n",
    "WL = pd.read_csv(\"usernames_wl.txt\", names = ['username'])\n",
    "\n",
    "usernames = (pd.concat([WL, HC, boho])).reset_index()"
   ]
  },
  {
   "cell_type": "code",
   "execution_count": 49,
   "metadata": {},
   "outputs": [
    {
     "name": "stderr",
     "output_type": "stream",
     "text": [
      "/anaconda/envs/python3/lib/python3.6/site-packages/ipykernel_launcher.py:2: SettingWithCopyWarning: \n",
      "A value is trying to be set on a copy of a slice from a DataFrame\n",
      "\n",
      "See the caveats in the documentation: http://pandas.pydata.org/pandas-docs/stable/indexing.html#indexing-view-versus-copy\n",
      "  \n"
     ]
    }
   ],
   "source": [
    "for i,v in enumerate(usernames.username):\n",
    "    usernames.username[i] = usernames.username[i][0:-4]\n"
   ]
  },
  {
   "cell_type": "markdown",
   "metadata": {},
   "source": [
    "# Then scrape the usernames' # followers from IG"
   ]
  },
  {
   "cell_type": "markdown",
   "metadata": {
    "collapsed": true
   },
   "source": [
    " Markdown\n",
    "path = '/Users/kimia/Desktop/' #Capstone/EMPORIOSIRENUSE_20173012/zeusndione/followers data\n",
    "exDF = pd.read_csv(path+\"dodobaror_followers_posts.csv\")\n",
    "usernames = exDF.username.unique()\n",
    "len(usernames.username)"
   ]
  },
  {
   "cell_type": "code",
   "execution_count": 54,
   "metadata": {},
   "outputs": [],
   "source": [
    "f = usernames.username\n",
    "follower_count = []\n",
    "users = []\n",
    "for i, v in enumerate(f):\n",
    "    \n",
    "    username = f[i]\n",
    "    #print(\"initial\" , username)\n",
    "    response = requests.get('https://www.instagram.com/' + str(username))\n",
    "    #print(\"response\" )\n",
    "    page = response.content\n",
    "    #print(\"page\")\n",
    "    soup = BeautifulSoup(page, 'html.parser')\n",
    "    #print(\"soup\")\n",
    "    #if line = re.search(\"(.*?)\\sFollowers\", str(soup)).group(1)\n",
    "    #number_followers = re.search(\"(\\d+)\\sFollowers\", str(soup)).group(1) ## this doesnt work for 12.3k \n",
    "    try: \n",
    "        line = re.search(\"(.*?)\\sFollowers\", str(soup)).group(1)\n",
    "        number = line.rsplit('\\\"')[-1] \n",
    "    \n",
    "        #print(\"#fol\")\n",
    "        \n",
    "        follower_count.append(number)\n",
    "        users.append(username)\n",
    "        time.sleep(20)\n",
    "    except: \n",
    "        print(\"404: user may have deleted account, gone to private, etc\")\n",
    "        "
   ]
  },
  {
   "cell_type": "code",
   "execution_count": null,
   "metadata": {
    "collapsed": true
   },
   "outputs": [],
   "source": []
  },
  {
   "cell_type": "code",
   "execution_count": 55,
   "metadata": {
    "collapsed": true
   },
   "outputs": [],
   "source": [
    "result = pd.DataFrame({'username':users, 'followers': follower_count})\n",
    "result.to_csv('users_followers_4.29.csv')"
   ]
  },
  {
   "cell_type": "markdown",
   "metadata": {},
   "source": [
    "_______________________________________________________________________"
   ]
  },
  {
   "cell_type": "markdown",
   "metadata": {},
   "source": [
    "## get likes and comment count per pic"
   ]
  },
  {
   "cell_type": "code",
   "execution_count": 148,
   "metadata": {},
   "outputs": [],
   "source": [
    "\n",
    "path = '/Users/kimia/Desktop/Capstone/hotel/Rec_system/'\n",
    "\n",
    "dfs = []\n",
    "for i,v in enumerate(result.username):\n",
    "    jsonfile = str(v) + '.json'\n",
    "    file = path+\"User_pics/All/\"  + str(jsonfile)\n",
    "    with open(file) as train_file:\n",
    "        dict_train = json.load(train_file)\n",
    "        df = pd.DataFrame.from_dict(json_normalize(dict_train), orient='columns')\n",
    "        dfs.append(df)\n",
    "        \n",
    "df_all_meta = (pd.concat(dfs)).reset_index()\n",
    "df_all_meta.username = df_all_meta.owner_username\n",
    "\"\"\"df_all_meta.to_csv('df_all_meta.csv')\"\"\"\n"
   ]
  },
  {
   "cell_type": "code",
   "execution_count": 158,
   "metadata": {},
   "outputs": [
    {
     "data": {
      "text/plain": [
       "Index(['index', 'caption', 'caption_hashtags', 'caption_mentions', 'comments',\n",
       "       'date_local', 'date_utc', 'is_video', 'likes', 'mediaid', 'owner_id',\n",
       "       'owner_username', 'shortcode', 'tagged_users', 'typename', 'url',\n",
       "       'video_url', 'username'],\n",
       "      dtype='object')"
      ]
     },
     "execution_count": 158,
     "metadata": {},
     "output_type": "execute_result"
    }
   ],
   "source": [
    "df_all_meta['username'] = df_all_meta['owner_username']\n",
    "df_all_meta.columns\n"
   ]
  },
  {
   "cell_type": "code",
   "execution_count": 159,
   "metadata": {},
   "outputs": [],
   "source": [
    "#df_all_meta.head()\n",
    "DF_metadata= pd.merge(df_all_meta, result, on='username',)"
   ]
  },
  {
   "cell_type": "code",
   "execution_count": 161,
   "metadata": {
    "collapsed": true
   },
   "outputs": [],
   "source": [
    "DF_metadata.to_csv('DF_metadata_COMPLETE.csv')"
   ]
  },
  {
   "cell_type": "code",
   "execution_count": null,
   "metadata": {
    "collapsed": true
   },
   "outputs": [],
   "source": []
  },
  {
   "cell_type": "code",
   "execution_count": null,
   "metadata": {
    "collapsed": true
   },
   "outputs": [],
   "source": []
  },
  {
   "cell_type": "code",
   "execution_count": null,
   "metadata": {
    "collapsed": true
   },
   "outputs": [],
   "source": []
  },
  {
   "cell_type": "code",
   "execution_count": null,
   "metadata": {
    "collapsed": true
   },
   "outputs": [],
   "source": []
  },
  {
   "cell_type": "code",
   "execution_count": 104,
   "metadata": {},
   "outputs": [],
   "source": [
    "kkkk = list(train['index'])"
   ]
  },
  {
   "cell_type": "code",
   "execution_count": 72,
   "metadata": {
    "collapsed": true
   },
   "outputs": [],
   "source": [
    "path = '/Users/kimia/Desktop/Capstone/hotel/Rec_system/'\n",
    "df = pd.read_csv(path+\"users_followers.csv\")"
   ]
  },
  {
   "cell_type": "code",
   "execution_count": 131,
   "metadata": {
    "collapsed": true
   },
   "outputs": [],
   "source": [
    "#df.followers = df.followers.replace(\"k\",\"000\").replace(\"m\",\"000000\").replace(\",\",\"\").replace(\".\",\"\")\n",
    "df.followers = pd.to_numeric(df.followers)"
   ]
  },
  {
   "cell_type": "markdown",
   "metadata": {},
   "source": [
    "# Change k and m to numbers, turn columns from str --> int"
   ]
  },
  {
   "cell_type": "code",
   "execution_count": 133,
   "metadata": {
    "collapsed": true
   },
   "outputs": [],
   "source": [
    "df['followers'] = (df['followers'].apply(lambda x: x.replace('k',\"000\").replace(\".\",\"\").replace(\"m\",\"000000\").replace(\",\",\"\")))\n",
    "df.followers = pd.to_numeric(df.followers)"
   ]
  },
  {
   "cell_type": "code",
   "execution_count": 135,
   "metadata": {
    "collapsed": true
   },
   "outputs": [],
   "source": [
    "df = result.merge(exDF.drop_duplicates('username'),how='left',on='username')"
   ]
  },
  {
   "cell_type": "code",
   "execution_count": 136,
   "metadata": {},
   "outputs": [
    {
     "data": {
      "text/html": [
       "<div>\n",
       "<style scoped>\n",
       "    .dataframe tbody tr th:only-of-type {\n",
       "        vertical-align: middle;\n",
       "    }\n",
       "\n",
       "    .dataframe tbody tr th {\n",
       "        vertical-align: top;\n",
       "    }\n",
       "\n",
       "    .dataframe thead th {\n",
       "        text-align: right;\n",
       "    }\n",
       "</style>\n",
       "<table border=\"1\" class=\"dataframe\">\n",
       "  <thead>\n",
       "    <tr style=\"text-align: right;\">\n",
       "      <th></th>\n",
       "      <th>followers</th>\n",
       "      <th>username</th>\n",
       "      <th>id_post</th>\n",
       "      <th>video_count</th>\n",
       "      <th>url_img</th>\n",
       "      <th>link_post</th>\n",
       "      <th>owner</th>\n",
       "      <th>caption</th>\n",
       "      <th>comment_count</th>\n",
       "      <th>taken_at_timestamp</th>\n",
       "      <th>taken_at_time</th>\n",
       "      <th>shortcode</th>\n",
       "      <th>is_video</th>\n",
       "      <th>likes_count</th>\n",
       "    </tr>\n",
       "  </thead>\n",
       "  <tbody>\n",
       "    <tr>\n",
       "      <th>0</th>\n",
       "      <td>1283</td>\n",
       "      <td>or_shmul</td>\n",
       "      <td>1627655237685711385</td>\n",
       "      <td>0</td>\n",
       "      <td>https://instagram.fprg2-1.fna.fbcdn.net/t51.28...</td>\n",
       "      <td>https://www.instagram.com/p/BaWl9CjD5IZ</td>\n",
       "      <td>45547257</td>\n",
       "      <td>💞</td>\n",
       "      <td>7</td>\n",
       "      <td>1508251646</td>\n",
       "      <td>2017-10-17 14:47:26</td>\n",
       "      <td>BaWl9CjD5IZ</td>\n",
       "      <td>False</td>\n",
       "      <td>138</td>\n",
       "    </tr>\n",
       "    <tr>\n",
       "      <th>1</th>\n",
       "      <td>741</td>\n",
       "      <td>fathy_abo_dahis</td>\n",
       "      <td>1641992705372560728</td>\n",
       "      <td>0</td>\n",
       "      <td>https://instagram.fprg2-1.fna.fbcdn.net/t51.28...</td>\n",
       "      <td>https://www.instagram.com/p/BbJh6p3g51Y</td>\n",
       "      <td>3470341263</td>\n",
       "      <td>NaN</td>\n",
       "      <td>1</td>\n",
       "      <td>1509960805</td>\n",
       "      <td>2017-11-06 09:33:25</td>\n",
       "      <td>BbJh6p3g51Y</td>\n",
       "      <td>False</td>\n",
       "      <td>24</td>\n",
       "    </tr>\n",
       "    <tr>\n",
       "      <th>2</th>\n",
       "      <td>867</td>\n",
       "      <td>iamkurdapya</td>\n",
       "      <td>1644299880334917484</td>\n",
       "      <td>0</td>\n",
       "      <td>https://instagram.fprg2-1.fna.fbcdn.net/t51.28...</td>\n",
       "      <td>https://www.instagram.com/p/BbRugd_lH9s</td>\n",
       "      <td>226907530</td>\n",
       "      <td>☝</td>\n",
       "      <td>0</td>\n",
       "      <td>1510235842</td>\n",
       "      <td>2017-11-09 13:57:22</td>\n",
       "      <td>BbRugd_lH9s</td>\n",
       "      <td>False</td>\n",
       "      <td>6</td>\n",
       "    </tr>\n",
       "    <tr>\n",
       "      <th>3</th>\n",
       "      <td>5131</td>\n",
       "      <td>abhishekraghav015</td>\n",
       "      <td>1637736956104215547</td>\n",
       "      <td>0</td>\n",
       "      <td>https://instagram.fprg2-1.fna.fbcdn.net/t51.28...</td>\n",
       "      <td>https://www.instagram.com/p/Ba6aRWgHwv7</td>\n",
       "      <td>3106737762</td>\n",
       "      <td>#like4like#followforfollow#justinbieber#selena...</td>\n",
       "      <td>9</td>\n",
       "      <td>1509453480</td>\n",
       "      <td>2017-10-31 12:38:00</td>\n",
       "      <td>Ba6aRWgHwv7</td>\n",
       "      <td>False</td>\n",
       "      <td>211</td>\n",
       "    </tr>\n",
       "    <tr>\n",
       "      <th>4</th>\n",
       "      <td>5051</td>\n",
       "      <td>misstribu</td>\n",
       "      <td>1643430709473145791</td>\n",
       "      <td>0</td>\n",
       "      <td>https://instagram.fprg2-1.fna.fbcdn.net/t51.28...</td>\n",
       "      <td>https://www.instagram.com/p/BbOo4XjHXO_</td>\n",
       "      <td>595372894</td>\n",
       "      <td>#regram @nathalie_dmitrovic #newshop #marseill...</td>\n",
       "      <td>2</td>\n",
       "      <td>1510132229</td>\n",
       "      <td>2017-11-08 09:10:29</td>\n",
       "      <td>BbOo4XjHXO_</td>\n",
       "      <td>False</td>\n",
       "      <td>55</td>\n",
       "    </tr>\n",
       "  </tbody>\n",
       "</table>\n",
       "</div>"
      ],
      "text/plain": [
       "  followers           username              id_post  video_count  \\\n",
       "0      1283           or_shmul  1627655237685711385            0   \n",
       "1       741    fathy_abo_dahis  1641992705372560728            0   \n",
       "2       867        iamkurdapya  1644299880334917484            0   \n",
       "3      5131  abhishekraghav015  1637736956104215547            0   \n",
       "4      5051          misstribu  1643430709473145791            0   \n",
       "\n",
       "                                             url_img  \\\n",
       "0  https://instagram.fprg2-1.fna.fbcdn.net/t51.28...   \n",
       "1  https://instagram.fprg2-1.fna.fbcdn.net/t51.28...   \n",
       "2  https://instagram.fprg2-1.fna.fbcdn.net/t51.28...   \n",
       "3  https://instagram.fprg2-1.fna.fbcdn.net/t51.28...   \n",
       "4  https://instagram.fprg2-1.fna.fbcdn.net/t51.28...   \n",
       "\n",
       "                                 link_post       owner  \\\n",
       "0  https://www.instagram.com/p/BaWl9CjD5IZ    45547257   \n",
       "1  https://www.instagram.com/p/BbJh6p3g51Y  3470341263   \n",
       "2  https://www.instagram.com/p/BbRugd_lH9s   226907530   \n",
       "3  https://www.instagram.com/p/Ba6aRWgHwv7  3106737762   \n",
       "4  https://www.instagram.com/p/BbOo4XjHXO_   595372894   \n",
       "\n",
       "                                             caption  comment_count  \\\n",
       "0                                                  💞              7   \n",
       "1                                                NaN              1   \n",
       "2                                                  ☝              0   \n",
       "3  #like4like#followforfollow#justinbieber#selena...              9   \n",
       "4  #regram @nathalie_dmitrovic #newshop #marseill...              2   \n",
       "\n",
       "   taken_at_timestamp        taken_at_time    shortcode  is_video  likes_count  \n",
       "0          1508251646  2017-10-17 14:47:26  BaWl9CjD5IZ     False          138  \n",
       "1          1509960805  2017-11-06 09:33:25  BbJh6p3g51Y     False           24  \n",
       "2          1510235842  2017-11-09 13:57:22  BbRugd_lH9s     False            6  \n",
       "3          1509453480  2017-10-31 12:38:00  Ba6aRWgHwv7     False          211  \n",
       "4          1510132229  2017-11-08 09:10:29  BbOo4XjHXO_     False           55  "
      ]
     },
     "execution_count": 136,
     "metadata": {},
     "output_type": "execute_result"
    }
   ],
   "source": [
    "df.head()"
   ]
  },
  {
   "cell_type": "code",
   "execution_count": 138,
   "metadata": {
    "collapsed": true
   },
   "outputs": [],
   "source": [
    "df.to_csv('users_followers_merged.csv')"
   ]
  },
  {
   "cell_type": "code",
   "execution_count": 156,
   "metadata": {},
   "outputs": [
    {
     "data": {
      "text/plain": [
       "b'Stored ID 204834620 for profile jnbax.\\njnbax/2015-11-03_00-03-01_UTC_profile_pic.jpg \\nRetrieving posts from profile jnbax.\\n[  1/  3] jnbax/2017-09-23_16-45-09_UTC.jpg <no caption> \\n[  2/  3] jnbax/2017-09-23_03-06-23_UTC.jpg <no caption> \\n[  3/  3] jnbax/2013-07-28_04-41-18_UTC.jpg <no caption> \\n'"
      ]
     },
     "execution_count": 156,
     "metadata": {},
     "output_type": "execute_result"
    }
   ],
   "source": [
    "import subprocess\n",
    "subprocess.check_output([\"instaloader\", \"jnbax\"])\n"
   ]
  },
  {
   "cell_type": "code",
   "execution_count": 148,
   "metadata": {},
   "outputs": [
    {
     "data": {
      "text/plain": [
       "['or_shmul',\n",
       " 'fathy_abo_dahis',\n",
       " 'iamkurdapya',\n",
       " 'abhishekraghav015',\n",
       " 'misstribu',\n",
       " 'moranmarima',\n",
       " 'elizabethvdg',\n",
       " 'accessories_phone_sale',\n",
       " 'clairesulmers',\n",
       " 'adi_greenberger',\n",
       " 'baretrogi',\n",
       " '_sofiadangelo_',\n",
       " 'kingkaitlyn05',\n",
       " 'patriciaortiz__design',\n",
       " 'havalava',\n",
       " 'paolanmd',\n",
       " 'giorgiacantarini',\n",
       " 'desiree.dibella',\n",
       " 'fashionandstyle5102',\n",
       " 'clarespieler',\n",
       " 'rotembentora2327',\n",
       " 'yaelshachar12',\n",
       " 'zuricelis',\n",
       " 'lnfitz0203',\n",
       " 'pazit82',\n",
       " 'netayam',\n",
       " 'natalil3',\n",
       " 'lironwiner',\n",
       " 'sjnippiesworld',\n",
       " 'mariagraziadeluca',\n",
       " 'gali_deck',\n",
       " 'honigman_kids_bet_shean',\n",
       " 'samheck',\n",
       " 'beauty_fashion9436',\n",
       " 'roni_tesler',\n",
       " 'avital_mat',\n",
       " 'morin_atar',\n",
       " 'tali_berkovichmanes',\n",
       " 'jungxah',\n",
       " 'rinatreuvenmaya',\n",
       " 'idan_hasson',\n",
       " 'nizahajaj',\n",
       " 'hadarcad',\n",
       " 'claudia.dellapace',\n",
       " 'emstyled']"
      ]
     },
     "execution_count": 148,
     "metadata": {},
     "output_type": "execute_result"
    }
   ],
   "source": [
    "list(df.username)"
   ]
  },
  {
   "cell_type": "markdown",
   "metadata": {},
   "source": [
    "___________________________________________________"
   ]
  },
  {
   "cell_type": "markdown",
   "metadata": {},
   "source": [
    "## analysis"
   ]
  },
  {
   "cell_type": "code",
   "execution_count": 162,
   "metadata": {
    "collapsed": true
   },
   "outputs": [],
   "source": [
    "\n",
    "path = '/Users/kimia/Desktop/Capstone/hotel/Rec_system/'\n",
    "df = pd.read_csv(path+'users_followers_merged.csv')"
   ]
  },
  {
   "cell_type": "code",
   "execution_count": 167,
   "metadata": {
    "collapsed": true
   },
   "outputs": [],
   "source": [
    "def zscore(x,mu,std):\n",
    "    zscore = (x-mu)/std\n",
    "    return(zscore)\n",
    "\n",
    "def metrics(df): \n",
    "    df[['likes_count','followers']] = df[['likes_count','followers']].apply(pd.to_numeric)\n",
    "\n",
    "    df['likes_score'] = (df['likes_count'])/(df['followers'])\n",
    "    \n",
    "    df['comments_score'] = (df['comment_count'])/(df['followers'])\n",
    "    \n",
    "    df['zscore_likes'] = zscore(df['likes_score'], df.likes_score.std(), df.likes_score.mean())\n",
    "    \n",
    "    df['zscore_comments'] = zscore(df['comments_score'], df.comments_score.std(), df.comments_score.mean())\n",
    "    \n",
    "    df['final_score'] = df['zscore_likes'] + df['zscore_comments']\n",
    "    "
   ]
  },
  {
   "cell_type": "code",
   "execution_count": 169,
   "metadata": {
    "collapsed": true
   },
   "outputs": [],
   "source": [
    "metrics(df)"
   ]
  },
  {
   "cell_type": "code",
   "execution_count": null,
   "metadata": {
    "collapsed": true
   },
   "outputs": [],
   "source": []
  },
  {
   "cell_type": "code",
   "execution_count": null,
   "metadata": {
    "collapsed": true
   },
   "outputs": [],
   "source": []
  },
  {
   "cell_type": "markdown",
   "metadata": {},
   "source": [
    "## integrate with KL for final combination"
   ]
  },
  {
   "cell_type": "code",
   "execution_count": 140,
   "metadata": {
    "collapsed": true
   },
   "outputs": [],
   "source": [
    "metrics(df)"
   ]
  },
  {
   "cell_type": "code",
   "execution_count": 113,
   "metadata": {},
   "outputs": [
    {
     "name": "stderr",
     "output_type": "stream",
     "text": [
      "/anaconda/envs/python3/lib/python3.6/site-packages/ipykernel_launcher.py:8: SettingWithCopyWarning: \n",
      "A value is trying to be set on a copy of a slice from a DataFrame\n",
      "\n",
      "See the caveats in the documentation: http://pandas.pydata.org/pandas-docs/stable/indexing.html#indexing-view-versus-copy\n",
      "  \n",
      "/anaconda/envs/python3/lib/python3.6/site-packages/pandas/core/indexing.py:194: SettingWithCopyWarning: \n",
      "A value is trying to be set on a copy of a slice from a DataFrame\n",
      "\n",
      "See the caveats in the documentation: http://pandas.pydata.org/pandas-docs/stable/indexing.html#indexing-view-versus-copy\n",
      "  self._setitem_with_indexer(indexer, value)\n"
     ]
    }
   ],
   "source": [
    "## fake KL score for testing\n",
    "\n",
    "from random import randint\n",
    "\n",
    "\n",
    "df['KLscore'] = 0\n",
    "for i in enumerate(df['KLscore']):\n",
    "    df['KLscore'][i] = randint(0, 9)\n",
    "#print(randint(0, 9))"
   ]
  },
  {
   "cell_type": "code",
   "execution_count": 122,
   "metadata": {},
   "outputs": [
    {
     "data": {
      "text/html": [
       "<div>\n",
       "<style scoped>\n",
       "    .dataframe tbody tr th:only-of-type {\n",
       "        vertical-align: middle;\n",
       "    }\n",
       "\n",
       "    .dataframe tbody tr th {\n",
       "        vertical-align: top;\n",
       "    }\n",
       "\n",
       "    .dataframe thead th {\n",
       "        text-align: right;\n",
       "    }\n",
       "</style>\n",
       "<table border=\"1\" class=\"dataframe\">\n",
       "  <thead>\n",
       "    <tr style=\"text-align: right;\">\n",
       "      <th></th>\n",
       "      <th>followers</th>\n",
       "      <th>username</th>\n",
       "      <th>id_post</th>\n",
       "      <th>video_count</th>\n",
       "      <th>url_img</th>\n",
       "      <th>link_post</th>\n",
       "      <th>owner</th>\n",
       "      <th>caption</th>\n",
       "      <th>comment_count</th>\n",
       "      <th>taken_at_timestamp</th>\n",
       "      <th>taken_at_time</th>\n",
       "      <th>shortcode</th>\n",
       "      <th>is_video</th>\n",
       "      <th>likes_count</th>\n",
       "      <th>likes_score</th>\n",
       "      <th>zscore</th>\n",
       "      <th>KLscore</th>\n",
       "      <th>followers_score</th>\n",
       "    </tr>\n",
       "  </thead>\n",
       "  <tbody>\n",
       "    <tr>\n",
       "      <th>0</th>\n",
       "      <td>188</td>\n",
       "      <td>abhishekraghav015</td>\n",
       "      <td>1637736956104215547</td>\n",
       "      <td>0</td>\n",
       "      <td>https://instagram.fprg2-1.fna.fbcdn.net/t51.28...</td>\n",
       "      <td>https://www.instagram.com/p/Ba6aRWgHwv7</td>\n",
       "      <td>3106737762</td>\n",
       "      <td>#like4like#followforfollow#justinbieber#selena...</td>\n",
       "      <td>9</td>\n",
       "      <td>1509453480</td>\n",
       "      <td>2017-10-31 12:38:00</td>\n",
       "      <td>Ba6aRWgHwv7</td>\n",
       "      <td>False</td>\n",
       "      <td>211</td>\n",
       "      <td>1.122340</td>\n",
       "      <td>2.506141</td>\n",
       "      <td>5</td>\n",
       "      <td>3.007369</td>\n",
       "    </tr>\n",
       "    <tr>\n",
       "      <th>1</th>\n",
       "      <td>47</td>\n",
       "      <td>misstribu</td>\n",
       "      <td>1643430709473145791</td>\n",
       "      <td>0</td>\n",
       "      <td>https://instagram.fprg2-1.fna.fbcdn.net/t51.28...</td>\n",
       "      <td>https://www.instagram.com/p/BbOo4XjHXO_</td>\n",
       "      <td>595372894</td>\n",
       "      <td>#regram @nathalie_dmitrovic #newshop #marseill...</td>\n",
       "      <td>2</td>\n",
       "      <td>1510132229</td>\n",
       "      <td>2017-11-08 09:10:29</td>\n",
       "      <td>BbOo4XjHXO_</td>\n",
       "      <td>False</td>\n",
       "      <td>55</td>\n",
       "      <td>1.170213</td>\n",
       "      <td>2.663942</td>\n",
       "      <td>9</td>\n",
       "      <td>5.754115</td>\n",
       "    </tr>\n",
       "    <tr>\n",
       "      <th>2</th>\n",
       "      <td>464</td>\n",
       "      <td>moranmarima</td>\n",
       "      <td>1644371575393638121</td>\n",
       "      <td>0</td>\n",
       "      <td>https://instagram.fprg2-1.fna.fbcdn.net/t51.28...</td>\n",
       "      <td>https://www.instagram.com/p/BbR-zxOFlbp</td>\n",
       "      <td>255202154</td>\n",
       "      <td>@anatfriedman FW_ 17/18\\nPH | @liorandhadas \\n...</td>\n",
       "      <td>0</td>\n",
       "      <td>1510244388</td>\n",
       "      <td>2017-11-09 16:19:48</td>\n",
       "      <td>BbR-zxOFlbp</td>\n",
       "      <td>False</td>\n",
       "      <td>24</td>\n",
       "      <td>0.051724</td>\n",
       "      <td>-1.022920</td>\n",
       "      <td>7</td>\n",
       "      <td>-1.718506</td>\n",
       "    </tr>\n",
       "    <tr>\n",
       "      <th>3</th>\n",
       "      <td>862</td>\n",
       "      <td>elizabethvdg</td>\n",
       "      <td>1642287665808460011</td>\n",
       "      <td>0</td>\n",
       "      <td>https://instagram.fprg2-1.fna.fbcdn.net/t51.28...</td>\n",
       "      <td>https://www.instagram.com/p/BbKk-5LhMjr</td>\n",
       "      <td>1495458765</td>\n",
       "      <td>Thank you @thezoereport #nothinglikehighshine ...</td>\n",
       "      <td>41</td>\n",
       "      <td>1509995967</td>\n",
       "      <td>2017-11-06 19:19:27</td>\n",
       "      <td>BbKk-5LhMjr</td>\n",
       "      <td>False</td>\n",
       "      <td>442</td>\n",
       "      <td>0.512761</td>\n",
       "      <td>0.496791</td>\n",
       "      <td>2</td>\n",
       "      <td>0.238460</td>\n",
       "    </tr>\n",
       "    <tr>\n",
       "      <th>4</th>\n",
       "      <td>457</td>\n",
       "      <td>accessories_phone_sale</td>\n",
       "      <td>1641509454729825470</td>\n",
       "      <td>107</td>\n",
       "      <td>https://instagram.fprg2-1.fna.fbcdn.net/t51.28...</td>\n",
       "      <td>https://www.instagram.com/p/BbH0Cboncy-</td>\n",
       "      <td>6046227131</td>\n",
       "      <td>עוד לקוחה מרוצה ✔️ @shirmuharer</td>\n",
       "      <td>1</td>\n",
       "      <td>1509903225</td>\n",
       "      <td>2017-11-05 17:33:45</td>\n",
       "      <td>BbH0Cboncy-</td>\n",
       "      <td>True</td>\n",
       "      <td>44</td>\n",
       "      <td>0.096280</td>\n",
       "      <td>-0.876051</td>\n",
       "      <td>0</td>\n",
       "      <td>-0.000000</td>\n",
       "    </tr>\n",
       "  </tbody>\n",
       "</table>\n",
       "</div>"
      ],
      "text/plain": [
       "   followers                username              id_post  video_count  \\\n",
       "0        188       abhishekraghav015  1637736956104215547            0   \n",
       "1         47               misstribu  1643430709473145791            0   \n",
       "2        464             moranmarima  1644371575393638121            0   \n",
       "3        862            elizabethvdg  1642287665808460011            0   \n",
       "4        457  accessories_phone_sale  1641509454729825470          107   \n",
       "\n",
       "                                             url_img  \\\n",
       "0  https://instagram.fprg2-1.fna.fbcdn.net/t51.28...   \n",
       "1  https://instagram.fprg2-1.fna.fbcdn.net/t51.28...   \n",
       "2  https://instagram.fprg2-1.fna.fbcdn.net/t51.28...   \n",
       "3  https://instagram.fprg2-1.fna.fbcdn.net/t51.28...   \n",
       "4  https://instagram.fprg2-1.fna.fbcdn.net/t51.28...   \n",
       "\n",
       "                                 link_post       owner  \\\n",
       "0  https://www.instagram.com/p/Ba6aRWgHwv7  3106737762   \n",
       "1  https://www.instagram.com/p/BbOo4XjHXO_   595372894   \n",
       "2  https://www.instagram.com/p/BbR-zxOFlbp   255202154   \n",
       "3  https://www.instagram.com/p/BbKk-5LhMjr  1495458765   \n",
       "4  https://www.instagram.com/p/BbH0Cboncy-  6046227131   \n",
       "\n",
       "                                             caption  comment_count  \\\n",
       "0  #like4like#followforfollow#justinbieber#selena...              9   \n",
       "1  #regram @nathalie_dmitrovic #newshop #marseill...              2   \n",
       "2  @anatfriedman FW_ 17/18\\nPH | @liorandhadas \\n...              0   \n",
       "3  Thank you @thezoereport #nothinglikehighshine ...             41   \n",
       "4                    עוד לקוחה מרוצה ✔️ @shirmuharer              1   \n",
       "\n",
       "   taken_at_timestamp        taken_at_time    shortcode  is_video  \\\n",
       "0          1509453480  2017-10-31 12:38:00  Ba6aRWgHwv7     False   \n",
       "1          1510132229  2017-11-08 09:10:29  BbOo4XjHXO_     False   \n",
       "2          1510244388  2017-11-09 16:19:48  BbR-zxOFlbp     False   \n",
       "3          1509995967  2017-11-06 19:19:27  BbKk-5LhMjr     False   \n",
       "4          1509903225  2017-11-05 17:33:45  BbH0Cboncy-      True   \n",
       "\n",
       "   likes_count  likes_score    zscore  KLscore  followers_score  \n",
       "0          211     1.122340  2.506141        5         3.007369  \n",
       "1           55     1.170213  2.663942        9         5.754115  \n",
       "2           24     0.051724 -1.022920        7        -1.718506  \n",
       "3          442     0.512761  0.496791        2         0.238460  \n",
       "4           44     0.096280 -0.876051        0        -0.000000  "
      ]
     },
     "execution_count": 122,
     "metadata": {},
     "output_type": "execute_result"
    }
   ],
   "source": [
    "df.head()"
   ]
  },
  {
   "cell_type": "code",
   "execution_count": 128,
   "metadata": {
    "collapsed": true
   },
   "outputs": [],
   "source": [
    "df['final_followers_score'] = .4*(df['zscore']) * (.6*(df['KLscore']) )"
   ]
  },
  {
   "cell_type": "markdown",
   "metadata": {},
   "source": [
    "## Here we have a linear combination"
   ]
  },
  {
   "cell_type": "code",
   "execution_count": 131,
   "metadata": {},
   "outputs": [
    {
     "data": {
      "text/html": [
       "<div>\n",
       "<style scoped>\n",
       "    .dataframe tbody tr th:only-of-type {\n",
       "        vertical-align: middle;\n",
       "    }\n",
       "\n",
       "    .dataframe tbody tr th {\n",
       "        vertical-align: top;\n",
       "    }\n",
       "\n",
       "    .dataframe thead th {\n",
       "        text-align: right;\n",
       "    }\n",
       "</style>\n",
       "<table border=\"1\" class=\"dataframe\">\n",
       "  <thead>\n",
       "    <tr style=\"text-align: right;\">\n",
       "      <th></th>\n",
       "      <th>KLscore</th>\n",
       "      <th>final_followers_score</th>\n",
       "      <th>zscore</th>\n",
       "    </tr>\n",
       "  </thead>\n",
       "  <tbody>\n",
       "    <tr>\n",
       "      <th>1</th>\n",
       "      <td>9</td>\n",
       "      <td>5.754115</td>\n",
       "      <td>2.663942</td>\n",
       "    </tr>\n",
       "    <tr>\n",
       "      <th>0</th>\n",
       "      <td>5</td>\n",
       "      <td>3.007369</td>\n",
       "      <td>2.506141</td>\n",
       "    </tr>\n",
       "    <tr>\n",
       "      <th>3</th>\n",
       "      <td>2</td>\n",
       "      <td>0.238460</td>\n",
       "      <td>0.496791</td>\n",
       "    </tr>\n",
       "    <tr>\n",
       "      <th>4</th>\n",
       "      <td>0</td>\n",
       "      <td>-0.000000</td>\n",
       "      <td>-0.876051</td>\n",
       "    </tr>\n",
       "    <tr>\n",
       "      <th>13</th>\n",
       "      <td>0</td>\n",
       "      <td>-0.000000</td>\n",
       "      <td>-0.985400</td>\n",
       "    </tr>\n",
       "    <tr>\n",
       "      <th>14</th>\n",
       "      <td>5</td>\n",
       "      <td>-0.199720</td>\n",
       "      <td>-0.166433</td>\n",
       "    </tr>\n",
       "    <tr>\n",
       "      <th>6</th>\n",
       "      <td>3</td>\n",
       "      <td>-0.302045</td>\n",
       "      <td>-0.419506</td>\n",
       "    </tr>\n",
       "    <tr>\n",
       "      <th>5</th>\n",
       "      <td>2</td>\n",
       "      <td>-0.329789</td>\n",
       "      <td>-0.687060</td>\n",
       "    </tr>\n",
       "    <tr>\n",
       "      <th>7</th>\n",
       "      <td>4</td>\n",
       "      <td>-0.698937</td>\n",
       "      <td>-0.728059</td>\n",
       "    </tr>\n",
       "    <tr>\n",
       "      <th>10</th>\n",
       "      <td>7</td>\n",
       "      <td>-0.704771</td>\n",
       "      <td>-0.419506</td>\n",
       "    </tr>\n",
       "    <tr>\n",
       "      <th>11</th>\n",
       "      <td>5</td>\n",
       "      <td>-0.873671</td>\n",
       "      <td>-0.728059</td>\n",
       "    </tr>\n",
       "    <tr>\n",
       "      <th>8</th>\n",
       "      <td>4</td>\n",
       "      <td>-0.887082</td>\n",
       "      <td>-0.924044</td>\n",
       "    </tr>\n",
       "    <tr>\n",
       "      <th>12</th>\n",
       "      <td>4</td>\n",
       "      <td>-0.887082</td>\n",
       "      <td>-0.924044</td>\n",
       "    </tr>\n",
       "    <tr>\n",
       "      <th>9</th>\n",
       "      <td>9</td>\n",
       "      <td>-1.484050</td>\n",
       "      <td>-0.687060</td>\n",
       "    </tr>\n",
       "    <tr>\n",
       "      <th>2</th>\n",
       "      <td>7</td>\n",
       "      <td>-1.718506</td>\n",
       "      <td>-1.022920</td>\n",
       "    </tr>\n",
       "  </tbody>\n",
       "</table>\n",
       "</div>"
      ],
      "text/plain": [
       "    KLscore  final_followers_score    zscore\n",
       "1         9               5.754115  2.663942\n",
       "0         5               3.007369  2.506141\n",
       "3         2               0.238460  0.496791\n",
       "4         0              -0.000000 -0.876051\n",
       "13        0              -0.000000 -0.985400\n",
       "14        5              -0.199720 -0.166433\n",
       "6         3              -0.302045 -0.419506\n",
       "5         2              -0.329789 -0.687060\n",
       "7         4              -0.698937 -0.728059\n",
       "10        7              -0.704771 -0.419506\n",
       "11        5              -0.873671 -0.728059\n",
       "8         4              -0.887082 -0.924044\n",
       "12        4              -0.887082 -0.924044\n",
       "9         9              -1.484050 -0.687060\n",
       "2         7              -1.718506 -1.022920"
      ]
     },
     "execution_count": 131,
     "metadata": {},
     "output_type": "execute_result"
    }
   ],
   "source": [
    "col = ['KLscore','final_followers_score', 'zscore']\n",
    "sorted1 = df[col].sort_values(['final_followers_score'],ascending=False)\n",
    "sorted1"
   ]
  },
  {
   "cell_type": "markdown",
   "metadata": {},
   "source": [
    "# score = z + KL^alpha"
   ]
  },
  {
   "cell_type": "code",
   "execution_count": 137,
   "metadata": {},
   "outputs": [
    {
     "data": {
      "text/html": [
       "<div>\n",
       "<style scoped>\n",
       "    .dataframe tbody tr th:only-of-type {\n",
       "        vertical-align: middle;\n",
       "    }\n",
       "\n",
       "    .dataframe tbody tr th {\n",
       "        vertical-align: top;\n",
       "    }\n",
       "\n",
       "    .dataframe thead th {\n",
       "        text-align: right;\n",
       "    }\n",
       "</style>\n",
       "<table border=\"1\" class=\"dataframe\">\n",
       "  <thead>\n",
       "    <tr style=\"text-align: right;\">\n",
       "      <th></th>\n",
       "      <th>KLscore</th>\n",
       "      <th>final_followers_score</th>\n",
       "      <th>zscore</th>\n",
       "    </tr>\n",
       "  </thead>\n",
       "  <tbody>\n",
       "    <tr>\n",
       "      <th>1</th>\n",
       "      <td>9</td>\n",
       "      <td>47.950962</td>\n",
       "      <td>2.663942</td>\n",
       "    </tr>\n",
       "    <tr>\n",
       "      <th>0</th>\n",
       "      <td>5</td>\n",
       "      <td>25.061412</td>\n",
       "      <td>2.506141</td>\n",
       "    </tr>\n",
       "    <tr>\n",
       "      <th>3</th>\n",
       "      <td>2</td>\n",
       "      <td>1.987164</td>\n",
       "      <td>0.496791</td>\n",
       "    </tr>\n",
       "    <tr>\n",
       "      <th>4</th>\n",
       "      <td>0</td>\n",
       "      <td>-0.000000</td>\n",
       "      <td>-0.876051</td>\n",
       "    </tr>\n",
       "    <tr>\n",
       "      <th>13</th>\n",
       "      <td>0</td>\n",
       "      <td>-0.000000</td>\n",
       "      <td>-0.985400</td>\n",
       "    </tr>\n",
       "    <tr>\n",
       "      <th>14</th>\n",
       "      <td>5</td>\n",
       "      <td>-1.664332</td>\n",
       "      <td>-0.166433</td>\n",
       "    </tr>\n",
       "    <tr>\n",
       "      <th>6</th>\n",
       "      <td>3</td>\n",
       "      <td>-2.517039</td>\n",
       "      <td>-0.419506</td>\n",
       "    </tr>\n",
       "    <tr>\n",
       "      <th>5</th>\n",
       "      <td>2</td>\n",
       "      <td>-2.748241</td>\n",
       "      <td>-0.687060</td>\n",
       "    </tr>\n",
       "    <tr>\n",
       "      <th>7</th>\n",
       "      <td>4</td>\n",
       "      <td>-5.824475</td>\n",
       "      <td>-0.728059</td>\n",
       "    </tr>\n",
       "    <tr>\n",
       "      <th>10</th>\n",
       "      <td>7</td>\n",
       "      <td>-5.873090</td>\n",
       "      <td>-0.419506</td>\n",
       "    </tr>\n",
       "    <tr>\n",
       "      <th>11</th>\n",
       "      <td>5</td>\n",
       "      <td>-7.280594</td>\n",
       "      <td>-0.728059</td>\n",
       "    </tr>\n",
       "    <tr>\n",
       "      <th>8</th>\n",
       "      <td>4</td>\n",
       "      <td>-7.392350</td>\n",
       "      <td>-0.924044</td>\n",
       "    </tr>\n",
       "    <tr>\n",
       "      <th>12</th>\n",
       "      <td>4</td>\n",
       "      <td>-7.392350</td>\n",
       "      <td>-0.924044</td>\n",
       "    </tr>\n",
       "    <tr>\n",
       "      <th>9</th>\n",
       "      <td>9</td>\n",
       "      <td>-12.367083</td>\n",
       "      <td>-0.687060</td>\n",
       "    </tr>\n",
       "    <tr>\n",
       "      <th>2</th>\n",
       "      <td>7</td>\n",
       "      <td>-14.320883</td>\n",
       "      <td>-1.022920</td>\n",
       "    </tr>\n",
       "  </tbody>\n",
       "</table>\n",
       "</div>"
      ],
      "text/plain": [
       "    KLscore  final_followers_score    zscore\n",
       "1         9              47.950962  2.663942\n",
       "0         5              25.061412  2.506141\n",
       "3         2               1.987164  0.496791\n",
       "4         0              -0.000000 -0.876051\n",
       "13        0              -0.000000 -0.985400\n",
       "14        5              -1.664332 -0.166433\n",
       "6         3              -2.517039 -0.419506\n",
       "5         2              -2.748241 -0.687060\n",
       "7         4              -5.824475 -0.728059\n",
       "10        7              -5.873090 -0.419506\n",
       "11        5              -7.280594 -0.728059\n",
       "8         4              -7.392350 -0.924044\n",
       "12        4              -7.392350 -0.924044\n",
       "9         9             -12.367083 -0.687060\n",
       "2         7             -14.320883 -1.022920"
      ]
     },
     "execution_count": 137,
     "metadata": {},
     "output_type": "execute_result"
    }
   ],
   "source": [
    "alpha = 2\n",
    "df['final_followers_score'] = (df['zscore']) * ((df['KLscore']) * alpha)\n",
    "col = ['KLscore','final_followers_score', 'zscore']\n",
    "sorted1 = df[col].sort_values(['final_followers_score'],ascending=False)\n",
    "sorted1"
   ]
  },
  {
   "cell_type": "markdown",
   "metadata": {},
   "source": [
    "# score = ln(z) + alpha*ln(k)\n",
    "\n",
    "#### this has problems. Need to take abs value and some go to -inf"
   ]
  },
  {
   "cell_type": "code",
   "execution_count": 135,
   "metadata": {},
   "outputs": [
    {
     "name": "stderr",
     "output_type": "stream",
     "text": [
      "/anaconda/envs/python3/lib/python3.6/site-packages/ipykernel_launcher.py:2: RuntimeWarning: divide by zero encountered in log\n",
      "  \n"
     ]
    },
    {
     "data": {
      "text/html": [
       "<div>\n",
       "<style scoped>\n",
       "    .dataframe tbody tr th:only-of-type {\n",
       "        vertical-align: middle;\n",
       "    }\n",
       "\n",
       "    .dataframe tbody tr th {\n",
       "        vertical-align: top;\n",
       "    }\n",
       "\n",
       "    .dataframe thead th {\n",
       "        text-align: right;\n",
       "    }\n",
       "</style>\n",
       "<table border=\"1\" class=\"dataframe\">\n",
       "  <thead>\n",
       "    <tr style=\"text-align: right;\">\n",
       "      <th></th>\n",
       "      <th>KLscore</th>\n",
       "      <th>final_followers_score</th>\n",
       "      <th>zscore</th>\n",
       "    </tr>\n",
       "  </thead>\n",
       "  <tbody>\n",
       "    <tr>\n",
       "      <th>1</th>\n",
       "      <td>9</td>\n",
       "      <td>5.374256</td>\n",
       "      <td>2.663942</td>\n",
       "    </tr>\n",
       "    <tr>\n",
       "      <th>0</th>\n",
       "      <td>5</td>\n",
       "      <td>4.137620</td>\n",
       "      <td>2.506141</td>\n",
       "    </tr>\n",
       "    <tr>\n",
       "      <th>9</th>\n",
       "      <td>9</td>\n",
       "      <td>4.019116</td>\n",
       "      <td>-0.687060</td>\n",
       "    </tr>\n",
       "    <tr>\n",
       "      <th>2</th>\n",
       "      <td>7</td>\n",
       "      <td>3.914482</td>\n",
       "      <td>-1.022920</td>\n",
       "    </tr>\n",
       "    <tr>\n",
       "      <th>10</th>\n",
       "      <td>7</td>\n",
       "      <td>3.023144</td>\n",
       "      <td>-0.419506</td>\n",
       "    </tr>\n",
       "    <tr>\n",
       "      <th>11</th>\n",
       "      <td>5</td>\n",
       "      <td>2.901503</td>\n",
       "      <td>-0.728059</td>\n",
       "    </tr>\n",
       "    <tr>\n",
       "      <th>8</th>\n",
       "      <td>4</td>\n",
       "      <td>2.693593</td>\n",
       "      <td>-0.924044</td>\n",
       "    </tr>\n",
       "    <tr>\n",
       "      <th>12</th>\n",
       "      <td>4</td>\n",
       "      <td>2.693593</td>\n",
       "      <td>-0.924044</td>\n",
       "    </tr>\n",
       "    <tr>\n",
       "      <th>7</th>\n",
       "      <td>4</td>\n",
       "      <td>2.455216</td>\n",
       "      <td>-0.728059</td>\n",
       "    </tr>\n",
       "    <tr>\n",
       "      <th>14</th>\n",
       "      <td>5</td>\n",
       "      <td>1.425715</td>\n",
       "      <td>-0.166433</td>\n",
       "    </tr>\n",
       "    <tr>\n",
       "      <th>6</th>\n",
       "      <td>3</td>\n",
       "      <td>1.328548</td>\n",
       "      <td>-0.419506</td>\n",
       "    </tr>\n",
       "    <tr>\n",
       "      <th>5</th>\n",
       "      <td>2</td>\n",
       "      <td>1.010961</td>\n",
       "      <td>-0.687060</td>\n",
       "    </tr>\n",
       "    <tr>\n",
       "      <th>3</th>\n",
       "      <td>2</td>\n",
       "      <td>0.686708</td>\n",
       "      <td>0.496791</td>\n",
       "    </tr>\n",
       "    <tr>\n",
       "      <th>4</th>\n",
       "      <td>0</td>\n",
       "      <td>-inf</td>\n",
       "      <td>-0.876051</td>\n",
       "    </tr>\n",
       "    <tr>\n",
       "      <th>13</th>\n",
       "      <td>0</td>\n",
       "      <td>-inf</td>\n",
       "      <td>-0.985400</td>\n",
       "    </tr>\n",
       "  </tbody>\n",
       "</table>\n",
       "</div>"
      ],
      "text/plain": [
       "    KLscore  final_followers_score    zscore\n",
       "1         9               5.374256  2.663942\n",
       "0         5               4.137620  2.506141\n",
       "9         9               4.019116 -0.687060\n",
       "2         7               3.914482 -1.022920\n",
       "10        7               3.023144 -0.419506\n",
       "11        5               2.901503 -0.728059\n",
       "8         4               2.693593 -0.924044\n",
       "12        4               2.693593 -0.924044\n",
       "7         4               2.455216 -0.728059\n",
       "14        5               1.425715 -0.166433\n",
       "6         3               1.328548 -0.419506\n",
       "5         2               1.010961 -0.687060\n",
       "3         2               0.686708  0.496791\n",
       "4         0                   -inf -0.876051\n",
       "13        0                   -inf -0.985400"
      ]
     },
     "execution_count": 135,
     "metadata": {},
     "output_type": "execute_result"
    }
   ],
   "source": [
    "alpha = 2\n",
    "df['final_followers_score'] = np.log(np.abs(df['zscore'])) + (alpha* np.log((df['KLscore']) ))\n",
    "\n",
    "col = ['KLscore','final_followers_score', 'zscore']\n",
    "sorted1 = df[col].sort_values(['final_followers_score'],ascending=False)\n",
    "sorted1"
   ]
  },
  {
   "cell_type": "code",
   "execution_count": null,
   "metadata": {
    "collapsed": true
   },
   "outputs": [],
   "source": []
  }
 ],
 "metadata": {
  "anaconda-cloud": {},
  "kernelspec": {
   "display_name": "Python 3",
   "language": "python",
   "name": "python3"
  },
  "language_info": {
   "codemirror_mode": {
    "name": "ipython",
    "version": 3
   },
   "file_extension": ".py",
   "mimetype": "text/x-python",
   "name": "python",
   "nbconvert_exporter": "python",
   "pygments_lexer": "ipython3",
   "version": "3.6.4"
  }
 },
 "nbformat": 4,
 "nbformat_minor": 1
}
