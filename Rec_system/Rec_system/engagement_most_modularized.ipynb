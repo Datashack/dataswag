{
 "cells": [
  {
   "cell_type": "code",
   "execution_count": 2,
   "metadata": {
    "collapsed": true
   },
   "outputs": [],
   "source": [
    "\n",
    "\n",
    "import pandas as pd\n",
    "import numpy as np\n",
    "from functools import reduce\n",
    "%matplotlib inline\n",
    "import matplotlib.pyplot as plt\n",
    "import seaborn as sns; sns.set()\n",
    "import numpy as np\n",
    "import re\n",
    "from sklearn.svm import SVC\n",
    "from sklearn.metrics import f1_score\n",
    "\n",
    "from sklearn.feature_extraction.text import TfidfVectorizer\n",
    "from sklearn.cluster import KMeans\n",
    "from sklearn.metrics import adjusted_rand_score\n",
    "from sklearn.feature_extraction.text import CountVectorizer\n",
    "from sklearn.neighbors import KNeighborsClassifier as KNN\n",
    "from sklearn.linear_model import Lasso, Ridge\n",
    "\n",
    "from sklearn.model_selection import train_test_split \n",
    "from sklearn.preprocessing import normalize, MinMaxScaler\n",
    "from sklearn.tree import DecisionTreeRegressor\n",
    "from sklearn.feature_extraction import stop_words"
   ]
  },
  {
   "cell_type": "code",
   "execution_count": 4,
   "metadata": {},
   "outputs": [],
   "source": [
    "path = '/Users/kimia/Desktop/Capstone/hotel/Rec_system/Rec_system/DFs/'\n",
    "DF_all_vectorized_w_metadata = pd.read_csv(path+'DF_all_vectorized_w_metadata.csv')\n",
    "df = DF_all_vectorized_w_metadata"
   ]
  },
  {
   "cell_type": "code",
   "execution_count": 5,
   "metadata": {
    "collapsed": true
   },
   "outputs": [],
   "source": [
    "# Clean the Data\n",
    "df['followers'] = df['followers'].apply(lambda x: x.replace(\",\", \"\"))\n",
    "df['followers'] = df['followers'].apply(lambda x: x.replace('k',\"000\").replace(\".\",\"\").replace(\"m\",\"000000\").replace(\",\",\"\"))\n",
    "df['followers'] = df['followers'].apply(lambda x: pd.to_numeric(x))\n",
    "\n",
    "def zscore(x,mu,std):\n",
    "    zscore = (x-mu)/std\n",
    "    return(zscore)\n",
    "\n",
    "def metrics(df): \n",
    "    df[['likes','followers']] = df[['likes','followers']].apply(pd.to_numeric)\n",
    "  \n",
    "\n",
    "    df['likes_score'] = (df['likes'])/(df['followers'])\n",
    "    \n",
    "    df['comments_score'] = (df['comments'])/(df['followers'])\n",
    "    \n",
    "    df['zscore_likes'] = zscore(df['likes_score'], df.likes_score.std(), df.likes_score.mean())\n",
    "    \n",
    "    df['zscore_comments'] = zscore(df['comments_score'], df.comments_score.std(), df.comments_score.mean())\n",
    "    \n",
    "    #df['final_score'] = df['zscore_likes'] + df['zscore_comments']\n",
    "    df['numerical_score'] = df['likes_score'] #+ df['comments_score']\n",
    "    \n",
    "    \n",
    "    \n",
    "    ###### need to edit this\n",
    "    df['final_score'] = (df['numerical_score'])"
   ]
  },
  {
   "cell_type": "code",
   "execution_count": 6,
   "metadata": {
    "collapsed": true
   },
   "outputs": [],
   "source": [
    "metrics(df)"
   ]
  },
  {
   "cell_type": "markdown",
   "metadata": {},
   "source": [
    "# WP Having trouble Modularizing this! HALP"
   ]
  },
  {
   "cell_type": "code",
   "execution_count": 7,
   "metadata": {},
   "outputs": [
    {
     "name": "stderr",
     "output_type": "stream",
     "text": [
      "/anaconda/envs/python3/lib/python3.6/site-packages/ipykernel_launcher.py:5: SettingWithCopyWarning: \n",
      "A value is trying to be set on a copy of a slice from a DataFrame\n",
      "\n",
      "See the caveats in the documentation: http://pandas.pydata.org/pandas-docs/stable/indexing.html#indexing-view-versus-copy\n",
      "  \"\"\"\n",
      "/anaconda/envs/python3/lib/python3.6/site-packages/ipykernel_launcher.py:3: SettingWithCopyWarning: \n",
      "A value is trying to be set on a copy of a slice from a DataFrame\n",
      "\n",
      "See the caveats in the documentation: http://pandas.pydata.org/pandas-docs/stable/indexing.html#indexing-view-versus-copy\n",
      "  This is separate from the ipykernel package so we can avoid doing imports until\n"
     ]
    }
   ],
   "source": [
    "for i, v in enumerate(df['final_score']):\n",
    "    if df['final_score'][i] > df['numerical_score'].median():\n",
    "        df['final_score'][i] = 1\n",
    "    if df['final_score'][i] < df['numerical_score'].median():\n",
    "        df['final_score'][i] = 0"
   ]
  },
  {
   "cell_type": "code",
   "execution_count": 8,
   "metadata": {},
   "outputs": [
    {
     "data": {
      "text/plain": [
       "(array([ 124.,    0.,    0.,    0.,    0.,    0.,    0.,    0.,    0.,\n",
       "           0.,    0.,    0.,    0.,    0.,    0.,    0.,    0.,    0.,\n",
       "           0.,    0.,    0.,    0.,    0.,    0.,    0.,    0.,    0.,\n",
       "           0.,    0.,    0.,    0.,    0.,    0.,    0.,    0.,    0.,\n",
       "           0.,    0.,    0.,    0.,    0.,    0.,    0.,    0.,    0.,\n",
       "           0.,    0.,    0.,    0.,    0.,    0.,    0.,    0.,    0.,\n",
       "           0.,    0.,    0.,    0.,    0.,    0.,    0.,    0.,    0.,\n",
       "           0.,    0.,    0.,    0.,    0.,    0.,    0.,    0.,    0.,\n",
       "           0.,    0.,    0.,    0.,    0.,    0.,    0.,    0.,    0.,\n",
       "           0.,    0.,    0.,    0.,    0.,    0.,    0.,    0.,    0.,\n",
       "           0.,    0.,    0.,    0.,    0.,    0.,    0.,    0.,    0.,  124.]),\n",
       " array([ 0.  ,  0.01,  0.02,  0.03,  0.04,  0.05,  0.06,  0.07,  0.08,\n",
       "         0.09,  0.1 ,  0.11,  0.12,  0.13,  0.14,  0.15,  0.16,  0.17,\n",
       "         0.18,  0.19,  0.2 ,  0.21,  0.22,  0.23,  0.24,  0.25,  0.26,\n",
       "         0.27,  0.28,  0.29,  0.3 ,  0.31,  0.32,  0.33,  0.34,  0.35,\n",
       "         0.36,  0.37,  0.38,  0.39,  0.4 ,  0.41,  0.42,  0.43,  0.44,\n",
       "         0.45,  0.46,  0.47,  0.48,  0.49,  0.5 ,  0.51,  0.52,  0.53,\n",
       "         0.54,  0.55,  0.56,  0.57,  0.58,  0.59,  0.6 ,  0.61,  0.62,\n",
       "         0.63,  0.64,  0.65,  0.66,  0.67,  0.68,  0.69,  0.7 ,  0.71,\n",
       "         0.72,  0.73,  0.74,  0.75,  0.76,  0.77,  0.78,  0.79,  0.8 ,\n",
       "         0.81,  0.82,  0.83,  0.84,  0.85,  0.86,  0.87,  0.88,  0.89,\n",
       "         0.9 ,  0.91,  0.92,  0.93,  0.94,  0.95,  0.96,  0.97,  0.98,\n",
       "         0.99,  1.  ]),\n",
       " <a list of 100 Patch objects>)"
      ]
     },
     "execution_count": 8,
     "metadata": {},
     "output_type": "execute_result"
    },
    {
     "data": {
      "image/png": "[encoded data removed]",
      "text/plain": [
       "<matplotlib.figure.Figure at 0x10d12d4e0>"
      ]
     },
     "metadata": {},
     "output_type": "display_data"
    }
   ],
   "source": [
    "plt.hist(df['final_score'], bins = 100)"
   ]
  },
  {
   "cell_type": "code",
   "execution_count": 9,
   "metadata": {
    "collapsed": true
   },
   "outputs": [],
   "source": [
    "# SVM\n",
    "from sklearn.svm import SVC\n",
    "from sklearn.metrics import f1_score\n",
    "\n",
    "\n",
    "def svm_model(): \n",
    "    \n",
    "    y = df.final_score\n",
    "\n",
    "    predictors = ['R_Mean', 'R_STD', 'R_MED', 'G_Mean', 'G_STD', 'G_MED', 'B_Mean',\n",
    "       'B_STD', 'B_MED', 'Canny', 'ORB_X', 'ORB_Y',]\n",
    "    X = df[predictors]\n",
    "\n",
    "\n",
    "    scaler = MinMaxScaler()\n",
    "    X = scaler.fit_transform(X)\n",
    "\n",
    "\n",
    "\n",
    "    X_train, X_test, y_train, y_test = train_test_split(X, y, test_size=0.5, random_state=9)\n",
    "\n",
    "\n",
    "\n",
    "\n",
    "    #Log Regression using LRCV\n",
    "    #cross validation values\n",
    "    cvals = [1, 10, 100, 10000, 100000]\n",
    "    logit  = SVC()\n",
    "    logit.fit(X_train, y_train)\n",
    "    y_hat_train = logit.predict(X_train)\n",
    "    y_hat_test = logit.predict(X_test)\n",
    "    #####\n",
    "\n",
    "\n",
    "    trainscore = (f1_score(y_train, y_hat_train, average='binary'))\n",
    "    testscore = (f1_score(y_test, y_hat_test, average='binary'))\n",
    "    return('Train, Test: ', trainscore, testscore)"
   ]
  },
  {
   "cell_type": "code",
   "execution_count": 10,
   "metadata": {},
   "outputs": [
    {
     "data": {
      "text/plain": [
       "('Train, Test: ', 0.67032967032967028, 0.65934065934065944)"
      ]
     },
     "execution_count": 10,
     "metadata": {},
     "output_type": "execute_result"
    }
   ],
   "source": [
    "svm_model()"
   ]
  },
  {
   "cell_type": "markdown",
   "metadata": {},
   "source": [
    "## NOICE 66%!!! "
   ]
  },
  {
   "cell_type": "code",
   "execution_count": 15,
   "metadata": {},
   "outputs": [
    {
     "data": {
      "text/plain": [
       "['SVM_logit.pkl']"
      ]
     },
     "execution_count": 15,
     "metadata": {},
     "output_type": "execute_result"
    }
   ],
   "source": [
    "from sklearn.externals import joblib\n",
    "joblib.dump(logit, 'SVM_logit.pkl')\n",
    "\n",
    "#joblib.dump(model_kmeans_users, 'model_kmeans.pkl')"
   ]
  },
  {
   "cell_type": "code",
   "execution_count": 16,
   "metadata": {
    "collapsed": true
   },
   "outputs": [],
   "source": [
    "del logit"
   ]
  },
  {
   "cell_type": "code",
   "execution_count": 17,
   "metadata": {
    "collapsed": true
   },
   "outputs": [],
   "source": [
    "model_kmeans_users = joblib.load('SVM_logit.pkl')"
   ]
  },
  {
   "cell_type": "code",
   "execution_count": 13,
   "metadata": {},
   "outputs": [],
   "source": [
    "y = df.final_score\n",
    "\n",
    "predictors = ['R_Mean', 'R_STD', 'R_MED', 'G_Mean', 'G_STD', 'G_MED', 'B_Mean',\n",
    "   'B_STD', 'B_MED', 'Canny', 'ORB_X', 'ORB_Y',]\n",
    "X = df[predictors]\n",
    "\n",
    "\n",
    "scaler = MinMaxScaler()\n",
    "X = scaler.fit_transform(X)\n",
    "\n",
    "\n",
    "\n",
    "X_train, X_test, y_train, y_test = train_test_split(X, y, test_size=0.5, random_state=9)\n",
    "\n",
    "\n",
    "\n",
    "\n",
    "#Log Regression using LRCV\n",
    "#cross validation values\n",
    "cvals = [1, 10, 100, 10000, 100000]\n",
    "logit  = SVC()\n",
    "logit.fit(X_train, y_train)\n",
    "y_hat_train = logit.predict(X_train)\n",
    "y_hat_test = logit.predict(X_test)\n",
    "#####\n",
    "\n",
    "\n",
    "trainscore = (f1_score(y_train, y_hat_train, average='binary'))\n",
    "testscore = (f1_score(y_test, y_hat_test, average='binary'))\n"
   ]
  },
  {
   "cell_type": "code",
   "execution_count": null,
   "metadata": {
    "collapsed": true
   },
   "outputs": [],
   "source": []
  }
 ],
 "metadata": {
  "kernelspec": {
   "display_name": "Python 3",
   "language": "python",
   "name": "python3"
  },
  "language_info": {
   "codemirror_mode": {
    "name": "ipython",
    "version": 3
   },
   "file_extension": ".py",
   "mimetype": "text/x-python",
   "name": "python",
   "nbconvert_exporter": "python",
   "pygments_lexer": "ipython3",
   "version": "3.6.4"
  }
 },
 "nbformat": 4,
 "nbformat_minor": 2
}
