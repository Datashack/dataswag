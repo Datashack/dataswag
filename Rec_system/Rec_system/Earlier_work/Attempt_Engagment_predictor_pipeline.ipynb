{
 "cells": [
  {
   "cell_type": "code",
   "execution_count": 12,
   "metadata": {
    "collapsed": true
   },
   "outputs": [],
   "source": [
    "import skimage\n",
    "import os\n",
    "import pandas as pd\n",
    "import numpy as np\n",
    "from IPython.display import display\n",
    "import matplotlib\n",
    "import matplotlib.pyplot as plt\n",
    "from skimage import data\n",
    "from skimage import io\n",
    "import glob\n",
    "from sklearn.linear_model import RidgeCV\n",
    "from sklearn.linear_model import LassoCV\n",
    "from sklearn.preprocessing import PolynomialFeatures\n",
    "import re\n",
    "from scipy import stats\n",
    "from skimage.viewer import ImageViewer\n",
    "import cv2\n",
    "from sklearn.metrics import r2_score\n",
    "from sklearn.cluster import KMeans\n",
    "from sklearn.mixture import GaussianMixture\n",
    "from sklearn.externals import joblib\n",
    "import subprocess\n",
    "import time\n",
    "import statsmodels.regression.linear_model as sm\n",
    "from statsmodels.api import OLS\n",
    "\n"
   ]
  },
  {
   "cell_type": "code",
   "execution_count": 13,
   "metadata": {
    "collapsed": true
   },
   "outputs": [],
   "source": [
    "from RecSystemKM import RecSystemKM_test"
   ]
  },
  {
   "cell_type": "code",
   "execution_count": 14,
   "metadata": {
    "collapsed": true
   },
   "outputs": [],
   "source": [
    "\n",
    "path = '/Users/kimia/Desktop/Capstone/hotel/Rec_system/'\n",
    "df = pd.read_csv(path+'users_followers_merged.csv')\n",
    "\n",
    "### pull a sample for the pipeline\n",
    "df = df[2:4]"
   ]
  },
  {
   "cell_type": "markdown",
   "metadata": {},
   "source": [
    "# Scrape pics from users - don't rerun"
   ]
  },
  {
   "cell_type": "markdown",
   "metadata": {},
   "source": [
    "for i, v in enumerate(df.username): \n",
    "    time.sleep(20)\n",
    "    subprocess.check_output([\"instaloader\", (str(v))])\n",
    "    "
   ]
  },
  {
   "cell_type": "markdown",
   "metadata": {},
   "source": [
    "# Create the Engagment pipeline"
   ]
  },
  {
   "cell_type": "code",
   "execution_count": 15,
   "metadata": {
    "collapsed": true
   },
   "outputs": [],
   "source": [
    "\n",
    "\n",
    "temp_path = '/Users/kimia/Desktop/Capstone/hotel/Rec_system/User_pics/'\n",
    "train_path = '/Users/kimia/Desktop/Capstone/hotel/Rec_system/User_pics/'\n",
    "save_path = '/Users/kimia/Desktop/Capstone/hotel/Rec_system/User_pics/'\n",
    "dest_img =  '/Users/kimia/Desktop/Capstone/hotel/Rec_system/User_pics/'\n",
    "\n",
    "userlist= ['or_shmul','fathy_abo_dahis', 'iamkurdapya', 'abhishekraghav015',  'jnbax']\n",
    "#user list will be the picture number! \n"
   ]
  },
  {
   "cell_type": "markdown",
   "metadata": {},
   "source": [
    "# Vectorize images "
   ]
  },
  {
   "cell_type": "code",
   "execution_count": 16,
   "metadata": {},
   "outputs": [
    {
     "name": "stdout",
     "output_type": "stream",
     "text": [
      "Number of images loaded: 298\n"
     ]
    }
   ],
   "source": [
    "c = RecSystemKM_test(train_path, save_path )\n",
    "c.Karans_get_train_images(userlist)\n",
    "\n",
    "\n",
    "#Create Object\n",
    "\n",
    "train_df = c.convert_to_features(columns = [\"User_Handle\",\"URL\",\"R_Mean\", \"R_STD\", \"R_MED\", \"G_Mean\", \"G_STD\", \n",
    "                \"G_MED\", \"B_Mean\", \"B_STD\", \"B_MED\", \"Canny\", \"ORB_X\", \"ORB_Y\"])"
   ]
  },
  {
   "cell_type": "code",
   "execution_count": 25,
   "metadata": {
    "collapsed": true
   },
   "outputs": [],
   "source": [
    "# now merge with # of followers"
   ]
  },
  {
   "cell_type": "code",
   "execution_count": 17,
   "metadata": {
    "collapsed": true
   },
   "outputs": [],
   "source": [
    "path = '/Users/kimia/Desktop/Capstone/hotel/Rec_system/'\n",
    "df_usernames = pd.read_csv(path+'users_followers_merged.csv')\n",
    "df_usernames['User_Handle'] = df_usernames.username\n",
    "\n",
    "#df_usernames['followers'] = (df_usernames['followers'].apply(lambda x: x.replace('k',\"000\").replace(\".\",\"\").replace(\"m\",\"000000\").replace(\",\",\"\")))\n",
    "#df_usernames.followers = pd.to_numeric(df_usernames.followers)"
   ]
  },
  {
   "cell_type": "code",
   "execution_count": 18,
   "metadata": {},
   "outputs": [
    {
     "name": "stdout",
     "output_type": "stream",
     "text": [
      "Overwriting Engagement_pipeline.py\n"
     ]
    }
   ],
   "source": [
    "%%file Engagement_pipeline.py\n",
    "\n",
    "from sklearn import linear_model\n",
    "\n",
    "class Engagement:\n",
    "    \n",
    "    #Initialization\n",
    "    def __init__(self, train_path, save_path):\n",
    "        self.train_path = train_path\n",
    "        self.save_path = save_path\n",
    "        \n",
    "    def zscore(x,mu,std):\n",
    "        zscore = (x-mu)/std\n",
    "        return(zscore)\n",
    "\n",
    "    def metrics(self, df): \n",
    "        df[['likes_count','followers']] = df[['likes_count','followers']].apply(pd.to_numeric)\n",
    "\n",
    "        df['likes_score'] = (df['likes_count'])/(df['followers'])\n",
    "\n",
    "        df['comments_score'] = (df['comment_count'])/(df['followers'])\n",
    "\n",
    "        df['zscore_likes'] = zscore(df['likes_score'], df.likes_score.std(), df.likes_score.mean())\n",
    "\n",
    "        df['zscore_comments'] = zscore(df['comments_score'], df.comments_score.std(), df.comments_score.mean())\n",
    "\n",
    "        df['final_score'] = df['zscore_likes'] + df['zscore_comments']\n",
    "        \n",
    "        return df\n",
    "        \n",
    "    def prep_model(self, df, columns_to_remove): \n",
    "    \n",
    "        df = df.drop(columns_to_remove, axis = 1, inplace = True)\n",
    "        \n",
    "        rands = np.random.seed(9001)\n",
    "        msk = np.random.rand(len(df)) < 0.25\n",
    "        data_train = df[~msk]\n",
    "        data_test = df[msk]\n",
    "        \n",
    "        y_train = data_train.final_score\n",
    "        y_test = data_test.final_score\n",
    "\n",
    "        predictors = ['R_Mean', 'R_STD', 'R_MED', 'G_Mean', 'G_STD', 'G_MED', 'B_Mean',\n",
    "               'B_STD', 'B_MED', 'Canny', 'ORB_X', 'ORB_Y',]\n",
    "        X_train = data_train[predictors]\n",
    "        X_test = data_test[predictors]\n",
    "        \n",
    "        return y_train, y_text, X_train, X_test ### should these be self?\n",
    "        \n",
    "    def linear(): ## yes those should be self if this is to run automatically\n",
    "        \n",
    "        lm = linear_model.LinearRegression() \n",
    "        model = lm.fit(X_train,y_train) \n",
    "        predictions = lm.predict(X_train)\n",
    "\n",
    "        model.score(X_train,y_train), model.score(X_test,y_test)\n",
    "        \n",
    "    def Ridge():\n",
    "        alpha= [10**-5, 10**-4, 10**-3, 10**-2, 10**-1, 10**0, 10**1, 10**2,10**3, ]\n",
    "        ridge = RidgeCV(alphas=alpha, cv=10, fit_intercept=True)\n",
    "        ridge.fit(X_train, y_train)\n",
    "        \n",
    "        train_score = ridge.score(X_train, y_train)\n",
    "        test_score = ridge.score(X_test, y_test)\n",
    "        return(train_score, test_score)\n",
    "\n",
    "\n",
    "\n",
    "    def Lasso():\n",
    "        alpha= [10**-5, 10**-4, 10**-3, 10**-2, 10**-1, 10**0, 10**1, 10**2,10**3, ]\n",
    "        lasso = LassoCV(alphas=alpha, cv=10, max_iter=10000, fit_intercept=True)\n",
    "        lasso.fit(X_train, y_train)\n",
    "        \n",
    "        train_score = lasso.score(X_train, y_train)\n",
    "        test_score = lasso.score(X_test, y_test)\n",
    "        \n",
    "        return(train_score, test_score)\n",
    "\n",
    "        \n",
    "        ### I also did Poly Feats but seems poor choice here"
   ]
  },
  {
   "cell_type": "code",
   "execution_count": 19,
   "metadata": {
    "collapsed": true
   },
   "outputs": [],
   "source": [
    "\n",
    "\n",
    "def zscore(x,mu,std):\n",
    "    zscore = (x-mu)/std\n",
    "    return(zscore)\n",
    "\n",
    "def metrics(df): \n",
    "    df[['likes_count','followers']] = df[['likes_count','followers']].apply(pd.to_numeric)\n",
    "\n",
    "    df['likes_score'] = (df['likes_count'])/(df['followers'])\n",
    "    \n",
    "    df['comments_score'] = (df['comment_count'])/(df['followers'])\n",
    "    \n",
    "    df['zscore_likes'] = zscore(df['likes_score'], df.likes_score.std(), df.likes_score.mean())\n",
    "    \n",
    "    df['zscore_comments'] = zscore(df['comments_score'], df.comments_score.std(), df.comments_score.mean())\n",
    "    \n",
    "    df['final_score'] = df['zscore_likes'] + df['zscore_comments']\n",
    "    "
   ]
  },
  {
   "cell_type": "code",
   "execution_count": 20,
   "metadata": {
    "collapsed": true
   },
   "outputs": [],
   "source": [
    "df_usernames = df_usernames[0:5]\n",
    "metrics(df_usernames)"
   ]
  },
  {
   "cell_type": "code",
   "execution_count": 21,
   "metadata": {},
   "outputs": [
    {
     "data": {
      "text/html": [
       "<div>\n",
       "<style scoped>\n",
       "    .dataframe tbody tr th:only-of-type {\n",
       "        vertical-align: middle;\n",
       "    }\n",
       "\n",
       "    .dataframe tbody tr th {\n",
       "        vertical-align: top;\n",
       "    }\n",
       "\n",
       "    .dataframe thead th {\n",
       "        text-align: right;\n",
       "    }\n",
       "</style>\n",
       "<table border=\"1\" class=\"dataframe\">\n",
       "  <thead>\n",
       "    <tr style=\"text-align: right;\">\n",
       "      <th></th>\n",
       "      <th>Unnamed: 0</th>\n",
       "      <th>followers</th>\n",
       "      <th>username</th>\n",
       "      <th>id_post</th>\n",
       "      <th>video_count</th>\n",
       "      <th>url_img</th>\n",
       "      <th>link_post</th>\n",
       "      <th>owner</th>\n",
       "      <th>caption</th>\n",
       "      <th>comment_count</th>\n",
       "      <th>...</th>\n",
       "      <th>taken_at_time</th>\n",
       "      <th>shortcode</th>\n",
       "      <th>is_video</th>\n",
       "      <th>likes_count</th>\n",
       "      <th>User_Handle</th>\n",
       "      <th>likes_score</th>\n",
       "      <th>comments_score</th>\n",
       "      <th>zscore_likes</th>\n",
       "      <th>zscore_comments</th>\n",
       "      <th>final_score</th>\n",
       "    </tr>\n",
       "  </thead>\n",
       "  <tbody>\n",
       "    <tr>\n",
       "      <th>0</th>\n",
       "      <td>0</td>\n",
       "      <td>1283.0</td>\n",
       "      <td>or_shmul</td>\n",
       "      <td>1627655237685711385</td>\n",
       "      <td>0</td>\n",
       "      <td>https://instagram.fprg2-1.fna.fbcdn.net/t51.28...</td>\n",
       "      <td>https://www.instagram.com/p/BaWl9CjD5IZ</td>\n",
       "      <td>45547257</td>\n",
       "      <td>💞</td>\n",
       "      <td>7</td>\n",
       "      <td>...</td>\n",
       "      <td>2017-10-17 14:47:26</td>\n",
       "      <td>BaWl9CjD5IZ</td>\n",
       "      <td>False</td>\n",
       "      <td>138</td>\n",
       "      <td>or_shmul</td>\n",
       "      <td>0.107560</td>\n",
       "      <td>0.005456</td>\n",
       "      <td>1.685628</td>\n",
       "      <td>1.836331</td>\n",
       "      <td>3.521959</td>\n",
       "    </tr>\n",
       "    <tr>\n",
       "      <th>1</th>\n",
       "      <td>1</td>\n",
       "      <td>741.0</td>\n",
       "      <td>fathy_abo_dahis</td>\n",
       "      <td>1641992705372560728</td>\n",
       "      <td>0</td>\n",
       "      <td>https://instagram.fprg2-1.fna.fbcdn.net/t51.28...</td>\n",
       "      <td>https://www.instagram.com/p/BbJh6p3g51Y</td>\n",
       "      <td>3470341263</td>\n",
       "      <td>NaN</td>\n",
       "      <td>1</td>\n",
       "      <td>...</td>\n",
       "      <td>2017-11-06 09:33:25</td>\n",
       "      <td>BbJh6p3g51Y</td>\n",
       "      <td>False</td>\n",
       "      <td>24</td>\n",
       "      <td>fathy_abo_dahis</td>\n",
       "      <td>0.032389</td>\n",
       "      <td>0.001350</td>\n",
       "      <td>-0.204240</td>\n",
       "      <td>-0.456359</td>\n",
       "      <td>-0.660599</td>\n",
       "    </tr>\n",
       "    <tr>\n",
       "      <th>2</th>\n",
       "      <td>2</td>\n",
       "      <td>867.0</td>\n",
       "      <td>iamkurdapya</td>\n",
       "      <td>1644299880334917484</td>\n",
       "      <td>0</td>\n",
       "      <td>https://instagram.fprg2-1.fna.fbcdn.net/t51.28...</td>\n",
       "      <td>https://www.instagram.com/p/BbRugd_lH9s</td>\n",
       "      <td>226907530</td>\n",
       "      <td>☝</td>\n",
       "      <td>0</td>\n",
       "      <td>...</td>\n",
       "      <td>2017-11-09 13:57:22</td>\n",
       "      <td>BbRugd_lH9s</td>\n",
       "      <td>False</td>\n",
       "      <td>6</td>\n",
       "      <td>iamkurdapya</td>\n",
       "      <td>0.006920</td>\n",
       "      <td>0.000000</td>\n",
       "      <td>-0.844528</td>\n",
       "      <td>-1.209822</td>\n",
       "      <td>-2.054351</td>\n",
       "    </tr>\n",
       "    <tr>\n",
       "      <th>3</th>\n",
       "      <td>3</td>\n",
       "      <td>5131.0</td>\n",
       "      <td>abhishekraghav015</td>\n",
       "      <td>1637736956104215547</td>\n",
       "      <td>0</td>\n",
       "      <td>https://instagram.fprg2-1.fna.fbcdn.net/t51.28...</td>\n",
       "      <td>https://www.instagram.com/p/Ba6aRWgHwv7</td>\n",
       "      <td>3106737762</td>\n",
       "      <td>#like4like#followforfollow#justinbieber#selena...</td>\n",
       "      <td>9</td>\n",
       "      <td>...</td>\n",
       "      <td>2017-10-31 12:38:00</td>\n",
       "      <td>Ba6aRWgHwv7</td>\n",
       "      <td>False</td>\n",
       "      <td>211</td>\n",
       "      <td>abhishekraghav015</td>\n",
       "      <td>0.041123</td>\n",
       "      <td>0.001754</td>\n",
       "      <td>0.015337</td>\n",
       "      <td>-0.230511</td>\n",
       "      <td>-0.215174</td>\n",
       "    </tr>\n",
       "    <tr>\n",
       "      <th>4</th>\n",
       "      <td>4</td>\n",
       "      <td>5051.0</td>\n",
       "      <td>misstribu</td>\n",
       "      <td>1643430709473145791</td>\n",
       "      <td>0</td>\n",
       "      <td>https://instagram.fprg2-1.fna.fbcdn.net/t51.28...</td>\n",
       "      <td>https://www.instagram.com/p/BbOo4XjHXO_</td>\n",
       "      <td>595372894</td>\n",
       "      <td>#regram @nathalie_dmitrovic #newshop #marseill...</td>\n",
       "      <td>2</td>\n",
       "      <td>...</td>\n",
       "      <td>2017-11-08 09:10:29</td>\n",
       "      <td>BbOo4XjHXO_</td>\n",
       "      <td>False</td>\n",
       "      <td>55</td>\n",
       "      <td>misstribu</td>\n",
       "      <td>0.010889</td>\n",
       "      <td>0.000396</td>\n",
       "      <td>-0.744757</td>\n",
       "      <td>-0.988751</td>\n",
       "      <td>-1.733508</td>\n",
       "    </tr>\n",
       "  </tbody>\n",
       "</table>\n",
       "<p>5 rows × 21 columns</p>\n",
       "</div>"
      ],
      "text/plain": [
       "   Unnamed: 0  followers           username              id_post  video_count  \\\n",
       "0           0     1283.0           or_shmul  1627655237685711385            0   \n",
       "1           1      741.0    fathy_abo_dahis  1641992705372560728            0   \n",
       "2           2      867.0        iamkurdapya  1644299880334917484            0   \n",
       "3           3     5131.0  abhishekraghav015  1637736956104215547            0   \n",
       "4           4     5051.0          misstribu  1643430709473145791            0   \n",
       "\n",
       "                                             url_img  \\\n",
       "0  https://instagram.fprg2-1.fna.fbcdn.net/t51.28...   \n",
       "1  https://instagram.fprg2-1.fna.fbcdn.net/t51.28...   \n",
       "2  https://instagram.fprg2-1.fna.fbcdn.net/t51.28...   \n",
       "3  https://instagram.fprg2-1.fna.fbcdn.net/t51.28...   \n",
       "4  https://instagram.fprg2-1.fna.fbcdn.net/t51.28...   \n",
       "\n",
       "                                 link_post       owner  \\\n",
       "0  https://www.instagram.com/p/BaWl9CjD5IZ    45547257   \n",
       "1  https://www.instagram.com/p/BbJh6p3g51Y  3470341263   \n",
       "2  https://www.instagram.com/p/BbRugd_lH9s   226907530   \n",
       "3  https://www.instagram.com/p/Ba6aRWgHwv7  3106737762   \n",
       "4  https://www.instagram.com/p/BbOo4XjHXO_   595372894   \n",
       "\n",
       "                                             caption  comment_count  \\\n",
       "0                                                  💞              7   \n",
       "1                                                NaN              1   \n",
       "2                                                  ☝              0   \n",
       "3  #like4like#followforfollow#justinbieber#selena...              9   \n",
       "4  #regram @nathalie_dmitrovic #newshop #marseill...              2   \n",
       "\n",
       "      ...             taken_at_time    shortcode is_video  likes_count  \\\n",
       "0     ...       2017-10-17 14:47:26  BaWl9CjD5IZ    False          138   \n",
       "1     ...       2017-11-06 09:33:25  BbJh6p3g51Y    False           24   \n",
       "2     ...       2017-11-09 13:57:22  BbRugd_lH9s    False            6   \n",
       "3     ...       2017-10-31 12:38:00  Ba6aRWgHwv7    False          211   \n",
       "4     ...       2017-11-08 09:10:29  BbOo4XjHXO_    False           55   \n",
       "\n",
       "         User_Handle likes_score  comments_score  zscore_likes  \\\n",
       "0           or_shmul    0.107560        0.005456      1.685628   \n",
       "1    fathy_abo_dahis    0.032389        0.001350     -0.204240   \n",
       "2        iamkurdapya    0.006920        0.000000     -0.844528   \n",
       "3  abhishekraghav015    0.041123        0.001754      0.015337   \n",
       "4          misstribu    0.010889        0.000396     -0.744757   \n",
       "\n",
       "   zscore_comments  final_score  \n",
       "0         1.836331     3.521959  \n",
       "1        -0.456359    -0.660599  \n",
       "2        -1.209822    -2.054351  \n",
       "3        -0.230511    -0.215174  \n",
       "4        -0.988751    -1.733508  \n",
       "\n",
       "[5 rows x 21 columns]"
      ]
     },
     "execution_count": 21,
     "metadata": {},
     "output_type": "execute_result"
    }
   ],
   "source": [
    "df_usernames"
   ]
  },
  {
   "cell_type": "code",
   "execution_count": 22,
   "metadata": {
    "collapsed": true
   },
   "outputs": [],
   "source": [
    "df = train_df.merge(df_usernames,how='left',on='User_Handle')"
   ]
  },
  {
   "cell_type": "code",
   "execution_count": 23,
   "metadata": {
    "collapsed": true
   },
   "outputs": [],
   "source": [
    "# drop extra columns"
   ]
  },
  {
   "cell_type": "code",
   "execution_count": 24,
   "metadata": {},
   "outputs": [
    {
     "data": {
      "text/plain": [
       "Index(['User_Handle', 'URL', 'R_Mean', 'R_STD', 'R_MED', 'G_Mean', 'G_STD',\n",
       "       'G_MED', 'B_Mean', 'B_STD', 'B_MED', 'Canny', 'ORB_X', 'ORB_Y',\n",
       "       'Unnamed: 0', 'followers', 'username', 'id_post', 'video_count',\n",
       "       'url_img', 'link_post', 'owner', 'caption', 'comment_count',\n",
       "       'taken_at_timestamp', 'taken_at_time', 'shortcode', 'is_video',\n",
       "       'likes_count', 'likes_score', 'comments_score', 'zscore_likes',\n",
       "       'zscore_comments', 'final_score'],\n",
       "      dtype='object')"
      ]
     },
     "execution_count": 24,
     "metadata": {},
     "output_type": "execute_result"
    }
   ],
   "source": [
    "df.columns"
   ]
  },
  {
   "cell_type": "code",
   "execution_count": 26,
   "metadata": {
    "collapsed": true
   },
   "outputs": [],
   "source": [
    "remove = ['User_Handle', 'URL', 'Unnamed: 0', 'username',  'followers', 'username', 'id_post', 'video_count',\n",
    "       'url_img', 'link_post', 'owner', 'caption', 'comment_count',\n",
    "       'taken_at_timestamp', 'taken_at_time', 'shortcode', 'is_video',\n",
    "       'likes_count', 'likes_score', 'comments_score',\n",
    "       'zscore_likes', 'zscore_comments',]\n",
    "df.drop(remove, axis = 1, inplace = True)"
   ]
  },
  {
   "cell_type": "code",
   "execution_count": 27,
   "metadata": {},
   "outputs": [
    {
     "name": "stdout",
     "output_type": "stream",
     "text": [
      "R_Mean         0\n",
      "R_STD          0\n",
      "R_MED          0\n",
      "G_Mean         0\n",
      "G_STD          0\n",
      "G_MED          0\n",
      "B_Mean         0\n",
      "B_STD          0\n",
      "B_MED          0\n",
      "Canny          0\n",
      "ORB_X          0\n",
      "ORB_Y          0\n",
      "final_score    0\n",
      "dtype: int64\n"
     ]
    }
   ],
   "source": [
    "## any null?\n",
    "print(df.isnull().sum(axis=0))"
   ]
  },
  {
   "cell_type": "markdown",
   "metadata": {},
   "source": [
    "# build a model"
   ]
  },
  {
   "cell_type": "code",
   "execution_count": 28,
   "metadata": {
    "collapsed": true
   },
   "outputs": [],
   "source": [
    "rands = np.random.seed(9001)\n",
    "msk = np.random.rand(len(df)) < 0.25\n",
    "data_train = df[~msk]\n",
    "data_test = df[msk]"
   ]
  },
  {
   "cell_type": "code",
   "execution_count": 29,
   "metadata": {
    "collapsed": true
   },
   "outputs": [],
   "source": [
    "y_train = data_train.final_score\n",
    "y_test = data_test.final_score\n",
    "\n",
    "predictors = ['R_Mean', 'R_STD', 'R_MED', 'G_Mean', 'G_STD', 'G_MED', 'B_Mean',\n",
    "       'B_STD', 'B_MED', 'Canny', 'ORB_X', 'ORB_Y',]\n",
    "X_train = data_train[predictors]\n",
    "X_test = data_test[predictors]"
   ]
  },
  {
   "cell_type": "code",
   "execution_count": 31,
   "metadata": {},
   "outputs": [
    {
     "data": {
      "text/plain": [
       "(220, 220)"
      ]
     },
     "execution_count": 31,
     "metadata": {},
     "output_type": "execute_result"
    }
   ],
   "source": [
    "len(y_train), len(X_train)"
   ]
  },
  {
   "cell_type": "code",
   "execution_count": 32,
   "metadata": {},
   "outputs": [
    {
     "name": "stderr",
     "output_type": "stream",
     "text": [
      "/anaconda/envs/python3/lib/python3.6/site-packages/ipykernel_launcher.py:3: SettingWithCopyWarning: \n",
      "A value is trying to be set on a copy of a slice from a DataFrame.\n",
      "Try using .loc[row_indexer,col_indexer] = value instead\n",
      "\n",
      "See the caveats in the documentation: http://pandas.pydata.org/pandas-docs/stable/indexing.html#indexing-view-versus-copy\n",
      "  This is separate from the ipykernel package so we can avoid doing imports until\n"
     ]
    }
   ],
   "source": [
    "for i, v in enumerate(X_train.columns): \n",
    "    column = v\n",
    "    X_train[str(column)] = X_train[str(column)].astype(float)\n",
    "    \n"
   ]
  },
  {
   "cell_type": "code",
   "execution_count": 33,
   "metadata": {
    "collapsed": true
   },
   "outputs": [],
   "source": [
    "y_train = y_train.astype(float)"
   ]
  },
  {
   "cell_type": "code",
   "execution_count": 34,
   "metadata": {
    "collapsed": true
   },
   "outputs": [],
   "source": [
    "\n",
    "\n",
    "X_train_constant= sm.add_constant(X_train)\n",
    "X_test_constant= sm.add_constant(X_test)\n",
    "\n",
    "#MODEL = sm.OLS(y_train.astype(float), X_train_constant.astype(float)).fit()\n",
    "#results = model_train.fit()\n",
    "\n",
    "model = sm.OLS(np.asarray((y_train)), np.asarray((X_train))).fit()\n",
    "predictions = model.predict(X_train)\n",
    "\n"
   ]
  },
  {
   "cell_type": "code",
   "execution_count": 35,
   "metadata": {},
   "outputs": [
    {
     "data": {
      "text/plain": [
       "(0.1439929957948708, -0.04782148068336611)"
      ]
     },
     "execution_count": 35,
     "metadata": {},
     "output_type": "execute_result"
    }
   ],
   "source": [
    "from sklearn import linear_model\n",
    "lm = linear_model.LinearRegression() \n",
    "model = lm.fit(X_train,y_train) \n",
    "predictions = lm.predict(X_train)\n",
    "\n",
    "model.score(X_train,y_train), model.score(X_test,y_test)"
   ]
  },
  {
   "cell_type": "code",
   "execution_count": 36,
   "metadata": {},
   "outputs": [
    {
     "name": "stdout",
     "output_type": "stream",
     "text": [
      "RidgeCV(alphas=[1e-05, 0.0001, 0.001, 0.01, 0.1, 1, 10, 100, 1000], cv=10,\n",
      "    fit_intercept=True, gcv_mode=None, normalize=False, scoring=None,\n",
      "    store_cv_values=False)\n"
     ]
    },
    {
     "data": {
      "text/plain": [
       "(0.1414840209879603, 0.0010873433083060657)"
      ]
     },
     "execution_count": 36,
     "metadata": {},
     "output_type": "execute_result"
    }
   ],
   "source": [
    "alpha= [10**-5, 10**-4, 10**-3, 10**-2, 10**-1, 10**0, 10**1, 10**2,10**3, ]\n",
    "ridge = RidgeCV(alphas=alpha, cv=10, fit_intercept=True)\n",
    "ridge.fit(X_train, y_train)\n",
    "print(ridge.fit(X_train, y_train))\n",
    "ridge.score(X_train, y_train), ridge.score(X_test, y_test)\n"
   ]
  },
  {
   "cell_type": "code",
   "execution_count": 37,
   "metadata": {},
   "outputs": [
    {
     "data": {
      "text/plain": [
       "(0.1414840209879603, 0.0010873433083060657)"
      ]
     },
     "execution_count": 37,
     "metadata": {},
     "output_type": "execute_result"
    }
   ],
   "source": [
    "ridge.score(X_train, y_train), ridge.score(X_test, y_test)"
   ]
  },
  {
   "cell_type": "code",
   "execution_count": 38,
   "metadata": {},
   "outputs": [
    {
     "name": "stdout",
     "output_type": "stream",
     "text": [
      "LassoCV(alphas=[1e-05, 0.0001, 0.001, 0.01, 0.1, 1, 10, 100, 1000],\n",
      "    copy_X=True, cv=10, eps=0.001, fit_intercept=True, max_iter=10000,\n",
      "    n_alphas=100, n_jobs=1, normalize=False, positive=False,\n",
      "    precompute='auto', random_state=None, selection='cyclic', tol=0.0001,\n",
      "    verbose=False)\n"
     ]
    }
   ],
   "source": [
    "\n",
    "\n",
    "##\n",
    "lasso = LassoCV(alphas=alpha, cv=10, max_iter=10000, fit_intercept=True)\n",
    "print(lasso.fit(X_train, y_train))\n"
   ]
  },
  {
   "cell_type": "code",
   "execution_count": 39,
   "metadata": {},
   "outputs": [
    {
     "data": {
      "text/plain": [
       "(0.0, -0.0010378470514764704)"
      ]
     },
     "execution_count": 39,
     "metadata": {},
     "output_type": "execute_result"
    }
   ],
   "source": [
    "lasso.score(X_train, y_train), lasso.score(X_test, y_test)"
   ]
  },
  {
   "cell_type": "code",
   "execution_count": 41,
   "metadata": {},
   "outputs": [
    {
     "name": "stdout",
     "output_type": "stream",
     "text": [
      "1 train :  0.1439929957948709\n",
      "1 test :  -0.04782148068336656\n",
      "2 train :  -0.11880588420509652\n",
      "2 test :  -8.299663933745897\n",
      "3 train :  1.0\n",
      "3 test :  -31.64246490528741\n",
      "4 train :  1.0\n",
      "4 test :  -15.206364321824921\n",
      "5 train :  1.0\n",
      "5 test :  -18.637328030884962\n"
     ]
    }
   ],
   "source": [
    "from sklearn.pipeline import make_pipeline\n",
    "from sklearn.linear_model import LinearRegression\n",
    "\n",
    "for i,v in enumerate([1,2,3,4,5]): \n",
    "    \n",
    "    a = PolynomialFeatures(v)\n",
    "    modelo2 = make_pipeline(a, LinearRegression())\n",
    "    model_for_list2 = modelo2.fit(X_train, y_train)\n",
    "    r2 = r2_score(y_train, model_for_list2.predict(X_train))\n",
    "    r2_test = r2_score(y_test, model_for_list2.predict(X_test))\n",
    "    print(v, \"train : \", r2)\n",
    "    print(v, \"test : \", r2_test)\n"
   ]
  },
  {
   "cell_type": "code",
   "execution_count": 47,
   "metadata": {},
   "outputs": [
    {
     "name": "stdout",
     "output_type": "stream",
     "text": [
      "1 train :  0.0\n",
      "1 test :  -0.0010378470514764704\n"
     ]
    },
    {
     "name": "stderr",
     "output_type": "stream",
     "text": [
      "/anaconda/envs/python3/lib/python3.6/site-packages/sklearn/linear_model/coordinate_descent.py:491: ConvergenceWarning: Objective did not converge. You might want to increase the number of iterations. Fitting data with very small alpha may cause precision problems.\n",
      "  ConvergenceWarning)\n"
     ]
    },
    {
     "name": "stdout",
     "output_type": "stream",
     "text": [
      "2 train :  0.0\n",
      "2 test :  -0.0010378470514764704\n"
     ]
    },
    {
     "name": "stderr",
     "output_type": "stream",
     "text": [
      "/anaconda/envs/python3/lib/python3.6/site-packages/sklearn/linear_model/coordinate_descent.py:491: ConvergenceWarning: Objective did not converge. You might want to increase the number of iterations. Fitting data with very small alpha may cause precision problems.\n",
      "  ConvergenceWarning)\n"
     ]
    },
    {
     "name": "stdout",
     "output_type": "stream",
     "text": [
      "3 train :  0.0\n",
      "3 test :  -0.0010378470514764704\n"
     ]
    },
    {
     "name": "stderr",
     "output_type": "stream",
     "text": [
      "/anaconda/envs/python3/lib/python3.6/site-packages/sklearn/linear_model/coordinate_descent.py:491: ConvergenceWarning: Objective did not converge. You might want to increase the number of iterations. Fitting data with very small alpha may cause precision problems.\n",
      "  ConvergenceWarning)\n"
     ]
    },
    {
     "name": "stdout",
     "output_type": "stream",
     "text": [
      "4 train :  0.0\n",
      "4 test :  -0.0010378470514764704\n"
     ]
    },
    {
     "name": "stderr",
     "output_type": "stream",
     "text": [
      "/anaconda/envs/python3/lib/python3.6/site-packages/sklearn/linear_model/coordinate_descent.py:491: ConvergenceWarning: Objective did not converge. You might want to increase the number of iterations. Fitting data with very small alpha may cause precision problems.\n",
      "  ConvergenceWarning)\n"
     ]
    },
    {
     "name": "stdout",
     "output_type": "stream",
     "text": [
      "5 train :  0.0\n",
      "5 test :  -0.0010378470514764704\n"
     ]
    }
   ],
   "source": [
    "for i,v in enumerate([1,2,3,4,5]):     \n",
    "    a = PolynomialFeatures(v)\n",
    "    modelo2 = make_pipeline(a, LassoCV())\n",
    "    model_for_list2 = modelo2.fit(X_train, y_train)\n",
    "    r2 = r2_score(y_train, model_for_list2.predict(X_train))\n",
    "    r2_test = r2_score(y_test, model_for_list2.predict(X_test))\n",
    "    print(v, \"train : \", r2)\n",
    "    print(v, \"test : \", r2_test)\n"
   ]
  },
  {
   "cell_type": "code",
   "execution_count": 48,
   "metadata": {},
   "outputs": [
    {
     "name": "stdout",
     "output_type": "stream",
     "text": [
      "1 train :  0.14399236121864867\n",
      "1 test :  -0.04694548071255933\n",
      "2 train :  0.6605831449633021\n",
      "2 test :  -1.375255658576748\n",
      "3 train :  0.9999999999999707\n",
      "3 test :  -32.228028702078106\n",
      "4 train :  0.9999999999999981\n",
      "4 test :  -15.111097773767387\n",
      "5 train :  0.9999999999999999\n",
      "5 test :  -18.726973353675746\n"
     ]
    }
   ],
   "source": [
    "for i,v in enumerate([1,2,3,4,5]):     \n",
    "    a = PolynomialFeatures(v)\n",
    "    modelo2 = make_pipeline(a, RidgeCV())\n",
    "    model_for_list2 = modelo2.fit(X_train, y_train)\n",
    "    r2 = r2_score(y_train, model_for_list2.predict(X_train))\n",
    "    r2_test = r2_score(y_test, model_for_list2.predict(X_test))\n",
    "    print(v, \"train : \", r2)\n",
    "    print(v, \"test : \", r2_test)\n"
   ]
  },
  {
   "cell_type": "code",
   "execution_count": null,
   "metadata": {
    "collapsed": true
   },
   "outputs": [],
   "source": []
  }
 ],
 "metadata": {
  "kernelspec": {
   "display_name": "Python 3",
   "language": "python",
   "name": "python3"
  },
  "language_info": {
   "codemirror_mode": {
    "name": "ipython",
    "version": 3
   },
   "file_extension": ".py",
   "mimetype": "text/x-python",
   "name": "python",
   "nbconvert_exporter": "python",
   "pygments_lexer": "ipython3",
   "version": "3.6.4"
  }
 },
 "nbformat": 4,
 "nbformat_minor": 2
}
