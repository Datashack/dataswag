{
 "cells": [
  {
   "cell_type": "code",
   "execution_count": 3,
   "metadata": {},
   "outputs": [
    {
     "name": "stdout",
     "output_type": "stream",
     "text": [
      "Overwriting RecSystemKM.py\n"
     ]
    }
   ],
   "source": []
  },
  {
   "cell_type": "code",
   "execution_count": 1,
   "metadata": {},
   "outputs": [
    {
     "name": "stderr",
     "output_type": "stream",
     "text": [
      "/anaconda/envs/python3/lib/python3.6/site-packages/skimage/viewer/__init__.py:6: UserWarning: Viewer requires Qt\n",
      "  warn('Viewer requires Qt')\n"
     ]
    }
   ],
   "source": [
    "import cv2 ## issues \n",
    "import skimage\n",
    "from skimage import io\n",
    "import pickle\n",
    "#define File-Path to Users Folder\n",
    "#import scikit-image\n",
    "import skimage\n",
    "import os\n",
    "import pandas as pd\n",
    "import numpy as np\n",
    "from IPython.display import display\n",
    "import matplotlib\n",
    "import matplotlib.pyplot as plt\n",
    "from skimage import data\n",
    "from skimage import io\n",
    "from sklearn.mixture import GaussianMixture\n",
    "import glob\n",
    "from skimage.viewer import ImageViewer\n",
    "from sklearn.cluster import KMeans\n",
    "from sklearn.decomposition import PCA\n",
    "%matplotlib inline\n",
    "\n",
    "#img = io.imread('~/Users/kimia/Desktop/Capstone/imgcluster/Cluster4/11117159_1591691794419786_1496739027_n.jpg')"
   ]
  },
  {
   "cell_type": "markdown",
   "metadata": {},
   "source": [
    "# Upload your images, run a pickled model on them\n",
    "\n",
    "--> Bug in code: png doesnt work! only jpg? Shall we change that?"
   ]
  },
  {
   "cell_type": "code",
   "execution_count": 10,
   "metadata": {},
   "outputs": [
    {
     "name": "stdout",
     "output_type": "stream",
     "text": [
      "3\n",
      "/Users/kimia/Desktop/Capstone/imgcluster/Cluster4/1.jpg\n",
      "/Users/kimia/Desktop/Capstone/imgcluster/Cluster4/2.jpg\n",
      "/Users/kimia/Desktop/Capstone/imgcluster/Cluster4/3.jpg\n",
      "Number of images loaded: 3\n"
     ]
    }
   ],
   "source": [
    "# upload images\n",
    "from RecSystemKM import RecSystemKM_test\n",
    "\n",
    "train_path = '/Users/kimia/Desktop/Capstone/imgcluster/Cluster4/'\n",
    "save_path = '/Users/kimia/Desktop/Capstone/imgcluster/Cluster4/'\n",
    "dest_img =  '/Users/kimia/Desktop/Capstone/imgcluster/Cluster4/'\n",
    "userlist= [1,2,3]\n",
    "#user list will be the picture number! \n",
    "\n",
    "#Helper Function to get images from train path\n",
    "c = RecSystemKM_test(train_path, save_path )\n",
    "c.get_train_images(train_path, user_list = ['1','2','3'])\n",
    "#Create Object\n",
    "\n"
   ]
  },
  {
   "cell_type": "code",
   "execution_count": 12,
   "metadata": {
    "collapsed": true
   },
   "outputs": [],
   "source": [
    "# get the model\n",
    "from sklearn.externals import joblib\n",
    "\n",
    "model = joblib.load('/Users/kimia/Desktop/Capstone/hotel/Text + Image Analysis/Final/model_images.plk')\n"
   ]
  },
  {
   "cell_type": "markdown",
   "metadata": {},
   "source": [
    "# what is Karan's new convert to features model???????????????"
   ]
  },
  {
   "cell_type": "code",
   "execution_count": 11,
   "metadata": {
    "collapsed": true
   },
   "outputs": [],
   "source": [
    "### what is Karan's new convert to features model???????????????\n",
    "\n",
    "train_df = c.convert_to_features(columns = [\"User_Handle\",\"URL\",\"R_Mean\", \"R_STD\", \"R_MED\", \"G_Mean\", \"G_STD\", \n",
    "                \"G_MED\", \"B_Mean\", \"B_STD\", \"B_MED\", \"Canny\", \"ORB_X\", \"ORB_Y\"])\n"
   ]
  },
  {
   "cell_type": "code",
   "execution_count": null,
   "metadata": {
    "collapsed": true
   },
   "outputs": [],
   "source": [
    "#Define target path and create test object\n",
    "target_path = \"/Users/kmotwani/Desktop/Me/Education/Courses/Capstone Project/Final Target/\"\n",
    "caption_flag = True\n",
    "\n",
    "#Create object\n",
    "obj_pred = Predicting.Main(target_path, caption_flag)"
   ]
  },
  {
   "cell_type": "code",
   "execution_count": 319,
   "metadata": {},
   "outputs": [
    {
     "data": {
      "text/html": [
       "<div>\n",
       "<style scoped>\n",
       "    .dataframe tbody tr th:only-of-type {\n",
       "        vertical-align: middle;\n",
       "    }\n",
       "\n",
       "    .dataframe tbody tr th {\n",
       "        vertical-align: top;\n",
       "    }\n",
       "\n",
       "    .dataframe thead th {\n",
       "        text-align: right;\n",
       "    }\n",
       "</style>\n",
       "<table border=\"1\" class=\"dataframe\">\n",
       "  <thead>\n",
       "    <tr style=\"text-align: right;\">\n",
       "      <th></th>\n",
       "      <th>User_Handle</th>\n",
       "      <th>URL</th>\n",
       "      <th>R_Mean</th>\n",
       "      <th>R_STD</th>\n",
       "      <th>R_MED</th>\n",
       "      <th>G_Mean</th>\n",
       "      <th>G_STD</th>\n",
       "      <th>G_MED</th>\n",
       "      <th>B_Mean</th>\n",
       "      <th>B_STD</th>\n",
       "      <th>B_MED</th>\n",
       "      <th>Canny</th>\n",
       "      <th>ORB_X</th>\n",
       "      <th>ORB_Y</th>\n",
       "    </tr>\n",
       "  </thead>\n",
       "  <tbody>\n",
       "    <tr>\n",
       "      <th>0</th>\n",
       "      <td>1</td>\n",
       "      <td>1</td>\n",
       "      <td>135.0129197103678</td>\n",
       "      <td>87.63115693479644</td>\n",
       "      <td>153.0</td>\n",
       "      <td>115.81277500106796</td>\n",
       "      <td>85.89295297982054</td>\n",
       "      <td>109.0</td>\n",
       "      <td>58.67071158528771</td>\n",
       "      <td>67.8223132968387</td>\n",
       "      <td>33.0</td>\n",
       "      <td>22.53199891067538</td>\n",
       "      <td>146.9227747599284</td>\n",
       "      <td>130.7175958633423</td>\n",
       "    </tr>\n",
       "    <tr>\n",
       "      <th>1</th>\n",
       "      <td>2</td>\n",
       "      <td>2</td>\n",
       "      <td>182.62494660173437</td>\n",
       "      <td>71.07541423145153</td>\n",
       "      <td>214.0</td>\n",
       "      <td>114.09603945063864</td>\n",
       "      <td>61.1908801925312</td>\n",
       "      <td>116.0</td>\n",
       "      <td>59.164076850783886</td>\n",
       "      <td>49.102368231584244</td>\n",
       "      <td>42.0</td>\n",
       "      <td>15.82652505446623</td>\n",
       "      <td>158.0485753377279</td>\n",
       "      <td>124.39350624084474</td>\n",
       "    </tr>\n",
       "    <tr>\n",
       "      <th>2</th>\n",
       "      <td>3</td>\n",
       "      <td>3</td>\n",
       "      <td>224.64943771626298</td>\n",
       "      <td>37.1131291445464</td>\n",
       "      <td>242.0</td>\n",
       "      <td>177.51967726088256</td>\n",
       "      <td>68.5927534247089</td>\n",
       "      <td>184.0</td>\n",
       "      <td>103.62004998077663</td>\n",
       "      <td>101.47531061170602</td>\n",
       "      <td>66.0</td>\n",
       "      <td>22.367919389978212</td>\n",
       "      <td>127.65924498240155</td>\n",
       "      <td>189.51394405364988</td>\n",
       "    </tr>\n",
       "  </tbody>\n",
       "</table>\n",
       "</div>"
      ],
      "text/plain": [
       "  User_Handle URL              R_Mean              R_STD  R_MED  \\\n",
       "0           1   1   135.0129197103678  87.63115693479644  153.0   \n",
       "1           2   2  182.62494660173437  71.07541423145153  214.0   \n",
       "2           3   3  224.64943771626298   37.1131291445464  242.0   \n",
       "\n",
       "               G_Mean              G_STD  G_MED              B_Mean  \\\n",
       "0  115.81277500106796  85.89295297982054  109.0   58.67071158528771   \n",
       "1  114.09603945063864   61.1908801925312  116.0  59.164076850783886   \n",
       "2  177.51967726088256   68.5927534247089  184.0  103.62004998077663   \n",
       "\n",
       "                B_STD B_MED               Canny               ORB_X  \\\n",
       "0    67.8223132968387  33.0   22.53199891067538   146.9227747599284   \n",
       "1  49.102368231584244  42.0   15.82652505446623   158.0485753377279   \n",
       "2  101.47531061170602  66.0  22.367919389978212  127.65924498240155   \n",
       "\n",
       "                ORB_Y  \n",
       "0   130.7175958633423  \n",
       "1  124.39350624084474  \n",
       "2  189.51394405364988  "
      ]
     },
     "metadata": {},
     "output_type": "display_data"
    }
   ],
   "source": [
    "#Get train dataframe\n",
    "train_df_cols = [\"User_Handle\",\"URL\",\"R_Mean\", \"R_STD\", \"R_MED\", \"G_Mean\", \"G_STD\", \n",
    "                \"G_MED\", \"B_Mean\", \"B_STD\", \"B_MED\", \"Canny\", \"ORB_X\", \"ORB_Y\"]\n",
    "\n",
    "df = c.convert_to_features(train_df_cols)\n",
    "display(df.head())"
   ]
  },
  {
   "cell_type": "markdown",
   "metadata": {
    "collapsed": true
   },
   "source": [
    "# use the model Karan made for the users"
   ]
  },
  {
   "cell_type": "code",
   "execution_count": 320,
   "metadata": {
    "collapsed": true
   },
   "outputs": [],
   "source": [
    "model_user = joblib.load('/Users/kimia/Desktop/Capstone/hotel/Text + Image Analysis/Image Analysis/model_users.plk')\n",
    "\n"
   ]
  },
  {
   "cell_type": "markdown",
   "metadata": {},
   "source": [
    "# Get the distributions for the pictures uploaded"
   ]
  },
  {
   "cell_type": "code",
   "execution_count": 16,
   "metadata": {},
   "outputs": [
    {
     "ename": "ModuleNotFoundError",
     "evalue": "No module named 'keras'",
     "output_type": "error",
     "traceback": [
      "\u001b[0;31m---------------------------------------------------------------------------\u001b[0m",
      "\u001b[0;31mModuleNotFoundError\u001b[0m                       Traceback (most recent call last)",
      "\u001b[0;32m<ipython-input-16-f927c69b32a7>\u001b[0m in \u001b[0;36m<module>\u001b[0;34m()\u001b[0m\n\u001b[1;32m      1\u001b[0m \u001b[0;31m#from Predicting import Main\u001b[0m\u001b[0;34m\u001b[0m\u001b[0;34m\u001b[0m\u001b[0m\n\u001b[0;32m----> 2\u001b[0;31m \u001b[0;32mimport\u001b[0m \u001b[0mPredicting\u001b[0m\u001b[0;34m\u001b[0m\u001b[0m\n\u001b[0m",
      "\u001b[0;32m~/Desktop/Capstone/hotel/Rec_system/Predicting.py\u001b[0m in \u001b[0;36m<module>\u001b[0;34m()\u001b[0m\n\u001b[1;32m     17\u001b[0m \u001b[0;32mfrom\u001b[0m \u001b[0mscipy\u001b[0m \u001b[0;32mimport\u001b[0m \u001b[0mlinalg\u001b[0m\u001b[0;34m\u001b[0m\u001b[0m\n\u001b[1;32m     18\u001b[0m \u001b[0;32mfrom\u001b[0m \u001b[0mscipy\u001b[0m\u001b[0;34m.\u001b[0m\u001b[0mspecial\u001b[0m \u001b[0;32mimport\u001b[0m \u001b[0mlogsumexp\u001b[0m\u001b[0;34m\u001b[0m\u001b[0m\n\u001b[0;32m---> 19\u001b[0;31m \u001b[0;32mfrom\u001b[0m \u001b[0mkeras\u001b[0m\u001b[0;34m.\u001b[0m\u001b[0mpreprocessing\u001b[0m \u001b[0;32mimport\u001b[0m \u001b[0mimage\u001b[0m\u001b[0;34m\u001b[0m\u001b[0m\n\u001b[0m\u001b[1;32m     20\u001b[0m \u001b[0;34m\u001b[0m\u001b[0m\n\u001b[1;32m     21\u001b[0m \u001b[0;32mclass\u001b[0m \u001b[0mMain\u001b[0m\u001b[0;34m:\u001b[0m\u001b[0;34m\u001b[0m\u001b[0m\n",
      "\u001b[0;31mModuleNotFoundError\u001b[0m: No module named 'keras'"
     ]
    }
   ],
   "source": [
    "#from Predicting import Main\n",
    "import Predicting"
   ]
  },
  {
   "cell_type": "code",
   "execution_count": 321,
   "metadata": {},
   "outputs": [
    {
     "data": {
      "text/html": [
       "<div>\n",
       "<style scoped>\n",
       "    .dataframe tbody tr th:only-of-type {\n",
       "        vertical-align: middle;\n",
       "    }\n",
       "\n",
       "    .dataframe tbody tr th {\n",
       "        vertical-align: top;\n",
       "    }\n",
       "\n",
       "    .dataframe thead th {\n",
       "        text-align: right;\n",
       "    }\n",
       "</style>\n",
       "<table border=\"1\" class=\"dataframe\">\n",
       "  <thead>\n",
       "    <tr style=\"text-align: right;\">\n",
       "      <th></th>\n",
       "      <th>User_Handle</th>\n",
       "      <th>URL</th>\n",
       "      <th>R_Mean</th>\n",
       "      <th>R_STD</th>\n",
       "      <th>R_MED</th>\n",
       "      <th>G_Mean</th>\n",
       "      <th>G_STD</th>\n",
       "      <th>G_MED</th>\n",
       "      <th>B_Mean</th>\n",
       "      <th>B_STD</th>\n",
       "      <th>B_MED</th>\n",
       "      <th>Canny</th>\n",
       "      <th>ORB_X</th>\n",
       "      <th>ORB_Y</th>\n",
       "      <th>Prob  (0)night</th>\n",
       "      <th>Prob  (1)life</th>\n",
       "      <th>Prob  (2)kimia</th>\n",
       "      <th>Prob  (3)twin</th>\n",
       "      <th>Prob  (4)food</th>\n",
       "      <th>Prediction</th>\n",
       "    </tr>\n",
       "  </thead>\n",
       "  <tbody>\n",
       "    <tr>\n",
       "      <th>0</th>\n",
       "      <td>1</td>\n",
       "      <td>1</td>\n",
       "      <td>135.0129197103678</td>\n",
       "      <td>87.63115693479644</td>\n",
       "      <td>153.0</td>\n",
       "      <td>115.81277500106796</td>\n",
       "      <td>85.89295297982054</td>\n",
       "      <td>109.0</td>\n",
       "      <td>58.67071158528771</td>\n",
       "      <td>67.8223132968387</td>\n",
       "      <td>33.0</td>\n",
       "      <td>22.53199891067538</td>\n",
       "      <td>146.9227747599284</td>\n",
       "      <td>130.7175958633423</td>\n",
       "      <td>5.078126e-18</td>\n",
       "      <td>1.441767e-08</td>\n",
       "      <td>3.988279e-01</td>\n",
       "      <td>2.107406e-20</td>\n",
       "      <td>0.601172</td>\n",
       "      <td>4</td>\n",
       "    </tr>\n",
       "    <tr>\n",
       "      <th>1</th>\n",
       "      <td>2</td>\n",
       "      <td>2</td>\n",
       "      <td>182.62494660173437</td>\n",
       "      <td>71.07541423145153</td>\n",
       "      <td>214.0</td>\n",
       "      <td>114.09603945063864</td>\n",
       "      <td>61.1908801925312</td>\n",
       "      <td>116.0</td>\n",
       "      <td>59.164076850783886</td>\n",
       "      <td>49.102368231584244</td>\n",
       "      <td>42.0</td>\n",
       "      <td>15.82652505446623</td>\n",
       "      <td>158.0485753377279</td>\n",
       "      <td>124.39350624084474</td>\n",
       "      <td>3.710005e-15</td>\n",
       "      <td>4.197616e-06</td>\n",
       "      <td>8.920294e-01</td>\n",
       "      <td>1.499184e-14</td>\n",
       "      <td>0.107966</td>\n",
       "      <td>2</td>\n",
       "    </tr>\n",
       "    <tr>\n",
       "      <th>2</th>\n",
       "      <td>3</td>\n",
       "      <td>3</td>\n",
       "      <td>224.64943771626298</td>\n",
       "      <td>37.1131291445464</td>\n",
       "      <td>242.0</td>\n",
       "      <td>177.51967726088256</td>\n",
       "      <td>68.5927534247089</td>\n",
       "      <td>184.0</td>\n",
       "      <td>103.62004998077663</td>\n",
       "      <td>101.47531061170602</td>\n",
       "      <td>66.0</td>\n",
       "      <td>22.367919389978212</td>\n",
       "      <td>127.65924498240155</td>\n",
       "      <td>189.51394405364988</td>\n",
       "      <td>4.270073e-62</td>\n",
       "      <td>4.177991e-04</td>\n",
       "      <td>9.591860e-07</td>\n",
       "      <td>1.620037e-87</td>\n",
       "      <td>0.999581</td>\n",
       "      <td>4</td>\n",
       "    </tr>\n",
       "  </tbody>\n",
       "</table>\n",
       "</div>"
      ],
      "text/plain": [
       "  User_Handle URL              R_Mean              R_STD  R_MED  \\\n",
       "0           1   1   135.0129197103678  87.63115693479644  153.0   \n",
       "1           2   2  182.62494660173437  71.07541423145153  214.0   \n",
       "2           3   3  224.64943771626298   37.1131291445464  242.0   \n",
       "\n",
       "               G_Mean              G_STD  G_MED              B_Mean  \\\n",
       "0  115.81277500106796  85.89295297982054  109.0   58.67071158528771   \n",
       "1  114.09603945063864   61.1908801925312  116.0  59.164076850783886   \n",
       "2  177.51967726088256   68.5927534247089  184.0  103.62004998077663   \n",
       "\n",
       "                B_STD B_MED               Canny               ORB_X  \\\n",
       "0    67.8223132968387  33.0   22.53199891067538   146.9227747599284   \n",
       "1  49.102368231584244  42.0   15.82652505446623   158.0485753377279   \n",
       "2  101.47531061170602  66.0  22.367919389978212  127.65924498240155   \n",
       "\n",
       "                ORB_Y  Prob  (0)night  Prob  (1)life  Prob  (2)kimia  \\\n",
       "0   130.7175958633423    5.078126e-18   1.441767e-08    3.988279e-01   \n",
       "1  124.39350624084474    3.710005e-15   4.197616e-06    8.920294e-01   \n",
       "2  189.51394405364988    4.270073e-62   4.177991e-04    9.591860e-07   \n",
       "\n",
       "   Prob  (3)twin  Prob  (4)food  Prediction  \n",
       "0   2.107406e-20       0.601172           4  \n",
       "1   1.499184e-14       0.107966           2  \n",
       "2   1.620037e-87       0.999581           4  "
      ]
     },
     "execution_count": 321,
     "metadata": {},
     "output_type": "execute_result"
    }
   ],
   "source": [
    "c.prediction(df, model, 5, ['night','life','kimia','twin','food'], ['User_Handle', 'URL'])"
   ]
  },
  {
   "cell_type": "markdown",
   "metadata": {},
   "source": [
    "# Get ranking...get score"
   ]
  },
  {
   "cell_type": "code",
   "execution_count": 322,
   "metadata": {},
   "outputs": [
    {
     "data": {
      "text/plain": [
       "[1, 0, 2]"
      ]
     },
     "execution_count": 322,
     "metadata": {},
     "output_type": "execute_result"
    }
   ],
   "source": [
    "c.ranking(df, 'kimia')"
   ]
  },
  {
   "cell_type": "code",
   "execution_count": 323,
   "metadata": {},
   "outputs": [
    {
     "data": {
      "text/html": [
       "<div>\n",
       "<style scoped>\n",
       "    .dataframe tbody tr th:only-of-type {\n",
       "        vertical-align: middle;\n",
       "    }\n",
       "\n",
       "    .dataframe tbody tr th {\n",
       "        vertical-align: top;\n",
       "    }\n",
       "\n",
       "    .dataframe thead th {\n",
       "        text-align: right;\n",
       "    }\n",
       "</style>\n",
       "<table border=\"1\" class=\"dataframe\">\n",
       "  <thead>\n",
       "    <tr style=\"text-align: right;\">\n",
       "      <th></th>\n",
       "      <th>index</th>\n",
       "      <th>KL_score</th>\n",
       "      <th>community</th>\n",
       "      <th>picture_uploaded</th>\n",
       "    </tr>\n",
       "  </thead>\n",
       "  <tbody>\n",
       "    <tr>\n",
       "      <th>0</th>\n",
       "      <td>7</td>\n",
       "      <td>13.107254</td>\n",
       "      <td>2</td>\n",
       "      <td>1</td>\n",
       "    </tr>\n",
       "    <tr>\n",
       "      <th>1</th>\n",
       "      <td>2</td>\n",
       "      <td>17.520507</td>\n",
       "      <td>2</td>\n",
       "      <td>0</td>\n",
       "    </tr>\n",
       "    <tr>\n",
       "      <th>2</th>\n",
       "      <td>12</td>\n",
       "      <td>54.430906</td>\n",
       "      <td>2</td>\n",
       "      <td>2</td>\n",
       "    </tr>\n",
       "  </tbody>\n",
       "</table>\n",
       "</div>"
      ],
      "text/plain": [
       "   index   KL_score  community  picture_uploaded\n",
       "0      7  13.107254          2                 1\n",
       "1      2  17.520507          2                 0\n",
       "2     12  54.430906          2                 2"
      ]
     },
     "execution_count": 323,
     "metadata": {},
     "output_type": "execute_result"
    }
   ],
   "source": [
    "c.getscore(df, 'kimia')"
   ]
  },
  {
   "cell_type": "markdown",
   "metadata": {},
   "source": [
    "## Moreno, Franc--- do you want this score to be a percent? I think we shouldn't..."
   ]
  },
  {
   "cell_type": "code",
   "execution_count": null,
   "metadata": {
    "collapsed": true
   },
   "outputs": [],
   "source": []
  },
  {
   "cell_type": "code",
   "execution_count": null,
   "metadata": {
    "collapsed": true
   },
   "outputs": [],
   "source": []
  },
  {
   "cell_type": "code",
   "execution_count": null,
   "metadata": {
    "collapsed": true
   },
   "outputs": [],
   "source": []
  },
  {
   "cell_type": "code",
   "execution_count": null,
   "metadata": {
    "collapsed": true
   },
   "outputs": [],
   "source": []
  },
  {
   "cell_type": "code",
   "execution_count": null,
   "metadata": {
    "collapsed": true
   },
   "outputs": [],
   "source": []
  },
  {
   "cell_type": "code",
   "execution_count": null,
   "metadata": {
    "collapsed": true
   },
   "outputs": [],
   "source": []
  },
  {
   "cell_type": "code",
   "execution_count": null,
   "metadata": {
    "collapsed": true
   },
   "outputs": [],
   "source": []
  }
 ],
 "metadata": {
  "kernelspec": {
   "display_name": "Python 3",
   "language": "python",
   "name": "python3"
  },
  "language_info": {
   "codemirror_mode": {
    "name": "ipython",
    "version": 3
   },
   "file_extension": ".py",
   "mimetype": "text/x-python",
   "name": "python",
   "nbconvert_exporter": "python",
   "pygments_lexer": "ipython3",
   "version": "3.6.4"
  }
 },
 "nbformat": 4,
 "nbformat_minor": 2
}
